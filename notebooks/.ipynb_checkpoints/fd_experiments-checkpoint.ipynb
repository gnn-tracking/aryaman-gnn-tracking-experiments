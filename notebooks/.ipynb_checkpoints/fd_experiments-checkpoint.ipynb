{
 "cells": [
  {
   "cell_type": "markdown",
   "metadata": {},
   "source": [
    "# Experiments for FD data with new architectures"
   ]
  },
  {
   "cell_type": "code",
   "execution_count": 1,
   "metadata": {},
   "outputs": [],
   "source": [
    "import os\n",
    "\n",
    "from gnn_tracking.utils.loading import TrackingDataModule"
   ]
  },
  {
   "cell_type": "code",
   "execution_count": 2,
   "metadata": {},
   "outputs": [],
   "source": [
    "from functools import partial\n",
    "import os\n",
    "\n",
    "import torch\n",
    "\n",
    "from gnn_tracking.training.tc import TCModule\n",
    "from gnn_tracking.training.ml import MLModule\n",
    "from gnn_tracking.models.graph_construction import MLGraphConstructionFromChkpt, GraphConstructionFCNN, NoiseClassifierModel, HeterogeneousFCNN\n",
    "from gnn_tracking.models.track_condensation_networks import GraphTCNForMLGCPipeline\n",
    "from gnn_tracking.metrics.losses.metric_learning import GraphConstructionHingeEmbeddingLoss\n",
    "from gnn_tracking.postprocessing.dbscanscanner import DBSCANHyperParamScanner\n",
    "from pytorch_lightning import Trainer\n",
    "from pytorch_lightning.callbacks import EarlyStopping, ModelCheckpoint, LearningRateMonitor\n",
    "from gnn_tracking.utils.loading import TrackingDataModule\n",
    "from gnn_tracking.training.callbacks import PrintValidationMetrics, ExpandWandbConfig\n",
    "from gnn_tracking.utils.versioning import assert_version_geq\n",
    "\n",
    "from torch_geometric.data import Data\n",
    "from torch import nn\n",
    "\n",
    "assert_version_geq(\"23.12.0\")"
   ]
  },
  {
   "cell_type": "markdown",
   "metadata": {},
   "source": [
    "## Configuring the data"
   ]
  },
  {
   "cell_type": "code",
   "execution_count": 3,
   "metadata": {},
   "outputs": [],
   "source": [
    "data_path_fd = \"/scratch/gpfs/IOJALVO/gnn-tracking/object_condensation/point_clouds_v10/\"\n",
    "data_paths_fd = os.listdir(data_path_fd)\n",
    "data_paths_fd.sort()\n",
    "data_paths_fd = list(map(lambda x: data_path_fd + x, data_paths_fd))"
   ]
  },
  {
   "cell_type": "code",
   "execution_count": 4,
   "metadata": {},
   "outputs": [
    {
     "name": "stderr",
     "output_type": "stream",
     "text": [
      "\u001b[32m[08:21:44] INFO: DataLoader will load 7743 graphs (out of 7743 available).\u001b[0m\n",
      "\u001b[36m[08:21:44] DEBUG: First graph is /scratch/gpfs/IOJALVO/gnn-tracking/object_condensation/point_clouds_v10/part_1/data21000_s0.pt, last graph is /scratch/gpfs/IOJALVO/gnn-tracking/object_condensation/point_clouds_v10/part_8/data28999_s0.pt\u001b[0m\n",
      "\u001b[32m[08:21:44] INFO: DataLoader will load 4 graphs (out of 1000 available).\u001b[0m\n",
      "\u001b[36m[08:21:44] DEBUG: First graph is /scratch/gpfs/IOJALVO/gnn-tracking/object_condensation/point_clouds_v10/part_9/data29000_s0.pt, last graph is /scratch/gpfs/IOJALVO/gnn-tracking/object_condensation/point_clouds_v10/part_9/data29003_s0.pt\u001b[0m\n"
     ]
    }
   ],
   "source": [
    "dm_fd = TrackingDataModule(\n",
    "    train=dict(\n",
    "        dirs=data_paths_fd[1:-1],\n",
    "        sample_size=900\n",
    "    ),\n",
    "    val=dict(\n",
    "        dirs=[data_paths_fd[-1]],\n",
    "        start=0,\n",
    "        stop=4,\n",
    "    ),\n",
    "    identifier=\"point_clouds_v10\",\n",
    ")\n",
    "dm_fd.setup(stage='fit')"
   ]
  },
  {
   "cell_type": "code",
   "execution_count": 14,
   "metadata": {},
   "outputs": [
    {
     "data": {
      "text/plain": [
       "TrackingDataset(7743)"
      ]
     },
     "execution_count": 14,
     "metadata": {},
     "output_type": "execute_result"
    }
   ],
   "source": [
    "dm_fd.datasets['train']"
   ]
  },
  {
   "cell_type": "code",
   "execution_count": 5,
   "metadata": {},
   "outputs": [],
   "source": [
    "d = dm_fd.datasets['train'][324]"
   ]
  },
  {
   "cell_type": "code",
   "execution_count": 17,
   "metadata": {},
   "outputs": [
    {
     "data": {
      "text/plain": [
       "Data(x=[120328, 14], edge_index=[2, 537473], y=[0], layer=[120328], particle_id=[120328], pt=[120328], reconstructable=[120328], sector=[120328], eta=[120328], n_hits=[120328], n_layers_hit=[120328])"
      ]
     },
     "execution_count": 17,
     "metadata": {},
     "output_type": "execute_result"
    }
   ],
   "source": [
    "d"
   ]
  },
  {
   "cell_type": "code",
   "execution_count": 25,
   "metadata": {},
   "outputs": [
    {
     "data": {
      "text/plain": [
       "(tensor([ 0,  1,  2,  3,  4,  5,  6,  7,  8,  9, 10, 11, 12, 13, 14, 15, 16, 17,\n",
       "         18, 19, 20, 21, 22, 23, 24, 25, 26, 27, 28, 29, 30, 31, 32, 33, 34, 35,\n",
       "         36, 37, 38, 39, 40, 41, 42, 43, 44, 45, 46, 47]),\n",
       " tensor([1583, 1898, 2264, 2633, 2992, 3074, 3150, 8954, 7387, 6580, 5991, 3063,\n",
       "         3006, 2896, 2569, 2226, 1816, 1529, 1148, 1186, 1241, 1291, 1339, 1388,\n",
       "         7081, 6774, 6179, 5726, 1380, 1400, 1315, 1258, 1193, 1184,  422,  408,\n",
       "          399,  407,  499,  577, 5188, 5063,  528,  429,  430,  407,  432,  445]))"
      ]
     },
     "execution_count": 25,
     "metadata": {},
     "output_type": "execute_result"
    }
   ],
   "source": [
    "d.layer.unique(return_counts=True)"
   ]
  },
  {
   "cell_type": "code",
   "execution_count": 6,
   "metadata": {},
   "outputs": [],
   "source": [
    "pixel_mask = torch.isin(d.layer, torch.tensor(list(range(18))))\n",
    "\n",
    "model_pixel = GraphConstructionFCNN(in_dim=14, out_dim=8, depth=6, hidden_dim=256)\n",
    "model_strip = GraphConstructionFCNN(in_dim=14, out_dim=8, depth=6, hidden_dim=256)\n",
    "\n",
    "d_pixel = d.subgraph(pixel_mask)\n",
    "d_strip = d.subgraph(~pixel_mask)\n",
    "\n",
    "embed_pixel = model_pixel(d_pixel)[\"H\"]\n",
    "embed_strip = model_strip(d_strip)[\"H\"]\n",
    "\n",
    "embed = torch.vstack([embed_pixel, embed_strip])"
   ]
  },
  {
   "cell_type": "code",
   "execution_count": 10,
   "metadata": {},
   "outputs": [],
   "source": [
    "empty = torch.zeros_like(embed)\n",
    "\n",
    "empty[pixel_mask] = embed_pixel\n",
    "empty[~pixel_mask] = embed_strip"
   ]
  },
  {
   "cell_type": "code",
   "execution_count": 7,
   "metadata": {},
   "outputs": [],
   "source": [
    "model = HeterogeneousFCNN(14, 256, 8, 6, 14, 256, 8, 6)"
   ]
  },
  {
   "cell_type": "code",
   "execution_count": 8,
   "metadata": {},
   "outputs": [
    {
     "data": {
      "text/plain": [
       "torch.Size([120328, 8])"
      ]
     },
     "execution_count": 8,
     "metadata": {},
     "output_type": "execute_result"
    }
   ],
   "source": [
    "model(d)[\"H\"].shape"
   ]
  },
  {
   "cell_type": "code",
   "execution_count": 9,
   "metadata": {},
   "outputs": [
    {
     "data": {
      "text/plain": [
       "\"alpha_pix\":        0.6\n",
       "\"alpha_strip\":      0.6\n",
       "\"depth_pix\":        6\n",
       "\"depth_strip\":      6\n",
       "\"hidden_dim_pix\":   256\n",
       "\"hidden_dim_strip\": 256\n",
       "\"in_dim_pix\":       14\n",
       "\"in_dim_strip\":     14\n",
       "\"out_dim_pix\":      8\n",
       "\"out_dim_strip\":    8"
      ]
     },
     "execution_count": 9,
     "metadata": {},
     "output_type": "execute_result"
    }
   ],
   "source": [
    "model.hparams"
   ]
  },
  {
   "cell_type": "markdown",
   "metadata": {},
   "source": [
    "# GC-Phase"
   ]
  }
 ],
 "metadata": {
  "kernelspec": {
   "display_name": "Python 3 (ipykernel)",
   "language": "python",
   "name": "python3"
  },
  "language_info": {
   "codemirror_mode": {
    "name": "ipython",
    "version": 3
   },
   "file_extension": ".py",
   "mimetype": "text/x-python",
   "name": "python",
   "nbconvert_exporter": "python",
   "pygments_lexer": "ipython3",
   "version": "3.11.7"
  }
 },
 "nbformat": 4,
 "nbformat_minor": 4
}
