{
 "cells": [
  {
   "cell_type": "markdown",
   "metadata": {},
   "source": [
    "A notebook to run the entire pipeline using the ground-truth noise classifier during the graph-contruction phase"
   ]
  },
  {
   "cell_type": "code",
   "execution_count": 1,
   "metadata": {},
   "outputs": [],
   "source": [
    "from functools import partial\n",
    "from pathlib import Path\n",
    "\n",
    "import torch\n",
    "\n",
    "from gnn_tracking.training.tc import TCModule\n",
    "from gnn_tracking.models.graph_construction import MLGraphConstructionFromChkpt\n",
    "from gnn_tracking.models.track_condensation_networks import GraphTCNForMLGCPipeline\n",
    "from gnn_tracking.metrics.losses.metric_learning import GraphConstructionHingeEmbeddingLoss\n",
    "from gnn_tracking.postprocessing.dbscanscanner import DBSCANHyperParamScanner\n",
    "from pytorch_lightning import Trainer\n",
    "from gnn_tracking.utils.loading import TrackingDataModule\n",
    "from gnn_tracking.training.callbacks import PrintValidationMetrics\n",
    "from gnn_tracking.utils.versioning import assert_version_geq\n",
    "\n",
    "from torch_geometric.data import Data\n",
    "from torch import nn\n",
    "\n",
    "assert_version_geq(\"23.12.0\")"
   ]
  },
  {
   "cell_type": "markdown",
   "metadata": {},
   "source": [
    "# Configure the data"
   ]
  },
  {
   "cell_type": "code",
   "execution_count": 2,
   "metadata": {},
   "outputs": [],
   "source": [
    "# data_dir = Path.cwd().resolve().parent.parent / \"test-data\" / \"data\" / \"point_clouds\" / \"v8\"\n",
    "data_dir = Path(\"/scratch/gpfs/IOJALVO/gnn-tracking/object_condensation/point_clouds_v8/part_1\")\n",
    "assert data_dir.is_dir()"
   ]
  },
  {
   "cell_type": "code",
   "execution_count": 3,
   "metadata": {},
   "outputs": [],
   "source": [
    "dm = TrackingDataModule(\n",
    "    train=dict(\n",
    "        dirs=[data_dir],\n",
    "        stop=1,\n",
    "    ),\n",
    "    val=dict(\n",
    "        dirs=[data_dir],\n",
    "        start=1,\n",
    "        stop=2,\n",
    "    ),\n",
    "    identifier=\"point_clouds_v8\"\n",
    ")"
   ]
  },
  {
   "cell_type": "code",
   "execution_count": null,
   "metadata": {},
   "outputs": [],
   "source": [
    "model = GraphTCNForMLGCPipeline(\n",
    "    node_indim=22,\n",
    "    edge_indim=44,\n",
    "    h_dim=192,\n",
    "    e_dim=192,\n",
    "    hidden_dim=192,\n",
    "    h_outdim=24,\n",
    "    L_hc=5,\n",
    "    alpha_latent=0.5,\n",
    "    n_embedding_cords=8\n",
    ")"
   ]
  },
  {
   "cell_type": "code",
   "execution_count": null,
   "metadata": {},
   "outputs": [],
   "source": [
    "preproc = MLGraphConstructionFromChkpt(\n",
    "    ml_chkpt_path=\"\",\n",
    "    max_num_neighbors=10,\n",
    "    max_radius=1,\n",
    "    use_embedding_features=True,\n",
    "    build_edge_features=True\n",
    ")"
   ]
  },
  {
   "cell_type": "code",
   "execution_count": null,
   "metadata": {},
   "outputs": [],
   "source": [
    "loss_fct = GraphConstructionHingeEmbeddingLoss(\n",
    "    lw_repulsive=0.05,\n",
    "    pt_thld=0.9,\n",
    "    max_num_neighbors=256,\n",
    "    p_attr=2,\n",
    "    p_rep=2,\n",
    "    r_emb=1\n",
    ")"
   ]
  },
  {
   "cell_type": "code",
   "execution_count": null,
   "metadata": {},
   "outputs": [],
   "source": [
    "cluster_scanner = DBSCANHyperParamScanner(\n",
    "    n_trials=60,\n",
    "    n_jobs=6,\n",
    "    keep_best=30\n",
    ")\n",
    "\n",
    "optimizer = torch.optim.Adam(lr=8*10^-4)\n",
    "scheduler = torch.optim.lr_scheduler.LinearLR(start_factor=1,\n",
    "                                              end_factor=0.1,\n",
    "                                              total_iters=50\n",
    "                                              )"
   ]
  },
  {
   "cell_type": "code",
   "execution_count": null,
   "metadata": {},
   "outputs": [],
   "source": [
    "lmodel = TCModule(\n",
    "    model=model,\n",
    "    preproc=preproc,\n",
    "    loss_fct=loss_fct,\n",
    "    cluster_scanner=cluster_scanner,\n",
    "    optimizer=optimizer,\n",
    "    scheduler=scheduler\n",
    ")"
   ]
  },
  {
   "cell_type": "markdown",
   "metadata": {},
   "source": [
    "# Training"
   ]
  },
  {
   "cell_type": "code",
   "execution_count": null,
   "metadata": {},
   "outputs": [],
   "source": [
    "trainer = Trainer(\n",
    "    max_epochs=1000,\n",
    "    accelerator=\"gpu\",\n",
    "    log_every_n_steps=1,\n",
    "    callbacks=[PrintValidationMetrics()],\n",
    ")\n",
    "trainer.fit(model=lmodel, datamodule=dm)"
   ]
  }
 ],
 "metadata": {
  "kernelspec": {
   "display_name": "Python 3",
   "language": "python",
   "name": "python3"
  },
  "language_info": {
   "codemirror_mode": {
    "name": "ipython",
    "version": 3
   },
   "file_extension": ".py",
   "mimetype": "text/x-python",
   "name": "python",
   "nbconvert_exporter": "python",
   "pygments_lexer": "ipython3",
   "version": "3.11.7"
  }
 },
 "nbformat": 4,
 "nbformat_minor": 2
}
