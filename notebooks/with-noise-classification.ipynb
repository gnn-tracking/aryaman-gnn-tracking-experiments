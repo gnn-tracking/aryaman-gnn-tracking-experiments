{
 "cells": [
  {
   "cell_type": "markdown",
   "metadata": {},
   "source": [
    "A notebook to run the entire pipeline using the ground-truth noise classifier during the graph-contruction phase"
   ]
  },
  {
   "cell_type": "code",
   "execution_count": 1,
   "metadata": {},
   "outputs": [],
   "source": [
    "from functools import partial\n",
    "import os\n",
    "\n",
    "import torch\n",
    "\n",
    "from gnn_tracking.training.tc import TCModule\n",
    "from gnn_tracking.training.ml import MLModule\n",
    "from gnn_tracking.models.graph_construction import MLGraphConstructionFromChkpt, GraphConstructionFCNN, NoiseClassifierModel\n",
    "from gnn_tracking.models.track_condensation_networks import GraphTCNForMLGCPipeline\n",
    "from gnn_tracking.metrics.losses.metric_learning import GraphConstructionHingeEmbeddingLoss\n",
    "from gnn_tracking.postprocessing.dbscanscanner import DBSCANHyperParamScanner\n",
    "from pytorch_lightning import Trainer\n",
    "from pytorch_lightning.callbacks import EarlyStopping, ModelCheckpoint, LearningRateMonitor\n",
    "from gnn_tracking.utils.loading import TrackingDataModule\n",
    "from gnn_tracking.training.callbacks import PrintValidationMetrics, ExpandWandbConfig\n",
    "from gnn_tracking.utils.versioning import assert_version_geq\n",
    "\n",
    "from torch_geometric.data import Data\n",
    "from torch import nn\n",
    "\n",
    "assert_version_geq(\"23.12.0\")"
   ]
  },
  {
   "cell_type": "markdown",
   "metadata": {},
   "source": [
    "# Configure the data"
   ]
  },
  {
   "cell_type": "code",
   "execution_count": 2,
   "metadata": {},
   "outputs": [],
   "source": [
    "data_path = \"/scratch/gpfs/IOJALVO/gnn-tracking/object_condensation/point_clouds_v8/\"\n",
    "data_paths = os.listdir(data_path)\n",
    "data_paths.sort()\n",
    "data_paths = list(map(lambda x: data_path + x, data_paths))"
   ]
  },
  {
   "cell_type": "code",
   "execution_count": 3,
   "metadata": {},
   "outputs": [
    {
     "name": "stderr",
     "output_type": "stream",
     "text": [
      "\u001b[32m[13:51:49] INFO: DataLoader will load 7743 graphs (out of 7743 available).\u001b[0m\n",
      "\u001b[36m[13:51:49] DEBUG: First graph is /scratch/gpfs/IOJALVO/gnn-tracking/object_condensation/point_clouds_v8/part_1/data21000_s0.pt, last graph is /scratch/gpfs/IOJALVO/gnn-tracking/object_condensation/point_clouds_v8/part_8/data28999_s0.pt\u001b[0m\n",
      "\u001b[32m[13:51:49] INFO: DataLoader will load 4 graphs (out of 1000 available).\u001b[0m\n",
      "\u001b[36m[13:51:49] DEBUG: First graph is /scratch/gpfs/IOJALVO/gnn-tracking/object_condensation/point_clouds_v8/part_9/data29000_s0.pt, last graph is /scratch/gpfs/IOJALVO/gnn-tracking/object_condensation/point_clouds_v8/part_9/data29003_s0.pt\u001b[0m\n"
     ]
    }
   ],
   "source": [
    "dm = TrackingDataModule(\n",
    "    train=dict(\n",
    "        dirs=data_paths[1:-1],\n",
    "    ),\n",
    "    val=dict(\n",
    "        dirs=[data_paths[-1]],\n",
    "        start=0,\n",
    "        stop=4,\n",
    "    ),\n",
    "    identifier=\"point_clouds_v8\",\n",
    "    sample_size=900\n",
    ")\n",
    "dm.setup(stage='fit')"
   ]
  },
  {
   "cell_type": "markdown",
   "metadata": {},
   "source": [
    "# GC-phase"
   ]
  },
  {
   "cell_type": "code",
   "execution_count": 4,
   "metadata": {},
   "outputs": [],
   "source": [
    "noise_model = NoiseClassifierModel()\n",
    "model = GraphConstructionFCNN(in_dim=14, out_dim=8, depth=6, hidden_dim=256)"
   ]
  },
  {
   "cell_type": "code",
   "execution_count": 5,
   "metadata": {},
   "outputs": [],
   "source": [
    "lmodel = MLModule(\n",
    "    model=model,\n",
    "    loss_fct=GraphConstructionHingeEmbeddingLoss(\n",
    "        lw_repulsive=0.06,\n",
    "        max_num_neighbors=256,\n",
    "    ),\n",
    "    optimizer=partial(torch.optim.Adam, lr=7*1e-4),\n",
    "    preproc=NoiseClassifierModel()\n",
    ")"
   ]
  },
  {
   "cell_type": "code",
   "execution_count": 6,
   "metadata": {},
   "outputs": [
    {
     "data": {
      "text/html": [
       "<pre style=\"white-space:pre;overflow-x:auto;line-height:normal;font-family:Menlo,'DejaVu Sans Mono',consolas,'Courier New',monospace\"><span style=\"color: #00ff00; text-decoration-color: #00ff00\">───────────────────────── </span><span style=\"color: #808000; text-decoration-color: #808000; font-weight: bold\">adventurous-tireless-cuscus</span><span style=\"color: #00ff00; text-decoration-color: #00ff00\"> ──────────────────────────</span>\n",
       "</pre>\n"
      ],
      "text/plain": [
       "\u001b[92m───────────────────────── \u001b[0m\u001b[1;33madventurous-tireless-cuscus\u001b[0m\u001b[92m ──────────────────────────\u001b[0m\n"
      ]
     },
     "metadata": {},
     "output_type": "display_data"
    }
   ],
   "source": [
    "from pytorch_lightning.loggers import TensorBoardLogger, WandbLogger\n",
    "from wandb_osh.lightning_hooks import TriggerWandbSyncLightningCallback\n",
    "from gnn_tracking.utils.nomenclature import random_trial_name\n",
    "\n",
    "name = random_trial_name()\n",
    "\n",
    "wandb_logger_gc = WandbLogger(\n",
    "    project=\"aryaman-gnn-experiments\",\n",
    "    group=\"noise-classification-gc\",\n",
    "    offline=True,\n",
    "    version=name,\n",
    "    tags=[\"ground-truth-noise-pixel-gc\"],\n",
    ")\n",
    "\n",
    "tb_logger_gc = TensorBoardLogger(\".\", version=name)"
   ]
  },
  {
   "cell_type": "code",
   "execution_count": 7,
   "metadata": {},
   "outputs": [
    {
     "name": "stderr",
     "output_type": "stream",
     "text": [
      "\u001b[32m03:10:02 INFO: This is wandb-osh v1.2.0 using communication directory /home/aj2239/.wandb_osh_command_dir\u001b[0m\n",
      "GPU available: True (cuda), used: True\n",
      "TPU available: False, using: 0 TPU cores\n",
      "IPU available: False, using: 0 IPUs\n",
      "HPU available: False, using: 0 HPUs\n",
      "You are using a CUDA device ('NVIDIA A100 80GB PCIe') that has Tensor Cores. To properly utilize them, you should set `torch.set_float32_matmul_precision('medium' | 'high')` which will trade-off precision for performance. For more details, read https://pytorch.org/docs/stable/generated/torch.set_float32_matmul_precision.html#torch.set_float32_matmul_precision\n",
      "Failed to detect the name of this notebook, you can set it manually with the WANDB_NOTEBOOK_NAME environment variable to enable code saving.\n",
      "\u001b[34m\u001b[1mwandb\u001b[0m: \u001b[33mWARNING\u001b[0m `resume` will be ignored since W&B syncing is set to `offline`. Starting a new run with run id adventurous-tireless-cuscus.\n"
     ]
    },
    {
     "data": {
      "text/html": [
       "Tracking run with wandb version 0.16.2"
      ],
      "text/plain": [
       "<IPython.core.display.HTML object>"
      ]
     },
     "metadata": {},
     "output_type": "display_data"
    },
    {
     "data": {
      "text/html": [
       "W&B syncing is set to <code>`offline`<code> in this directory.  <br/>Run <code>`wandb online`<code> or set <code>WANDB_MODE=online<code> to enable cloud syncing."
      ],
      "text/plain": [
       "<IPython.core.display.HTML object>"
      ]
     },
     "metadata": {},
     "output_type": "display_data"
    },
    {
     "name": "stderr",
     "output_type": "stream",
     "text": [
      "\u001b[32m[03:10:04] INFO: DataLoader will load 7743 graphs (out of 7743 available).\u001b[0m\n",
      "\u001b[36m[03:10:04] DEBUG: First graph is /scratch/gpfs/IOJALVO/gnn-tracking/object_condensation/point_clouds_v8/part_1/data21000_s0.pt, last graph is /scratch/gpfs/IOJALVO/gnn-tracking/object_condensation/point_clouds_v8/part_8/data28999_s0.pt\u001b[0m\n",
      "\u001b[32m[03:10:04] INFO: DataLoader will load 4 graphs (out of 1000 available).\u001b[0m\n",
      "\u001b[36m[03:10:04] DEBUG: First graph is /scratch/gpfs/IOJALVO/gnn-tracking/object_condensation/point_clouds_v8/part_9/data29000_s0.pt, last graph is /scratch/gpfs/IOJALVO/gnn-tracking/object_condensation/point_clouds_v8/part_9/data29003_s0.pt\u001b[0m\n",
      "LOCAL_RANK: 0 - CUDA_VISIBLE_DEVICES: [0]\n",
      "\n",
      "  | Name     | Type                                | Params\n",
      "-----------------------------------------------------------------\n",
      "0 | model    | GraphConstructionFCNN               | 333 K \n",
      "1 | preproc  | NoiseClassifierModel                | 0     \n",
      "2 | loss_fct | GraphConstructionHingeEmbeddingLoss | 0     \n",
      "-----------------------------------------------------------------\n",
      "333 K     Trainable params\n",
      "0         Non-trainable params\n",
      "333 K     Total params\n",
      "1.333     Total estimated model params size (MB)\n",
      "SLURM auto-requeueing enabled. Setting signal handlers.\n"
     ]
    },
    {
     "data": {
      "application/vnd.jupyter.widget-view+json": {
       "model_id": "",
       "version_major": 2,
       "version_minor": 0
      },
      "text/plain": [
       "Sanity Checking: |          | 0/? [00:00<?, ?it/s]"
      ]
     },
     "metadata": {},
     "output_type": "display_data"
    },
    {
     "name": "stderr",
     "output_type": "stream",
     "text": [
      "/scratch/gpfs/aj2239/micromamba/envs/gnn/lib/python3.11/site-packages/pytorch_lightning/trainer/connectors/data_connector.py:441: The 'val_dataloader' does not have many workers which may be a bottleneck. Consider increasing the value of the `num_workers` argument` to `num_workers=3` in the `DataLoader` to improve performance.\n",
      "/scratch/gpfs/aj2239/micromamba/envs/gnn/lib/python3.11/site-packages/pytorch_lightning/trainer/connectors/data_connector.py:441: The 'train_dataloader' does not have many workers which may be a bottleneck. Consider increasing the value of the `num_workers` argument` to `num_workers=3` in the `DataLoader` to improve performance.\n"
     ]
    },
    {
     "data": {
      "application/vnd.jupyter.widget-view+json": {
       "model_id": "ba24ce7dc3504bbb9ae465dd55373d17",
       "version_major": 2,
       "version_minor": 0
      },
      "text/plain": [
       "Training: |          | 0/? [00:00<?, ?it/s]"
      ]
     },
     "metadata": {},
     "output_type": "display_data"
    },
    {
     "data": {
      "application/vnd.jupyter.widget-view+json": {
       "model_id": "",
       "version_major": 2,
       "version_minor": 0
      },
      "text/plain": [
       "Validation: |          | 0/? [00:00<?, ?it/s]"
      ]
     },
     "metadata": {},
     "output_type": "display_data"
    },
    {
     "data": {
      "text/html": [
       "<pre style=\"white-space:pre;overflow-x:auto;line-height:normal;font-family:Menlo,'DejaVu Sans Mono',consolas,'Courier New',monospace\"></pre>\n"
      ],
      "text/plain": []
     },
     "metadata": {},
     "output_type": "display_data"
    },
    {
     "name": "stdout",
     "output_type": "stream",
     "text": [
      "\u001b[3m                 Validation epoch=0                 \u001b[0m\n",
      "┏━━━━━━━━━━━━━━━━━━━━━━━━━━━┳━━━━━━━━━━━━━━┳━━━━━━━┓\n",
      "┃\u001b[1m \u001b[0m\u001b[1mMetric                   \u001b[0m\u001b[1m \u001b[0m┃\u001b[1m \u001b[0m\u001b[1m       Value\u001b[0m\u001b[1m \u001b[0m┃\u001b[1m \u001b[0m\u001b[1mError\u001b[0m\u001b[1m \u001b[0m┃\n",
      "┡━━━━━━━━━━━━━━━━━━━━━━━━━━━╇━━━━━━━━━━━━━━╇━━━━━━━┩\n",
      "│\u001b[1;95m \u001b[0m\u001b[1;95mattractive               \u001b[0m\u001b[1;95m \u001b[0m│\u001b[1;95m \u001b[0m\u001b[1;95m     0.94679\u001b[0m\u001b[1;95m \u001b[0m│\u001b[1;95m \u001b[0m\u001b[1;95m  nan\u001b[0m\u001b[1;95m \u001b[0m│\n",
      "│ attractive_train          │      0.95922 │   nan │\n",
      "│ attractive_weighted       │      0.94679 │   nan │\n",
      "│ attractive_weighted_train │      0.95922 │   nan │\n",
      "│ n_edges_att               │  35077.50000 │   nan │\n",
      "│ n_edges_att_train         │  37046.00000 │   nan │\n",
      "│ n_edges_rep               │ 210994.75000 │   nan │\n",
      "│ n_edges_rep_train         │ 248249.00000 │   nan │\n",
      "│ n_hits_oi                 │   9646.25000 │   nan │\n",
      "│ n_hits_oi_train           │  10386.00000 │   nan │\n",
      "│\u001b[1;95m \u001b[0m\u001b[1;95mrepulsive                \u001b[0m\u001b[1;95m \u001b[0m│\u001b[1;95m \u001b[0m\u001b[1;95m     5.61611\u001b[0m\u001b[1;95m \u001b[0m│\u001b[1;95m \u001b[0m\u001b[1;95m  nan\u001b[0m\u001b[1;95m \u001b[0m│\n",
      "│ repulsive_train           │      6.11794 │   nan │\n",
      "│ repulsive_weighted        │      0.33697 │   nan │\n",
      "│ repulsive_weighted_train  │      0.36708 │   nan │\n",
      "│\u001b[1;95m \u001b[0m\u001b[1;95mtotal                    \u001b[0m\u001b[1;95m \u001b[0m│\u001b[1;95m \u001b[0m\u001b[1;95m     1.28376\u001b[0m\u001b[1;95m \u001b[0m│\u001b[1;95m \u001b[0m\u001b[1;95m  nan\u001b[0m\u001b[1;95m \u001b[0m│\n",
      "│ total_train               │      1.32630 │   nan │\n",
      "└───────────────────────────┴──────────────┴───────┘\n",
      "\n"
     ]
    },
    {
     "data": {
      "application/vnd.jupyter.widget-view+json": {
       "model_id": "",
       "version_major": 2,
       "version_minor": 0
      },
      "text/plain": [
       "Validation: |          | 0/? [00:00<?, ?it/s]"
      ]
     },
     "metadata": {},
     "output_type": "display_data"
    },
    {
     "name": "stderr",
     "output_type": "stream",
     "text": [
      "\u001b[33m03:29:17 WARNING: Syncing not active or too slow: Command /home/aj2239/.wandb_osh_command_dir/9087e0.command file still exists\u001b[0m\n"
     ]
    },
    {
     "data": {
      "text/html": [
       "<pre style=\"white-space:pre;overflow-x:auto;line-height:normal;font-family:Menlo,'DejaVu Sans Mono',consolas,'Courier New',monospace\"></pre>\n"
      ],
      "text/plain": []
     },
     "metadata": {},
     "output_type": "display_data"
    },
    {
     "name": "stdout",
     "output_type": "stream",
     "text": [
      "\u001b[3m                    Validation epoch=1                     \u001b[0m\n",
      "┏━━━━━━━━━━━━━━━━━━━━━━━━━━━┳━━━━━━━━━━━━━━┳━━━━━━━━━━━━━━┓\n",
      "┃\u001b[1m \u001b[0m\u001b[1mMetric                   \u001b[0m\u001b[1m \u001b[0m┃\u001b[1m \u001b[0m\u001b[1m       Value\u001b[0m\u001b[1m \u001b[0m┃\u001b[1m \u001b[0m\u001b[1m       Error\u001b[0m\u001b[1m \u001b[0m┃\n",
      "┡━━━━━━━━━━━━━━━━━━━━━━━━━━━╇━━━━━━━━━━━━━━╇━━━━━━━━━━━━━━┩\n",
      "│\u001b[1;95m \u001b[0m\u001b[1;95mattractive               \u001b[0m\u001b[1;95m \u001b[0m│\u001b[1;95m \u001b[0m\u001b[1;95m     0.89257\u001b[0m\u001b[1;95m \u001b[0m│\u001b[1;95m \u001b[0m\u001b[1;95m     0.19322\u001b[0m\u001b[1;95m \u001b[0m│\n",
      "│ attractive_train          │      0.81351 │          nan │\n",
      "│ attractive_weighted       │      0.89257 │      0.19322 │\n",
      "│ attractive_weighted_train │      0.81351 │          nan │\n",
      "│ n_edges_att               │  35077.50000 │    928.13483 │\n",
      "│ n_edges_att_train         │  24973.00000 │          nan │\n",
      "│ n_edges_rep               │ 214787.00000 │ 551078.81250 │\n",
      "│ n_edges_rep_train         │ 127571.00000 │          nan │\n",
      "│ n_hits_oi                 │   9646.25000 │    291.88177 │\n",
      "│ n_hits_oi_train           │   7043.00000 │          nan │\n",
      "│\u001b[1;95m \u001b[0m\u001b[1;95mrepulsive                \u001b[0m\u001b[1;95m \u001b[0m│\u001b[1;95m \u001b[0m\u001b[1;95m     5.70099\u001b[0m\u001b[1;95m \u001b[0m│\u001b[1;95m \u001b[0m\u001b[1;95m    27.75653\u001b[0m\u001b[1;95m \u001b[0m│\n",
      "│ repulsive_train           │      4.65812 │          nan │\n",
      "│ repulsive_weighted        │      0.34206 │      1.66539 │\n",
      "│ repulsive_weighted_train  │      0.27949 │          nan │\n",
      "│\u001b[1;95m \u001b[0m\u001b[1;95mtotal                    \u001b[0m\u001b[1;95m \u001b[0m│\u001b[1;95m \u001b[0m\u001b[1;95m     1.23463\u001b[0m\u001b[1;95m \u001b[0m│\u001b[1;95m \u001b[0m\u001b[1;95m     1.47320\u001b[0m\u001b[1;95m \u001b[0m│\n",
      "│ total_train               │      1.09299 │          nan │\n",
      "└───────────────────────────┴──────────────┴──────────────┘\n",
      "\n"
     ]
    },
    {
     "data": {
      "application/vnd.jupyter.widget-view+json": {
       "model_id": "",
       "version_major": 2,
       "version_minor": 0
      },
      "text/plain": [
       "Validation: |          | 0/? [00:00<?, ?it/s]"
      ]
     },
     "metadata": {},
     "output_type": "display_data"
    },
    {
     "data": {
      "text/html": [
       "<pre style=\"white-space:pre;overflow-x:auto;line-height:normal;font-family:Menlo,'DejaVu Sans Mono',consolas,'Courier New',monospace\"></pre>\n"
      ],
      "text/plain": []
     },
     "metadata": {},
     "output_type": "display_data"
    },
    {
     "name": "stdout",
     "output_type": "stream",
     "text": [
      "\u001b[3m                    Validation epoch=2                    \u001b[0m\n",
      "┏━━━━━━━━━━━━━━━━━━━━━━━━━━━┳━━━━━━━━━━━━━━┳━━━━━━━━━━━━━┓\n",
      "┃\u001b[1m \u001b[0m\u001b[1mMetric                   \u001b[0m\u001b[1m \u001b[0m┃\u001b[1m \u001b[0m\u001b[1m       Value\u001b[0m\u001b[1m \u001b[0m┃\u001b[1m \u001b[0m\u001b[1m      Error\u001b[0m\u001b[1m \u001b[0m┃\n",
      "┡━━━━━━━━━━━━━━━━━━━━━━━━━━━╇━━━━━━━━━━━━━━╇━━━━━━━━━━━━━┩\n",
      "│\u001b[1;95m \u001b[0m\u001b[1;95mattractive               \u001b[0m\u001b[1;95m \u001b[0m│\u001b[1;95m \u001b[0m\u001b[1;95m     0.83368\u001b[0m\u001b[1;95m \u001b[0m│\u001b[1;95m \u001b[0m\u001b[1;95m    0.02618\u001b[0m\u001b[1;95m \u001b[0m│\n",
      "│ attractive_train          │      0.70916 │         nan │\n",
      "│ attractive_weighted       │      0.83368 │     0.02618 │\n",
      "│ attractive_weighted_train │      0.70916 │         nan │\n",
      "│ n_edges_att               │  35077.50000 │  1273.15723 │\n",
      "│ n_edges_att_train         │  42854.00000 │         nan │\n",
      "│ n_edges_rep               │ 180627.25000 │ 17592.33203 │\n",
      "│ n_edges_rep_train         │ 265768.00000 │         nan │\n",
      "│ n_hits_oi                 │   9646.25000 │   405.12701 │\n",
      "│ n_hits_oi_train           │  11183.00000 │         nan │\n",
      "│\u001b[1;95m \u001b[0m\u001b[1;95mrepulsive                \u001b[0m\u001b[1;95m \u001b[0m│\u001b[1;95m \u001b[0m\u001b[1;95m     4.89325\u001b[0m\u001b[1;95m \u001b[0m│\u001b[1;95m \u001b[0m\u001b[1;95m    0.26673\u001b[0m\u001b[1;95m \u001b[0m│\n",
      "│ repulsive_train           │      6.40308 │         nan │\n",
      "│ repulsive_weighted        │      0.29359 │     0.01600 │\n",
      "│ repulsive_weighted_train  │      0.38418 │         nan │\n",
      "│\u001b[1;95m \u001b[0m\u001b[1;95mtotal                    \u001b[0m\u001b[1;95m \u001b[0m│\u001b[1;95m \u001b[0m\u001b[1;95m     1.12728\u001b[0m\u001b[1;95m \u001b[0m│\u001b[1;95m \u001b[0m\u001b[1;95m    0.02713\u001b[0m\u001b[1;95m \u001b[0m│\n",
      "│ total_train               │      1.09335 │         nan │\n",
      "└───────────────────────────┴──────────────┴─────────────┘\n",
      "\n"
     ]
    },
    {
     "data": {
      "application/vnd.jupyter.widget-view+json": {
       "model_id": "",
       "version_major": 2,
       "version_minor": 0
      },
      "text/plain": [
       "Validation: |          | 0/? [00:00<?, ?it/s]"
      ]
     },
     "metadata": {},
     "output_type": "display_data"
    },
    {
     "data": {
      "text/html": [
       "<pre style=\"white-space:pre;overflow-x:auto;line-height:normal;font-family:Menlo,'DejaVu Sans Mono',consolas,'Courier New',monospace\"></pre>\n"
      ],
      "text/plain": []
     },
     "metadata": {},
     "output_type": "display_data"
    },
    {
     "name": "stdout",
     "output_type": "stream",
     "text": [
      "\u001b[3m                    Validation epoch=3                    \u001b[0m\n",
      "┏━━━━━━━━━━━━━━━━━━━━━━━━━━━┳━━━━━━━━━━━━━━┳━━━━━━━━━━━━━┓\n",
      "┃\u001b[1m \u001b[0m\u001b[1mMetric                   \u001b[0m\u001b[1m \u001b[0m┃\u001b[1m \u001b[0m\u001b[1m       Value\u001b[0m\u001b[1m \u001b[0m┃\u001b[1m \u001b[0m\u001b[1m      Error\u001b[0m\u001b[1m \u001b[0m┃\n",
      "┡━━━━━━━━━━━━━━━━━━━━━━━━━━━╇━━━━━━━━━━━━━━╇━━━━━━━━━━━━━┩\n",
      "│\u001b[1;95m \u001b[0m\u001b[1;95mattractive               \u001b[0m\u001b[1;95m \u001b[0m│\u001b[1;95m \u001b[0m\u001b[1;95m     0.83609\u001b[0m\u001b[1;95m \u001b[0m│\u001b[1;95m \u001b[0m\u001b[1;95m    0.02963\u001b[0m\u001b[1;95m \u001b[0m│\n",
      "│ attractive_train          │      0.85353 │         nan │\n",
      "│ attractive_weighted       │      0.83609 │     0.02963 │\n",
      "│ attractive_weighted_train │      0.85353 │         nan │\n",
      "│ n_edges_att               │  35077.50000 │  1273.15723 │\n",
      "│ n_edges_att_train         │  30326.00000 │         nan │\n",
      "│ n_edges_rep               │ 178418.75000 │ 14417.28906 │\n",
      "│ n_edges_rep_train         │ 139289.00000 │         nan │\n",
      "│ n_hits_oi                 │   9646.25000 │   405.12701 │\n",
      "│ n_hits_oi_train           │   8265.00000 │         nan │\n",
      "│\u001b[1;95m \u001b[0m\u001b[1;95mrepulsive                \u001b[0m\u001b[1;95m \u001b[0m│\u001b[1;95m \u001b[0m\u001b[1;95m     4.85809\u001b[0m\u001b[1;95m \u001b[0m│\u001b[1;95m \u001b[0m\u001b[1;95m    0.21559\u001b[0m\u001b[1;95m \u001b[0m│\n",
      "│ repulsive_train           │      4.51924 │         nan │\n",
      "│ repulsive_weighted        │      0.29149 │     0.01294 │\n",
      "│ repulsive_weighted_train  │      0.27115 │         nan │\n",
      "│\u001b[1;95m \u001b[0m\u001b[1;95mtotal                    \u001b[0m\u001b[1;95m \u001b[0m│\u001b[1;95m \u001b[0m\u001b[1;95m     1.12758\u001b[0m\u001b[1;95m \u001b[0m│\u001b[1;95m \u001b[0m\u001b[1;95m    0.02819\u001b[0m\u001b[1;95m \u001b[0m│\n",
      "│ total_train               │      1.12468 │         nan │\n",
      "└───────────────────────────┴──────────────┴─────────────┘\n",
      "\n"
     ]
    },
    {
     "data": {
      "application/vnd.jupyter.widget-view+json": {
       "model_id": "",
       "version_major": 2,
       "version_minor": 0
      },
      "text/plain": [
       "Validation: |          | 0/? [00:00<?, ?it/s]"
      ]
     },
     "metadata": {},
     "output_type": "display_data"
    },
    {
     "data": {
      "text/html": [
       "<pre style=\"white-space:pre;overflow-x:auto;line-height:normal;font-family:Menlo,'DejaVu Sans Mono',consolas,'Courier New',monospace\"></pre>\n"
      ],
      "text/plain": []
     },
     "metadata": {},
     "output_type": "display_data"
    },
    {
     "name": "stdout",
     "output_type": "stream",
     "text": [
      "\u001b[3m                    Validation epoch=4                    \u001b[0m\n",
      "┏━━━━━━━━━━━━━━━━━━━━━━━━━━━┳━━━━━━━━━━━━━━┳━━━━━━━━━━━━━┓\n",
      "┃\u001b[1m \u001b[0m\u001b[1mMetric                   \u001b[0m\u001b[1m \u001b[0m┃\u001b[1m \u001b[0m\u001b[1m       Value\u001b[0m\u001b[1m \u001b[0m┃\u001b[1m \u001b[0m\u001b[1m      Error\u001b[0m\u001b[1m \u001b[0m┃\n",
      "┡━━━━━━━━━━━━━━━━━━━━━━━━━━━╇━━━━━━━━━━━━━━╇━━━━━━━━━━━━━┩\n",
      "│\u001b[1;95m \u001b[0m\u001b[1;95mattractive               \u001b[0m\u001b[1;95m \u001b[0m│\u001b[1;95m \u001b[0m\u001b[1;95m     0.76936\u001b[0m\u001b[1;95m \u001b[0m│\u001b[1;95m \u001b[0m\u001b[1;95m    0.03289\u001b[0m\u001b[1;95m \u001b[0m│\n",
      "│ attractive_train          │      0.97363 │         nan │\n",
      "│ attractive_weighted       │      0.76936 │     0.03289 │\n",
      "│ attractive_weighted_train │      0.97363 │         nan │\n",
      "│ n_edges_att               │  35077.50000 │  1273.15723 │\n",
      "│ n_edges_att_train         │  27934.00000 │         nan │\n",
      "│ n_edges_rep               │ 167053.75000 │ 14472.49512 │\n",
      "│ n_edges_rep_train         │ 121164.00000 │         nan │\n",
      "│ n_hits_oi                 │   9646.25000 │   405.12701 │\n",
      "│ n_hits_oi_train           │   7856.00000 │         nan │\n",
      "│\u001b[1;95m \u001b[0m\u001b[1;95mrepulsive                \u001b[0m\u001b[1;95m \u001b[0m│\u001b[1;95m \u001b[0m\u001b[1;95m     4.56251\u001b[0m\u001b[1;95m \u001b[0m│\u001b[1;95m \u001b[0m\u001b[1;95m    0.22421\u001b[0m\u001b[1;95m \u001b[0m│\n",
      "│ repulsive_train           │      4.08347 │         nan │\n",
      "│ repulsive_weighted        │      0.27375 │     0.01345 │\n",
      "│ repulsive_weighted_train  │      0.24501 │         nan │\n",
      "│\u001b[1;95m \u001b[0m\u001b[1;95mtotal                    \u001b[0m\u001b[1;95m \u001b[0m│\u001b[1;95m \u001b[0m\u001b[1;95m     1.04311\u001b[0m\u001b[1;95m \u001b[0m│\u001b[1;95m \u001b[0m\u001b[1;95m    0.03220\u001b[0m\u001b[1;95m \u001b[0m│\n",
      "│ total_train               │      1.21864 │         nan │\n",
      "└───────────────────────────┴──────────────┴─────────────┘\n",
      "\n"
     ]
    },
    {
     "data": {
      "application/vnd.jupyter.widget-view+json": {
       "model_id": "",
       "version_major": 2,
       "version_minor": 0
      },
      "text/plain": [
       "Validation: |          | 0/? [00:00<?, ?it/s]"
      ]
     },
     "metadata": {},
     "output_type": "display_data"
    },
    {
     "data": {
      "text/html": [
       "<pre style=\"white-space:pre;overflow-x:auto;line-height:normal;font-family:Menlo,'DejaVu Sans Mono',consolas,'Courier New',monospace\"></pre>\n"
      ],
      "text/plain": []
     },
     "metadata": {},
     "output_type": "display_data"
    },
    {
     "name": "stdout",
     "output_type": "stream",
     "text": [
      "\u001b[3m                    Validation epoch=5                    \u001b[0m\n",
      "┏━━━━━━━━━━━━━━━━━━━━━━━━━━━┳━━━━━━━━━━━━━━┳━━━━━━━━━━━━━┓\n",
      "┃\u001b[1m \u001b[0m\u001b[1mMetric                   \u001b[0m\u001b[1m \u001b[0m┃\u001b[1m \u001b[0m\u001b[1m       Value\u001b[0m\u001b[1m \u001b[0m┃\u001b[1m \u001b[0m\u001b[1m      Error\u001b[0m\u001b[1m \u001b[0m┃\n",
      "┡━━━━━━━━━━━━━━━━━━━━━━━━━━━╇━━━━━━━━━━━━━━╇━━━━━━━━━━━━━┩\n",
      "│\u001b[1;95m \u001b[0m\u001b[1;95mattractive               \u001b[0m\u001b[1;95m \u001b[0m│\u001b[1;95m \u001b[0m\u001b[1;95m     0.79363\u001b[0m\u001b[1;95m \u001b[0m│\u001b[1;95m \u001b[0m\u001b[1;95m    0.03497\u001b[0m\u001b[1;95m \u001b[0m│\n",
      "│ attractive_train          │      0.88146 │         nan │\n",
      "│ attractive_weighted       │      0.79363 │     0.03497 │\n",
      "│ attractive_weighted_train │      0.88146 │         nan │\n",
      "│ n_edges_att               │  35077.50000 │  1273.15723 │\n",
      "│ n_edges_att_train         │  30497.00000 │         nan │\n",
      "│ n_edges_rep               │ 164983.50000 │ 13895.08984 │\n",
      "│ n_edges_rep_train         │ 131736.00000 │         nan │\n",
      "│ n_hits_oi                 │   9646.25000 │   405.12701 │\n",
      "│ n_hits_oi_train           │   8500.00000 │         nan │\n",
      "│\u001b[1;95m \u001b[0m\u001b[1;95mrepulsive                \u001b[0m\u001b[1;95m \u001b[0m│\u001b[1;95m \u001b[0m\u001b[1;95m     4.43554\u001b[0m\u001b[1;95m \u001b[0m│\u001b[1;95m \u001b[0m\u001b[1;95m    0.21324\u001b[0m\u001b[1;95m \u001b[0m│\n",
      "│ repulsive_train           │      4.04727 │         nan │\n",
      "│ repulsive_weighted        │      0.26613 │     0.01279 │\n",
      "│ repulsive_weighted_train  │      0.24284 │         nan │\n",
      "│\u001b[1;95m \u001b[0m\u001b[1;95mtotal                    \u001b[0m\u001b[1;95m \u001b[0m│\u001b[1;95m \u001b[0m\u001b[1;95m     1.05976\u001b[0m\u001b[1;95m \u001b[0m│\u001b[1;95m \u001b[0m\u001b[1;95m    0.03445\u001b[0m\u001b[1;95m \u001b[0m│\n",
      "│ total_train               │      1.12430 │         nan │\n",
      "└───────────────────────────┴──────────────┴─────────────┘\n",
      "\n"
     ]
    },
    {
     "data": {
      "application/vnd.jupyter.widget-view+json": {
       "model_id": "",
       "version_major": 2,
       "version_minor": 0
      },
      "text/plain": [
       "Validation: |          | 0/? [00:00<?, ?it/s]"
      ]
     },
     "metadata": {},
     "output_type": "display_data"
    },
    {
     "data": {
      "text/html": [
       "<pre style=\"white-space:pre;overflow-x:auto;line-height:normal;font-family:Menlo,'DejaVu Sans Mono',consolas,'Courier New',monospace\"></pre>\n"
      ],
      "text/plain": []
     },
     "metadata": {},
     "output_type": "display_data"
    },
    {
     "name": "stdout",
     "output_type": "stream",
     "text": [
      "\u001b[3m                    Validation epoch=6                    \u001b[0m\n",
      "┏━━━━━━━━━━━━━━━━━━━━━━━━━━━┳━━━━━━━━━━━━━━┳━━━━━━━━━━━━━┓\n",
      "┃\u001b[1m \u001b[0m\u001b[1mMetric                   \u001b[0m\u001b[1m \u001b[0m┃\u001b[1m \u001b[0m\u001b[1m       Value\u001b[0m\u001b[1m \u001b[0m┃\u001b[1m \u001b[0m\u001b[1m      Error\u001b[0m\u001b[1m \u001b[0m┃\n",
      "┡━━━━━━━━━━━━━━━━━━━━━━━━━━━╇━━━━━━━━━━━━━━╇━━━━━━━━━━━━━┩\n",
      "│\u001b[1;95m \u001b[0m\u001b[1;95mattractive               \u001b[0m\u001b[1;95m \u001b[0m│\u001b[1;95m \u001b[0m\u001b[1;95m     0.62846\u001b[0m\u001b[1;95m \u001b[0m│\u001b[1;95m \u001b[0m\u001b[1;95m    0.03248\u001b[0m\u001b[1;95m \u001b[0m│\n",
      "│ attractive_train          │      0.61674 │         nan │\n",
      "│ attractive_weighted       │      0.62846 │     0.03248 │\n",
      "│ attractive_weighted_train │      0.61674 │         nan │\n",
      "│ n_edges_att               │  35077.50000 │  1273.15723 │\n",
      "│ n_edges_att_train         │  23511.00000 │         nan │\n",
      "│ n_edges_rep               │ 144284.50000 │ 13032.25098 │\n",
      "│ n_edges_rep_train         │  71940.00000 │         nan │\n",
      "│ n_hits_oi                 │   9646.25000 │   405.12701 │\n",
      "│ n_hits_oi_train           │   6316.00000 │         nan │\n",
      "│\u001b[1;95m \u001b[0m\u001b[1;95mrepulsive                \u001b[0m\u001b[1;95m \u001b[0m│\u001b[1;95m \u001b[0m\u001b[1;95m     4.01396\u001b[0m\u001b[1;95m \u001b[0m│\u001b[1;95m \u001b[0m\u001b[1;95m    0.19487\u001b[0m\u001b[1;95m \u001b[0m│\n",
      "│ repulsive_train           │      3.18414 │         nan │\n",
      "│ repulsive_weighted        │      0.24084 │     0.01169 │\n",
      "│ repulsive_weighted_train  │      0.19105 │         nan │\n",
      "│\u001b[1;95m \u001b[0m\u001b[1;95mtotal                    \u001b[0m\u001b[1;95m \u001b[0m│\u001b[1;95m \u001b[0m\u001b[1;95m     0.86930\u001b[0m\u001b[1;95m \u001b[0m│\u001b[1;95m \u001b[0m\u001b[1;95m    0.03257\u001b[0m\u001b[1;95m \u001b[0m│\n",
      "│ total_train               │      0.80779 │         nan │\n",
      "└───────────────────────────┴──────────────┴─────────────┘\n",
      "\n"
     ]
    },
    {
     "data": {
      "application/vnd.jupyter.widget-view+json": {
       "model_id": "",
       "version_major": 2,
       "version_minor": 0
      },
      "text/plain": [
       "Validation: |          | 0/? [00:00<?, ?it/s]"
      ]
     },
     "metadata": {},
     "output_type": "display_data"
    },
    {
     "data": {
      "text/html": [
       "<pre style=\"white-space:pre;overflow-x:auto;line-height:normal;font-family:Menlo,'DejaVu Sans Mono',consolas,'Courier New',monospace\"></pre>\n"
      ],
      "text/plain": []
     },
     "metadata": {},
     "output_type": "display_data"
    },
    {
     "name": "stdout",
     "output_type": "stream",
     "text": [
      "\u001b[3m                    Validation epoch=7                    \u001b[0m\n",
      "┏━━━━━━━━━━━━━━━━━━━━━━━━━━━┳━━━━━━━━━━━━━━┳━━━━━━━━━━━━━┓\n",
      "┃\u001b[1m \u001b[0m\u001b[1mMetric                   \u001b[0m\u001b[1m \u001b[0m┃\u001b[1m \u001b[0m\u001b[1m       Value\u001b[0m\u001b[1m \u001b[0m┃\u001b[1m \u001b[0m\u001b[1m      Error\u001b[0m\u001b[1m \u001b[0m┃\n",
      "┡━━━━━━━━━━━━━━━━━━━━━━━━━━━╇━━━━━━━━━━━━━━╇━━━━━━━━━━━━━┩\n",
      "│\u001b[1;95m \u001b[0m\u001b[1;95mattractive               \u001b[0m\u001b[1;95m \u001b[0m│\u001b[1;95m \u001b[0m\u001b[1;95m     0.57926\u001b[0m\u001b[1;95m \u001b[0m│\u001b[1;95m \u001b[0m\u001b[1;95m    0.01209\u001b[0m\u001b[1;95m \u001b[0m│\n",
      "│ attractive_train          │      0.56744 │         nan │\n",
      "│ attractive_weighted       │      0.57926 │     0.01209 │\n",
      "│ attractive_weighted_train │      0.56744 │         nan │\n",
      "│ n_edges_att               │  35077.50000 │  1273.15723 │\n",
      "│ n_edges_att_train         │  33346.00000 │         nan │\n",
      "│ n_edges_rep               │ 131925.50000 │ 11147.70996 │\n",
      "│ n_edges_rep_train         │ 122390.00000 │         nan │\n",
      "│ n_hits_oi                 │   9646.25000 │   405.12701 │\n",
      "│ n_hits_oi_train           │   9368.00000 │         nan │\n",
      "│\u001b[1;95m \u001b[0m\u001b[1;95mrepulsive                \u001b[0m\u001b[1;95m \u001b[0m│\u001b[1;95m \u001b[0m\u001b[1;95m     3.78492\u001b[0m\u001b[1;95m \u001b[0m│\u001b[1;95m \u001b[0m\u001b[1;95m    0.17618\u001b[0m\u001b[1;95m \u001b[0m│\n",
      "│ repulsive_train           │      3.57052 │         nan │\n",
      "│ repulsive_weighted        │      0.22709 │     0.01057 │\n",
      "│ repulsive_weighted_train  │      0.21423 │         nan │\n",
      "│\u001b[1;95m \u001b[0m\u001b[1;95mtotal                    \u001b[0m\u001b[1;95m \u001b[0m│\u001b[1;95m \u001b[0m\u001b[1;95m     0.80635\u001b[0m\u001b[1;95m \u001b[0m│\u001b[1;95m \u001b[0m\u001b[1;95m    0.00574\u001b[0m\u001b[1;95m \u001b[0m│\n",
      "│ total_train               │      0.78167 │         nan │\n",
      "└───────────────────────────┴──────────────┴─────────────┘\n",
      "\n"
     ]
    },
    {
     "data": {
      "application/vnd.jupyter.widget-view+json": {
       "model_id": "",
       "version_major": 2,
       "version_minor": 0
      },
      "text/plain": [
       "Validation: |          | 0/? [00:00<?, ?it/s]"
      ]
     },
     "metadata": {},
     "output_type": "display_data"
    },
    {
     "data": {
      "text/html": [
       "<pre style=\"white-space:pre;overflow-x:auto;line-height:normal;font-family:Menlo,'DejaVu Sans Mono',consolas,'Courier New',monospace\"></pre>\n"
      ],
      "text/plain": []
     },
     "metadata": {},
     "output_type": "display_data"
    },
    {
     "name": "stdout",
     "output_type": "stream",
     "text": [
      "\u001b[3m                    Validation epoch=8                    \u001b[0m\n",
      "┏━━━━━━━━━━━━━━━━━━━━━━━━━━━┳━━━━━━━━━━━━━━┳━━━━━━━━━━━━━┓\n",
      "┃\u001b[1m \u001b[0m\u001b[1mMetric                   \u001b[0m\u001b[1m \u001b[0m┃\u001b[1m \u001b[0m\u001b[1m       Value\u001b[0m\u001b[1m \u001b[0m┃\u001b[1m \u001b[0m\u001b[1m      Error\u001b[0m\u001b[1m \u001b[0m┃\n",
      "┡━━━━━━━━━━━━━━━━━━━━━━━━━━━╇━━━━━━━━━━━━━━╇━━━━━━━━━━━━━┩\n",
      "│\u001b[1;95m \u001b[0m\u001b[1;95mattractive               \u001b[0m\u001b[1;95m \u001b[0m│\u001b[1;95m \u001b[0m\u001b[1;95m     0.53573\u001b[0m\u001b[1;95m \u001b[0m│\u001b[1;95m \u001b[0m\u001b[1;95m    0.01304\u001b[0m\u001b[1;95m \u001b[0m│\n",
      "│ attractive_train          │      0.56256 │         nan │\n",
      "│ attractive_weighted       │      0.53573 │     0.01304 │\n",
      "│ attractive_weighted_train │      0.56256 │         nan │\n",
      "│ n_edges_att               │  35077.50000 │  1273.15723 │\n",
      "│ n_edges_att_train         │  35790.00000 │         nan │\n",
      "│ n_edges_rep               │ 118336.50000 │ 10389.42480 │\n",
      "│ n_edges_rep_train         │ 140117.00000 │         nan │\n",
      "│ n_hits_oi                 │   9646.25000 │   405.12701 │\n",
      "│ n_hits_oi_train           │   9640.00000 │         nan │\n",
      "│\u001b[1;95m \u001b[0m\u001b[1;95mrepulsive                \u001b[0m\u001b[1;95m \u001b[0m│\u001b[1;95m \u001b[0m\u001b[1;95m     3.44784\u001b[0m\u001b[1;95m \u001b[0m│\u001b[1;95m \u001b[0m\u001b[1;95m    0.17735\u001b[0m\u001b[1;95m \u001b[0m│\n",
      "│ repulsive_train           │      4.17887 │         nan │\n",
      "│ repulsive_weighted        │      0.20687 │     0.01064 │\n",
      "│ repulsive_weighted_train  │      0.25073 │         nan │\n",
      "│\u001b[1;95m \u001b[0m\u001b[1;95mtotal                    \u001b[0m\u001b[1;95m \u001b[0m│\u001b[1;95m \u001b[0m\u001b[1;95m     0.74260\u001b[0m\u001b[1;95m \u001b[0m│\u001b[1;95m \u001b[0m\u001b[1;95m    0.00636\u001b[0m\u001b[1;95m \u001b[0m│\n",
      "│ total_train               │      0.81330 │         nan │\n",
      "└───────────────────────────┴──────────────┴─────────────┘\n",
      "\n"
     ]
    },
    {
     "data": {
      "application/vnd.jupyter.widget-view+json": {
       "model_id": "",
       "version_major": 2,
       "version_minor": 0
      },
      "text/plain": [
       "Validation: |          | 0/? [00:00<?, ?it/s]"
      ]
     },
     "metadata": {},
     "output_type": "display_data"
    },
    {
     "data": {
      "text/html": [
       "<pre style=\"white-space:pre;overflow-x:auto;line-height:normal;font-family:Menlo,'DejaVu Sans Mono',consolas,'Courier New',monospace\"></pre>\n"
      ],
      "text/plain": []
     },
     "metadata": {},
     "output_type": "display_data"
    },
    {
     "name": "stderr",
     "output_type": "stream",
     "text": [
      "`Trainer.fit` stopped: `max_epochs=10` reached.\n"
     ]
    },
    {
     "name": "stdout",
     "output_type": "stream",
     "text": [
      "\u001b[3m                   Validation epoch=9                    \u001b[0m\n",
      "┏━━━━━━━━━━━━━━━━━━━━━━━━━━━┳━━━━━━━━━━━━━━┳━━━━━━━━━━━━┓\n",
      "┃\u001b[1m \u001b[0m\u001b[1mMetric                   \u001b[0m\u001b[1m \u001b[0m┃\u001b[1m \u001b[0m\u001b[1m       Value\u001b[0m\u001b[1m \u001b[0m┃\u001b[1m \u001b[0m\u001b[1m     Error\u001b[0m\u001b[1m \u001b[0m┃\n",
      "┡━━━━━━━━━━━━━━━━━━━━━━━━━━━╇━━━━━━━━━━━━━━╇━━━━━━━━━━━━┩\n",
      "│\u001b[1;95m \u001b[0m\u001b[1;95mattractive               \u001b[0m\u001b[1;95m \u001b[0m│\u001b[1;95m \u001b[0m\u001b[1;95m     0.56680\u001b[0m\u001b[1;95m \u001b[0m│\u001b[1;95m \u001b[0m\u001b[1;95m   0.01436\u001b[0m\u001b[1;95m \u001b[0m│\n",
      "│ attractive_train          │      0.48924 │        nan │\n",
      "│ attractive_weighted       │      0.56680 │    0.01436 │\n",
      "│ attractive_weighted_train │      0.48924 │        nan │\n",
      "│ n_edges_att               │  35077.50000 │ 1273.15723 │\n",
      "│ n_edges_att_train         │  31083.00000 │        nan │\n",
      "│ n_edges_rep               │ 117362.50000 │ 9392.94727 │\n",
      "│ n_edges_rep_train         │ 101803.00000 │        nan │\n",
      "│ n_hits_oi                 │   9646.25000 │  405.12701 │\n",
      "│ n_hits_oi_train           │   8451.00000 │        nan │\n",
      "│\u001b[1;95m \u001b[0m\u001b[1;95mrepulsive                \u001b[0m\u001b[1;95m \u001b[0m│\u001b[1;95m \u001b[0m\u001b[1;95m     3.39333\u001b[0m\u001b[1;95m \u001b[0m│\u001b[1;95m \u001b[0m\u001b[1;95m   0.16733\u001b[0m\u001b[1;95m \u001b[0m│\n",
      "│ repulsive_train           │      3.32504 │        nan │\n",
      "│ repulsive_weighted        │      0.20360 │    0.01004 │\n",
      "│ repulsive_weighted_train  │      0.19950 │        nan │\n",
      "│\u001b[1;95m \u001b[0m\u001b[1;95mtotal                    \u001b[0m\u001b[1;95m \u001b[0m│\u001b[1;95m \u001b[0m\u001b[1;95m     0.77040\u001b[0m\u001b[1;95m \u001b[0m│\u001b[1;95m \u001b[0m\u001b[1;95m   0.00796\u001b[0m\u001b[1;95m \u001b[0m│\n",
      "│ total_train               │      0.68874 │        nan │\n",
      "└───────────────────────────┴──────────────┴────────────┘\n",
      "\n"
     ]
    }
   ],
   "source": [
    "trainer_gc = Trainer(\n",
    "    max_epochs=10,\n",
    "    accelerator=\"gpu\",\n",
    "    log_every_n_steps=1,\n",
    "    callbacks=[\n",
    "        TriggerWandbSyncLightningCallback(),\n",
    "        PrintValidationMetrics(),\n",
    "    ],\n",
    "    logger=[\n",
    "        wandb_logger_gc,\n",
    "        tb_logger_gc,\n",
    "    ],\n",
    ")\n",
    "trainer_gc.fit(model=lmodel, datamodule=dm)"
   ]
  },
  {
   "cell_type": "code",
   "execution_count": 7,
   "metadata": {},
   "outputs": [
    {
     "name": "stderr",
     "output_type": "stream",
     "text": [
      "\u001b[32m08:16:00 INFO: This is wandb-osh v1.2.0 using communication directory /home/aj2239/.wandb_osh_command_dir\u001b[0m\n",
      "GPU available: True (cuda), used: True\n",
      "TPU available: False, using: 0 TPU cores\n",
      "IPU available: False, using: 0 IPUs\n",
      "HPU available: False, using: 0 HPUs\n",
      "You are using a CUDA device ('NVIDIA A100 80GB PCIe') that has Tensor Cores. To properly utilize them, you should set `torch.set_float32_matmul_precision('medium' | 'high')` which will trade-off precision for performance. For more details, read https://pytorch.org/docs/stable/generated/torch.set_float32_matmul_precision.html#torch.set_float32_matmul_precision\n",
      "Failed to detect the name of this notebook, you can set it manually with the WANDB_NOTEBOOK_NAME environment variable to enable code saving.\n",
      "\u001b[34m\u001b[1mwandb\u001b[0m: \u001b[33mWARNING\u001b[0m `resume` will be ignored since W&B syncing is set to `offline`. Starting a new run with run id miniature-divergent-prawn.\n"
     ]
    },
    {
     "data": {
      "text/html": [
       "Tracking run with wandb version 0.16.2"
      ],
      "text/plain": [
       "<IPython.core.display.HTML object>"
      ]
     },
     "metadata": {},
     "output_type": "display_data"
    },
    {
     "data": {
      "text/html": [
       "W&B syncing is set to <code>`offline`<code> in this directory.  <br/>Run <code>`wandb online`<code> or set <code>WANDB_MODE=online<code> to enable cloud syncing."
      ],
      "text/plain": [
       "<IPython.core.display.HTML object>"
      ]
     },
     "metadata": {},
     "output_type": "display_data"
    },
    {
     "name": "stderr",
     "output_type": "stream",
     "text": [
      "\u001b[32m[08:16:02] INFO: DataLoader will load 7743 graphs (out of 7743 available).\u001b[0m\n",
      "\u001b[36m[08:16:02] DEBUG: First graph is /scratch/gpfs/IOJALVO/gnn-tracking/object_condensation/point_clouds_v8/part_1/data21000_s0.pt, last graph is /scratch/gpfs/IOJALVO/gnn-tracking/object_condensation/point_clouds_v8/part_8/data28999_s0.pt\u001b[0m\n",
      "\u001b[32m[08:16:02] INFO: DataLoader will load 4 graphs (out of 1000 available).\u001b[0m\n",
      "\u001b[36m[08:16:02] DEBUG: First graph is /scratch/gpfs/IOJALVO/gnn-tracking/object_condensation/point_clouds_v8/part_9/data29000_s0.pt, last graph is /scratch/gpfs/IOJALVO/gnn-tracking/object_condensation/point_clouds_v8/part_9/data29003_s0.pt\u001b[0m\n",
      "LOCAL_RANK: 0 - CUDA_VISIBLE_DEVICES: [0]\n",
      "\n",
      "  | Name     | Type                                | Params\n",
      "-----------------------------------------------------------------\n",
      "0 | model    | GraphConstructionFCNN               | 333 K \n",
      "1 | preproc  | NoiseClassifierModel                | 0     \n",
      "2 | loss_fct | GraphConstructionHingeEmbeddingLoss | 0     \n",
      "-----------------------------------------------------------------\n",
      "333 K     Trainable params\n",
      "0         Non-trainable params\n",
      "333 K     Total params\n",
      "1.333     Total estimated model params size (MB)\n",
      "SLURM auto-requeueing enabled. Setting signal handlers.\n"
     ]
    },
    {
     "data": {
      "application/vnd.jupyter.widget-view+json": {
       "model_id": "",
       "version_major": 2,
       "version_minor": 0
      },
      "text/plain": [
       "Sanity Checking: |          | 0/? [00:00<?, ?it/s]"
      ]
     },
     "metadata": {},
     "output_type": "display_data"
    },
    {
     "name": "stderr",
     "output_type": "stream",
     "text": [
      "/scratch/gpfs/aj2239/micromamba/envs/gnn/lib/python3.11/site-packages/pytorch_lightning/trainer/connectors/data_connector.py:441: The 'val_dataloader' does not have many workers which may be a bottleneck. Consider increasing the value of the `num_workers` argument` to `num_workers=3` in the `DataLoader` to improve performance.\n",
      "/scratch/gpfs/aj2239/micromamba/envs/gnn/lib/python3.11/site-packages/pytorch_lightning/trainer/connectors/data_connector.py:441: The 'train_dataloader' does not have many workers which may be a bottleneck. Consider increasing the value of the `num_workers` argument` to `num_workers=3` in the `DataLoader` to improve performance.\n"
     ]
    },
    {
     "data": {
      "application/vnd.jupyter.widget-view+json": {
       "model_id": "ff8f9004c06445ebae67226b204b90d5",
       "version_major": 2,
       "version_minor": 0
      },
      "text/plain": [
       "Training: |          | 0/? [00:00<?, ?it/s]"
      ]
     },
     "metadata": {},
     "output_type": "display_data"
    },
    {
     "data": {
      "application/vnd.jupyter.widget-view+json": {
       "model_id": "",
       "version_major": 2,
       "version_minor": 0
      },
      "text/plain": [
       "Validation: |          | 0/? [00:00<?, ?it/s]"
      ]
     },
     "metadata": {},
     "output_type": "display_data"
    },
    {
     "data": {
      "text/html": [
       "<pre style=\"white-space:pre;overflow-x:auto;line-height:normal;font-family:Menlo,'DejaVu Sans Mono',consolas,'Courier New',monospace\"></pre>\n"
      ],
      "text/plain": []
     },
     "metadata": {},
     "output_type": "display_data"
    },
    {
     "name": "stdout",
     "output_type": "stream",
     "text": [
      "\u001b[3m                 Validation epoch=0                 \u001b[0m\n",
      "┏━━━━━━━━━━━━━━━━━━━━━━━━━━━┳━━━━━━━━━━━━━━┳━━━━━━━┓\n",
      "┃\u001b[1m \u001b[0m\u001b[1mMetric                   \u001b[0m\u001b[1m \u001b[0m┃\u001b[1m \u001b[0m\u001b[1m       Value\u001b[0m\u001b[1m \u001b[0m┃\u001b[1m \u001b[0m\u001b[1mError\u001b[0m\u001b[1m \u001b[0m┃\n",
      "┡━━━━━━━━━━━━━━━━━━━━━━━━━━━╇━━━━━━━━━━━━━━╇━━━━━━━┩\n",
      "│\u001b[1;95m \u001b[0m\u001b[1;95mattractive               \u001b[0m\u001b[1;95m \u001b[0m│\u001b[1;95m \u001b[0m\u001b[1;95m     0.97627\u001b[0m\u001b[1;95m \u001b[0m│\u001b[1;95m \u001b[0m\u001b[1;95m  nan\u001b[0m\u001b[1;95m \u001b[0m│\n",
      "│ attractive_train          │      1.06084 │   nan │\n",
      "│ attractive_weighted       │      0.97627 │   nan │\n",
      "│ attractive_weighted_train │      1.06084 │   nan │\n",
      "│ n_edges_att               │  35077.50000 │   nan │\n",
      "│ n_edges_att_train         │  35501.00000 │   nan │\n",
      "│ n_edges_rep               │ 220480.00000 │   nan │\n",
      "│ n_edges_rep_train         │ 229689.00000 │   nan │\n",
      "│ n_hits_oi                 │   9646.25000 │   nan │\n",
      "│ n_hits_oi_train           │   9405.00000 │   nan │\n",
      "│\u001b[1;95m \u001b[0m\u001b[1;95mrepulsive                \u001b[0m\u001b[1;95m \u001b[0m│\u001b[1;95m \u001b[0m\u001b[1;95m     5.79630\u001b[0m\u001b[1;95m \u001b[0m│\u001b[1;95m \u001b[0m\u001b[1;95m  nan\u001b[0m\u001b[1;95m \u001b[0m│\n",
      "│ repulsive_train           │      6.27181 │   nan │\n",
      "│ repulsive_weighted        │      0.34778 │   nan │\n",
      "│ repulsive_weighted_train  │      0.37631 │   nan │\n",
      "│\u001b[1;95m \u001b[0m\u001b[1;95mtotal                    \u001b[0m\u001b[1;95m \u001b[0m│\u001b[1;95m \u001b[0m\u001b[1;95m     1.32405\u001b[0m\u001b[1;95m \u001b[0m│\u001b[1;95m \u001b[0m\u001b[1;95m  nan\u001b[0m\u001b[1;95m \u001b[0m│\n",
      "│ total_train               │      1.43715 │   nan │\n",
      "└───────────────────────────┴──────────────┴───────┘\n",
      "\n"
     ]
    },
    {
     "data": {
      "application/vnd.jupyter.widget-view+json": {
       "model_id": "",
       "version_major": 2,
       "version_minor": 0
      },
      "text/plain": [
       "Validation: |          | 0/? [00:00<?, ?it/s]"
      ]
     },
     "metadata": {},
     "output_type": "display_data"
    },
    {
     "name": "stderr",
     "output_type": "stream",
     "text": [
      "\u001b[33m08:35:15 WARNING: Syncing not active or too slow: Command /home/aj2239/.wandb_osh_command_dir/317b94.command file still exists\u001b[0m\n"
     ]
    },
    {
     "data": {
      "text/html": [
       "<pre style=\"white-space:pre;overflow-x:auto;line-height:normal;font-family:Menlo,'DejaVu Sans Mono',consolas,'Courier New',monospace\"></pre>\n"
      ],
      "text/plain": []
     },
     "metadata": {},
     "output_type": "display_data"
    },
    {
     "name": "stdout",
     "output_type": "stream",
     "text": [
      "\u001b[3m                    Validation epoch=1                     \u001b[0m\n",
      "┏━━━━━━━━━━━━━━━━━━━━━━━━━━━┳━━━━━━━━━━━━━━┳━━━━━━━━━━━━━━┓\n",
      "┃\u001b[1m \u001b[0m\u001b[1mMetric                   \u001b[0m\u001b[1m \u001b[0m┃\u001b[1m \u001b[0m\u001b[1m       Value\u001b[0m\u001b[1m \u001b[0m┃\u001b[1m \u001b[0m\u001b[1m       Error\u001b[0m\u001b[1m \u001b[0m┃\n",
      "┡━━━━━━━━━━━━━━━━━━━━━━━━━━━╇━━━━━━━━━━━━━━╇━━━━━━━━━━━━━━┩\n",
      "│\u001b[1;95m \u001b[0m\u001b[1;95mattractive               \u001b[0m\u001b[1;95m \u001b[0m│\u001b[1;95m \u001b[0m\u001b[1;95m     0.85921\u001b[0m\u001b[1;95m \u001b[0m│\u001b[1;95m \u001b[0m\u001b[1;95m     0.19905\u001b[0m\u001b[1;95m \u001b[0m│\n",
      "│ attractive_train          │      0.78857 │          nan │\n",
      "│ attractive_weighted       │      0.85921 │      0.19905 │\n",
      "│ attractive_weighted_train │      0.78857 │          nan │\n",
      "│ n_edges_att               │  35077.50000 │    928.13483 │\n",
      "│ n_edges_att_train         │  37873.00000 │          nan │\n",
      "│ n_edges_rep               │ 188174.25000 │ 511787.18750 │\n",
      "│ n_edges_rep_train         │ 217170.00000 │          nan │\n",
      "│ n_hits_oi                 │   9646.25000 │    291.88177 │\n",
      "│ n_hits_oi_train           │  10171.00000 │          nan │\n",
      "│\u001b[1;95m \u001b[0m\u001b[1;95mrepulsive                \u001b[0m\u001b[1;95m \u001b[0m│\u001b[1;95m \u001b[0m\u001b[1;95m     5.02604\u001b[0m\u001b[1;95m \u001b[0m│\u001b[1;95m \u001b[0m\u001b[1;95m    22.73974\u001b[0m\u001b[1;95m \u001b[0m│\n",
      "│ repulsive_train           │      5.59577 │          nan │\n",
      "│ repulsive_weighted        │      0.30156 │      1.36438 │\n",
      "│ repulsive_weighted_train  │      0.33575 │          nan │\n",
      "│\u001b[1;95m \u001b[0m\u001b[1;95mtotal                    \u001b[0m\u001b[1;95m \u001b[0m│\u001b[1;95m \u001b[0m\u001b[1;95m     1.16078\u001b[0m\u001b[1;95m \u001b[0m│\u001b[1;95m \u001b[0m\u001b[1;95m     1.16731\u001b[0m\u001b[1;95m \u001b[0m│\n",
      "│ total_train               │      1.12432 │          nan │\n",
      "└───────────────────────────┴──────────────┴──────────────┘\n",
      "\n"
     ]
    },
    {
     "data": {
      "application/vnd.jupyter.widget-view+json": {
       "model_id": "",
       "version_major": 2,
       "version_minor": 0
      },
      "text/plain": [
       "Validation: |          | 0/? [00:00<?, ?it/s]"
      ]
     },
     "metadata": {},
     "output_type": "display_data"
    },
    {
     "name": "stderr",
     "output_type": "stream",
     "text": [
      "\u001b[33m08:44:50 WARNING: Syncing not active or too slow: Command /home/aj2239/.wandb_osh_command_dir/317b94.command file still exists\u001b[0m\n"
     ]
    },
    {
     "data": {
      "text/html": [
       "<pre style=\"white-space:pre;overflow-x:auto;line-height:normal;font-family:Menlo,'DejaVu Sans Mono',consolas,'Courier New',monospace\"></pre>\n"
      ],
      "text/plain": []
     },
     "metadata": {},
     "output_type": "display_data"
    },
    {
     "name": "stdout",
     "output_type": "stream",
     "text": [
      "\u001b[3m                    Validation epoch=2                    \u001b[0m\n",
      "┏━━━━━━━━━━━━━━━━━━━━━━━━━━━┳━━━━━━━━━━━━━━┳━━━━━━━━━━━━━┓\n",
      "┃\u001b[1m \u001b[0m\u001b[1mMetric                   \u001b[0m\u001b[1m \u001b[0m┃\u001b[1m \u001b[0m\u001b[1m       Value\u001b[0m\u001b[1m \u001b[0m┃\u001b[1m \u001b[0m\u001b[1m      Error\u001b[0m\u001b[1m \u001b[0m┃\n",
      "┡━━━━━━━━━━━━━━━━━━━━━━━━━━━╇━━━━━━━━━━━━━━╇━━━━━━━━━━━━━┩\n",
      "│\u001b[1;95m \u001b[0m\u001b[1;95mattractive               \u001b[0m\u001b[1;95m \u001b[0m│\u001b[1;95m \u001b[0m\u001b[1;95m     0.82433\u001b[0m\u001b[1;95m \u001b[0m│\u001b[1;95m \u001b[0m\u001b[1;95m    0.03358\u001b[0m\u001b[1;95m \u001b[0m│\n",
      "│ attractive_train          │      0.88653 │         nan │\n",
      "│ attractive_weighted       │      0.82433 │     0.03358 │\n",
      "│ attractive_weighted_train │      0.88653 │         nan │\n",
      "│ n_edges_att               │  35077.50000 │  1273.15723 │\n",
      "│ n_edges_att_train         │  25833.00000 │         nan │\n",
      "│ n_edges_rep               │ 170524.25000 │ 15277.93164 │\n",
      "│ n_edges_rep_train         │ 107830.00000 │         nan │\n",
      "│ n_hits_oi                 │   9646.25000 │   405.12701 │\n",
      "│ n_hits_oi_train           │   6923.00000 │         nan │\n",
      "│\u001b[1;95m \u001b[0m\u001b[1;95mrepulsive                \u001b[0m\u001b[1;95m \u001b[0m│\u001b[1;95m \u001b[0m\u001b[1;95m     4.65552\u001b[0m\u001b[1;95m \u001b[0m│\u001b[1;95m \u001b[0m\u001b[1;95m    0.22015\u001b[0m\u001b[1;95m \u001b[0m│\n",
      "│ repulsive_train           │      4.25306 │         nan │\n",
      "│ repulsive_weighted        │      0.27933 │     0.01321 │\n",
      "│ repulsive_weighted_train  │      0.25518 │         nan │\n",
      "│\u001b[1;95m \u001b[0m\u001b[1;95mtotal                    \u001b[0m\u001b[1;95m \u001b[0m│\u001b[1;95m \u001b[0m\u001b[1;95m     1.10367\u001b[0m\u001b[1;95m \u001b[0m│\u001b[1;95m \u001b[0m\u001b[1;95m    0.03182\u001b[0m\u001b[1;95m \u001b[0m│\n",
      "│ total_train               │      1.14171 │         nan │\n",
      "└───────────────────────────┴──────────────┴─────────────┘\n",
      "\n"
     ]
    },
    {
     "data": {
      "application/vnd.jupyter.widget-view+json": {
       "model_id": "",
       "version_major": 2,
       "version_minor": 0
      },
      "text/plain": [
       "Validation: |          | 0/? [00:00<?, ?it/s]"
      ]
     },
     "metadata": {},
     "output_type": "display_data"
    },
    {
     "name": "stderr",
     "output_type": "stream",
     "text": [
      "\u001b[33m08:54:24 WARNING: Syncing not active or too slow: Command /home/aj2239/.wandb_osh_command_dir/317b94.command file still exists\u001b[0m\n"
     ]
    },
    {
     "data": {
      "text/html": [
       "<pre style=\"white-space:pre;overflow-x:auto;line-height:normal;font-family:Menlo,'DejaVu Sans Mono',consolas,'Courier New',monospace\"></pre>\n"
      ],
      "text/plain": []
     },
     "metadata": {},
     "output_type": "display_data"
    },
    {
     "name": "stdout",
     "output_type": "stream",
     "text": [
      "\u001b[3m                    Validation epoch=3                    \u001b[0m\n",
      "┏━━━━━━━━━━━━━━━━━━━━━━━━━━━┳━━━━━━━━━━━━━━┳━━━━━━━━━━━━━┓\n",
      "┃\u001b[1m \u001b[0m\u001b[1mMetric                   \u001b[0m\u001b[1m \u001b[0m┃\u001b[1m \u001b[0m\u001b[1m       Value\u001b[0m\u001b[1m \u001b[0m┃\u001b[1m \u001b[0m\u001b[1m      Error\u001b[0m\u001b[1m \u001b[0m┃\n",
      "┡━━━━━━━━━━━━━━━━━━━━━━━━━━━╇━━━━━━━━━━━━━━╇━━━━━━━━━━━━━┩\n",
      "│\u001b[1;95m \u001b[0m\u001b[1;95mattractive               \u001b[0m\u001b[1;95m \u001b[0m│\u001b[1;95m \u001b[0m\u001b[1;95m     0.69559\u001b[0m\u001b[1;95m \u001b[0m│\u001b[1;95m \u001b[0m\u001b[1;95m    0.03118\u001b[0m\u001b[1;95m \u001b[0m│\n",
      "│ attractive_train          │      0.72189 │         nan │\n",
      "│ attractive_weighted       │      0.69559 │     0.03118 │\n",
      "│ attractive_weighted_train │      0.72189 │         nan │\n",
      "│ n_edges_att               │  35077.50000 │  1273.15723 │\n",
      "│ n_edges_att_train         │  34224.00000 │         nan │\n",
      "│ n_edges_rep               │ 147750.25000 │ 13512.08398 │\n",
      "│ n_edges_rep_train         │ 150875.00000 │         nan │\n",
      "│ n_hits_oi                 │   9646.25000 │   405.12701 │\n",
      "│ n_hits_oi_train           │   9519.00000 │         nan │\n",
      "│\u001b[1;95m \u001b[0m\u001b[1;95mrepulsive                \u001b[0m\u001b[1;95m \u001b[0m│\u001b[1;95m \u001b[0m\u001b[1;95m     4.20457\u001b[0m\u001b[1;95m \u001b[0m│\u001b[1;95m \u001b[0m\u001b[1;95m    0.20309\u001b[0m\u001b[1;95m \u001b[0m│\n",
      "│ repulsive_train           │      4.34277 │         nan │\n",
      "│ repulsive_weighted        │      0.25227 │     0.01219 │\n",
      "│ repulsive_weighted_train  │      0.26057 │         nan │\n",
      "│\u001b[1;95m \u001b[0m\u001b[1;95mtotal                    \u001b[0m\u001b[1;95m \u001b[0m│\u001b[1;95m \u001b[0m\u001b[1;95m     0.94787\u001b[0m\u001b[1;95m \u001b[0m│\u001b[1;95m \u001b[0m\u001b[1;95m    0.02894\u001b[0m\u001b[1;95m \u001b[0m│\n",
      "│ total_train               │      0.98246 │         nan │\n",
      "└───────────────────────────┴──────────────┴─────────────┘\n",
      "\n"
     ]
    },
    {
     "data": {
      "application/vnd.jupyter.widget-view+json": {
       "model_id": "",
       "version_major": 2,
       "version_minor": 0
      },
      "text/plain": [
       "Validation: |          | 0/? [00:00<?, ?it/s]"
      ]
     },
     "metadata": {},
     "output_type": "display_data"
    },
    {
     "name": "stderr",
     "output_type": "stream",
     "text": [
      "\u001b[33m09:03:58 WARNING: Syncing not active or too slow: Command /home/aj2239/.wandb_osh_command_dir/317b94.command file still exists\u001b[0m\n"
     ]
    },
    {
     "data": {
      "text/html": [
       "<pre style=\"white-space:pre;overflow-x:auto;line-height:normal;font-family:Menlo,'DejaVu Sans Mono',consolas,'Courier New',monospace\"></pre>\n"
      ],
      "text/plain": []
     },
     "metadata": {},
     "output_type": "display_data"
    },
    {
     "name": "stdout",
     "output_type": "stream",
     "text": [
      "\u001b[3m                    Validation epoch=4                    \u001b[0m\n",
      "┏━━━━━━━━━━━━━━━━━━━━━━━━━━━┳━━━━━━━━━━━━━━┳━━━━━━━━━━━━━┓\n",
      "┃\u001b[1m \u001b[0m\u001b[1mMetric                   \u001b[0m\u001b[1m \u001b[0m┃\u001b[1m \u001b[0m\u001b[1m       Value\u001b[0m\u001b[1m \u001b[0m┃\u001b[1m \u001b[0m\u001b[1m      Error\u001b[0m\u001b[1m \u001b[0m┃\n",
      "┡━━━━━━━━━━━━━━━━━━━━━━━━━━━╇━━━━━━━━━━━━━━╇━━━━━━━━━━━━━┩\n",
      "│\u001b[1;95m \u001b[0m\u001b[1;95mattractive               \u001b[0m\u001b[1;95m \u001b[0m│\u001b[1;95m \u001b[0m\u001b[1;95m     0.62914\u001b[0m\u001b[1;95m \u001b[0m│\u001b[1;95m \u001b[0m\u001b[1;95m    0.01519\u001b[0m\u001b[1;95m \u001b[0m│\n",
      "│ attractive_train          │      0.62485 │         nan │\n",
      "│ attractive_weighted       │      0.62914 │     0.01519 │\n",
      "│ attractive_weighted_train │      0.62485 │         nan │\n",
      "│ n_edges_att               │  35077.50000 │  1273.15723 │\n",
      "│ n_edges_att_train         │  24635.00000 │         nan │\n",
      "│ n_edges_rep               │ 144849.25000 │ 11779.89453 │\n",
      "│ n_edges_rep_train         │  94611.00000 │         nan │\n",
      "│ n_hits_oi                 │   9646.25000 │   405.12701 │\n",
      "│ n_hits_oi_train           │   6589.00000 │         nan │\n",
      "│\u001b[1;95m \u001b[0m\u001b[1;95mrepulsive                \u001b[0m\u001b[1;95m \u001b[0m│\u001b[1;95m \u001b[0m\u001b[1;95m     4.18747\u001b[0m\u001b[1;95m \u001b[0m│\u001b[1;95m \u001b[0m\u001b[1;95m    0.18471\u001b[0m\u001b[1;95m \u001b[0m│\n",
      "│ repulsive_train           │      4.23275 │         nan │\n",
      "│ repulsive_weighted        │      0.25125 │     0.01108 │\n",
      "│ repulsive_weighted_train  │      0.25397 │         nan │\n",
      "│\u001b[1;95m \u001b[0m\u001b[1;95mtotal                    \u001b[0m\u001b[1;95m \u001b[0m│\u001b[1;95m \u001b[0m\u001b[1;95m     0.88039\u001b[0m\u001b[1;95m \u001b[0m│\u001b[1;95m \u001b[0m\u001b[1;95m    0.00834\u001b[0m\u001b[1;95m \u001b[0m│\n",
      "│ total_train               │      0.87882 │         nan │\n",
      "└───────────────────────────┴──────────────┴─────────────┘\n",
      "\n"
     ]
    },
    {
     "data": {
      "application/vnd.jupyter.widget-view+json": {
       "model_id": "",
       "version_major": 2,
       "version_minor": 0
      },
      "text/plain": [
       "Validation: |          | 0/? [00:00<?, ?it/s]"
      ]
     },
     "metadata": {},
     "output_type": "display_data"
    },
    {
     "name": "stderr",
     "output_type": "stream",
     "text": [
      "\u001b[33m09:13:33 WARNING: Syncing not active or too slow: Command /home/aj2239/.wandb_osh_command_dir/317b94.command file still exists\u001b[0m\n"
     ]
    },
    {
     "data": {
      "text/html": [
       "<pre style=\"white-space:pre;overflow-x:auto;line-height:normal;font-family:Menlo,'DejaVu Sans Mono',consolas,'Courier New',monospace\"></pre>\n"
      ],
      "text/plain": []
     },
     "metadata": {},
     "output_type": "display_data"
    },
    {
     "name": "stdout",
     "output_type": "stream",
     "text": [
      "\u001b[3m                    Validation epoch=5                    \u001b[0m\n",
      "┏━━━━━━━━━━━━━━━━━━━━━━━━━━━┳━━━━━━━━━━━━━━┳━━━━━━━━━━━━━┓\n",
      "┃\u001b[1m \u001b[0m\u001b[1mMetric                   \u001b[0m\u001b[1m \u001b[0m┃\u001b[1m \u001b[0m\u001b[1m       Value\u001b[0m\u001b[1m \u001b[0m┃\u001b[1m \u001b[0m\u001b[1m      Error\u001b[0m\u001b[1m \u001b[0m┃\n",
      "┡━━━━━━━━━━━━━━━━━━━━━━━━━━━╇━━━━━━━━━━━━━━╇━━━━━━━━━━━━━┩\n",
      "│\u001b[1;95m \u001b[0m\u001b[1;95mattractive               \u001b[0m\u001b[1;95m \u001b[0m│\u001b[1;95m \u001b[0m\u001b[1;95m     0.65031\u001b[0m\u001b[1;95m \u001b[0m│\u001b[1;95m \u001b[0m\u001b[1;95m    0.01522\u001b[0m\u001b[1;95m \u001b[0m│\n",
      "│ attractive_train          │      0.56160 │         nan │\n",
      "│ attractive_weighted       │      0.65031 │     0.01522 │\n",
      "│ attractive_weighted_train │      0.56160 │         nan │\n",
      "│ n_edges_att               │  35077.50000 │  1273.15723 │\n",
      "│ n_edges_att_train         │  35602.00000 │         nan │\n",
      "│ n_edges_rep               │ 158501.75000 │ 11768.02344 │\n",
      "│ n_edges_rep_train         │ 165445.00000 │         nan │\n",
      "│ n_hits_oi                 │   9646.25000 │   405.12701 │\n",
      "│ n_hits_oi_train           │   9648.00000 │         nan │\n",
      "│\u001b[1;95m \u001b[0m\u001b[1;95mrepulsive                \u001b[0m\u001b[1;95m \u001b[0m│\u001b[1;95m \u001b[0m\u001b[1;95m     4.61261\u001b[0m\u001b[1;95m \u001b[0m│\u001b[1;95m \u001b[0m\u001b[1;95m    0.19504\u001b[0m\u001b[1;95m \u001b[0m│\n",
      "│ repulsive_train           │      4.82916 │         nan │\n",
      "│ repulsive_weighted        │      0.27676 │     0.01170 │\n",
      "│ repulsive_weighted_train  │      0.28975 │         nan │\n",
      "│\u001b[1;95m \u001b[0m\u001b[1;95mtotal                    \u001b[0m\u001b[1;95m \u001b[0m│\u001b[1;95m \u001b[0m\u001b[1;95m     0.92707\u001b[0m\u001b[1;95m \u001b[0m│\u001b[1;95m \u001b[0m\u001b[1;95m    0.00994\u001b[0m\u001b[1;95m \u001b[0m│\n",
      "│ total_train               │      0.85135 │         nan │\n",
      "└───────────────────────────┴──────────────┴─────────────┘\n",
      "\n"
     ]
    },
    {
     "data": {
      "application/vnd.jupyter.widget-view+json": {
       "model_id": "",
       "version_major": 2,
       "version_minor": 0
      },
      "text/plain": [
       "Validation: |          | 0/? [00:00<?, ?it/s]"
      ]
     },
     "metadata": {},
     "output_type": "display_data"
    },
    {
     "name": "stderr",
     "output_type": "stream",
     "text": [
      "\u001b[33m09:23:08 WARNING: Syncing not active or too slow: Command /home/aj2239/.wandb_osh_command_dir/317b94.command file still exists\u001b[0m\n"
     ]
    },
    {
     "data": {
      "text/html": [
       "<pre style=\"white-space:pre;overflow-x:auto;line-height:normal;font-family:Menlo,'DejaVu Sans Mono',consolas,'Courier New',monospace\"></pre>\n"
      ],
      "text/plain": []
     },
     "metadata": {},
     "output_type": "display_data"
    },
    {
     "name": "stdout",
     "output_type": "stream",
     "text": [
      "\u001b[3m                    Validation epoch=6                    \u001b[0m\n",
      "┏━━━━━━━━━━━━━━━━━━━━━━━━━━━┳━━━━━━━━━━━━━━┳━━━━━━━━━━━━━┓\n",
      "┃\u001b[1m \u001b[0m\u001b[1mMetric                   \u001b[0m\u001b[1m \u001b[0m┃\u001b[1m \u001b[0m\u001b[1m       Value\u001b[0m\u001b[1m \u001b[0m┃\u001b[1m \u001b[0m\u001b[1m      Error\u001b[0m\u001b[1m \u001b[0m┃\n",
      "┡━━━━━━━━━━━━━━━━━━━━━━━━━━━╇━━━━━━━━━━━━━━╇━━━━━━━━━━━━━┩\n",
      "│\u001b[1;95m \u001b[0m\u001b[1;95mattractive               \u001b[0m\u001b[1;95m \u001b[0m│\u001b[1;95m \u001b[0m\u001b[1;95m     0.58551\u001b[0m\u001b[1;95m \u001b[0m│\u001b[1;95m \u001b[0m\u001b[1;95m    0.01258\u001b[0m\u001b[1;95m \u001b[0m│\n",
      "│ attractive_train          │      0.64067 │         nan │\n",
      "│ attractive_weighted       │      0.58551 │     0.01258 │\n",
      "│ attractive_weighted_train │      0.64067 │         nan │\n",
      "│ n_edges_att               │  35077.50000 │  1273.15723 │\n",
      "│ n_edges_att_train         │  28902.00000 │         nan │\n",
      "│ n_edges_rep               │ 134684.00000 │ 12906.86914 │\n",
      "│ n_edges_rep_train         │  99722.00000 │         nan │\n",
      "│ n_hits_oi                 │   9646.25000 │   405.12701 │\n",
      "│ n_hits_oi_train           │   8029.00000 │         nan │\n",
      "│\u001b[1;95m \u001b[0m\u001b[1;95mrepulsive                \u001b[0m\u001b[1;95m \u001b[0m│\u001b[1;95m \u001b[0m\u001b[1;95m     3.99857\u001b[0m\u001b[1;95m \u001b[0m│\u001b[1;95m \u001b[0m\u001b[1;95m    0.21773\u001b[0m\u001b[1;95m \u001b[0m│\n",
      "│ repulsive_train           │      3.56169 │         nan │\n",
      "│ repulsive_weighted        │      0.23991 │     0.01306 │\n",
      "│ repulsive_weighted_train  │      0.21370 │         nan │\n",
      "│\u001b[1;95m \u001b[0m\u001b[1;95mtotal                    \u001b[0m\u001b[1;95m \u001b[0m│\u001b[1;95m \u001b[0m\u001b[1;95m     0.82542\u001b[0m\u001b[1;95m \u001b[0m│\u001b[1;95m \u001b[0m\u001b[1;95m    0.00498\u001b[0m\u001b[1;95m \u001b[0m│\n",
      "│ total_train               │      0.85437 │         nan │\n",
      "└───────────────────────────┴──────────────┴─────────────┘\n",
      "\n"
     ]
    },
    {
     "data": {
      "application/vnd.jupyter.widget-view+json": {
       "model_id": "",
       "version_major": 2,
       "version_minor": 0
      },
      "text/plain": [
       "Validation: |          | 0/? [00:00<?, ?it/s]"
      ]
     },
     "metadata": {},
     "output_type": "display_data"
    },
    {
     "name": "stderr",
     "output_type": "stream",
     "text": [
      "\u001b[33m09:32:42 WARNING: Syncing not active or too slow: Command /home/aj2239/.wandb_osh_command_dir/317b94.command file still exists\u001b[0m\n"
     ]
    },
    {
     "data": {
      "text/html": [
       "<pre style=\"white-space:pre;overflow-x:auto;line-height:normal;font-family:Menlo,'DejaVu Sans Mono',consolas,'Courier New',monospace\"></pre>\n"
      ],
      "text/plain": []
     },
     "metadata": {},
     "output_type": "display_data"
    },
    {
     "name": "stdout",
     "output_type": "stream",
     "text": [
      "\u001b[3m                    Validation epoch=7                    \u001b[0m\n",
      "┏━━━━━━━━━━━━━━━━━━━━━━━━━━━┳━━━━━━━━━━━━━━┳━━━━━━━━━━━━━┓\n",
      "┃\u001b[1m \u001b[0m\u001b[1mMetric                   \u001b[0m\u001b[1m \u001b[0m┃\u001b[1m \u001b[0m\u001b[1m       Value\u001b[0m\u001b[1m \u001b[0m┃\u001b[1m \u001b[0m\u001b[1m      Error\u001b[0m\u001b[1m \u001b[0m┃\n",
      "┡━━━━━━━━━━━━━━━━━━━━━━━━━━━╇━━━━━━━━━━━━━━╇━━━━━━━━━━━━━┩\n",
      "│\u001b[1;95m \u001b[0m\u001b[1;95mattractive               \u001b[0m\u001b[1;95m \u001b[0m│\u001b[1;95m \u001b[0m\u001b[1;95m     0.54066\u001b[0m\u001b[1;95m \u001b[0m│\u001b[1;95m \u001b[0m\u001b[1;95m    0.01529\u001b[0m\u001b[1;95m \u001b[0m│\n",
      "│ attractive_train          │      0.56633 │         nan │\n",
      "│ attractive_weighted       │      0.54066 │     0.01529 │\n",
      "│ attractive_weighted_train │      0.56633 │         nan │\n",
      "│ n_edges_att               │  35077.50000 │  1273.15723 │\n",
      "│ n_edges_att_train         │  27657.00000 │         nan │\n",
      "│ n_edges_rep               │ 130292.00000 │ 10945.54297 │\n",
      "│ n_edges_rep_train         │  85825.00000 │         nan │\n",
      "│ n_hits_oi                 │   9646.25000 │   405.12701 │\n",
      "│ n_hits_oi_train           │   7618.00000 │         nan │\n",
      "│\u001b[1;95m \u001b[0m\u001b[1;95mrepulsive                \u001b[0m\u001b[1;95m \u001b[0m│\u001b[1;95m \u001b[0m\u001b[1;95m     3.87392\u001b[0m\u001b[1;95m \u001b[0m│\u001b[1;95m \u001b[0m\u001b[1;95m    0.18330\u001b[0m\u001b[1;95m \u001b[0m│\n",
      "│ repulsive_train           │      3.25716 │         nan │\n",
      "│ repulsive_weighted        │      0.23244 │     0.01100 │\n",
      "│ repulsive_weighted_train  │      0.19543 │         nan │\n",
      "│\u001b[1;95m \u001b[0m\u001b[1;95mtotal                    \u001b[0m\u001b[1;95m \u001b[0m│\u001b[1;95m \u001b[0m\u001b[1;95m     0.77309\u001b[0m\u001b[1;95m \u001b[0m│\u001b[1;95m \u001b[0m\u001b[1;95m    0.00673\u001b[0m\u001b[1;95m \u001b[0m│\n",
      "│ total_train               │      0.76176 │         nan │\n",
      "└───────────────────────────┴──────────────┴─────────────┘\n",
      "\n"
     ]
    },
    {
     "data": {
      "application/vnd.jupyter.widget-view+json": {
       "model_id": "",
       "version_major": 2,
       "version_minor": 0
      },
      "text/plain": [
       "Validation: |          | 0/? [00:00<?, ?it/s]"
      ]
     },
     "metadata": {},
     "output_type": "display_data"
    },
    {
     "name": "stderr",
     "output_type": "stream",
     "text": [
      "\u001b[33m09:42:17 WARNING: Syncing not active or too slow: Command /home/aj2239/.wandb_osh_command_dir/317b94.command file still exists\u001b[0m\n"
     ]
    },
    {
     "data": {
      "text/html": [
       "<pre style=\"white-space:pre;overflow-x:auto;line-height:normal;font-family:Menlo,'DejaVu Sans Mono',consolas,'Courier New',monospace\"></pre>\n"
      ],
      "text/plain": []
     },
     "metadata": {},
     "output_type": "display_data"
    },
    {
     "name": "stdout",
     "output_type": "stream",
     "text": [
      "\u001b[3m                    Validation epoch=8                    \u001b[0m\n",
      "┏━━━━━━━━━━━━━━━━━━━━━━━━━━━┳━━━━━━━━━━━━━━┳━━━━━━━━━━━━━┓\n",
      "┃\u001b[1m \u001b[0m\u001b[1mMetric                   \u001b[0m\u001b[1m \u001b[0m┃\u001b[1m \u001b[0m\u001b[1m       Value\u001b[0m\u001b[1m \u001b[0m┃\u001b[1m \u001b[0m\u001b[1m      Error\u001b[0m\u001b[1m \u001b[0m┃\n",
      "┡━━━━━━━━━━━━━━━━━━━━━━━━━━━╇━━━━━━━━━━━━━━╇━━━━━━━━━━━━━┩\n",
      "│\u001b[1;95m \u001b[0m\u001b[1;95mattractive               \u001b[0m\u001b[1;95m \u001b[0m│\u001b[1;95m \u001b[0m\u001b[1;95m     0.60430\u001b[0m\u001b[1;95m \u001b[0m│\u001b[1;95m \u001b[0m\u001b[1;95m    0.01446\u001b[0m\u001b[1;95m \u001b[0m│\n",
      "│ attractive_train          │      0.60191 │         nan │\n",
      "│ attractive_weighted       │      0.60430 │     0.01446 │\n",
      "│ attractive_weighted_train │      0.60191 │         nan │\n",
      "│ n_edges_att               │  35077.50000 │  1273.15723 │\n",
      "│ n_edges_att_train         │  43806.00000 │         nan │\n",
      "│ n_edges_rep               │ 121655.00000 │ 10841.74707 │\n",
      "│ n_edges_rep_train         │ 186363.00000 │         nan │\n",
      "│ n_hits_oi                 │   9646.25000 │   405.12701 │\n",
      "│ n_hits_oi_train           │  11867.00000 │         nan │\n",
      "│\u001b[1;95m \u001b[0m\u001b[1;95mrepulsive                \u001b[0m\u001b[1;95m \u001b[0m│\u001b[1;95m \u001b[0m\u001b[1;95m     3.62760\u001b[0m\u001b[1;95m \u001b[0m│\u001b[1;95m \u001b[0m\u001b[1;95m    0.18496\u001b[0m\u001b[1;95m \u001b[0m│\n",
      "│ repulsive_train           │      4.54739 │         nan │\n",
      "│ repulsive_weighted        │      0.21766 │     0.01110 │\n",
      "│ repulsive_weighted_train  │      0.27284 │         nan │\n",
      "│\u001b[1;95m \u001b[0m\u001b[1;95mtotal                    \u001b[0m\u001b[1;95m \u001b[0m│\u001b[1;95m \u001b[0m\u001b[1;95m     0.82196\u001b[0m\u001b[1;95m \u001b[0m│\u001b[1;95m \u001b[0m\u001b[1;95m    0.00734\u001b[0m\u001b[1;95m \u001b[0m│\n",
      "│ total_train               │      0.87475 │         nan │\n",
      "└───────────────────────────┴──────────────┴─────────────┘\n",
      "\n"
     ]
    },
    {
     "data": {
      "application/vnd.jupyter.widget-view+json": {
       "model_id": "",
       "version_major": 2,
       "version_minor": 0
      },
      "text/plain": [
       "Validation: |          | 0/? [00:00<?, ?it/s]"
      ]
     },
     "metadata": {},
     "output_type": "display_data"
    },
    {
     "name": "stderr",
     "output_type": "stream",
     "text": [
      "\u001b[33m09:51:51 WARNING: Syncing not active or too slow: Command /home/aj2239/.wandb_osh_command_dir/317b94.command file still exists\u001b[0m\n"
     ]
    },
    {
     "data": {
      "text/html": [
       "<pre style=\"white-space:pre;overflow-x:auto;line-height:normal;font-family:Menlo,'DejaVu Sans Mono',consolas,'Courier New',monospace\"></pre>\n"
      ],
      "text/plain": []
     },
     "metadata": {},
     "output_type": "display_data"
    },
    {
     "name": "stdout",
     "output_type": "stream",
     "text": [
      "\u001b[3m                   Validation epoch=9                    \u001b[0m\n",
      "┏━━━━━━━━━━━━━━━━━━━━━━━━━━━┳━━━━━━━━━━━━━━┳━━━━━━━━━━━━┓\n",
      "┃\u001b[1m \u001b[0m\u001b[1mMetric                   \u001b[0m\u001b[1m \u001b[0m┃\u001b[1m \u001b[0m\u001b[1m       Value\u001b[0m\u001b[1m \u001b[0m┃\u001b[1m \u001b[0m\u001b[1m     Error\u001b[0m\u001b[1m \u001b[0m┃\n",
      "┡━━━━━━━━━━━━━━━━━━━━━━━━━━━╇━━━━━━━━━━━━━━╇━━━━━━━━━━━━┩\n",
      "│\u001b[1;95m \u001b[0m\u001b[1;95mattractive               \u001b[0m\u001b[1;95m \u001b[0m│\u001b[1;95m \u001b[0m\u001b[1;95m     0.56024\u001b[0m\u001b[1;95m \u001b[0m│\u001b[1;95m \u001b[0m\u001b[1;95m   0.01416\u001b[0m\u001b[1;95m \u001b[0m│\n",
      "│ attractive_train          │      0.58315 │        nan │\n",
      "│ attractive_weighted       │      0.56024 │    0.01416 │\n",
      "│ attractive_weighted_train │      0.58315 │        nan │\n",
      "│ n_edges_att               │  35077.50000 │ 1273.15723 │\n",
      "│ n_edges_att_train         │  30523.00000 │        nan │\n",
      "│ n_edges_rep               │ 118927.25000 │ 9492.84082 │\n",
      "│ n_edges_rep_train         │  86925.00000 │        nan │\n",
      "│ n_hits_oi                 │   9646.25000 │  405.12701 │\n",
      "│ n_hits_oi_train           │   8251.00000 │        nan │\n",
      "│\u001b[1;95m \u001b[0m\u001b[1;95mrepulsive                \u001b[0m\u001b[1;95m \u001b[0m│\u001b[1;95m \u001b[0m\u001b[1;95m     3.57469\u001b[0m\u001b[1;95m \u001b[0m│\u001b[1;95m \u001b[0m\u001b[1;95m   0.16886\u001b[0m\u001b[1;95m \u001b[0m│\n",
      "│ repulsive_train           │      3.13692 │        nan │\n",
      "│ repulsive_weighted        │      0.21448 │    0.01013 │\n",
      "│ repulsive_weighted_train  │      0.18822 │        nan │\n",
      "│\u001b[1;95m \u001b[0m\u001b[1;95mtotal                    \u001b[0m\u001b[1;95m \u001b[0m│\u001b[1;95m \u001b[0m\u001b[1;95m     0.77472\u001b[0m\u001b[1;95m \u001b[0m│\u001b[1;95m \u001b[0m\u001b[1;95m   0.00648\u001b[0m\u001b[1;95m \u001b[0m│\n",
      "│ total_train               │      0.77136 │        nan │\n",
      "└───────────────────────────┴──────────────┴────────────┘\n",
      "\n"
     ]
    },
    {
     "data": {
      "application/vnd.jupyter.widget-view+json": {
       "model_id": "",
       "version_major": 2,
       "version_minor": 0
      },
      "text/plain": [
       "Validation: |          | 0/? [00:00<?, ?it/s]"
      ]
     },
     "metadata": {},
     "output_type": "display_data"
    },
    {
     "name": "stderr",
     "output_type": "stream",
     "text": [
      "\u001b[33m10:01:26 WARNING: Syncing not active or too slow: Command /home/aj2239/.wandb_osh_command_dir/317b94.command file still exists\u001b[0m\n"
     ]
    },
    {
     "data": {
      "text/html": [
       "<pre style=\"white-space:pre;overflow-x:auto;line-height:normal;font-family:Menlo,'DejaVu Sans Mono',consolas,'Courier New',monospace\"></pre>\n"
      ],
      "text/plain": []
     },
     "metadata": {},
     "output_type": "display_data"
    },
    {
     "name": "stdout",
     "output_type": "stream",
     "text": [
      "\u001b[3m                   Validation epoch=10                   \u001b[0m\n",
      "┏━━━━━━━━━━━━━━━━━━━━━━━━━━━┳━━━━━━━━━━━━━━┳━━━━━━━━━━━━┓\n",
      "┃\u001b[1m \u001b[0m\u001b[1mMetric                   \u001b[0m\u001b[1m \u001b[0m┃\u001b[1m \u001b[0m\u001b[1m       Value\u001b[0m\u001b[1m \u001b[0m┃\u001b[1m \u001b[0m\u001b[1m     Error\u001b[0m\u001b[1m \u001b[0m┃\n",
      "┡━━━━━━━━━━━━━━━━━━━━━━━━━━━╇━━━━━━━━━━━━━━╇━━━━━━━━━━━━┩\n",
      "│\u001b[1;95m \u001b[0m\u001b[1;95mattractive               \u001b[0m\u001b[1;95m \u001b[0m│\u001b[1;95m \u001b[0m\u001b[1;95m     0.49631\u001b[0m\u001b[1;95m \u001b[0m│\u001b[1;95m \u001b[0m\u001b[1;95m   0.01416\u001b[0m\u001b[1;95m \u001b[0m│\n",
      "│ attractive_train          │      0.54352 │        nan │\n",
      "│ attractive_weighted       │      0.49631 │    0.01416 │\n",
      "│ attractive_weighted_train │      0.54352 │        nan │\n",
      "│ n_edges_att               │  35077.50000 │ 1273.15723 │\n",
      "│ n_edges_att_train         │  30028.00000 │        nan │\n",
      "│ n_edges_rep               │ 117670.25000 │ 9666.14355 │\n",
      "│ n_edges_rep_train         │  88994.00000 │        nan │\n",
      "│ n_hits_oi                 │   9646.25000 │  405.12701 │\n",
      "│ n_hits_oi_train           │   8166.00000 │        nan │\n",
      "│\u001b[1;95m \u001b[0m\u001b[1;95mrepulsive                \u001b[0m\u001b[1;95m \u001b[0m│\u001b[1;95m \u001b[0m\u001b[1;95m     3.55726\u001b[0m\u001b[1;95m \u001b[0m│\u001b[1;95m \u001b[0m\u001b[1;95m   0.17891\u001b[0m\u001b[1;95m \u001b[0m│\n",
      "│ repulsive_train           │      3.18954 │        nan │\n",
      "│ repulsive_weighted        │      0.21344 │    0.01073 │\n",
      "│ repulsive_weighted_train  │      0.19137 │        nan │\n",
      "│\u001b[1;95m \u001b[0m\u001b[1;95mtotal                    \u001b[0m\u001b[1;95m \u001b[0m│\u001b[1;95m \u001b[0m\u001b[1;95m     0.70975\u001b[0m\u001b[1;95m \u001b[0m│\u001b[1;95m \u001b[0m\u001b[1;95m   0.00739\u001b[0m\u001b[1;95m \u001b[0m│\n",
      "│ total_train               │      0.73489 │        nan │\n",
      "└───────────────────────────┴──────────────┴────────────┘\n",
      "\n"
     ]
    },
    {
     "data": {
      "application/vnd.jupyter.widget-view+json": {
       "model_id": "03c5e9a8be01417fbed1e869b581a960",
       "version_major": 2,
       "version_minor": 0
      },
      "text/plain": [
       "Validation: |          | 0/? [00:00<?, ?it/s]"
      ]
     },
     "metadata": {},
     "output_type": "display_data"
    },
    {
     "name": "stderr",
     "output_type": "stream",
     "text": [
      "\u001b[33m10:11:01 WARNING: Syncing not active or too slow: Command /home/aj2239/.wandb_osh_command_dir/317b94.command file still exists\u001b[0m\n"
     ]
    },
    {
     "data": {
      "text/html": [
       "<pre style=\"white-space:pre;overflow-x:auto;line-height:normal;font-family:Menlo,'DejaVu Sans Mono',consolas,'Courier New',monospace\"></pre>\n"
      ],
      "text/plain": []
     },
     "metadata": {},
     "output_type": "display_data"
    },
    {
     "name": "stdout",
     "output_type": "stream",
     "text": [
      "\u001b[3m                   Validation epoch=11                   \u001b[0m\n",
      "┏━━━━━━━━━━━━━━━━━━━━━━━━━━━┳━━━━━━━━━━━━━━┳━━━━━━━━━━━━┓\n",
      "┃\u001b[1m \u001b[0m\u001b[1mMetric                   \u001b[0m\u001b[1m \u001b[0m┃\u001b[1m \u001b[0m\u001b[1m       Value\u001b[0m\u001b[1m \u001b[0m┃\u001b[1m \u001b[0m\u001b[1m     Error\u001b[0m\u001b[1m \u001b[0m┃\n",
      "┡━━━━━━━━━━━━━━━━━━━━━━━━━━━╇━━━━━━━━━━━━━━╇━━━━━━━━━━━━┩\n",
      "│\u001b[1;95m \u001b[0m\u001b[1;95mattractive               \u001b[0m\u001b[1;95m \u001b[0m│\u001b[1;95m \u001b[0m\u001b[1;95m     0.48073\u001b[0m\u001b[1;95m \u001b[0m│\u001b[1;95m \u001b[0m\u001b[1;95m   0.01299\u001b[0m\u001b[1;95m \u001b[0m│\n",
      "│ attractive_train          │      0.50873 │        nan │\n",
      "│ attractive_weighted       │      0.48073 │    0.01299 │\n",
      "│ attractive_weighted_train │      0.50873 │        nan │\n",
      "│ n_edges_att               │  35077.50000 │ 1273.15723 │\n",
      "│ n_edges_att_train         │  32459.00000 │        nan │\n",
      "│ n_edges_rep               │ 108695.50000 │ 9072.69141 │\n",
      "│ n_edges_rep_train         │  99259.00000 │        nan │\n",
      "│ n_hits_oi                 │   9646.25000 │  405.12701 │\n",
      "│ n_hits_oi_train           │   8657.00000 │        nan │\n",
      "│\u001b[1;95m \u001b[0m\u001b[1;95mrepulsive                \u001b[0m\u001b[1;95m \u001b[0m│\u001b[1;95m \u001b[0m\u001b[1;95m     3.29318\u001b[0m\u001b[1;95m \u001b[0m│\u001b[1;95m \u001b[0m\u001b[1;95m   0.15640\u001b[0m\u001b[1;95m \u001b[0m│\n",
      "│ repulsive_train           │      3.42921 │        nan │\n",
      "│ repulsive_weighted        │      0.19759 │    0.00938 │\n",
      "│ repulsive_weighted_train  │      0.20575 │        nan │\n",
      "│\u001b[1;95m \u001b[0m\u001b[1;95mtotal                    \u001b[0m\u001b[1;95m \u001b[0m│\u001b[1;95m \u001b[0m\u001b[1;95m     0.67832\u001b[0m\u001b[1;95m \u001b[0m│\u001b[1;95m \u001b[0m\u001b[1;95m   0.00698\u001b[0m\u001b[1;95m \u001b[0m│\n",
      "│ total_train               │      0.71448 │        nan │\n",
      "└───────────────────────────┴──────────────┴────────────┘\n",
      "\n"
     ]
    },
    {
     "data": {
      "application/vnd.jupyter.widget-view+json": {
       "model_id": "953f7636c3a04df6adff063e76b97329",
       "version_major": 2,
       "version_minor": 0
      },
      "text/plain": [
       "Validation: |          | 0/? [00:00<?, ?it/s]"
      ]
     },
     "metadata": {},
     "output_type": "display_data"
    },
    {
     "data": {
      "text/html": [
       "<pre style=\"white-space:pre;overflow-x:auto;line-height:normal;font-family:Menlo,'DejaVu Sans Mono',consolas,'Courier New',monospace\"></pre>\n"
      ],
      "text/plain": []
     },
     "metadata": {},
     "output_type": "display_data"
    },
    {
     "name": "stdout",
     "output_type": "stream",
     "text": [
      "\u001b[3m                   Validation epoch=12                   \u001b[0m\n",
      "┏━━━━━━━━━━━━━━━━━━━━━━━━━━━┳━━━━━━━━━━━━━━┳━━━━━━━━━━━━┓\n",
      "┃\u001b[1m \u001b[0m\u001b[1mMetric                   \u001b[0m\u001b[1m \u001b[0m┃\u001b[1m \u001b[0m\u001b[1m       Value\u001b[0m\u001b[1m \u001b[0m┃\u001b[1m \u001b[0m\u001b[1m     Error\u001b[0m\u001b[1m \u001b[0m┃\n",
      "┡━━━━━━━━━━━━━━━━━━━━━━━━━━━╇━━━━━━━━━━━━━━╇━━━━━━━━━━━━┩\n",
      "│\u001b[1;95m \u001b[0m\u001b[1;95mattractive               \u001b[0m\u001b[1;95m \u001b[0m│\u001b[1;95m \u001b[0m\u001b[1;95m     0.50588\u001b[0m\u001b[1;95m \u001b[0m│\u001b[1;95m \u001b[0m\u001b[1;95m   0.01343\u001b[0m\u001b[1;95m \u001b[0m│\n",
      "│ attractive_train          │      0.51070 │        nan │\n",
      "│ attractive_weighted       │      0.50588 │    0.01343 │\n",
      "│ attractive_weighted_train │      0.51070 │        nan │\n",
      "│ n_edges_att               │  35077.50000 │ 1273.15723 │\n",
      "│ n_edges_att_train         │  35785.00000 │        nan │\n",
      "│ n_edges_rep               │ 114752.00000 │ 8666.58984 │\n",
      "│ n_edges_rep_train         │ 120703.00000 │        nan │\n",
      "│ n_hits_oi                 │   9646.25000 │  405.12701 │\n",
      "│ n_hits_oi_train           │   9712.00000 │        nan │\n",
      "│\u001b[1;95m \u001b[0m\u001b[1;95mrepulsive                \u001b[0m\u001b[1;95m \u001b[0m│\u001b[1;95m \u001b[0m\u001b[1;95m     3.46484\u001b[0m\u001b[1;95m \u001b[0m│\u001b[1;95m \u001b[0m\u001b[1;95m   0.15756\u001b[0m\u001b[1;95m \u001b[0m│\n",
      "│ repulsive_train           │      3.66394 │        nan │\n",
      "│ repulsive_weighted        │      0.20789 │    0.00945 │\n",
      "│ repulsive_weighted_train  │      0.21984 │        nan │\n",
      "│\u001b[1;95m \u001b[0m\u001b[1;95mtotal                    \u001b[0m\u001b[1;95m \u001b[0m│\u001b[1;95m \u001b[0m\u001b[1;95m     0.71377\u001b[0m\u001b[1;95m \u001b[0m│\u001b[1;95m \u001b[0m\u001b[1;95m   0.00792\u001b[0m\u001b[1;95m \u001b[0m│\n",
      "│ total_train               │      0.73054 │        nan │\n",
      "└───────────────────────────┴──────────────┴────────────┘\n",
      "\n"
     ]
    },
    {
     "data": {
      "application/vnd.jupyter.widget-view+json": {
       "model_id": "ced8890c7aba47459bc15132ed0de37d",
       "version_major": 2,
       "version_minor": 0
      },
      "text/plain": [
       "Validation: |          | 0/? [00:00<?, ?it/s]"
      ]
     },
     "metadata": {},
     "output_type": "display_data"
    },
    {
     "data": {
      "text/html": [
       "<pre style=\"white-space:pre;overflow-x:auto;line-height:normal;font-family:Menlo,'DejaVu Sans Mono',consolas,'Courier New',monospace\"></pre>\n"
      ],
      "text/plain": []
     },
     "metadata": {},
     "output_type": "display_data"
    },
    {
     "name": "stdout",
     "output_type": "stream",
     "text": [
      "\u001b[3m                   Validation epoch=13                   \u001b[0m\n",
      "┏━━━━━━━━━━━━━━━━━━━━━━━━━━━┳━━━━━━━━━━━━━━┳━━━━━━━━━━━━┓\n",
      "┃\u001b[1m \u001b[0m\u001b[1mMetric                   \u001b[0m\u001b[1m \u001b[0m┃\u001b[1m \u001b[0m\u001b[1m       Value\u001b[0m\u001b[1m \u001b[0m┃\u001b[1m \u001b[0m\u001b[1m     Error\u001b[0m\u001b[1m \u001b[0m┃\n",
      "┡━━━━━━━━━━━━━━━━━━━━━━━━━━━╇━━━━━━━━━━━━━━╇━━━━━━━━━━━━┩\n",
      "│\u001b[1;95m \u001b[0m\u001b[1;95mattractive               \u001b[0m\u001b[1;95m \u001b[0m│\u001b[1;95m \u001b[0m\u001b[1;95m     0.44221\u001b[0m\u001b[1;95m \u001b[0m│\u001b[1;95m \u001b[0m\u001b[1;95m   0.01234\u001b[0m\u001b[1;95m \u001b[0m│\n",
      "│ attractive_train          │      0.46785 │        nan │\n",
      "│ attractive_weighted       │      0.44221 │    0.01234 │\n",
      "│ attractive_weighted_train │      0.46785 │        nan │\n",
      "│ n_edges_att               │  35077.50000 │ 1273.15723 │\n",
      "│ n_edges_att_train         │  42193.00000 │        nan │\n",
      "│ n_edges_rep               │ 111375.75000 │ 8940.00879 │\n",
      "│ n_edges_rep_train         │ 159683.00000 │        nan │\n",
      "│ n_hits_oi                 │   9646.25000 │  405.12701 │\n",
      "│ n_hits_oi_train           │  11505.00000 │        nan │\n",
      "│\u001b[1;95m \u001b[0m\u001b[1;95mrepulsive                \u001b[0m\u001b[1;95m \u001b[0m│\u001b[1;95m \u001b[0m\u001b[1;95m     3.40587\u001b[0m\u001b[1;95m \u001b[0m│\u001b[1;95m \u001b[0m\u001b[1;95m   0.15379\u001b[0m\u001b[1;95m \u001b[0m│\n",
      "│ repulsive_train           │      4.16857 │        nan │\n",
      "│ repulsive_weighted        │      0.20435 │    0.00923 │\n",
      "│ repulsive_weighted_train  │      0.25011 │        nan │\n",
      "│\u001b[1;95m \u001b[0m\u001b[1;95mtotal                    \u001b[0m\u001b[1;95m \u001b[0m│\u001b[1;95m \u001b[0m\u001b[1;95m     0.64656\u001b[0m\u001b[1;95m \u001b[0m│\u001b[1;95m \u001b[0m\u001b[1;95m   0.00751\u001b[0m\u001b[1;95m \u001b[0m│\n",
      "│ total_train               │      0.71797 │        nan │\n",
      "└───────────────────────────┴──────────────┴────────────┘\n",
      "\n"
     ]
    },
    {
     "data": {
      "application/vnd.jupyter.widget-view+json": {
       "model_id": "505dd790fcc742988fafd97a30f846d2",
       "version_major": 2,
       "version_minor": 0
      },
      "text/plain": [
       "Validation: |          | 0/? [00:00<?, ?it/s]"
      ]
     },
     "metadata": {},
     "output_type": "display_data"
    },
    {
     "data": {
      "text/html": [
       "<pre style=\"white-space:pre;overflow-x:auto;line-height:normal;font-family:Menlo,'DejaVu Sans Mono',consolas,'Courier New',monospace\"></pre>\n"
      ],
      "text/plain": []
     },
     "metadata": {},
     "output_type": "display_data"
    },
    {
     "name": "stdout",
     "output_type": "stream",
     "text": [
      "\u001b[3m                   Validation epoch=14                   \u001b[0m\n",
      "┏━━━━━━━━━━━━━━━━━━━━━━━━━━━┳━━━━━━━━━━━━━━┳━━━━━━━━━━━━┓\n",
      "┃\u001b[1m \u001b[0m\u001b[1mMetric                   \u001b[0m\u001b[1m \u001b[0m┃\u001b[1m \u001b[0m\u001b[1m       Value\u001b[0m\u001b[1m \u001b[0m┃\u001b[1m \u001b[0m\u001b[1m     Error\u001b[0m\u001b[1m \u001b[0m┃\n",
      "┡━━━━━━━━━━━━━━━━━━━━━━━━━━━╇━━━━━━━━━━━━━━╇━━━━━━━━━━━━┩\n",
      "│\u001b[1;95m \u001b[0m\u001b[1;95mattractive               \u001b[0m\u001b[1;95m \u001b[0m│\u001b[1;95m \u001b[0m\u001b[1;95m     0.49298\u001b[0m\u001b[1;95m \u001b[0m│\u001b[1;95m \u001b[0m\u001b[1;95m   0.01187\u001b[0m\u001b[1;95m \u001b[0m│\n",
      "│ attractive_train          │      0.48721 │        nan │\n",
      "│ attractive_weighted       │      0.49298 │    0.01187 │\n",
      "│ attractive_weighted_train │      0.48721 │        nan │\n",
      "│ n_edges_att               │  35077.50000 │ 1273.15723 │\n",
      "│ n_edges_att_train         │  36649.00000 │        nan │\n",
      "│ n_edges_rep               │ 106670.75000 │ 8770.26074 │\n",
      "│ n_edges_rep_train         │ 129709.00000 │        nan │\n",
      "│ n_hits_oi                 │   9646.25000 │  405.12701 │\n",
      "│ n_hits_oi_train           │  10131.00000 │        nan │\n",
      "│\u001b[1;95m \u001b[0m\u001b[1;95mrepulsive                \u001b[0m\u001b[1;95m \u001b[0m│\u001b[1;95m \u001b[0m\u001b[1;95m     3.24026\u001b[0m\u001b[1;95m \u001b[0m│\u001b[1;95m \u001b[0m\u001b[1;95m   0.14838\u001b[0m\u001b[1;95m \u001b[0m│\n",
      "│ repulsive_train           │      3.79880 │        nan │\n",
      "│ repulsive_weighted        │      0.19442 │    0.00890 │\n",
      "│ repulsive_weighted_train  │      0.22793 │        nan │\n",
      "│\u001b[1;95m \u001b[0m\u001b[1;95mtotal                    \u001b[0m\u001b[1;95m \u001b[0m│\u001b[1;95m \u001b[0m\u001b[1;95m     0.68739\u001b[0m\u001b[1;95m \u001b[0m│\u001b[1;95m \u001b[0m\u001b[1;95m   0.00602\u001b[0m\u001b[1;95m \u001b[0m│\n",
      "│ total_train               │      0.71514 │        nan │\n",
      "└───────────────────────────┴──────────────┴────────────┘\n",
      "\n"
     ]
    },
    {
     "data": {
      "application/vnd.jupyter.widget-view+json": {
       "model_id": "f9ca6777988440988d1fdb12488fbb45",
       "version_major": 2,
       "version_minor": 0
      },
      "text/plain": [
       "Validation: |          | 0/? [00:00<?, ?it/s]"
      ]
     },
     "metadata": {},
     "output_type": "display_data"
    },
    {
     "data": {
      "text/html": [
       "<pre style=\"white-space:pre;overflow-x:auto;line-height:normal;font-family:Menlo,'DejaVu Sans Mono',consolas,'Courier New',monospace\"></pre>\n"
      ],
      "text/plain": []
     },
     "metadata": {},
     "output_type": "display_data"
    },
    {
     "name": "stdout",
     "output_type": "stream",
     "text": [
      "\u001b[3m                   Validation epoch=15                   \u001b[0m\n",
      "┏━━━━━━━━━━━━━━━━━━━━━━━━━━━┳━━━━━━━━━━━━━━┳━━━━━━━━━━━━┓\n",
      "┃\u001b[1m \u001b[0m\u001b[1mMetric                   \u001b[0m\u001b[1m \u001b[0m┃\u001b[1m \u001b[0m\u001b[1m       Value\u001b[0m\u001b[1m \u001b[0m┃\u001b[1m \u001b[0m\u001b[1m     Error\u001b[0m\u001b[1m \u001b[0m┃\n",
      "┡━━━━━━━━━━━━━━━━━━━━━━━━━━━╇━━━━━━━━━━━━━━╇━━━━━━━━━━━━┩\n",
      "│\u001b[1;95m \u001b[0m\u001b[1;95mattractive               \u001b[0m\u001b[1;95m \u001b[0m│\u001b[1;95m \u001b[0m\u001b[1;95m     0.43282\u001b[0m\u001b[1;95m \u001b[0m│\u001b[1;95m \u001b[0m\u001b[1;95m   0.01185\u001b[0m\u001b[1;95m \u001b[0m│\n",
      "│ attractive_train          │      0.44397 │        nan │\n",
      "│ attractive_weighted       │      0.43282 │    0.01185 │\n",
      "│ attractive_weighted_train │      0.44397 │        nan │\n",
      "│ n_edges_att               │  35077.50000 │ 1273.15723 │\n",
      "│ n_edges_att_train         │  33410.00000 │        nan │\n",
      "│ n_edges_rep               │ 109602.50000 │ 8311.77148 │\n",
      "│ n_edges_rep_train         │ 104665.00000 │        nan │\n",
      "│ n_hits_oi                 │   9646.25000 │  405.12701 │\n",
      "│ n_hits_oi_train           │   8800.00000 │        nan │\n",
      "│\u001b[1;95m \u001b[0m\u001b[1;95mrepulsive                \u001b[0m\u001b[1;95m \u001b[0m│\u001b[1;95m \u001b[0m\u001b[1;95m     3.31927\u001b[0m\u001b[1;95m \u001b[0m│\u001b[1;95m \u001b[0m\u001b[1;95m   0.14179\u001b[0m\u001b[1;95m \u001b[0m│\n",
      "│ repulsive_train           │      3.55799 │        nan │\n",
      "│ repulsive_weighted        │      0.19916 │    0.00851 │\n",
      "│ repulsive_weighted_train  │      0.21348 │        nan │\n",
      "│\u001b[1;95m \u001b[0m\u001b[1;95mtotal                    \u001b[0m\u001b[1;95m \u001b[0m│\u001b[1;95m \u001b[0m\u001b[1;95m     0.63197\u001b[0m\u001b[1;95m \u001b[0m│\u001b[1;95m \u001b[0m\u001b[1;95m   0.00622\u001b[0m\u001b[1;95m \u001b[0m│\n",
      "│ total_train               │      0.65745 │        nan │\n",
      "└───────────────────────────┴──────────────┴────────────┘\n",
      "\n"
     ]
    },
    {
     "data": {
      "application/vnd.jupyter.widget-view+json": {
       "model_id": "f21c3f77731143079b6733dcf05c3172",
       "version_major": 2,
       "version_minor": 0
      },
      "text/plain": [
       "Validation: |          | 0/? [00:00<?, ?it/s]"
      ]
     },
     "metadata": {},
     "output_type": "display_data"
    },
    {
     "data": {
      "text/html": [
       "<pre style=\"white-space:pre;overflow-x:auto;line-height:normal;font-family:Menlo,'DejaVu Sans Mono',consolas,'Courier New',monospace\"></pre>\n"
      ],
      "text/plain": []
     },
     "metadata": {},
     "output_type": "display_data"
    },
    {
     "name": "stdout",
     "output_type": "stream",
     "text": [
      "\u001b[3m                   Validation epoch=16                   \u001b[0m\n",
      "┏━━━━━━━━━━━━━━━━━━━━━━━━━━━┳━━━━━━━━━━━━━━┳━━━━━━━━━━━━┓\n",
      "┃\u001b[1m \u001b[0m\u001b[1mMetric                   \u001b[0m\u001b[1m \u001b[0m┃\u001b[1m \u001b[0m\u001b[1m       Value\u001b[0m\u001b[1m \u001b[0m┃\u001b[1m \u001b[0m\u001b[1m     Error\u001b[0m\u001b[1m \u001b[0m┃\n",
      "┡━━━━━━━━━━━━━━━━━━━━━━━━━━━╇━━━━━━━━━━━━━━╇━━━━━━━━━━━━┩\n",
      "│\u001b[1;95m \u001b[0m\u001b[1;95mattractive               \u001b[0m\u001b[1;95m \u001b[0m│\u001b[1;95m \u001b[0m\u001b[1;95m     0.47345\u001b[0m\u001b[1;95m \u001b[0m│\u001b[1;95m \u001b[0m\u001b[1;95m   0.01206\u001b[0m\u001b[1;95m \u001b[0m│\n",
      "│ attractive_train          │      0.54597 │        nan │\n",
      "│ attractive_weighted       │      0.47345 │    0.01206 │\n",
      "│ attractive_weighted_train │      0.54597 │        nan │\n",
      "│ n_edges_att               │  35077.50000 │ 1273.15723 │\n",
      "│ n_edges_att_train         │  32298.00000 │        nan │\n",
      "│ n_edges_rep               │ 105186.75000 │ 8774.37207 │\n",
      "│ n_edges_rep_train         │  94937.00000 │        nan │\n",
      "│ n_hits_oi                 │   9646.25000 │  405.12701 │\n",
      "│ n_hits_oi_train           │   8471.00000 │        nan │\n",
      "│\u001b[1;95m \u001b[0m\u001b[1;95mrepulsive                \u001b[0m\u001b[1;95m \u001b[0m│\u001b[1;95m \u001b[0m\u001b[1;95m     3.18486\u001b[0m\u001b[1;95m \u001b[0m│\u001b[1;95m \u001b[0m\u001b[1;95m   0.15482\u001b[0m\u001b[1;95m \u001b[0m│\n",
      "│ repulsive_train           │      3.36296 │        nan │\n",
      "│ repulsive_weighted        │      0.19109 │    0.00929 │\n",
      "│ repulsive_weighted_train  │      0.20178 │        nan │\n",
      "│\u001b[1;95m \u001b[0m\u001b[1;95mtotal                    \u001b[0m\u001b[1;95m \u001b[0m│\u001b[1;95m \u001b[0m\u001b[1;95m     0.66455\u001b[0m\u001b[1;95m \u001b[0m│\u001b[1;95m \u001b[0m\u001b[1;95m   0.00645\u001b[0m\u001b[1;95m \u001b[0m│\n",
      "│ total_train               │      0.74775 │        nan │\n",
      "└───────────────────────────┴──────────────┴────────────┘\n",
      "\n"
     ]
    },
    {
     "data": {
      "application/vnd.jupyter.widget-view+json": {
       "model_id": "90305bb660d349fab8abdc9ce9bcf810",
       "version_major": 2,
       "version_minor": 0
      },
      "text/plain": [
       "Validation: |          | 0/? [00:00<?, ?it/s]"
      ]
     },
     "metadata": {},
     "output_type": "display_data"
    },
    {
     "data": {
      "text/html": [
       "<pre style=\"white-space:pre;overflow-x:auto;line-height:normal;font-family:Menlo,'DejaVu Sans Mono',consolas,'Courier New',monospace\"></pre>\n"
      ],
      "text/plain": []
     },
     "metadata": {},
     "output_type": "display_data"
    },
    {
     "name": "stdout",
     "output_type": "stream",
     "text": [
      "\u001b[3m                   Validation epoch=17                   \u001b[0m\n",
      "┏━━━━━━━━━━━━━━━━━━━━━━━━━━━┳━━━━━━━━━━━━━━┳━━━━━━━━━━━━┓\n",
      "┃\u001b[1m \u001b[0m\u001b[1mMetric                   \u001b[0m\u001b[1m \u001b[0m┃\u001b[1m \u001b[0m\u001b[1m       Value\u001b[0m\u001b[1m \u001b[0m┃\u001b[1m \u001b[0m\u001b[1m     Error\u001b[0m\u001b[1m \u001b[0m┃\n",
      "┡━━━━━━━━━━━━━━━━━━━━━━━━━━━╇━━━━━━━━━━━━━━╇━━━━━━━━━━━━┩\n",
      "│\u001b[1;95m \u001b[0m\u001b[1;95mattractive               \u001b[0m\u001b[1;95m \u001b[0m│\u001b[1;95m \u001b[0m\u001b[1;95m     0.45896\u001b[0m\u001b[1;95m \u001b[0m│\u001b[1;95m \u001b[0m\u001b[1;95m   0.01191\u001b[0m\u001b[1;95m \u001b[0m│\n",
      "│ attractive_train          │      0.48588 │        nan │\n",
      "│ attractive_weighted       │      0.45896 │    0.01191 │\n",
      "│ attractive_weighted_train │      0.48588 │        nan │\n",
      "│ n_edges_att               │  35077.50000 │ 1273.15723 │\n",
      "│ n_edges_att_train         │  30005.00000 │        nan │\n",
      "│ n_edges_rep               │ 109093.25000 │ 8353.75977 │\n",
      "│ n_edges_rep_train         │  86508.00000 │        nan │\n",
      "│ n_hits_oi                 │   9646.25000 │  405.12701 │\n",
      "│ n_hits_oi_train           │   8479.00000 │        nan │\n",
      "│\u001b[1;95m \u001b[0m\u001b[1;95mrepulsive                \u001b[0m\u001b[1;95m \u001b[0m│\u001b[1;95m \u001b[0m\u001b[1;95m     3.28231\u001b[0m\u001b[1;95m \u001b[0m│\u001b[1;95m \u001b[0m\u001b[1;95m   0.14522\u001b[0m\u001b[1;95m \u001b[0m│\n",
      "│ repulsive_train           │      2.96191 │        nan │\n",
      "│ repulsive_weighted        │      0.19694 │    0.00871 │\n",
      "│ repulsive_weighted_train  │      0.17771 │        nan │\n",
      "│\u001b[1;95m \u001b[0m\u001b[1;95mtotal                    \u001b[0m\u001b[1;95m \u001b[0m│\u001b[1;95m \u001b[0m\u001b[1;95m     0.65590\u001b[0m\u001b[1;95m \u001b[0m│\u001b[1;95m \u001b[0m\u001b[1;95m   0.00651\u001b[0m\u001b[1;95m \u001b[0m│\n",
      "│ total_train               │      0.66360 │        nan │\n",
      "└───────────────────────────┴──────────────┴────────────┘\n",
      "\n"
     ]
    },
    {
     "data": {
      "application/vnd.jupyter.widget-view+json": {
       "model_id": "d21335421e3b41ef93616e60398fe497",
       "version_major": 2,
       "version_minor": 0
      },
      "text/plain": [
       "Validation: |          | 0/? [00:00<?, ?it/s]"
      ]
     },
     "metadata": {},
     "output_type": "display_data"
    },
    {
     "data": {
      "text/html": [
       "<pre style=\"white-space:pre;overflow-x:auto;line-height:normal;font-family:Menlo,'DejaVu Sans Mono',consolas,'Courier New',monospace\"></pre>\n"
      ],
      "text/plain": []
     },
     "metadata": {},
     "output_type": "display_data"
    },
    {
     "name": "stdout",
     "output_type": "stream",
     "text": [
      "\u001b[3m                   Validation epoch=18                   \u001b[0m\n",
      "┏━━━━━━━━━━━━━━━━━━━━━━━━━━━┳━━━━━━━━━━━━━━┳━━━━━━━━━━━━┓\n",
      "┃\u001b[1m \u001b[0m\u001b[1mMetric                   \u001b[0m\u001b[1m \u001b[0m┃\u001b[1m \u001b[0m\u001b[1m       Value\u001b[0m\u001b[1m \u001b[0m┃\u001b[1m \u001b[0m\u001b[1m     Error\u001b[0m\u001b[1m \u001b[0m┃\n",
      "┡━━━━━━━━━━━━━━━━━━━━━━━━━━━╇━━━━━━━━━━━━━━╇━━━━━━━━━━━━┩\n",
      "│\u001b[1;95m \u001b[0m\u001b[1;95mattractive               \u001b[0m\u001b[1;95m \u001b[0m│\u001b[1;95m \u001b[0m\u001b[1;95m     0.43619\u001b[0m\u001b[1;95m \u001b[0m│\u001b[1;95m \u001b[0m\u001b[1;95m   0.01271\u001b[0m\u001b[1;95m \u001b[0m│\n",
      "│ attractive_train          │      0.41845 │        nan │\n",
      "│ attractive_weighted       │      0.43619 │    0.01271 │\n",
      "│ attractive_weighted_train │      0.41845 │        nan │\n",
      "│ n_edges_att               │  35077.50000 │ 1273.15723 │\n",
      "│ n_edges_att_train         │  35886.00000 │        nan │\n",
      "│ n_edges_rep               │ 102394.00000 │ 8809.50488 │\n",
      "│ n_edges_rep_train         │ 108675.00000 │        nan │\n",
      "│ n_hits_oi                 │   9646.25000 │  405.12701 │\n",
      "│ n_hits_oi_train           │  10022.00000 │        nan │\n",
      "│\u001b[1;95m \u001b[0m\u001b[1;95mrepulsive                \u001b[0m\u001b[1;95m \u001b[0m│\u001b[1;95m \u001b[0m\u001b[1;95m     3.12077\u001b[0m\u001b[1;95m \u001b[0m│\u001b[1;95m \u001b[0m\u001b[1;95m   0.14975\u001b[0m\u001b[1;95m \u001b[0m│\n",
      "│ repulsive_train           │      3.17778 │        nan │\n",
      "│ repulsive_weighted        │      0.18725 │    0.00899 │\n",
      "│ repulsive_weighted_train  │      0.19067 │        nan │\n",
      "│\u001b[1;95m \u001b[0m\u001b[1;95mtotal                    \u001b[0m\u001b[1;95m \u001b[0m│\u001b[1;95m \u001b[0m\u001b[1;95m     0.62343\u001b[0m\u001b[1;95m \u001b[0m│\u001b[1;95m \u001b[0m\u001b[1;95m   0.00791\u001b[0m\u001b[1;95m \u001b[0m│\n",
      "│ total_train               │      0.60912 │        nan │\n",
      "└───────────────────────────┴──────────────┴────────────┘\n",
      "\n"
     ]
    },
    {
     "data": {
      "application/vnd.jupyter.widget-view+json": {
       "model_id": "691f8be59cd343f2819206de28c3e3f4",
       "version_major": 2,
       "version_minor": 0
      },
      "text/plain": [
       "Validation: |          | 0/? [00:00<?, ?it/s]"
      ]
     },
     "metadata": {},
     "output_type": "display_data"
    },
    {
     "data": {
      "text/html": [
       "<pre style=\"white-space:pre;overflow-x:auto;line-height:normal;font-family:Menlo,'DejaVu Sans Mono',consolas,'Courier New',monospace\"></pre>\n"
      ],
      "text/plain": []
     },
     "metadata": {},
     "output_type": "display_data"
    },
    {
     "name": "stdout",
     "output_type": "stream",
     "text": [
      "\u001b[3m                   Validation epoch=19                   \u001b[0m\n",
      "┏━━━━━━━━━━━━━━━━━━━━━━━━━━━┳━━━━━━━━━━━━━━┳━━━━━━━━━━━━┓\n",
      "┃\u001b[1m \u001b[0m\u001b[1mMetric                   \u001b[0m\u001b[1m \u001b[0m┃\u001b[1m \u001b[0m\u001b[1m       Value\u001b[0m\u001b[1m \u001b[0m┃\u001b[1m \u001b[0m\u001b[1m     Error\u001b[0m\u001b[1m \u001b[0m┃\n",
      "┡━━━━━━━━━━━━━━━━━━━━━━━━━━━╇━━━━━━━━━━━━━━╇━━━━━━━━━━━━┩\n",
      "│\u001b[1;95m \u001b[0m\u001b[1;95mattractive               \u001b[0m\u001b[1;95m \u001b[0m│\u001b[1;95m \u001b[0m\u001b[1;95m     0.43817\u001b[0m\u001b[1;95m \u001b[0m│\u001b[1;95m \u001b[0m\u001b[1;95m   0.01188\u001b[0m\u001b[1;95m \u001b[0m│\n",
      "│ attractive_train          │      0.46744 │        nan │\n",
      "│ attractive_weighted       │      0.43817 │    0.01188 │\n",
      "│ attractive_weighted_train │      0.46744 │        nan │\n",
      "│ n_edges_att               │  35077.50000 │ 1273.15723 │\n",
      "│ n_edges_att_train         │  42621.00000 │        nan │\n",
      "│ n_edges_rep               │  99454.75000 │ 8154.16455 │\n",
      "│ n_edges_rep_train         │ 149422.00000 │        nan │\n",
      "│ n_hits_oi                 │   9646.25000 │  405.12701 │\n",
      "│ n_hits_oi_train           │  11415.00000 │        nan │\n",
      "│\u001b[1;95m \u001b[0m\u001b[1;95mrepulsive                \u001b[0m\u001b[1;95m \u001b[0m│\u001b[1;95m \u001b[0m\u001b[1;95m     3.03911\u001b[0m\u001b[1;95m \u001b[0m│\u001b[1;95m \u001b[0m\u001b[1;95m   0.13903\u001b[0m\u001b[1;95m \u001b[0m│\n",
      "│ repulsive_train           │      3.94132 │        nan │\n",
      "│ repulsive_weighted        │      0.18235 │    0.00834 │\n",
      "│ repulsive_weighted_train  │      0.23648 │        nan │\n",
      "│\u001b[1;95m \u001b[0m\u001b[1;95mtotal                    \u001b[0m\u001b[1;95m \u001b[0m│\u001b[1;95m \u001b[0m\u001b[1;95m     0.62051\u001b[0m\u001b[1;95m \u001b[0m│\u001b[1;95m \u001b[0m\u001b[1;95m   0.00650\u001b[0m\u001b[1;95m \u001b[0m│\n",
      "│ total_train               │      0.70391 │        nan │\n",
      "└───────────────────────────┴──────────────┴────────────┘\n",
      "\n"
     ]
    },
    {
     "data": {
      "application/vnd.jupyter.widget-view+json": {
       "model_id": "a66847eb49cd4dc2acc9fbe208d16ca6",
       "version_major": 2,
       "version_minor": 0
      },
      "text/plain": [
       "Validation: |          | 0/? [00:00<?, ?it/s]"
      ]
     },
     "metadata": {},
     "output_type": "display_data"
    },
    {
     "data": {
      "text/html": [
       "<pre style=\"white-space:pre;overflow-x:auto;line-height:normal;font-family:Menlo,'DejaVu Sans Mono',consolas,'Courier New',monospace\"></pre>\n"
      ],
      "text/plain": []
     },
     "metadata": {},
     "output_type": "display_data"
    },
    {
     "name": "stdout",
     "output_type": "stream",
     "text": [
      "\u001b[3m                   Validation epoch=20                   \u001b[0m\n",
      "┏━━━━━━━━━━━━━━━━━━━━━━━━━━━┳━━━━━━━━━━━━━━┳━━━━━━━━━━━━┓\n",
      "┃\u001b[1m \u001b[0m\u001b[1mMetric                   \u001b[0m\u001b[1m \u001b[0m┃\u001b[1m \u001b[0m\u001b[1m       Value\u001b[0m\u001b[1m \u001b[0m┃\u001b[1m \u001b[0m\u001b[1m     Error\u001b[0m\u001b[1m \u001b[0m┃\n",
      "┡━━━━━━━━━━━━━━━━━━━━━━━━━━━╇━━━━━━━━━━━━━━╇━━━━━━━━━━━━┩\n",
      "│\u001b[1;95m \u001b[0m\u001b[1;95mattractive               \u001b[0m\u001b[1;95m \u001b[0m│\u001b[1;95m \u001b[0m\u001b[1;95m     0.43666\u001b[0m\u001b[1;95m \u001b[0m│\u001b[1;95m \u001b[0m\u001b[1;95m   0.01180\u001b[0m\u001b[1;95m \u001b[0m│\n",
      "│ attractive_train          │      0.44168 │        nan │\n",
      "│ attractive_weighted       │      0.43666 │    0.01180 │\n",
      "│ attractive_weighted_train │      0.44168 │        nan │\n",
      "│ n_edges_att               │  35077.50000 │ 1273.15723 │\n",
      "│ n_edges_att_train         │  38840.00000 │        nan │\n",
      "│ n_edges_rep               │  99639.75000 │ 8058.19922 │\n",
      "│ n_edges_rep_train         │ 115813.00000 │        nan │\n",
      "│ n_hits_oi                 │   9646.25000 │  405.12701 │\n",
      "│ n_hits_oi_train           │  10345.00000 │        nan │\n",
      "│\u001b[1;95m \u001b[0m\u001b[1;95mrepulsive                \u001b[0m\u001b[1;95m \u001b[0m│\u001b[1;95m \u001b[0m\u001b[1;95m     3.05382\u001b[0m\u001b[1;95m \u001b[0m│\u001b[1;95m \u001b[0m\u001b[1;95m   0.13940\u001b[0m\u001b[1;95m \u001b[0m│\n",
      "│ repulsive_train           │      3.31591 │        nan │\n",
      "│ repulsive_weighted        │      0.18323 │    0.00836 │\n",
      "│ repulsive_weighted_train  │      0.19895 │        nan │\n",
      "│\u001b[1;95m \u001b[0m\u001b[1;95mtotal                    \u001b[0m\u001b[1;95m \u001b[0m│\u001b[1;95m \u001b[0m\u001b[1;95m     0.61988\u001b[0m\u001b[1;95m \u001b[0m│\u001b[1;95m \u001b[0m\u001b[1;95m   0.00641\u001b[0m\u001b[1;95m \u001b[0m│\n",
      "│ total_train               │      0.64063 │        nan │\n",
      "└───────────────────────────┴──────────────┴────────────┘\n",
      "\n"
     ]
    },
    {
     "data": {
      "application/vnd.jupyter.widget-view+json": {
       "model_id": "bf54650d2dd44baeb6299d7e3e614c01",
       "version_major": 2,
       "version_minor": 0
      },
      "text/plain": [
       "Validation: |          | 0/? [00:00<?, ?it/s]"
      ]
     },
     "metadata": {},
     "output_type": "display_data"
    },
    {
     "data": {
      "text/html": [
       "<pre style=\"white-space:pre;overflow-x:auto;line-height:normal;font-family:Menlo,'DejaVu Sans Mono',consolas,'Courier New',monospace\"></pre>\n"
      ],
      "text/plain": []
     },
     "metadata": {},
     "output_type": "display_data"
    },
    {
     "name": "stdout",
     "output_type": "stream",
     "text": [
      "\u001b[3m                  Validation epoch=21                   \u001b[0m\n",
      "┏━━━━━━━━━━━━━━━━━━━━━━━━━━━┳━━━━━━━━━━━━━┳━━━━━━━━━━━━┓\n",
      "┃\u001b[1m \u001b[0m\u001b[1mMetric                   \u001b[0m\u001b[1m \u001b[0m┃\u001b[1m \u001b[0m\u001b[1m      Value\u001b[0m\u001b[1m \u001b[0m┃\u001b[1m \u001b[0m\u001b[1m     Error\u001b[0m\u001b[1m \u001b[0m┃\n",
      "┡━━━━━━━━━━━━━━━━━━━━━━━━━━━╇━━━━━━━━━━━━━╇━━━━━━━━━━━━┩\n",
      "│\u001b[1;95m \u001b[0m\u001b[1;95mattractive               \u001b[0m\u001b[1;95m \u001b[0m│\u001b[1;95m \u001b[0m\u001b[1;95m    0.44699\u001b[0m\u001b[1;95m \u001b[0m│\u001b[1;95m \u001b[0m\u001b[1;95m   0.01012\u001b[0m\u001b[1;95m \u001b[0m│\n",
      "│ attractive_train          │     0.41065 │        nan │\n",
      "│ attractive_weighted       │     0.44699 │    0.01012 │\n",
      "│ attractive_weighted_train │     0.41065 │        nan │\n",
      "│ n_edges_att               │ 35077.50000 │ 1273.15723 │\n",
      "│ n_edges_att_train         │ 22823.00000 │        nan │\n",
      "│ n_edges_rep               │ 99454.00000 │ 7653.89551 │\n",
      "│ n_edges_rep_train         │ 53654.00000 │        nan │\n",
      "│ n_hits_oi                 │  9646.25000 │  405.12701 │\n",
      "│ n_hits_oi_train           │  6470.00000 │        nan │\n",
      "│\u001b[1;95m \u001b[0m\u001b[1;95mrepulsive                \u001b[0m\u001b[1;95m \u001b[0m│\u001b[1;95m \u001b[0m\u001b[1;95m    3.04942\u001b[0m\u001b[1;95m \u001b[0m│\u001b[1;95m \u001b[0m\u001b[1;95m   0.12940\u001b[0m\u001b[1;95m \u001b[0m│\n",
      "│ repulsive_train           │     2.50314 │        nan │\n",
      "│ repulsive_weighted        │     0.18297 │    0.00776 │\n",
      "│ repulsive_weighted_train  │     0.15019 │        nan │\n",
      "│\u001b[1;95m \u001b[0m\u001b[1;95mtotal                    \u001b[0m\u001b[1;95m \u001b[0m│\u001b[1;95m \u001b[0m\u001b[1;95m    0.62995\u001b[0m\u001b[1;95m \u001b[0m│\u001b[1;95m \u001b[0m\u001b[1;95m   0.00437\u001b[0m\u001b[1;95m \u001b[0m│\n",
      "│ total_train               │     0.56083 │        nan │\n",
      "└───────────────────────────┴─────────────┴────────────┘\n",
      "\n"
     ]
    },
    {
     "data": {
      "application/vnd.jupyter.widget-view+json": {
       "model_id": "33d68023c3ab4822b1484efdd1e5006a",
       "version_major": 2,
       "version_minor": 0
      },
      "text/plain": [
       "Validation: |          | 0/? [00:00<?, ?it/s]"
      ]
     },
     "metadata": {},
     "output_type": "display_data"
    },
    {
     "data": {
      "text/html": [
       "<pre style=\"white-space:pre;overflow-x:auto;line-height:normal;font-family:Menlo,'DejaVu Sans Mono',consolas,'Courier New',monospace\"></pre>\n"
      ],
      "text/plain": []
     },
     "metadata": {},
     "output_type": "display_data"
    },
    {
     "name": "stdout",
     "output_type": "stream",
     "text": [
      "\u001b[3m                  Validation epoch=22                   \u001b[0m\n",
      "┏━━━━━━━━━━━━━━━━━━━━━━━━━━━┳━━━━━━━━━━━━━┳━━━━━━━━━━━━┓\n",
      "┃\u001b[1m \u001b[0m\u001b[1mMetric                   \u001b[0m\u001b[1m \u001b[0m┃\u001b[1m \u001b[0m\u001b[1m      Value\u001b[0m\u001b[1m \u001b[0m┃\u001b[1m \u001b[0m\u001b[1m     Error\u001b[0m\u001b[1m \u001b[0m┃\n",
      "┡━━━━━━━━━━━━━━━━━━━━━━━━━━━╇━━━━━━━━━━━━━╇━━━━━━━━━━━━┩\n",
      "│\u001b[1;95m \u001b[0m\u001b[1;95mattractive               \u001b[0m\u001b[1;95m \u001b[0m│\u001b[1;95m \u001b[0m\u001b[1;95m    0.42581\u001b[0m\u001b[1;95m \u001b[0m│\u001b[1;95m \u001b[0m\u001b[1;95m   0.01029\u001b[0m\u001b[1;95m \u001b[0m│\n",
      "│ attractive_train          │     0.40617 │        nan │\n",
      "│ attractive_weighted       │     0.42581 │    0.01029 │\n",
      "│ attractive_weighted_train │     0.40617 │        nan │\n",
      "│ n_edges_att               │ 35077.50000 │ 1273.15723 │\n",
      "│ n_edges_att_train         │ 22935.00000 │        nan │\n",
      "│ n_edges_rep               │ 98969.75000 │ 7895.37451 │\n",
      "│ n_edges_rep_train         │ 52399.00000 │        nan │\n",
      "│ n_hits_oi                 │  9646.25000 │  405.12701 │\n",
      "│ n_hits_oi_train           │  6638.00000 │        nan │\n",
      "│\u001b[1;95m \u001b[0m\u001b[1;95mrepulsive                \u001b[0m\u001b[1;95m \u001b[0m│\u001b[1;95m \u001b[0m\u001b[1;95m    3.03607\u001b[0m\u001b[1;95m \u001b[0m│\u001b[1;95m \u001b[0m\u001b[1;95m   0.13350\u001b[0m\u001b[1;95m \u001b[0m│\n",
      "│ repulsive_train           │     2.18307 │        nan │\n",
      "│ repulsive_weighted        │     0.18216 │    0.00801 │\n",
      "│ repulsive_weighted_train  │     0.13098 │        nan │\n",
      "│\u001b[1;95m \u001b[0m\u001b[1;95mtotal                    \u001b[0m\u001b[1;95m \u001b[0m│\u001b[1;95m \u001b[0m\u001b[1;95m    0.60797\u001b[0m\u001b[1;95m \u001b[0m│\u001b[1;95m \u001b[0m\u001b[1;95m   0.00567\u001b[0m\u001b[1;95m \u001b[0m│\n",
      "│ total_train               │     0.53715 │        nan │\n",
      "└───────────────────────────┴─────────────┴────────────┘\n",
      "\n"
     ]
    },
    {
     "data": {
      "application/vnd.jupyter.widget-view+json": {
       "model_id": "ed17be85345841739b75a6b71e3c3898",
       "version_major": 2,
       "version_minor": 0
      },
      "text/plain": [
       "Validation: |          | 0/? [00:00<?, ?it/s]"
      ]
     },
     "metadata": {},
     "output_type": "display_data"
    },
    {
     "data": {
      "text/html": [
       "<pre style=\"white-space:pre;overflow-x:auto;line-height:normal;font-family:Menlo,'DejaVu Sans Mono',consolas,'Courier New',monospace\"></pre>\n"
      ],
      "text/plain": []
     },
     "metadata": {},
     "output_type": "display_data"
    },
    {
     "name": "stdout",
     "output_type": "stream",
     "text": [
      "\u001b[3m                   Validation epoch=23                   \u001b[0m\n",
      "┏━━━━━━━━━━━━━━━━━━━━━━━━━━━┳━━━━━━━━━━━━━━┳━━━━━━━━━━━━┓\n",
      "┃\u001b[1m \u001b[0m\u001b[1mMetric                   \u001b[0m\u001b[1m \u001b[0m┃\u001b[1m \u001b[0m\u001b[1m       Value\u001b[0m\u001b[1m \u001b[0m┃\u001b[1m \u001b[0m\u001b[1m     Error\u001b[0m\u001b[1m \u001b[0m┃\n",
      "┡━━━━━━━━━━━━━━━━━━━━━━━━━━━╇━━━━━━━━━━━━━━╇━━━━━━━━━━━━┩\n",
      "│\u001b[1;95m \u001b[0m\u001b[1;95mattractive               \u001b[0m\u001b[1;95m \u001b[0m│\u001b[1;95m \u001b[0m\u001b[1;95m     0.44802\u001b[0m\u001b[1;95m \u001b[0m│\u001b[1;95m \u001b[0m\u001b[1;95m   0.01234\u001b[0m\u001b[1;95m \u001b[0m│\n",
      "│ attractive_train          │      0.40347 │        nan │\n",
      "│ attractive_weighted       │      0.44802 │    0.01234 │\n",
      "│ attractive_weighted_train │      0.40347 │        nan │\n",
      "│ n_edges_att               │  35077.50000 │ 1273.15723 │\n",
      "│ n_edges_att_train         │  40622.00000 │        nan │\n",
      "│ n_edges_rep               │  97707.50000 │ 7905.90234 │\n",
      "│ n_edges_rep_train         │ 125025.00000 │        nan │\n",
      "│ n_hits_oi                 │   9646.25000 │  405.12701 │\n",
      "│ n_hits_oi_train           │  10709.00000 │        nan │\n",
      "│\u001b[1;95m \u001b[0m\u001b[1;95mrepulsive                \u001b[0m\u001b[1;95m \u001b[0m│\u001b[1;95m \u001b[0m\u001b[1;95m     2.99859\u001b[0m\u001b[1;95m \u001b[0m│\u001b[1;95m \u001b[0m\u001b[1;95m   0.13989\u001b[0m\u001b[1;95m \u001b[0m│\n",
      "│ repulsive_train           │      3.48280 │        nan │\n",
      "│ repulsive_weighted        │      0.17992 │    0.00839 │\n",
      "│ repulsive_weighted_train  │      0.20897 │        nan │\n",
      "│\u001b[1;95m \u001b[0m\u001b[1;95mtotal                    \u001b[0m\u001b[1;95m \u001b[0m│\u001b[1;95m \u001b[0m\u001b[1;95m     0.62793\u001b[0m\u001b[1;95m \u001b[0m│\u001b[1;95m \u001b[0m\u001b[1;95m   0.00623\u001b[0m\u001b[1;95m \u001b[0m│\n",
      "│ total_train               │      0.61244 │        nan │\n",
      "└───────────────────────────┴──────────────┴────────────┘\n",
      "\n"
     ]
    },
    {
     "data": {
      "application/vnd.jupyter.widget-view+json": {
       "model_id": "2e1b47c35e10463fadf5dde37de01602",
       "version_major": 2,
       "version_minor": 0
      },
      "text/plain": [
       "Validation: |          | 0/? [00:00<?, ?it/s]"
      ]
     },
     "metadata": {},
     "output_type": "display_data"
    },
    {
     "data": {
      "text/html": [
       "<pre style=\"white-space:pre;overflow-x:auto;line-height:normal;font-family:Menlo,'DejaVu Sans Mono',consolas,'Courier New',monospace\"></pre>\n"
      ],
      "text/plain": []
     },
     "metadata": {},
     "output_type": "display_data"
    },
    {
     "name": "stdout",
     "output_type": "stream",
     "text": [
      "\u001b[3m                  Validation epoch=24                   \u001b[0m\n",
      "┏━━━━━━━━━━━━━━━━━━━━━━━━━━━┳━━━━━━━━━━━━━┳━━━━━━━━━━━━┓\n",
      "┃\u001b[1m \u001b[0m\u001b[1mMetric                   \u001b[0m\u001b[1m \u001b[0m┃\u001b[1m \u001b[0m\u001b[1m      Value\u001b[0m\u001b[1m \u001b[0m┃\u001b[1m \u001b[0m\u001b[1m     Error\u001b[0m\u001b[1m \u001b[0m┃\n",
      "┡━━━━━━━━━━━━━━━━━━━━━━━━━━━╇━━━━━━━━━━━━━╇━━━━━━━━━━━━┩\n",
      "│\u001b[1;95m \u001b[0m\u001b[1;95mattractive               \u001b[0m\u001b[1;95m \u001b[0m│\u001b[1;95m \u001b[0m\u001b[1;95m    0.45154\u001b[0m\u001b[1;95m \u001b[0m│\u001b[1;95m \u001b[0m\u001b[1;95m   0.01221\u001b[0m\u001b[1;95m \u001b[0m│\n",
      "│ attractive_train          │     0.41612 │        nan │\n",
      "│ attractive_weighted       │     0.45154 │    0.01221 │\n",
      "│ attractive_weighted_train │     0.41612 │        nan │\n",
      "│ n_edges_att               │ 35077.50000 │ 1273.15723 │\n",
      "│ n_edges_att_train         │ 27820.00000 │        nan │\n",
      "│ n_edges_rep               │ 98133.75000 │ 7911.68359 │\n",
      "│ n_edges_rep_train         │ 72851.00000 │        nan │\n",
      "│ n_hits_oi                 │  9646.25000 │  405.12701 │\n",
      "│ n_hits_oi_train           │  7808.00000 │        nan │\n",
      "│\u001b[1;95m \u001b[0m\u001b[1;95mrepulsive                \u001b[0m\u001b[1;95m \u001b[0m│\u001b[1;95m \u001b[0m\u001b[1;95m    2.99051\u001b[0m\u001b[1;95m \u001b[0m│\u001b[1;95m \u001b[0m\u001b[1;95m   0.14238\u001b[0m\u001b[1;95m \u001b[0m│\n",
      "│ repulsive_train           │     2.72326 │        nan │\n",
      "│ repulsive_weighted        │     0.17943 │    0.00854 │\n",
      "│ repulsive_weighted_train  │     0.16340 │        nan │\n",
      "│\u001b[1;95m \u001b[0m\u001b[1;95mtotal                    \u001b[0m\u001b[1;95m \u001b[0m│\u001b[1;95m \u001b[0m\u001b[1;95m    0.63097\u001b[0m\u001b[1;95m \u001b[0m│\u001b[1;95m \u001b[0m\u001b[1;95m   0.00647\u001b[0m\u001b[1;95m \u001b[0m│\n",
      "│ total_train               │     0.57951 │        nan │\n",
      "└───────────────────────────┴─────────────┴────────────┘\n",
      "\n"
     ]
    },
    {
     "data": {
      "application/vnd.jupyter.widget-view+json": {
       "model_id": "7f0d9803ce20441e8b3b1a0ebdcde6a7",
       "version_major": 2,
       "version_minor": 0
      },
      "text/plain": [
       "Validation: |          | 0/? [00:00<?, ?it/s]"
      ]
     },
     "metadata": {},
     "output_type": "display_data"
    },
    {
     "data": {
      "text/html": [
       "<pre style=\"white-space:pre;overflow-x:auto;line-height:normal;font-family:Menlo,'DejaVu Sans Mono',consolas,'Courier New',monospace\"></pre>\n"
      ],
      "text/plain": []
     },
     "metadata": {},
     "output_type": "display_data"
    },
    {
     "name": "stdout",
     "output_type": "stream",
     "text": [
      "\u001b[3m                  Validation epoch=25                   \u001b[0m\n",
      "┏━━━━━━━━━━━━━━━━━━━━━━━━━━━┳━━━━━━━━━━━━━┳━━━━━━━━━━━━┓\n",
      "┃\u001b[1m \u001b[0m\u001b[1mMetric                   \u001b[0m\u001b[1m \u001b[0m┃\u001b[1m \u001b[0m\u001b[1m      Value\u001b[0m\u001b[1m \u001b[0m┃\u001b[1m \u001b[0m\u001b[1m     Error\u001b[0m\u001b[1m \u001b[0m┃\n",
      "┡━━━━━━━━━━━━━━━━━━━━━━━━━━━╇━━━━━━━━━━━━━╇━━━━━━━━━━━━┩\n",
      "│\u001b[1;95m \u001b[0m\u001b[1;95mattractive               \u001b[0m\u001b[1;95m \u001b[0m│\u001b[1;95m \u001b[0m\u001b[1;95m    0.43685\u001b[0m\u001b[1;95m \u001b[0m│\u001b[1;95m \u001b[0m\u001b[1;95m   0.00955\u001b[0m\u001b[1;95m \u001b[0m│\n",
      "│ attractive_train          │     0.43515 │        nan │\n",
      "│ attractive_weighted       │     0.43685 │    0.00955 │\n",
      "│ attractive_weighted_train │     0.43515 │        nan │\n",
      "│ n_edges_att               │ 35077.50000 │ 1273.15723 │\n",
      "│ n_edges_att_train         │ 33069.00000 │        nan │\n",
      "│ n_edges_rep               │ 98765.50000 │ 7694.45752 │\n",
      "│ n_edges_rep_train         │ 89423.00000 │        nan │\n",
      "│ n_hits_oi                 │  9646.25000 │  405.12701 │\n",
      "│ n_hits_oi_train           │  9204.00000 │        nan │\n",
      "│\u001b[1;95m \u001b[0m\u001b[1;95mrepulsive                \u001b[0m\u001b[1;95m \u001b[0m│\u001b[1;95m \u001b[0m\u001b[1;95m    3.01216\u001b[0m\u001b[1;95m \u001b[0m│\u001b[1;95m \u001b[0m\u001b[1;95m   0.13359\u001b[0m\u001b[1;95m \u001b[0m│\n",
      "│ repulsive_train           │     2.79181 │        nan │\n",
      "│ repulsive_weighted        │     0.18073 │    0.00802 │\n",
      "│ repulsive_weighted_train  │     0.16751 │        nan │\n",
      "│\u001b[1;95m \u001b[0m\u001b[1;95mtotal                    \u001b[0m\u001b[1;95m \u001b[0m│\u001b[1;95m \u001b[0m\u001b[1;95m    0.61758\u001b[0m\u001b[1;95m \u001b[0m│\u001b[1;95m \u001b[0m\u001b[1;95m   0.00245\u001b[0m\u001b[1;95m \u001b[0m│\n",
      "│ total_train               │     0.60266 │        nan │\n",
      "└───────────────────────────┴─────────────┴────────────┘\n",
      "\n"
     ]
    },
    {
     "data": {
      "application/vnd.jupyter.widget-view+json": {
       "model_id": "81212c00003c4f329dcdb79df7a2fe62",
       "version_major": 2,
       "version_minor": 0
      },
      "text/plain": [
       "Validation: |          | 0/? [00:00<?, ?it/s]"
      ]
     },
     "metadata": {},
     "output_type": "display_data"
    },
    {
     "data": {
      "text/html": [
       "<pre style=\"white-space:pre;overflow-x:auto;line-height:normal;font-family:Menlo,'DejaVu Sans Mono',consolas,'Courier New',monospace\"></pre>\n"
      ],
      "text/plain": []
     },
     "metadata": {},
     "output_type": "display_data"
    },
    {
     "name": "stdout",
     "output_type": "stream",
     "text": [
      "\u001b[3m                  Validation epoch=26                   \u001b[0m\n",
      "┏━━━━━━━━━━━━━━━━━━━━━━━━━━━┳━━━━━━━━━━━━━┳━━━━━━━━━━━━┓\n",
      "┃\u001b[1m \u001b[0m\u001b[1mMetric                   \u001b[0m\u001b[1m \u001b[0m┃\u001b[1m \u001b[0m\u001b[1m      Value\u001b[0m\u001b[1m \u001b[0m┃\u001b[1m \u001b[0m\u001b[1m     Error\u001b[0m\u001b[1m \u001b[0m┃\n",
      "┡━━━━━━━━━━━━━━━━━━━━━━━━━━━╇━━━━━━━━━━━━━╇━━━━━━━━━━━━┩\n",
      "│\u001b[1;95m \u001b[0m\u001b[1;95mattractive               \u001b[0m\u001b[1;95m \u001b[0m│\u001b[1;95m \u001b[0m\u001b[1;95m    0.44832\u001b[0m\u001b[1;95m \u001b[0m│\u001b[1;95m \u001b[0m\u001b[1;95m   0.01117\u001b[0m\u001b[1;95m \u001b[0m│\n",
      "│ attractive_train          │     0.39449 │        nan │\n",
      "│ attractive_weighted       │     0.44832 │    0.01117 │\n",
      "│ attractive_weighted_train │     0.39449 │        nan │\n",
      "│ n_edges_att               │ 35077.50000 │ 1273.15723 │\n",
      "│ n_edges_att_train         │ 31433.00000 │        nan │\n",
      "│ n_edges_rep               │ 96498.50000 │ 7734.90381 │\n",
      "│ n_edges_rep_train         │ 79576.00000 │        nan │\n",
      "│ n_hits_oi                 │  9646.25000 │  405.12701 │\n",
      "│ n_hits_oi_train           │  8483.00000 │        nan │\n",
      "│\u001b[1;95m \u001b[0m\u001b[1;95mrepulsive                \u001b[0m\u001b[1;95m \u001b[0m│\u001b[1;95m \u001b[0m\u001b[1;95m    2.94594\u001b[0m\u001b[1;95m \u001b[0m│\u001b[1;95m \u001b[0m\u001b[1;95m   0.13171\u001b[0m\u001b[1;95m \u001b[0m│\n",
      "│ repulsive_train           │     2.81017 │        nan │\n",
      "│ repulsive_weighted        │     0.17676 │    0.00790 │\n",
      "│ repulsive_weighted_train  │     0.16861 │        nan │\n",
      "│\u001b[1;95m \u001b[0m\u001b[1;95mtotal                    \u001b[0m\u001b[1;95m \u001b[0m│\u001b[1;95m \u001b[0m\u001b[1;95m    0.62508\u001b[0m\u001b[1;95m \u001b[0m│\u001b[1;95m \u001b[0m\u001b[1;95m   0.00534\u001b[0m\u001b[1;95m \u001b[0m│\n",
      "│ total_train               │     0.56310 │        nan │\n",
      "└───────────────────────────┴─────────────┴────────────┘\n",
      "\n"
     ]
    },
    {
     "data": {
      "application/vnd.jupyter.widget-view+json": {
       "model_id": "7817ac51e41f4960b23ffd99a200360f",
       "version_major": 2,
       "version_minor": 0
      },
      "text/plain": [
       "Validation: |          | 0/? [00:00<?, ?it/s]"
      ]
     },
     "metadata": {},
     "output_type": "display_data"
    },
    {
     "data": {
      "text/html": [
       "<pre style=\"white-space:pre;overflow-x:auto;line-height:normal;font-family:Menlo,'DejaVu Sans Mono',consolas,'Courier New',monospace\"></pre>\n"
      ],
      "text/plain": []
     },
     "metadata": {},
     "output_type": "display_data"
    },
    {
     "name": "stdout",
     "output_type": "stream",
     "text": [
      "\u001b[3m                  Validation epoch=27                   \u001b[0m\n",
      "┏━━━━━━━━━━━━━━━━━━━━━━━━━━━┳━━━━━━━━━━━━━┳━━━━━━━━━━━━┓\n",
      "┃\u001b[1m \u001b[0m\u001b[1mMetric                   \u001b[0m\u001b[1m \u001b[0m┃\u001b[1m \u001b[0m\u001b[1m      Value\u001b[0m\u001b[1m \u001b[0m┃\u001b[1m \u001b[0m\u001b[1m     Error\u001b[0m\u001b[1m \u001b[0m┃\n",
      "┡━━━━━━━━━━━━━━━━━━━━━━━━━━━╇━━━━━━━━━━━━━╇━━━━━━━━━━━━┩\n",
      "│\u001b[1;95m \u001b[0m\u001b[1;95mattractive               \u001b[0m\u001b[1;95m \u001b[0m│\u001b[1;95m \u001b[0m\u001b[1;95m    0.43120\u001b[0m\u001b[1;95m \u001b[0m│\u001b[1;95m \u001b[0m\u001b[1;95m   0.01060\u001b[0m\u001b[1;95m \u001b[0m│\n",
      "│ attractive_train          │     0.43008 │        nan │\n",
      "│ attractive_weighted       │     0.43120 │    0.01060 │\n",
      "│ attractive_weighted_train │     0.43008 │        nan │\n",
      "│ n_edges_att               │ 35077.50000 │ 1273.15723 │\n",
      "│ n_edges_att_train         │ 33771.00000 │        nan │\n",
      "│ n_edges_rep               │ 93638.25000 │ 7740.17236 │\n",
      "│ n_edges_rep_train         │ 94772.00000 │        nan │\n",
      "│ n_hits_oi                 │  9646.25000 │  405.12701 │\n",
      "│ n_hits_oi_train           │  9141.00000 │        nan │\n",
      "│\u001b[1;95m \u001b[0m\u001b[1;95mrepulsive                \u001b[0m\u001b[1;95m \u001b[0m│\u001b[1;95m \u001b[0m\u001b[1;95m    2.87006\u001b[0m\u001b[1;95m \u001b[0m│\u001b[1;95m \u001b[0m\u001b[1;95m   0.14184\u001b[0m\u001b[1;95m \u001b[0m│\n",
      "│ repulsive_train           │     3.05190 │        nan │\n",
      "│ repulsive_weighted        │     0.17220 │    0.00851 │\n",
      "│ repulsive_weighted_train  │     0.18311 │        nan │\n",
      "│\u001b[1;95m \u001b[0m\u001b[1;95mtotal                    \u001b[0m\u001b[1;95m \u001b[0m│\u001b[1;95m \u001b[0m\u001b[1;95m    0.60340\u001b[0m\u001b[1;95m \u001b[0m│\u001b[1;95m \u001b[0m\u001b[1;95m   0.00502\u001b[0m\u001b[1;95m \u001b[0m│\n",
      "│ total_train               │     0.61319 │        nan │\n",
      "└───────────────────────────┴─────────────┴────────────┘\n",
      "\n"
     ]
    },
    {
     "data": {
      "application/vnd.jupyter.widget-view+json": {
       "model_id": "6df624b2bdbf4851a33849a23207cb26",
       "version_major": 2,
       "version_minor": 0
      },
      "text/plain": [
       "Validation: |          | 0/? [00:00<?, ?it/s]"
      ]
     },
     "metadata": {},
     "output_type": "display_data"
    },
    {
     "data": {
      "text/html": [
       "<pre style=\"white-space:pre;overflow-x:auto;line-height:normal;font-family:Menlo,'DejaVu Sans Mono',consolas,'Courier New',monospace\"></pre>\n"
      ],
      "text/plain": []
     },
     "metadata": {},
     "output_type": "display_data"
    },
    {
     "name": "stdout",
     "output_type": "stream",
     "text": [
      "\u001b[3m                   Validation epoch=28                   \u001b[0m\n",
      "┏━━━━━━━━━━━━━━━━━━━━━━━━━━━┳━━━━━━━━━━━━━━┳━━━━━━━━━━━━┓\n",
      "┃\u001b[1m \u001b[0m\u001b[1mMetric                   \u001b[0m\u001b[1m \u001b[0m┃\u001b[1m \u001b[0m\u001b[1m       Value\u001b[0m\u001b[1m \u001b[0m┃\u001b[1m \u001b[0m\u001b[1m     Error\u001b[0m\u001b[1m \u001b[0m┃\n",
      "┡━━━━━━━━━━━━━━━━━━━━━━━━━━━╇━━━━━━━━━━━━━━╇━━━━━━━━━━━━┩\n",
      "│\u001b[1;95m \u001b[0m\u001b[1;95mattractive               \u001b[0m\u001b[1;95m \u001b[0m│\u001b[1;95m \u001b[0m\u001b[1;95m     0.42335\u001b[0m\u001b[1;95m \u001b[0m│\u001b[1;95m \u001b[0m\u001b[1;95m   0.01032\u001b[0m\u001b[1;95m \u001b[0m│\n",
      "│ attractive_train          │      0.43990 │        nan │\n",
      "│ attractive_weighted       │      0.42335 │    0.01032 │\n",
      "│ attractive_weighted_train │      0.43990 │        nan │\n",
      "│ n_edges_att               │  35077.50000 │ 1273.15723 │\n",
      "│ n_edges_att_train         │  38818.00000 │        nan │\n",
      "│ n_edges_rep               │ 100007.25000 │ 7180.81104 │\n",
      "│ n_edges_rep_train         │ 121666.00000 │        nan │\n",
      "│ n_hits_oi                 │   9646.25000 │  405.12701 │\n",
      "│ n_hits_oi_train           │  10232.00000 │        nan │\n",
      "│\u001b[1;95m \u001b[0m\u001b[1;95mrepulsive                \u001b[0m\u001b[1;95m \u001b[0m│\u001b[1;95m \u001b[0m\u001b[1;95m     3.05175\u001b[0m\u001b[1;95m \u001b[0m│\u001b[1;95m \u001b[0m\u001b[1;95m   0.11543\u001b[0m\u001b[1;95m \u001b[0m│\n",
      "│ repulsive_train           │      3.56028 │        nan │\n",
      "│ repulsive_weighted        │      0.18310 │    0.00693 │\n",
      "│ repulsive_weighted_train  │      0.21362 │        nan │\n",
      "│\u001b[1;95m \u001b[0m\u001b[1;95mtotal                    \u001b[0m\u001b[1;95m \u001b[0m│\u001b[1;95m \u001b[0m\u001b[1;95m     0.60645\u001b[0m\u001b[1;95m \u001b[0m│\u001b[1;95m \u001b[0m\u001b[1;95m   0.00473\u001b[0m\u001b[1;95m \u001b[0m│\n",
      "│ total_train               │      0.65351 │        nan │\n",
      "└───────────────────────────┴──────────────┴────────────┘\n",
      "\n"
     ]
    },
    {
     "data": {
      "application/vnd.jupyter.widget-view+json": {
       "model_id": "0664dfbd578c4945b0806292b7303974",
       "version_major": 2,
       "version_minor": 0
      },
      "text/plain": [
       "Validation: |          | 0/? [00:00<?, ?it/s]"
      ]
     },
     "metadata": {},
     "output_type": "display_data"
    },
    {
     "data": {
      "text/html": [
       "<pre style=\"white-space:pre;overflow-x:auto;line-height:normal;font-family:Menlo,'DejaVu Sans Mono',consolas,'Courier New',monospace\"></pre>\n"
      ],
      "text/plain": []
     },
     "metadata": {},
     "output_type": "display_data"
    },
    {
     "name": "stdout",
     "output_type": "stream",
     "text": [
      "\u001b[3m                  Validation epoch=29                   \u001b[0m\n",
      "┏━━━━━━━━━━━━━━━━━━━━━━━━━━━┳━━━━━━━━━━━━━┳━━━━━━━━━━━━┓\n",
      "┃\u001b[1m \u001b[0m\u001b[1mMetric                   \u001b[0m\u001b[1m \u001b[0m┃\u001b[1m \u001b[0m\u001b[1m      Value\u001b[0m\u001b[1m \u001b[0m┃\u001b[1m \u001b[0m\u001b[1m     Error\u001b[0m\u001b[1m \u001b[0m┃\n",
      "┡━━━━━━━━━━━━━━━━━━━━━━━━━━━╇━━━━━━━━━━━━━╇━━━━━━━━━━━━┩\n",
      "│\u001b[1;95m \u001b[0m\u001b[1;95mattractive               \u001b[0m\u001b[1;95m \u001b[0m│\u001b[1;95m \u001b[0m\u001b[1;95m    0.43285\u001b[0m\u001b[1;95m \u001b[0m│\u001b[1;95m \u001b[0m\u001b[1;95m   0.00984\u001b[0m\u001b[1;95m \u001b[0m│\n",
      "│ attractive_train          │     0.41899 │        nan │\n",
      "│ attractive_weighted       │     0.43285 │    0.00984 │\n",
      "│ attractive_weighted_train │     0.41899 │        nan │\n",
      "│ n_edges_att               │ 35077.50000 │ 1273.15723 │\n",
      "│ n_edges_att_train         │ 31158.00000 │        nan │\n",
      "│ n_edges_rep               │ 93034.50000 │ 7673.59668 │\n",
      "│ n_edges_rep_train         │ 77295.00000 │        nan │\n",
      "│ n_hits_oi                 │  9646.25000 │  405.12701 │\n",
      "│ n_hits_oi_train           │  8593.00000 │        nan │\n",
      "│\u001b[1;95m \u001b[0m\u001b[1;95mrepulsive                \u001b[0m\u001b[1;95m \u001b[0m│\u001b[1;95m \u001b[0m\u001b[1;95m    2.84350\u001b[0m\u001b[1;95m \u001b[0m│\u001b[1;95m \u001b[0m\u001b[1;95m   0.12639\u001b[0m\u001b[1;95m \u001b[0m│\n",
      "│ repulsive_train           │     2.57463 │        nan │\n",
      "│ repulsive_weighted        │     0.17061 │    0.00758 │\n",
      "│ repulsive_weighted_train  │     0.15448 │        nan │\n",
      "│\u001b[1;95m \u001b[0m\u001b[1;95mtotal                    \u001b[0m\u001b[1;95m \u001b[0m│\u001b[1;95m \u001b[0m\u001b[1;95m    0.60346\u001b[0m\u001b[1;95m \u001b[0m│\u001b[1;95m \u001b[0m\u001b[1;95m   0.00295\u001b[0m\u001b[1;95m \u001b[0m│\n",
      "│ total_train               │     0.57347 │        nan │\n",
      "└───────────────────────────┴─────────────┴────────────┘\n",
      "\n"
     ]
    },
    {
     "data": {
      "application/vnd.jupyter.widget-view+json": {
       "model_id": "5eb43c4ab39b49d0b6f64f3618dab5d1",
       "version_major": 2,
       "version_minor": 0
      },
      "text/plain": [
       "Validation: |          | 0/? [00:00<?, ?it/s]"
      ]
     },
     "metadata": {},
     "output_type": "display_data"
    },
    {
     "data": {
      "text/html": [
       "<pre style=\"white-space:pre;overflow-x:auto;line-height:normal;font-family:Menlo,'DejaVu Sans Mono',consolas,'Courier New',monospace\"></pre>\n"
      ],
      "text/plain": []
     },
     "metadata": {},
     "output_type": "display_data"
    },
    {
     "name": "stdout",
     "output_type": "stream",
     "text": [
      "\u001b[3m                  Validation epoch=30                   \u001b[0m\n",
      "┏━━━━━━━━━━━━━━━━━━━━━━━━━━━┳━━━━━━━━━━━━━┳━━━━━━━━━━━━┓\n",
      "┃\u001b[1m \u001b[0m\u001b[1mMetric                   \u001b[0m\u001b[1m \u001b[0m┃\u001b[1m \u001b[0m\u001b[1m      Value\u001b[0m\u001b[1m \u001b[0m┃\u001b[1m \u001b[0m\u001b[1m     Error\u001b[0m\u001b[1m \u001b[0m┃\n",
      "┡━━━━━━━━━━━━━━━━━━━━━━━━━━━╇━━━━━━━━━━━━━╇━━━━━━━━━━━━┩\n",
      "│\u001b[1;95m \u001b[0m\u001b[1;95mattractive               \u001b[0m\u001b[1;95m \u001b[0m│\u001b[1;95m \u001b[0m\u001b[1;95m    0.42758\u001b[0m\u001b[1;95m \u001b[0m│\u001b[1;95m \u001b[0m\u001b[1;95m   0.01022\u001b[0m\u001b[1;95m \u001b[0m│\n",
      "│ attractive_train          │     0.44416 │        nan │\n",
      "│ attractive_weighted       │     0.42758 │    0.01022 │\n",
      "│ attractive_weighted_train │     0.44416 │        nan │\n",
      "│ n_edges_att               │ 35077.50000 │ 1273.15723 │\n",
      "│ n_edges_att_train         │ 29083.00000 │        nan │\n",
      "│ n_edges_rep               │ 88455.25000 │ 7281.43506 │\n",
      "│ n_edges_rep_train         │ 68174.00000 │        nan │\n",
      "│ n_hits_oi                 │  9646.25000 │  405.12701 │\n",
      "│ n_hits_oi_train           │  7803.00000 │        nan │\n",
      "│\u001b[1;95m \u001b[0m\u001b[1;95mrepulsive                \u001b[0m\u001b[1;95m \u001b[0m│\u001b[1;95m \u001b[0m\u001b[1;95m    2.71330\u001b[0m\u001b[1;95m \u001b[0m│\u001b[1;95m \u001b[0m\u001b[1;95m   0.12322\u001b[0m\u001b[1;95m \u001b[0m│\n",
      "│ repulsive_train           │     2.63079 │        nan │\n",
      "│ repulsive_weighted        │     0.16280 │    0.00739 │\n",
      "│ repulsive_weighted_train  │     0.15785 │        nan │\n",
      "│\u001b[1;95m \u001b[0m\u001b[1;95mtotal                    \u001b[0m\u001b[1;95m \u001b[0m│\u001b[1;95m \u001b[0m\u001b[1;95m    0.59038\u001b[0m\u001b[1;95m \u001b[0m│\u001b[1;95m \u001b[0m\u001b[1;95m   0.00433\u001b[0m\u001b[1;95m \u001b[0m│\n",
      "│ total_train               │     0.60200 │        nan │\n",
      "└───────────────────────────┴─────────────┴────────────┘\n",
      "\n"
     ]
    },
    {
     "data": {
      "application/vnd.jupyter.widget-view+json": {
       "model_id": "361d1388380941bcba70351dce23731e",
       "version_major": 2,
       "version_minor": 0
      },
      "text/plain": [
       "Validation: |          | 0/? [00:00<?, ?it/s]"
      ]
     },
     "metadata": {},
     "output_type": "display_data"
    },
    {
     "data": {
      "text/html": [
       "<pre style=\"white-space:pre;overflow-x:auto;line-height:normal;font-family:Menlo,'DejaVu Sans Mono',consolas,'Courier New',monospace\"></pre>\n"
      ],
      "text/plain": []
     },
     "metadata": {},
     "output_type": "display_data"
    },
    {
     "name": "stdout",
     "output_type": "stream",
     "text": [
      "\u001b[3m                   Validation epoch=31                   \u001b[0m\n",
      "┏━━━━━━━━━━━━━━━━━━━━━━━━━━━┳━━━━━━━━━━━━━━┳━━━━━━━━━━━━┓\n",
      "┃\u001b[1m \u001b[0m\u001b[1mMetric                   \u001b[0m\u001b[1m \u001b[0m┃\u001b[1m \u001b[0m\u001b[1m       Value\u001b[0m\u001b[1m \u001b[0m┃\u001b[1m \u001b[0m\u001b[1m     Error\u001b[0m\u001b[1m \u001b[0m┃\n",
      "┡━━━━━━━━━━━━━━━━━━━━━━━━━━━╇━━━━━━━━━━━━━━╇━━━━━━━━━━━━┩\n",
      "│\u001b[1;95m \u001b[0m\u001b[1;95mattractive               \u001b[0m\u001b[1;95m \u001b[0m│\u001b[1;95m \u001b[0m\u001b[1;95m     0.44752\u001b[0m\u001b[1;95m \u001b[0m│\u001b[1;95m \u001b[0m\u001b[1;95m   0.01053\u001b[0m\u001b[1;95m \u001b[0m│\n",
      "│ attractive_train          │      0.40380 │        nan │\n",
      "│ attractive_weighted       │      0.44752 │    0.01053 │\n",
      "│ attractive_weighted_train │      0.40380 │        nan │\n",
      "│ n_edges_att               │  35077.50000 │ 1273.15723 │\n",
      "│ n_edges_att_train         │  37984.00000 │        nan │\n",
      "│ n_edges_rep               │  97451.50000 │ 6846.13086 │\n",
      "│ n_edges_rep_train         │ 102447.00000 │        nan │\n",
      "│ n_hits_oi                 │   9646.25000 │  405.12701 │\n",
      "│ n_hits_oi_train           │  10016.00000 │        nan │\n",
      "│\u001b[1;95m \u001b[0m\u001b[1;95mrepulsive                \u001b[0m\u001b[1;95m \u001b[0m│\u001b[1;95m \u001b[0m\u001b[1;95m     2.96420\u001b[0m\u001b[1;95m \u001b[0m│\u001b[1;95m \u001b[0m\u001b[1;95m   0.12438\u001b[0m\u001b[1;95m \u001b[0m│\n",
      "│ repulsive_train           │      3.13935 │        nan │\n",
      "│ repulsive_weighted        │      0.17785 │    0.00746 │\n",
      "│ repulsive_weighted_train  │      0.18836 │        nan │\n",
      "│\u001b[1;95m \u001b[0m\u001b[1;95mtotal                    \u001b[0m\u001b[1;95m \u001b[0m│\u001b[1;95m \u001b[0m\u001b[1;95m     0.62537\u001b[0m\u001b[1;95m \u001b[0m│\u001b[1;95m \u001b[0m\u001b[1;95m   0.00452\u001b[0m\u001b[1;95m \u001b[0m│\n",
      "│ total_train               │      0.59217 │        nan │\n",
      "└───────────────────────────┴──────────────┴────────────┘\n",
      "\n"
     ]
    },
    {
     "data": {
      "application/vnd.jupyter.widget-view+json": {
       "model_id": "204f419c008c4f35b27ed71fe1255808",
       "version_major": 2,
       "version_minor": 0
      },
      "text/plain": [
       "Validation: |          | 0/? [00:00<?, ?it/s]"
      ]
     },
     "metadata": {},
     "output_type": "display_data"
    },
    {
     "data": {
      "text/html": [
       "<pre style=\"white-space:pre;overflow-x:auto;line-height:normal;font-family:Menlo,'DejaVu Sans Mono',consolas,'Courier New',monospace\"></pre>\n"
      ],
      "text/plain": []
     },
     "metadata": {},
     "output_type": "display_data"
    },
    {
     "name": "stdout",
     "output_type": "stream",
     "text": [
      "\u001b[3m                   Validation epoch=32                   \u001b[0m\n",
      "┏━━━━━━━━━━━━━━━━━━━━━━━━━━━┳━━━━━━━━━━━━━━┳━━━━━━━━━━━━┓\n",
      "┃\u001b[1m \u001b[0m\u001b[1mMetric                   \u001b[0m\u001b[1m \u001b[0m┃\u001b[1m \u001b[0m\u001b[1m       Value\u001b[0m\u001b[1m \u001b[0m┃\u001b[1m \u001b[0m\u001b[1m     Error\u001b[0m\u001b[1m \u001b[0m┃\n",
      "┡━━━━━━━━━━━━━━━━━━━━━━━━━━━╇━━━━━━━━━━━━━━╇━━━━━━━━━━━━┩\n",
      "│\u001b[1;95m \u001b[0m\u001b[1;95mattractive               \u001b[0m\u001b[1;95m \u001b[0m│\u001b[1;95m \u001b[0m\u001b[1;95m     0.41475\u001b[0m\u001b[1;95m \u001b[0m│\u001b[1;95m \u001b[0m\u001b[1;95m   0.00932\u001b[0m\u001b[1;95m \u001b[0m│\n",
      "│ attractive_train          │      0.45723 │        nan │\n",
      "│ attractive_weighted       │      0.41475 │    0.00932 │\n",
      "│ attractive_weighted_train │      0.45723 │        nan │\n",
      "│ n_edges_att               │  35077.50000 │ 1273.15723 │\n",
      "│ n_edges_att_train         │  39726.00000 │        nan │\n",
      "│ n_edges_rep               │  98840.25000 │ 7727.14404 │\n",
      "│ n_edges_rep_train         │ 129027.00000 │        nan │\n",
      "│ n_hits_oi                 │   9646.25000 │  405.12701 │\n",
      "│ n_hits_oi_train           │  11074.00000 │        nan │\n",
      "│\u001b[1;95m \u001b[0m\u001b[1;95mrepulsive                \u001b[0m\u001b[1;95m \u001b[0m│\u001b[1;95m \u001b[0m\u001b[1;95m     3.00496\u001b[0m\u001b[1;95m \u001b[0m│\u001b[1;95m \u001b[0m\u001b[1;95m   0.13400\u001b[0m\u001b[1;95m \u001b[0m│\n",
      "│ repulsive_train           │      3.37406 │        nan │\n",
      "│ repulsive_weighted        │      0.18030 │    0.00804 │\n",
      "│ repulsive_weighted_train  │      0.20244 │        nan │\n",
      "│\u001b[1;95m \u001b[0m\u001b[1;95mtotal                    \u001b[0m\u001b[1;95m \u001b[0m│\u001b[1;95m \u001b[0m\u001b[1;95m     0.59504\u001b[0m\u001b[1;95m \u001b[0m│\u001b[1;95m \u001b[0m\u001b[1;95m   0.00439\u001b[0m\u001b[1;95m \u001b[0m│\n",
      "│ total_train               │      0.65968 │        nan │\n",
      "└───────────────────────────┴──────────────┴────────────┘\n",
      "\n"
     ]
    },
    {
     "data": {
      "application/vnd.jupyter.widget-view+json": {
       "model_id": "5c255d9263d54794ab7ac532e314d9c7",
       "version_major": 2,
       "version_minor": 0
      },
      "text/plain": [
       "Validation: |          | 0/? [00:00<?, ?it/s]"
      ]
     },
     "metadata": {},
     "output_type": "display_data"
    },
    {
     "data": {
      "text/html": [
       "<pre style=\"white-space:pre;overflow-x:auto;line-height:normal;font-family:Menlo,'DejaVu Sans Mono',consolas,'Courier New',monospace\"></pre>\n"
      ],
      "text/plain": []
     },
     "metadata": {},
     "output_type": "display_data"
    },
    {
     "name": "stdout",
     "output_type": "stream",
     "text": [
      "\u001b[3m                  Validation epoch=33                   \u001b[0m\n",
      "┏━━━━━━━━━━━━━━━━━━━━━━━━━━━┳━━━━━━━━━━━━━┳━━━━━━━━━━━━┓\n",
      "┃\u001b[1m \u001b[0m\u001b[1mMetric                   \u001b[0m\u001b[1m \u001b[0m┃\u001b[1m \u001b[0m\u001b[1m      Value\u001b[0m\u001b[1m \u001b[0m┃\u001b[1m \u001b[0m\u001b[1m     Error\u001b[0m\u001b[1m \u001b[0m┃\n",
      "┡━━━━━━━━━━━━━━━━━━━━━━━━━━━╇━━━━━━━━━━━━━╇━━━━━━━━━━━━┩\n",
      "│\u001b[1;95m \u001b[0m\u001b[1;95mattractive               \u001b[0m\u001b[1;95m \u001b[0m│\u001b[1;95m \u001b[0m\u001b[1;95m    0.42604\u001b[0m\u001b[1;95m \u001b[0m│\u001b[1;95m \u001b[0m\u001b[1;95m   0.00795\u001b[0m\u001b[1;95m \u001b[0m│\n",
      "│ attractive_train          │     0.43536 │        nan │\n",
      "│ attractive_weighted       │     0.42604 │    0.00795 │\n",
      "│ attractive_weighted_train │     0.43536 │        nan │\n",
      "│ n_edges_att               │ 35077.50000 │ 1273.15723 │\n",
      "│ n_edges_att_train         │ 34167.00000 │        nan │\n",
      "│ n_edges_rep               │ 95379.25000 │ 7446.90576 │\n",
      "│ n_edges_rep_train         │ 92639.00000 │        nan │\n",
      "│ n_hits_oi                 │  9646.25000 │  405.12701 │\n",
      "│ n_hits_oi_train           │  9047.00000 │        nan │\n",
      "│\u001b[1;95m \u001b[0m\u001b[1;95mrepulsive                \u001b[0m\u001b[1;95m \u001b[0m│\u001b[1;95m \u001b[0m\u001b[1;95m    2.89925\u001b[0m\u001b[1;95m \u001b[0m│\u001b[1;95m \u001b[0m\u001b[1;95m   0.12274\u001b[0m\u001b[1;95m \u001b[0m│\n",
      "│ repulsive_train           │     3.12286 │        nan │\n",
      "│ repulsive_weighted        │     0.17395 │    0.00736 │\n",
      "│ repulsive_weighted_train  │     0.18737 │        nan │\n",
      "│\u001b[1;95m \u001b[0m\u001b[1;95mtotal                    \u001b[0m\u001b[1;95m \u001b[0m│\u001b[1;95m \u001b[0m\u001b[1;95m    0.60000\u001b[0m\u001b[1;95m \u001b[0m│\u001b[1;95m \u001b[0m\u001b[1;95m   0.00403\u001b[0m\u001b[1;95m \u001b[0m│\n",
      "│ total_train               │     0.62274 │        nan │\n",
      "└───────────────────────────┴─────────────┴────────────┘\n",
      "\n"
     ]
    },
    {
     "data": {
      "application/vnd.jupyter.widget-view+json": {
       "model_id": "ec7f6ab250224276bf05be3fc1c7d65f",
       "version_major": 2,
       "version_minor": 0
      },
      "text/plain": [
       "Validation: |          | 0/? [00:00<?, ?it/s]"
      ]
     },
     "metadata": {},
     "output_type": "display_data"
    },
    {
     "data": {
      "text/html": [
       "<pre style=\"white-space:pre;overflow-x:auto;line-height:normal;font-family:Menlo,'DejaVu Sans Mono',consolas,'Courier New',monospace\"></pre>\n"
      ],
      "text/plain": []
     },
     "metadata": {},
     "output_type": "display_data"
    },
    {
     "name": "stdout",
     "output_type": "stream",
     "text": [
      "\u001b[3m                  Validation epoch=34                   \u001b[0m\n",
      "┏━━━━━━━━━━━━━━━━━━━━━━━━━━━┳━━━━━━━━━━━━━┳━━━━━━━━━━━━┓\n",
      "┃\u001b[1m \u001b[0m\u001b[1mMetric                   \u001b[0m\u001b[1m \u001b[0m┃\u001b[1m \u001b[0m\u001b[1m      Value\u001b[0m\u001b[1m \u001b[0m┃\u001b[1m \u001b[0m\u001b[1m     Error\u001b[0m\u001b[1m \u001b[0m┃\n",
      "┡━━━━━━━━━━━━━━━━━━━━━━━━━━━╇━━━━━━━━━━━━━╇━━━━━━━━━━━━┩\n",
      "│\u001b[1;95m \u001b[0m\u001b[1;95mattractive               \u001b[0m\u001b[1;95m \u001b[0m│\u001b[1;95m \u001b[0m\u001b[1;95m    0.42550\u001b[0m\u001b[1;95m \u001b[0m│\u001b[1;95m \u001b[0m\u001b[1;95m   0.00947\u001b[0m\u001b[1;95m \u001b[0m│\n",
      "│ attractive_train          │     0.39239 │        nan │\n",
      "│ attractive_weighted       │     0.42550 │    0.00947 │\n",
      "│ attractive_weighted_train │     0.39239 │        nan │\n",
      "│ n_edges_att               │ 35077.50000 │ 1273.15723 │\n",
      "│ n_edges_att_train         │ 23406.00000 │        nan │\n",
      "│ n_edges_rep               │ 93863.25000 │ 7436.33838 │\n",
      "│ n_edges_rep_train         │ 46151.00000 │        nan │\n",
      "│ n_hits_oi                 │  9646.25000 │  405.12701 │\n",
      "│ n_hits_oi_train           │  6259.00000 │        nan │\n",
      "│\u001b[1;95m \u001b[0m\u001b[1;95mrepulsive                \u001b[0m\u001b[1;95m \u001b[0m│\u001b[1;95m \u001b[0m\u001b[1;95m    2.84930\u001b[0m\u001b[1;95m \u001b[0m│\u001b[1;95m \u001b[0m\u001b[1;95m   0.13353\u001b[0m\u001b[1;95m \u001b[0m│\n",
      "│ repulsive_train           │     2.22147 │        nan │\n",
      "│ repulsive_weighted        │     0.17096 │    0.00801 │\n",
      "│ repulsive_weighted_train  │     0.13329 │        nan │\n",
      "│\u001b[1;95m \u001b[0m\u001b[1;95mtotal                    \u001b[0m\u001b[1;95m \u001b[0m│\u001b[1;95m \u001b[0m\u001b[1;95m    0.59646\u001b[0m\u001b[1;95m \u001b[0m│\u001b[1;95m \u001b[0m\u001b[1;95m   0.00493\u001b[0m\u001b[1;95m \u001b[0m│\n",
      "│ total_train               │     0.52568 │        nan │\n",
      "└───────────────────────────┴─────────────┴────────────┘\n",
      "\n"
     ]
    },
    {
     "data": {
      "application/vnd.jupyter.widget-view+json": {
       "model_id": "adb43ab79db44039bda5000fdc02084c",
       "version_major": 2,
       "version_minor": 0
      },
      "text/plain": [
       "Validation: |          | 0/? [00:00<?, ?it/s]"
      ]
     },
     "metadata": {},
     "output_type": "display_data"
    },
    {
     "data": {
      "text/html": [
       "<pre style=\"white-space:pre;overflow-x:auto;line-height:normal;font-family:Menlo,'DejaVu Sans Mono',consolas,'Courier New',monospace\"></pre>\n"
      ],
      "text/plain": []
     },
     "metadata": {},
     "output_type": "display_data"
    },
    {
     "name": "stdout",
     "output_type": "stream",
     "text": [
      "\u001b[3m                   Validation epoch=35                   \u001b[0m\n",
      "┏━━━━━━━━━━━━━━━━━━━━━━━━━━━┳━━━━━━━━━━━━━━┳━━━━━━━━━━━━┓\n",
      "┃\u001b[1m \u001b[0m\u001b[1mMetric                   \u001b[0m\u001b[1m \u001b[0m┃\u001b[1m \u001b[0m\u001b[1m       Value\u001b[0m\u001b[1m \u001b[0m┃\u001b[1m \u001b[0m\u001b[1m     Error\u001b[0m\u001b[1m \u001b[0m┃\n",
      "┡━━━━━━━━━━━━━━━━━━━━━━━━━━━╇━━━━━━━━━━━━━━╇━━━━━━━━━━━━┩\n",
      "│\u001b[1;95m \u001b[0m\u001b[1;95mattractive               \u001b[0m\u001b[1;95m \u001b[0m│\u001b[1;95m \u001b[0m\u001b[1;95m     0.41272\u001b[0m\u001b[1;95m \u001b[0m│\u001b[1;95m \u001b[0m\u001b[1;95m   0.00919\u001b[0m\u001b[1;95m \u001b[0m│\n",
      "│ attractive_train          │      0.37737 │        nan │\n",
      "│ attractive_weighted       │      0.41272 │    0.00919 │\n",
      "│ attractive_weighted_train │      0.37737 │        nan │\n",
      "│ n_edges_att               │  35077.50000 │ 1273.15723 │\n",
      "│ n_edges_att_train         │  37919.00000 │        nan │\n",
      "│ n_edges_rep               │  96663.50000 │ 7390.91064 │\n",
      "│ n_edges_rep_train         │ 121919.00000 │        nan │\n",
      "│ n_hits_oi                 │   9646.25000 │  405.12701 │\n",
      "│ n_hits_oi_train           │  10264.00000 │        nan │\n",
      "│\u001b[1;95m \u001b[0m\u001b[1;95mrepulsive                \u001b[0m\u001b[1;95m \u001b[0m│\u001b[1;95m \u001b[0m\u001b[1;95m     2.95026\u001b[0m\u001b[1;95m \u001b[0m│\u001b[1;95m \u001b[0m\u001b[1;95m   0.13736\u001b[0m\u001b[1;95m \u001b[0m│\n",
      "│ repulsive_train           │      3.58388 │        nan │\n",
      "│ repulsive_weighted        │      0.17702 │    0.00824 │\n",
      "│ repulsive_weighted_train  │      0.21503 │        nan │\n",
      "│\u001b[1;95m \u001b[0m\u001b[1;95mtotal                    \u001b[0m\u001b[1;95m \u001b[0m│\u001b[1;95m \u001b[0m\u001b[1;95m     0.58974\u001b[0m\u001b[1;95m \u001b[0m│\u001b[1;95m \u001b[0m\u001b[1;95m   0.00476\u001b[0m\u001b[1;95m \u001b[0m│\n",
      "│ total_train               │      0.59241 │        nan │\n",
      "└───────────────────────────┴──────────────┴────────────┘\n",
      "\n"
     ]
    },
    {
     "data": {
      "application/vnd.jupyter.widget-view+json": {
       "model_id": "0934529ef8f141e89c0d50ef11886657",
       "version_major": 2,
       "version_minor": 0
      },
      "text/plain": [
       "Validation: |          | 0/? [00:00<?, ?it/s]"
      ]
     },
     "metadata": {},
     "output_type": "display_data"
    },
    {
     "data": {
      "text/html": [
       "<pre style=\"white-space:pre;overflow-x:auto;line-height:normal;font-family:Menlo,'DejaVu Sans Mono',consolas,'Courier New',monospace\"></pre>\n"
      ],
      "text/plain": []
     },
     "metadata": {},
     "output_type": "display_data"
    },
    {
     "name": "stdout",
     "output_type": "stream",
     "text": [
      "\u001b[3m                   Validation epoch=36                   \u001b[0m\n",
      "┏━━━━━━━━━━━━━━━━━━━━━━━━━━━┳━━━━━━━━━━━━━━┳━━━━━━━━━━━━┓\n",
      "┃\u001b[1m \u001b[0m\u001b[1mMetric                   \u001b[0m\u001b[1m \u001b[0m┃\u001b[1m \u001b[0m\u001b[1m       Value\u001b[0m\u001b[1m \u001b[0m┃\u001b[1m \u001b[0m\u001b[1m     Error\u001b[0m\u001b[1m \u001b[0m┃\n",
      "┡━━━━━━━━━━━━━━━━━━━━━━━━━━━╇━━━━━━━━━━━━━━╇━━━━━━━━━━━━┩\n",
      "│\u001b[1;95m \u001b[0m\u001b[1;95mattractive               \u001b[0m\u001b[1;95m \u001b[0m│\u001b[1;95m \u001b[0m\u001b[1;95m     0.41689\u001b[0m\u001b[1;95m \u001b[0m│\u001b[1;95m \u001b[0m\u001b[1;95m   0.00996\u001b[0m\u001b[1;95m \u001b[0m│\n",
      "│ attractive_train          │      0.45398 │        nan │\n",
      "│ attractive_weighted       │      0.41689 │    0.00996 │\n",
      "│ attractive_weighted_train │      0.45398 │        nan │\n",
      "│ n_edges_att               │  35077.50000 │ 1273.15723 │\n",
      "│ n_edges_att_train         │  38804.00000 │        nan │\n",
      "│ n_edges_rep               │  92483.00000 │ 7440.96924 │\n",
      "│ n_edges_rep_train         │ 126988.00000 │        nan │\n",
      "│ n_hits_oi                 │   9646.25000 │  405.12701 │\n",
      "│ n_hits_oi_train           │  10733.00000 │        nan │\n",
      "│\u001b[1;95m \u001b[0m\u001b[1;95mrepulsive                \u001b[0m\u001b[1;95m \u001b[0m│\u001b[1;95m \u001b[0m\u001b[1;95m     2.81391\u001b[0m\u001b[1;95m \u001b[0m│\u001b[1;95m \u001b[0m\u001b[1;95m   0.12993\u001b[0m\u001b[1;95m \u001b[0m│\n",
      "│ repulsive_train           │      3.47965 │        nan │\n",
      "│ repulsive_weighted        │      0.16883 │    0.00780 │\n",
      "│ repulsive_weighted_train  │      0.20878 │        nan │\n",
      "│\u001b[1;95m \u001b[0m\u001b[1;95mtotal                    \u001b[0m\u001b[1;95m \u001b[0m│\u001b[1;95m \u001b[0m\u001b[1;95m     0.58572\u001b[0m\u001b[1;95m \u001b[0m│\u001b[1;95m \u001b[0m\u001b[1;95m   0.00577\u001b[0m\u001b[1;95m \u001b[0m│\n",
      "│ total_train               │      0.66276 │        nan │\n",
      "└───────────────────────────┴──────────────┴────────────┘\n",
      "\n"
     ]
    },
    {
     "data": {
      "application/vnd.jupyter.widget-view+json": {
       "model_id": "c1abec2203e84ad6bec44eae4ebc7af9",
       "version_major": 2,
       "version_minor": 0
      },
      "text/plain": [
       "Validation: |          | 0/? [00:00<?, ?it/s]"
      ]
     },
     "metadata": {},
     "output_type": "display_data"
    },
    {
     "data": {
      "text/html": [
       "<pre style=\"white-space:pre;overflow-x:auto;line-height:normal;font-family:Menlo,'DejaVu Sans Mono',consolas,'Courier New',monospace\"></pre>\n"
      ],
      "text/plain": []
     },
     "metadata": {},
     "output_type": "display_data"
    },
    {
     "name": "stdout",
     "output_type": "stream",
     "text": [
      "\u001b[3m                   Validation epoch=37                   \u001b[0m\n",
      "┏━━━━━━━━━━━━━━━━━━━━━━━━━━━┳━━━━━━━━━━━━━━┳━━━━━━━━━━━━┓\n",
      "┃\u001b[1m \u001b[0m\u001b[1mMetric                   \u001b[0m\u001b[1m \u001b[0m┃\u001b[1m \u001b[0m\u001b[1m       Value\u001b[0m\u001b[1m \u001b[0m┃\u001b[1m \u001b[0m\u001b[1m     Error\u001b[0m\u001b[1m \u001b[0m┃\n",
      "┡━━━━━━━━━━━━━━━━━━━━━━━━━━━╇━━━━━━━━━━━━━━╇━━━━━━━━━━━━┩\n",
      "│\u001b[1;95m \u001b[0m\u001b[1;95mattractive               \u001b[0m\u001b[1;95m \u001b[0m│\u001b[1;95m \u001b[0m\u001b[1;95m     0.42126\u001b[0m\u001b[1;95m \u001b[0m│\u001b[1;95m \u001b[0m\u001b[1;95m   0.00874\u001b[0m\u001b[1;95m \u001b[0m│\n",
      "│ attractive_train          │      0.41151 │        nan │\n",
      "│ attractive_weighted       │      0.42126 │    0.00874 │\n",
      "│ attractive_weighted_train │      0.41151 │        nan │\n",
      "│ n_edges_att               │  35077.50000 │ 1273.15723 │\n",
      "│ n_edges_att_train         │  40551.00000 │        nan │\n",
      "│ n_edges_rep               │  92111.75000 │ 7067.97363 │\n",
      "│ n_edges_rep_train         │ 122855.00000 │        nan │\n",
      "│ n_hits_oi                 │   9646.25000 │  405.12701 │\n",
      "│ n_hits_oi_train           │  11039.00000 │        nan │\n",
      "│\u001b[1;95m \u001b[0m\u001b[1;95mrepulsive                \u001b[0m\u001b[1;95m \u001b[0m│\u001b[1;95m \u001b[0m\u001b[1;95m     2.83954\u001b[0m\u001b[1;95m \u001b[0m│\u001b[1;95m \u001b[0m\u001b[1;95m   0.11879\u001b[0m\u001b[1;95m \u001b[0m│\n",
      "│ repulsive_train           │      3.29143 │        nan │\n",
      "│ repulsive_weighted        │      0.17037 │    0.00713 │\n",
      "│ repulsive_weighted_train  │      0.19749 │        nan │\n",
      "│\u001b[1;95m \u001b[0m\u001b[1;95mtotal                    \u001b[0m\u001b[1;95m \u001b[0m│\u001b[1;95m \u001b[0m\u001b[1;95m     0.59163\u001b[0m\u001b[1;95m \u001b[0m│\u001b[1;95m \u001b[0m\u001b[1;95m   0.00357\u001b[0m\u001b[1;95m \u001b[0m│\n",
      "│ total_train               │      0.60899 │        nan │\n",
      "└───────────────────────────┴──────────────┴────────────┘\n",
      "\n"
     ]
    },
    {
     "data": {
      "application/vnd.jupyter.widget-view+json": {
       "model_id": "29a5d30e49e4470e80d6532fd36ccde1",
       "version_major": 2,
       "version_minor": 0
      },
      "text/plain": [
       "Validation: |          | 0/? [00:00<?, ?it/s]"
      ]
     },
     "metadata": {},
     "output_type": "display_data"
    },
    {
     "data": {
      "text/html": [
       "<pre style=\"white-space:pre;overflow-x:auto;line-height:normal;font-family:Menlo,'DejaVu Sans Mono',consolas,'Courier New',monospace\"></pre>\n"
      ],
      "text/plain": []
     },
     "metadata": {},
     "output_type": "display_data"
    },
    {
     "name": "stdout",
     "output_type": "stream",
     "text": [
      "\u001b[3m                  Validation epoch=38                   \u001b[0m\n",
      "┏━━━━━━━━━━━━━━━━━━━━━━━━━━━┳━━━━━━━━━━━━━┳━━━━━━━━━━━━┓\n",
      "┃\u001b[1m \u001b[0m\u001b[1mMetric                   \u001b[0m\u001b[1m \u001b[0m┃\u001b[1m \u001b[0m\u001b[1m      Value\u001b[0m\u001b[1m \u001b[0m┃\u001b[1m \u001b[0m\u001b[1m     Error\u001b[0m\u001b[1m \u001b[0m┃\n",
      "┡━━━━━━━━━━━━━━━━━━━━━━━━━━━╇━━━━━━━━━━━━━╇━━━━━━━━━━━━┩\n",
      "│\u001b[1;95m \u001b[0m\u001b[1;95mattractive               \u001b[0m\u001b[1;95m \u001b[0m│\u001b[1;95m \u001b[0m\u001b[1;95m    0.42790\u001b[0m\u001b[1;95m \u001b[0m│\u001b[1;95m \u001b[0m\u001b[1;95m   0.00879\u001b[0m\u001b[1;95m \u001b[0m│\n",
      "│ attractive_train          │     0.40633 │        nan │\n",
      "│ attractive_weighted       │     0.42790 │    0.00879 │\n",
      "│ attractive_weighted_train │     0.40633 │        nan │\n",
      "│ n_edges_att               │ 35077.50000 │ 1273.15723 │\n",
      "│ n_edges_att_train         │ 32644.00000 │        nan │\n",
      "│ n_edges_rep               │ 88878.75000 │ 6915.38379 │\n",
      "│ n_edges_rep_train         │ 81537.00000 │        nan │\n",
      "│ n_hits_oi                 │  9646.25000 │  405.12701 │\n",
      "│ n_hits_oi_train           │  8993.00000 │        nan │\n",
      "│\u001b[1;95m \u001b[0m\u001b[1;95mrepulsive                \u001b[0m\u001b[1;95m \u001b[0m│\u001b[1;95m \u001b[0m\u001b[1;95m    2.72829\u001b[0m\u001b[1;95m \u001b[0m│\u001b[1;95m \u001b[0m\u001b[1;95m   0.12175\u001b[0m\u001b[1;95m \u001b[0m│\n",
      "│ repulsive_train           │     2.74720 │        nan │\n",
      "│ repulsive_weighted        │     0.16370 │    0.00730 │\n",
      "│ repulsive_weighted_train  │     0.16483 │        nan │\n",
      "│\u001b[1;95m \u001b[0m\u001b[1;95mtotal                    \u001b[0m\u001b[1;95m \u001b[0m│\u001b[1;95m \u001b[0m\u001b[1;95m    0.59160\u001b[0m\u001b[1;95m \u001b[0m│\u001b[1;95m \u001b[0m\u001b[1;95m   0.00415\u001b[0m\u001b[1;95m \u001b[0m│\n",
      "│ total_train               │     0.57117 │        nan │\n",
      "└───────────────────────────┴─────────────┴────────────┘\n",
      "\n"
     ]
    },
    {
     "data": {
      "application/vnd.jupyter.widget-view+json": {
       "model_id": "2d3ec94d423e49db93e9b6bacd139e77",
       "version_major": 2,
       "version_minor": 0
      },
      "text/plain": [
       "Validation: |          | 0/? [00:00<?, ?it/s]"
      ]
     },
     "metadata": {},
     "output_type": "display_data"
    },
    {
     "data": {
      "text/html": [
       "<pre style=\"white-space:pre;overflow-x:auto;line-height:normal;font-family:Menlo,'DejaVu Sans Mono',consolas,'Courier New',monospace\"></pre>\n"
      ],
      "text/plain": []
     },
     "metadata": {},
     "output_type": "display_data"
    },
    {
     "name": "stdout",
     "output_type": "stream",
     "text": [
      "\u001b[3m                   Validation epoch=39                   \u001b[0m\n",
      "┏━━━━━━━━━━━━━━━━━━━━━━━━━━━┳━━━━━━━━━━━━━━┳━━━━━━━━━━━━┓\n",
      "┃\u001b[1m \u001b[0m\u001b[1mMetric                   \u001b[0m\u001b[1m \u001b[0m┃\u001b[1m \u001b[0m\u001b[1m       Value\u001b[0m\u001b[1m \u001b[0m┃\u001b[1m \u001b[0m\u001b[1m     Error\u001b[0m\u001b[1m \u001b[0m┃\n",
      "┡━━━━━━━━━━━━━━━━━━━━━━━━━━━╇━━━━━━━━━━━━━━╇━━━━━━━━━━━━┩\n",
      "│\u001b[1;95m \u001b[0m\u001b[1;95mattractive               \u001b[0m\u001b[1;95m \u001b[0m│\u001b[1;95m \u001b[0m\u001b[1;95m     0.41269\u001b[0m\u001b[1;95m \u001b[0m│\u001b[1;95m \u001b[0m\u001b[1;95m   0.00805\u001b[0m\u001b[1;95m \u001b[0m│\n",
      "│ attractive_train          │      0.48717 │        nan │\n",
      "│ attractive_weighted       │      0.41269 │    0.00805 │\n",
      "│ attractive_weighted_train │      0.48717 │        nan │\n",
      "│ n_edges_att               │  35077.50000 │ 1273.15723 │\n",
      "│ n_edges_att_train         │  42357.00000 │        nan │\n",
      "│ n_edges_rep               │  97478.50000 │ 6696.59180 │\n",
      "│ n_edges_rep_train         │ 134099.00000 │        nan │\n",
      "│ n_hits_oi                 │   9646.25000 │  405.12701 │\n",
      "│ n_hits_oi_train           │  11372.00000 │        nan │\n",
      "│\u001b[1;95m \u001b[0m\u001b[1;95mrepulsive                \u001b[0m\u001b[1;95m \u001b[0m│\u001b[1;95m \u001b[0m\u001b[1;95m     2.96397\u001b[0m\u001b[1;95m \u001b[0m│\u001b[1;95m \u001b[0m\u001b[1;95m   0.10947\u001b[0m\u001b[1;95m \u001b[0m│\n",
      "│ repulsive_train           │      3.47692 │        nan │\n",
      "│ repulsive_weighted        │      0.17784 │    0.00657 │\n",
      "│ repulsive_weighted_train  │      0.20862 │        nan │\n",
      "│\u001b[1;95m \u001b[0m\u001b[1;95mtotal                    \u001b[0m\u001b[1;95m \u001b[0m│\u001b[1;95m \u001b[0m\u001b[1;95m     0.59053\u001b[0m\u001b[1;95m \u001b[0m│\u001b[1;95m \u001b[0m\u001b[1;95m   0.00377\u001b[0m\u001b[1;95m \u001b[0m│\n",
      "│ total_train               │      0.69579 │        nan │\n",
      "└───────────────────────────┴──────────────┴────────────┘\n",
      "\n"
     ]
    },
    {
     "data": {
      "application/vnd.jupyter.widget-view+json": {
       "model_id": "d5e8acb8945f4aba82170116bc03c57f",
       "version_major": 2,
       "version_minor": 0
      },
      "text/plain": [
       "Validation: |          | 0/? [00:00<?, ?it/s]"
      ]
     },
     "metadata": {},
     "output_type": "display_data"
    },
    {
     "data": {
      "text/html": [
       "<pre style=\"white-space:pre;overflow-x:auto;line-height:normal;font-family:Menlo,'DejaVu Sans Mono',consolas,'Courier New',monospace\"></pre>\n"
      ],
      "text/plain": []
     },
     "metadata": {},
     "output_type": "display_data"
    },
    {
     "name": "stdout",
     "output_type": "stream",
     "text": [
      "\u001b[3m                   Validation epoch=40                   \u001b[0m\n",
      "┏━━━━━━━━━━━━━━━━━━━━━━━━━━━┳━━━━━━━━━━━━━━┳━━━━━━━━━━━━┓\n",
      "┃\u001b[1m \u001b[0m\u001b[1mMetric                   \u001b[0m\u001b[1m \u001b[0m┃\u001b[1m \u001b[0m\u001b[1m       Value\u001b[0m\u001b[1m \u001b[0m┃\u001b[1m \u001b[0m\u001b[1m     Error\u001b[0m\u001b[1m \u001b[0m┃\n",
      "┡━━━━━━━━━━━━━━━━━━━━━━━━━━━╇━━━━━━━━━━━━━━╇━━━━━━━━━━━━┩\n",
      "│\u001b[1;95m \u001b[0m\u001b[1;95mattractive               \u001b[0m\u001b[1;95m \u001b[0m│\u001b[1;95m \u001b[0m\u001b[1;95m     0.41031\u001b[0m\u001b[1;95m \u001b[0m│\u001b[1;95m \u001b[0m\u001b[1;95m   0.00915\u001b[0m\u001b[1;95m \u001b[0m│\n",
      "│ attractive_train          │      0.41260 │        nan │\n",
      "│ attractive_weighted       │      0.41031 │    0.00915 │\n",
      "│ attractive_weighted_train │      0.41260 │        nan │\n",
      "│ n_edges_att               │  35077.50000 │ 1273.15723 │\n",
      "│ n_edges_att_train         │  40632.00000 │        nan │\n",
      "│ n_edges_rep               │  96006.75000 │ 7456.57031 │\n",
      "│ n_edges_rep_train         │ 128705.00000 │        nan │\n",
      "│ n_hits_oi                 │   9646.25000 │  405.12701 │\n",
      "│ n_hits_oi_train           │  10735.00000 │        nan │\n",
      "│\u001b[1;95m \u001b[0m\u001b[1;95mrepulsive                \u001b[0m\u001b[1;95m \u001b[0m│\u001b[1;95m \u001b[0m\u001b[1;95m     2.92718\u001b[0m\u001b[1;95m \u001b[0m│\u001b[1;95m \u001b[0m\u001b[1;95m   0.13518\u001b[0m\u001b[1;95m \u001b[0m│\n",
      "│ repulsive_train           │      3.56179 │        nan │\n",
      "│ repulsive_weighted        │      0.17563 │    0.00811 │\n",
      "│ repulsive_weighted_train  │      0.21371 │        nan │\n",
      "│\u001b[1;95m \u001b[0m\u001b[1;95mtotal                    \u001b[0m\u001b[1;95m \u001b[0m│\u001b[1;95m \u001b[0m\u001b[1;95m     0.58594\u001b[0m\u001b[1;95m \u001b[0m│\u001b[1;95m \u001b[0m\u001b[1;95m   0.00607\u001b[0m\u001b[1;95m \u001b[0m│\n",
      "│ total_train               │      0.62630 │        nan │\n",
      "└───────────────────────────┴──────────────┴────────────┘\n",
      "\n"
     ]
    },
    {
     "data": {
      "application/vnd.jupyter.widget-view+json": {
       "model_id": "37f2a86ff41e4fa7b351c873d52a1090",
       "version_major": 2,
       "version_minor": 0
      },
      "text/plain": [
       "Validation: |          | 0/? [00:00<?, ?it/s]"
      ]
     },
     "metadata": {},
     "output_type": "display_data"
    },
    {
     "data": {
      "text/html": [
       "<pre style=\"white-space:pre;overflow-x:auto;line-height:normal;font-family:Menlo,'DejaVu Sans Mono',consolas,'Courier New',monospace\"></pre>\n"
      ],
      "text/plain": []
     },
     "metadata": {},
     "output_type": "display_data"
    },
    {
     "name": "stdout",
     "output_type": "stream",
     "text": [
      "\u001b[3m                  Validation epoch=41                   \u001b[0m\n",
      "┏━━━━━━━━━━━━━━━━━━━━━━━━━━━┳━━━━━━━━━━━━━┳━━━━━━━━━━━━┓\n",
      "┃\u001b[1m \u001b[0m\u001b[1mMetric                   \u001b[0m\u001b[1m \u001b[0m┃\u001b[1m \u001b[0m\u001b[1m      Value\u001b[0m\u001b[1m \u001b[0m┃\u001b[1m \u001b[0m\u001b[1m     Error\u001b[0m\u001b[1m \u001b[0m┃\n",
      "┡━━━━━━━━━━━━━━━━━━━━━━━━━━━╇━━━━━━━━━━━━━╇━━━━━━━━━━━━┩\n",
      "│\u001b[1;95m \u001b[0m\u001b[1;95mattractive               \u001b[0m\u001b[1;95m \u001b[0m│\u001b[1;95m \u001b[0m\u001b[1;95m    0.41081\u001b[0m\u001b[1;95m \u001b[0m│\u001b[1;95m \u001b[0m\u001b[1;95m   0.00821\u001b[0m\u001b[1;95m \u001b[0m│\n",
      "│ attractive_train          │     0.39880 │        nan │\n",
      "│ attractive_weighted       │     0.41081 │    0.00821 │\n",
      "│ attractive_weighted_train │     0.39880 │        nan │\n",
      "│ n_edges_att               │ 35077.50000 │ 1273.15723 │\n",
      "│ n_edges_att_train         │ 26496.00000 │        nan │\n",
      "│ n_edges_rep               │ 95353.00000 │ 7372.44824 │\n",
      "│ n_edges_rep_train         │ 59985.00000 │        nan │\n",
      "│ n_hits_oi                 │  9646.25000 │  405.12701 │\n",
      "│ n_hits_oi_train           │  7239.00000 │        nan │\n",
      "│\u001b[1;95m \u001b[0m\u001b[1;95mrepulsive                \u001b[0m\u001b[1;95m \u001b[0m│\u001b[1;95m \u001b[0m\u001b[1;95m    2.88506\u001b[0m\u001b[1;95m \u001b[0m│\u001b[1;95m \u001b[0m\u001b[1;95m   0.13500\u001b[0m\u001b[1;95m \u001b[0m│\n",
      "│ repulsive_train           │     2.40252 │        nan │\n",
      "│ repulsive_weighted        │     0.17310 │    0.00810 │\n",
      "│ repulsive_weighted_train  │     0.14415 │        nan │\n",
      "│\u001b[1;95m \u001b[0m\u001b[1;95mtotal                    \u001b[0m\u001b[1;95m \u001b[0m│\u001b[1;95m \u001b[0m\u001b[1;95m    0.58391\u001b[0m\u001b[1;95m \u001b[0m│\u001b[1;95m \u001b[0m\u001b[1;95m   0.00515\u001b[0m\u001b[1;95m \u001b[0m│\n",
      "│ total_train               │     0.54295 │        nan │\n",
      "└───────────────────────────┴─────────────┴────────────┘\n",
      "\n"
     ]
    },
    {
     "data": {
      "application/vnd.jupyter.widget-view+json": {
       "model_id": "d6e8561574194b8697a56e82e87cda7e",
       "version_major": 2,
       "version_minor": 0
      },
      "text/plain": [
       "Validation: |          | 0/? [00:00<?, ?it/s]"
      ]
     },
     "metadata": {},
     "output_type": "display_data"
    },
    {
     "data": {
      "text/html": [
       "<pre style=\"white-space:pre;overflow-x:auto;line-height:normal;font-family:Menlo,'DejaVu Sans Mono',consolas,'Courier New',monospace\"></pre>\n"
      ],
      "text/plain": []
     },
     "metadata": {},
     "output_type": "display_data"
    },
    {
     "name": "stdout",
     "output_type": "stream",
     "text": [
      "\u001b[3m                  Validation epoch=42                   \u001b[0m\n",
      "┏━━━━━━━━━━━━━━━━━━━━━━━━━━━┳━━━━━━━━━━━━━┳━━━━━━━━━━━━┓\n",
      "┃\u001b[1m \u001b[0m\u001b[1mMetric                   \u001b[0m\u001b[1m \u001b[0m┃\u001b[1m \u001b[0m\u001b[1m      Value\u001b[0m\u001b[1m \u001b[0m┃\u001b[1m \u001b[0m\u001b[1m     Error\u001b[0m\u001b[1m \u001b[0m┃\n",
      "┡━━━━━━━━━━━━━━━━━━━━━━━━━━━╇━━━━━━━━━━━━━╇━━━━━━━━━━━━┩\n",
      "│\u001b[1;95m \u001b[0m\u001b[1;95mattractive               \u001b[0m\u001b[1;95m \u001b[0m│\u001b[1;95m \u001b[0m\u001b[1;95m    0.41562\u001b[0m\u001b[1;95m \u001b[0m│\u001b[1;95m \u001b[0m\u001b[1;95m   0.00790\u001b[0m\u001b[1;95m \u001b[0m│\n",
      "│ attractive_train          │     0.45380 │        nan │\n",
      "│ attractive_weighted       │     0.41562 │    0.00790 │\n",
      "│ attractive_weighted_train │     0.45380 │        nan │\n",
      "│ n_edges_att               │ 35077.50000 │ 1273.15723 │\n",
      "│ n_edges_att_train         │ 27069.00000 │        nan │\n",
      "│ n_edges_rep               │ 95175.50000 │ 7133.94141 │\n",
      "│ n_edges_rep_train         │ 60865.00000 │        nan │\n",
      "│ n_hits_oi                 │  9646.25000 │  405.12701 │\n",
      "│ n_hits_oi_train           │  7576.00000 │        nan │\n",
      "│\u001b[1;95m \u001b[0m\u001b[1;95mrepulsive                \u001b[0m\u001b[1;95m \u001b[0m│\u001b[1;95m \u001b[0m\u001b[1;95m    2.90178\u001b[0m\u001b[1;95m \u001b[0m│\u001b[1;95m \u001b[0m\u001b[1;95m   0.12986\u001b[0m\u001b[1;95m \u001b[0m│\n",
      "│ repulsive_train           │     2.26373 │        nan │\n",
      "│ repulsive_weighted        │     0.17411 │    0.00779 │\n",
      "│ repulsive_weighted_train  │     0.13582 │        nan │\n",
      "│\u001b[1;95m \u001b[0m\u001b[1;95mtotal                    \u001b[0m\u001b[1;95m \u001b[0m│\u001b[1;95m \u001b[0m\u001b[1;95m    0.58973\u001b[0m\u001b[1;95m \u001b[0m│\u001b[1;95m \u001b[0m\u001b[1;95m   0.00418\u001b[0m\u001b[1;95m \u001b[0m│\n",
      "│ total_train               │     0.58962 │        nan │\n",
      "└───────────────────────────┴─────────────┴────────────┘\n",
      "\n"
     ]
    },
    {
     "data": {
      "application/vnd.jupyter.widget-view+json": {
       "model_id": "68149e63b3314da5ab25283a69584cad",
       "version_major": 2,
       "version_minor": 0
      },
      "text/plain": [
       "Validation: |          | 0/? [00:00<?, ?it/s]"
      ]
     },
     "metadata": {},
     "output_type": "display_data"
    },
    {
     "data": {
      "text/html": [
       "<pre style=\"white-space:pre;overflow-x:auto;line-height:normal;font-family:Menlo,'DejaVu Sans Mono',consolas,'Courier New',monospace\"></pre>\n"
      ],
      "text/plain": []
     },
     "metadata": {},
     "output_type": "display_data"
    },
    {
     "name": "stdout",
     "output_type": "stream",
     "text": [
      "\u001b[3m                  Validation epoch=43                   \u001b[0m\n",
      "┏━━━━━━━━━━━━━━━━━━━━━━━━━━━┳━━━━━━━━━━━━━┳━━━━━━━━━━━━┓\n",
      "┃\u001b[1m \u001b[0m\u001b[1mMetric                   \u001b[0m\u001b[1m \u001b[0m┃\u001b[1m \u001b[0m\u001b[1m      Value\u001b[0m\u001b[1m \u001b[0m┃\u001b[1m \u001b[0m\u001b[1m     Error\u001b[0m\u001b[1m \u001b[0m┃\n",
      "┡━━━━━━━━━━━━━━━━━━━━━━━━━━━╇━━━━━━━━━━━━━╇━━━━━━━━━━━━┩\n",
      "│\u001b[1;95m \u001b[0m\u001b[1;95mattractive               \u001b[0m\u001b[1;95m \u001b[0m│\u001b[1;95m \u001b[0m\u001b[1;95m    0.41717\u001b[0m\u001b[1;95m \u001b[0m│\u001b[1;95m \u001b[0m\u001b[1;95m   0.00706\u001b[0m\u001b[1;95m \u001b[0m│\n",
      "│ attractive_train          │     0.45039 │        nan │\n",
      "│ attractive_weighted       │     0.41717 │    0.00706 │\n",
      "│ attractive_weighted_train │     0.45039 │        nan │\n",
      "│ n_edges_att               │ 35077.50000 │ 1273.15723 │\n",
      "│ n_edges_att_train         │ 27360.00000 │        nan │\n",
      "│ n_edges_rep               │ 89412.00000 │ 7354.32617 │\n",
      "│ n_edges_rep_train         │ 58607.00000 │        nan │\n",
      "│ n_hits_oi                 │  9646.25000 │  405.12701 │\n",
      "│ n_hits_oi_train           │  7597.00000 │        nan │\n",
      "│\u001b[1;95m \u001b[0m\u001b[1;95mrepulsive                \u001b[0m\u001b[1;95m \u001b[0m│\u001b[1;95m \u001b[0m\u001b[1;95m    2.72070\u001b[0m\u001b[1;95m \u001b[0m│\u001b[1;95m \u001b[0m\u001b[1;95m   0.11947\u001b[0m\u001b[1;95m \u001b[0m│\n",
      "│ repulsive_train           │     2.30279 │        nan │\n",
      "│ repulsive_weighted        │     0.16324 │    0.00717 │\n",
      "│ repulsive_weighted_train  │     0.13817 │        nan │\n",
      "│\u001b[1;95m \u001b[0m\u001b[1;95mtotal                    \u001b[0m\u001b[1;95m \u001b[0m│\u001b[1;95m \u001b[0m\u001b[1;95m    0.58041\u001b[0m\u001b[1;95m \u001b[0m│\u001b[1;95m \u001b[0m\u001b[1;95m   0.00413\u001b[0m\u001b[1;95m \u001b[0m│\n",
      "│ total_train               │     0.58856 │        nan │\n",
      "└───────────────────────────┴─────────────┴────────────┘\n",
      "\n"
     ]
    },
    {
     "data": {
      "application/vnd.jupyter.widget-view+json": {
       "model_id": "1476cee18bd241ae8005b8d4a4b98a4c",
       "version_major": 2,
       "version_minor": 0
      },
      "text/plain": [
       "Validation: |          | 0/? [00:00<?, ?it/s]"
      ]
     },
     "metadata": {},
     "output_type": "display_data"
    },
    {
     "data": {
      "text/html": [
       "<pre style=\"white-space:pre;overflow-x:auto;line-height:normal;font-family:Menlo,'DejaVu Sans Mono',consolas,'Courier New',monospace\"></pre>\n"
      ],
      "text/plain": []
     },
     "metadata": {},
     "output_type": "display_data"
    },
    {
     "name": "stdout",
     "output_type": "stream",
     "text": [
      "\u001b[3m                  Validation epoch=44                   \u001b[0m\n",
      "┏━━━━━━━━━━━━━━━━━━━━━━━━━━━┳━━━━━━━━━━━━━┳━━━━━━━━━━━━┓\n",
      "┃\u001b[1m \u001b[0m\u001b[1mMetric                   \u001b[0m\u001b[1m \u001b[0m┃\u001b[1m \u001b[0m\u001b[1m      Value\u001b[0m\u001b[1m \u001b[0m┃\u001b[1m \u001b[0m\u001b[1m     Error\u001b[0m\u001b[1m \u001b[0m┃\n",
      "┡━━━━━━━━━━━━━━━━━━━━━━━━━━━╇━━━━━━━━━━━━━╇━━━━━━━━━━━━┩\n",
      "│\u001b[1;95m \u001b[0m\u001b[1;95mattractive               \u001b[0m\u001b[1;95m \u001b[0m│\u001b[1;95m \u001b[0m\u001b[1;95m    0.41536\u001b[0m\u001b[1;95m \u001b[0m│\u001b[1;95m \u001b[0m\u001b[1;95m   0.00956\u001b[0m\u001b[1;95m \u001b[0m│\n",
      "│ attractive_train          │     0.40383 │        nan │\n",
      "│ attractive_weighted       │     0.41536 │    0.00956 │\n",
      "│ attractive_weighted_train │     0.40383 │        nan │\n",
      "│ n_edges_att               │ 35077.50000 │ 1273.15723 │\n",
      "│ n_edges_att_train         │ 34018.00000 │        nan │\n",
      "│ n_edges_rep               │ 90838.25000 │ 6777.35449 │\n",
      "│ n_edges_rep_train         │ 92107.00000 │        nan │\n",
      "│ n_hits_oi                 │  9646.25000 │  405.12701 │\n",
      "│ n_hits_oi_train           │  9208.00000 │        nan │\n",
      "│\u001b[1;95m \u001b[0m\u001b[1;95mrepulsive                \u001b[0m\u001b[1;95m \u001b[0m│\u001b[1;95m \u001b[0m\u001b[1;95m    2.76587\u001b[0m\u001b[1;95m \u001b[0m│\u001b[1;95m \u001b[0m\u001b[1;95m   0.12144\u001b[0m\u001b[1;95m \u001b[0m│\n",
      "│ repulsive_train           │     3.01212 │        nan │\n",
      "│ repulsive_weighted        │     0.16595 │    0.00729 │\n",
      "│ repulsive_weighted_train  │     0.18073 │        nan │\n",
      "│\u001b[1;95m \u001b[0m\u001b[1;95mtotal                    \u001b[0m\u001b[1;95m \u001b[0m│\u001b[1;95m \u001b[0m\u001b[1;95m    0.58131\u001b[0m\u001b[1;95m \u001b[0m│\u001b[1;95m \u001b[0m\u001b[1;95m   0.00612\u001b[0m\u001b[1;95m \u001b[0m│\n",
      "│ total_train               │     0.58456 │        nan │\n",
      "└───────────────────────────┴─────────────┴────────────┘\n",
      "\n"
     ]
    },
    {
     "data": {
      "application/vnd.jupyter.widget-view+json": {
       "model_id": "421e13dccda94fee9a2e1a75da6c3e84",
       "version_major": 2,
       "version_minor": 0
      },
      "text/plain": [
       "Validation: |          | 0/? [00:00<?, ?it/s]"
      ]
     },
     "metadata": {},
     "output_type": "display_data"
    },
    {
     "data": {
      "text/html": [
       "<pre style=\"white-space:pre;overflow-x:auto;line-height:normal;font-family:Menlo,'DejaVu Sans Mono',consolas,'Courier New',monospace\"></pre>\n"
      ],
      "text/plain": []
     },
     "metadata": {},
     "output_type": "display_data"
    },
    {
     "name": "stdout",
     "output_type": "stream",
     "text": [
      "\u001b[3m                  Validation epoch=45                   \u001b[0m\n",
      "┏━━━━━━━━━━━━━━━━━━━━━━━━━━━┳━━━━━━━━━━━━━┳━━━━━━━━━━━━┓\n",
      "┃\u001b[1m \u001b[0m\u001b[1mMetric                   \u001b[0m\u001b[1m \u001b[0m┃\u001b[1m \u001b[0m\u001b[1m      Value\u001b[0m\u001b[1m \u001b[0m┃\u001b[1m \u001b[0m\u001b[1m     Error\u001b[0m\u001b[1m \u001b[0m┃\n",
      "┡━━━━━━━━━━━━━━━━━━━━━━━━━━━╇━━━━━━━━━━━━━╇━━━━━━━━━━━━┩\n",
      "│\u001b[1;95m \u001b[0m\u001b[1;95mattractive               \u001b[0m\u001b[1;95m \u001b[0m│\u001b[1;95m \u001b[0m\u001b[1;95m    0.43327\u001b[0m\u001b[1;95m \u001b[0m│\u001b[1;95m \u001b[0m\u001b[1;95m   0.00880\u001b[0m\u001b[1;95m \u001b[0m│\n",
      "│ attractive_train          │     0.39888 │        nan │\n",
      "│ attractive_weighted       │     0.43327 │    0.00880 │\n",
      "│ attractive_weighted_train │     0.39888 │        nan │\n",
      "│ n_edges_att               │ 35077.50000 │ 1273.15723 │\n",
      "│ n_edges_att_train         │ 32622.00000 │        nan │\n",
      "│ n_edges_rep               │ 92716.50000 │ 7034.48242 │\n",
      "│ n_edges_rep_train         │ 89924.00000 │        nan │\n",
      "│ n_hits_oi                 │  9646.25000 │  405.12701 │\n",
      "│ n_hits_oi_train           │  8680.00000 │        nan │\n",
      "│\u001b[1;95m \u001b[0m\u001b[1;95mrepulsive                \u001b[0m\u001b[1;95m \u001b[0m│\u001b[1;95m \u001b[0m\u001b[1;95m    2.81220\u001b[0m\u001b[1;95m \u001b[0m│\u001b[1;95m \u001b[0m\u001b[1;95m   0.12372\u001b[0m\u001b[1;95m \u001b[0m│\n",
      "│ repulsive_train           │     3.12666 │        nan │\n",
      "│ repulsive_weighted        │     0.16873 │    0.00742 │\n",
      "│ repulsive_weighted_train  │     0.18760 │        nan │\n",
      "│\u001b[1;95m \u001b[0m\u001b[1;95mtotal                    \u001b[0m\u001b[1;95m \u001b[0m│\u001b[1;95m \u001b[0m\u001b[1;95m    0.60200\u001b[0m\u001b[1;95m \u001b[0m│\u001b[1;95m \u001b[0m\u001b[1;95m   0.00655\u001b[0m\u001b[1;95m \u001b[0m│\n",
      "│ total_train               │     0.58648 │        nan │\n",
      "└───────────────────────────┴─────────────┴────────────┘\n",
      "\n"
     ]
    },
    {
     "data": {
      "application/vnd.jupyter.widget-view+json": {
       "model_id": "80716bc0be274966a798ee9e149f9868",
       "version_major": 2,
       "version_minor": 0
      },
      "text/plain": [
       "Validation: |          | 0/? [00:00<?, ?it/s]"
      ]
     },
     "metadata": {},
     "output_type": "display_data"
    },
    {
     "data": {
      "text/html": [
       "<pre style=\"white-space:pre;overflow-x:auto;line-height:normal;font-family:Menlo,'DejaVu Sans Mono',consolas,'Courier New',monospace\"></pre>\n"
      ],
      "text/plain": []
     },
     "metadata": {},
     "output_type": "display_data"
    },
    {
     "name": "stdout",
     "output_type": "stream",
     "text": [
      "\u001b[3m                  Validation epoch=46                   \u001b[0m\n",
      "┏━━━━━━━━━━━━━━━━━━━━━━━━━━━┳━━━━━━━━━━━━━┳━━━━━━━━━━━━┓\n",
      "┃\u001b[1m \u001b[0m\u001b[1mMetric                   \u001b[0m\u001b[1m \u001b[0m┃\u001b[1m \u001b[0m\u001b[1m      Value\u001b[0m\u001b[1m \u001b[0m┃\u001b[1m \u001b[0m\u001b[1m     Error\u001b[0m\u001b[1m \u001b[0m┃\n",
      "┡━━━━━━━━━━━━━━━━━━━━━━━━━━━╇━━━━━━━━━━━━━╇━━━━━━━━━━━━┩\n",
      "│\u001b[1;95m \u001b[0m\u001b[1;95mattractive               \u001b[0m\u001b[1;95m \u001b[0m│\u001b[1;95m \u001b[0m\u001b[1;95m    0.41011\u001b[0m\u001b[1;95m \u001b[0m│\u001b[1;95m \u001b[0m\u001b[1;95m   0.00795\u001b[0m\u001b[1;95m \u001b[0m│\n",
      "│ attractive_train          │     0.39823 │        nan │\n",
      "│ attractive_weighted       │     0.41011 │    0.00795 │\n",
      "│ attractive_weighted_train │     0.39823 │        nan │\n",
      "│ n_edges_att               │ 35077.50000 │ 1273.15723 │\n",
      "│ n_edges_att_train         │ 34261.00000 │        nan │\n",
      "│ n_edges_rep               │ 90619.25000 │ 7271.22266 │\n",
      "│ n_edges_rep_train         │ 97497.00000 │        nan │\n",
      "│ n_hits_oi                 │  9646.25000 │  405.12701 │\n",
      "│ n_hits_oi_train           │  9423.00000 │        nan │\n",
      "│\u001b[1;95m \u001b[0m\u001b[1;95mrepulsive                \u001b[0m\u001b[1;95m \u001b[0m│\u001b[1;95m \u001b[0m\u001b[1;95m    2.77936\u001b[0m\u001b[1;95m \u001b[0m│\u001b[1;95m \u001b[0m\u001b[1;95m   0.13209\u001b[0m\u001b[1;95m \u001b[0m│\n",
      "│ repulsive_train           │     3.08018 │        nan │\n",
      "│ repulsive_weighted        │     0.16676 │    0.00793 │\n",
      "│ repulsive_weighted_train  │     0.18481 │        nan │\n",
      "│\u001b[1;95m \u001b[0m\u001b[1;95mtotal                    \u001b[0m\u001b[1;95m \u001b[0m│\u001b[1;95m \u001b[0m\u001b[1;95m    0.57687\u001b[0m\u001b[1;95m \u001b[0m│\u001b[1;95m \u001b[0m\u001b[1;95m   0.00485\u001b[0m\u001b[1;95m \u001b[0m│\n",
      "│ total_train               │     0.58304 │        nan │\n",
      "└───────────────────────────┴─────────────┴────────────┘\n",
      "\n"
     ]
    },
    {
     "data": {
      "application/vnd.jupyter.widget-view+json": {
       "model_id": "3d30ac1932f74287b830ade0df3d1e1b",
       "version_major": 2,
       "version_minor": 0
      },
      "text/plain": [
       "Validation: |          | 0/? [00:00<?, ?it/s]"
      ]
     },
     "metadata": {},
     "output_type": "display_data"
    },
    {
     "data": {
      "text/html": [
       "<pre style=\"white-space:pre;overflow-x:auto;line-height:normal;font-family:Menlo,'DejaVu Sans Mono',consolas,'Courier New',monospace\"></pre>\n"
      ],
      "text/plain": []
     },
     "metadata": {},
     "output_type": "display_data"
    },
    {
     "name": "stdout",
     "output_type": "stream",
     "text": [
      "\u001b[3m                  Validation epoch=47                   \u001b[0m\n",
      "┏━━━━━━━━━━━━━━━━━━━━━━━━━━━┳━━━━━━━━━━━━━┳━━━━━━━━━━━━┓\n",
      "┃\u001b[1m \u001b[0m\u001b[1mMetric                   \u001b[0m\u001b[1m \u001b[0m┃\u001b[1m \u001b[0m\u001b[1m      Value\u001b[0m\u001b[1m \u001b[0m┃\u001b[1m \u001b[0m\u001b[1m     Error\u001b[0m\u001b[1m \u001b[0m┃\n",
      "┡━━━━━━━━━━━━━━━━━━━━━━━━━━━╇━━━━━━━━━━━━━╇━━━━━━━━━━━━┩\n",
      "│\u001b[1;95m \u001b[0m\u001b[1;95mattractive               \u001b[0m\u001b[1;95m \u001b[0m│\u001b[1;95m \u001b[0m\u001b[1;95m    0.41116\u001b[0m\u001b[1;95m \u001b[0m│\u001b[1;95m \u001b[0m\u001b[1;95m   0.00719\u001b[0m\u001b[1;95m \u001b[0m│\n",
      "│ attractive_train          │     0.44957 │        nan │\n",
      "│ attractive_weighted       │     0.41116 │    0.00719 │\n",
      "│ attractive_weighted_train │     0.44957 │        nan │\n",
      "│ n_edges_att               │ 35077.50000 │ 1273.15723 │\n",
      "│ n_edges_att_train         │ 28326.00000 │        nan │\n",
      "│ n_edges_rep               │ 90049.50000 │ 6712.55127 │\n",
      "│ n_edges_rep_train         │ 62610.00000 │        nan │\n",
      "│ n_hits_oi                 │  9646.25000 │  405.12701 │\n",
      "│ n_hits_oi_train           │  7598.00000 │        nan │\n",
      "│\u001b[1;95m \u001b[0m\u001b[1;95mrepulsive                \u001b[0m\u001b[1;95m \u001b[0m│\u001b[1;95m \u001b[0m\u001b[1;95m    2.72448\u001b[0m\u001b[1;95m \u001b[0m│\u001b[1;95m \u001b[0m\u001b[1;95m   0.11514\u001b[0m\u001b[1;95m \u001b[0m│\n",
      "│ repulsive_train           │     2.39037 │        nan │\n",
      "│ repulsive_weighted        │     0.16347 │    0.00691 │\n",
      "│ repulsive_weighted_train  │     0.14342 │        nan │\n",
      "│\u001b[1;95m \u001b[0m\u001b[1;95mtotal                    \u001b[0m\u001b[1;95m \u001b[0m│\u001b[1;95m \u001b[0m\u001b[1;95m    0.57463\u001b[0m\u001b[1;95m \u001b[0m│\u001b[1;95m \u001b[0m\u001b[1;95m   0.00375\u001b[0m\u001b[1;95m \u001b[0m│\n",
      "│ total_train               │     0.59299 │        nan │\n",
      "└───────────────────────────┴─────────────┴────────────┘\n",
      "\n"
     ]
    },
    {
     "data": {
      "application/vnd.jupyter.widget-view+json": {
       "model_id": "d7a46ebf741c4b45931712e93f80469b",
       "version_major": 2,
       "version_minor": 0
      },
      "text/plain": [
       "Validation: |          | 0/? [00:00<?, ?it/s]"
      ]
     },
     "metadata": {},
     "output_type": "display_data"
    },
    {
     "data": {
      "text/html": [
       "<pre style=\"white-space:pre;overflow-x:auto;line-height:normal;font-family:Menlo,'DejaVu Sans Mono',consolas,'Courier New',monospace\"></pre>\n"
      ],
      "text/plain": []
     },
     "metadata": {},
     "output_type": "display_data"
    },
    {
     "name": "stdout",
     "output_type": "stream",
     "text": [
      "\u001b[3m                   Validation epoch=48                   \u001b[0m\n",
      "┏━━━━━━━━━━━━━━━━━━━━━━━━━━━┳━━━━━━━━━━━━━━┳━━━━━━━━━━━━┓\n",
      "┃\u001b[1m \u001b[0m\u001b[1mMetric                   \u001b[0m\u001b[1m \u001b[0m┃\u001b[1m \u001b[0m\u001b[1m       Value\u001b[0m\u001b[1m \u001b[0m┃\u001b[1m \u001b[0m\u001b[1m     Error\u001b[0m\u001b[1m \u001b[0m┃\n",
      "┡━━━━━━━━━━━━━━━━━━━━━━━━━━━╇━━━━━━━━━━━━━━╇━━━━━━━━━━━━┩\n",
      "│\u001b[1;95m \u001b[0m\u001b[1;95mattractive               \u001b[0m\u001b[1;95m \u001b[0m│\u001b[1;95m \u001b[0m\u001b[1;95m     0.40684\u001b[0m\u001b[1;95m \u001b[0m│\u001b[1;95m \u001b[0m\u001b[1;95m   0.00887\u001b[0m\u001b[1;95m \u001b[0m│\n",
      "│ attractive_train          │      0.43048 │        nan │\n",
      "│ attractive_weighted       │      0.40684 │    0.00887 │\n",
      "│ attractive_weighted_train │      0.43048 │        nan │\n",
      "│ n_edges_att               │  35077.50000 │ 1273.15723 │\n",
      "│ n_edges_att_train         │  39815.00000 │        nan │\n",
      "│ n_edges_rep               │  95001.50000 │ 6927.60791 │\n",
      "│ n_edges_rep_train         │ 124617.00000 │        nan │\n",
      "│ n_hits_oi                 │   9646.25000 │  405.12701 │\n",
      "│ n_hits_oi_train           │  10828.00000 │        nan │\n",
      "│\u001b[1;95m \u001b[0m\u001b[1;95mrepulsive                \u001b[0m\u001b[1;95m \u001b[0m│\u001b[1;95m \u001b[0m\u001b[1;95m     2.86770\u001b[0m\u001b[1;95m \u001b[0m│\u001b[1;95m \u001b[0m\u001b[1;95m   0.12035\u001b[0m\u001b[1;95m \u001b[0m│\n",
      "│ repulsive_train           │      3.39165 │        nan │\n",
      "│ repulsive_weighted        │      0.17206 │    0.00722 │\n",
      "│ repulsive_weighted_train  │      0.20350 │        nan │\n",
      "│\u001b[1;95m \u001b[0m\u001b[1;95mtotal                    \u001b[0m\u001b[1;95m \u001b[0m│\u001b[1;95m \u001b[0m\u001b[1;95m     0.57891\u001b[0m\u001b[1;95m \u001b[0m│\u001b[1;95m \u001b[0m\u001b[1;95m   0.00742\u001b[0m\u001b[1;95m \u001b[0m│\n",
      "│ total_train               │      0.63398 │        nan │\n",
      "└───────────────────────────┴──────────────┴────────────┘\n",
      "\n"
     ]
    },
    {
     "data": {
      "application/vnd.jupyter.widget-view+json": {
       "model_id": "3816e28dd755483ab7125c2dcd3dae2c",
       "version_major": 2,
       "version_minor": 0
      },
      "text/plain": [
       "Validation: |          | 0/? [00:00<?, ?it/s]"
      ]
     },
     "metadata": {},
     "output_type": "display_data"
    },
    {
     "data": {
      "text/html": [
       "<pre style=\"white-space:pre;overflow-x:auto;line-height:normal;font-family:Menlo,'DejaVu Sans Mono',consolas,'Courier New',monospace\"></pre>\n"
      ],
      "text/plain": []
     },
     "metadata": {},
     "output_type": "display_data"
    },
    {
     "name": "stdout",
     "output_type": "stream",
     "text": [
      "\u001b[3m                  Validation epoch=49                   \u001b[0m\n",
      "┏━━━━━━━━━━━━━━━━━━━━━━━━━━━┳━━━━━━━━━━━━━┳━━━━━━━━━━━━┓\n",
      "┃\u001b[1m \u001b[0m\u001b[1mMetric                   \u001b[0m\u001b[1m \u001b[0m┃\u001b[1m \u001b[0m\u001b[1m      Value\u001b[0m\u001b[1m \u001b[0m┃\u001b[1m \u001b[0m\u001b[1m     Error\u001b[0m\u001b[1m \u001b[0m┃\n",
      "┡━━━━━━━━━━━━━━━━━━━━━━━━━━━╇━━━━━━━━━━━━━╇━━━━━━━━━━━━┩\n",
      "│\u001b[1;95m \u001b[0m\u001b[1;95mattractive               \u001b[0m\u001b[1;95m \u001b[0m│\u001b[1;95m \u001b[0m\u001b[1;95m    0.41193\u001b[0m\u001b[1;95m \u001b[0m│\u001b[1;95m \u001b[0m\u001b[1;95m   0.00843\u001b[0m\u001b[1;95m \u001b[0m│\n",
      "│ attractive_train          │     0.43536 │        nan │\n",
      "│ attractive_weighted       │     0.41193 │    0.00843 │\n",
      "│ attractive_weighted_train │     0.43536 │        nan │\n",
      "│ n_edges_att               │ 35077.50000 │ 1273.15723 │\n",
      "│ n_edges_att_train         │ 31259.00000 │        nan │\n",
      "│ n_edges_rep               │ 89303.25000 │ 7436.12305 │\n",
      "│ n_edges_rep_train         │ 78336.00000 │        nan │\n",
      "│ n_hits_oi                 │  9646.25000 │  405.12701 │\n",
      "│ n_hits_oi_train           │  8766.00000 │        nan │\n",
      "│\u001b[1;95m \u001b[0m\u001b[1;95mrepulsive                \u001b[0m\u001b[1;95m \u001b[0m│\u001b[1;95m \u001b[0m\u001b[1;95m    2.69831\u001b[0m\u001b[1;95m \u001b[0m│\u001b[1;95m \u001b[0m\u001b[1;95m   0.12588\u001b[0m\u001b[1;95m \u001b[0m│\n",
      "│ repulsive_train           │     2.59381 │        nan │\n",
      "│ repulsive_weighted        │     0.16190 │    0.00755 │\n",
      "│ repulsive_weighted_train  │     0.15563 │        nan │\n",
      "│\u001b[1;95m \u001b[0m\u001b[1;95mtotal                    \u001b[0m\u001b[1;95m \u001b[0m│\u001b[1;95m \u001b[0m\u001b[1;95m    0.57383\u001b[0m\u001b[1;95m \u001b[0m│\u001b[1;95m \u001b[0m\u001b[1;95m   0.00618\u001b[0m\u001b[1;95m \u001b[0m│\n",
      "│ total_train               │     0.59099 │        nan │\n",
      "└───────────────────────────┴─────────────┴────────────┘\n",
      "\n"
     ]
    },
    {
     "data": {
      "application/vnd.jupyter.widget-view+json": {
       "model_id": "68c2f2cf90a54d29837bee32583f94c0",
       "version_major": 2,
       "version_minor": 0
      },
      "text/plain": [
       "Validation: |          | 0/? [00:00<?, ?it/s]"
      ]
     },
     "metadata": {},
     "output_type": "display_data"
    },
    {
     "data": {
      "text/html": [
       "<pre style=\"white-space:pre;overflow-x:auto;line-height:normal;font-family:Menlo,'DejaVu Sans Mono',consolas,'Courier New',monospace\"></pre>\n"
      ],
      "text/plain": []
     },
     "metadata": {},
     "output_type": "display_data"
    },
    {
     "name": "stdout",
     "output_type": "stream",
     "text": [
      "\u001b[3m                   Validation epoch=50                   \u001b[0m\n",
      "┏━━━━━━━━━━━━━━━━━━━━━━━━━━━┳━━━━━━━━━━━━━━┳━━━━━━━━━━━━┓\n",
      "┃\u001b[1m \u001b[0m\u001b[1mMetric                   \u001b[0m\u001b[1m \u001b[0m┃\u001b[1m \u001b[0m\u001b[1m       Value\u001b[0m\u001b[1m \u001b[0m┃\u001b[1m \u001b[0m\u001b[1m     Error\u001b[0m\u001b[1m \u001b[0m┃\n",
      "┡━━━━━━━━━━━━━━━━━━━━━━━━━━━╇━━━━━━━━━━━━━━╇━━━━━━━━━━━━┩\n",
      "│\u001b[1;95m \u001b[0m\u001b[1;95mattractive               \u001b[0m\u001b[1;95m \u001b[0m│\u001b[1;95m \u001b[0m\u001b[1;95m     0.41093\u001b[0m\u001b[1;95m \u001b[0m│\u001b[1;95m \u001b[0m\u001b[1;95m   0.00831\u001b[0m\u001b[1;95m \u001b[0m│\n",
      "│ attractive_train          │      0.41875 │        nan │\n",
      "│ attractive_weighted       │      0.41093 │    0.00831 │\n",
      "│ attractive_weighted_train │      0.41875 │        nan │\n",
      "│ n_edges_att               │  35077.50000 │ 1273.15723 │\n",
      "│ n_edges_att_train         │  42248.00000 │        nan │\n",
      "│ n_edges_rep               │  90770.50000 │ 6865.76318 │\n",
      "│ n_edges_rep_train         │ 149999.00000 │        nan │\n",
      "│ n_hits_oi                 │   9646.25000 │  405.12701 │\n",
      "│ n_hits_oi_train           │  11610.00000 │        nan │\n",
      "│\u001b[1;95m \u001b[0m\u001b[1;95mrepulsive                \u001b[0m\u001b[1;95m \u001b[0m│\u001b[1;95m \u001b[0m\u001b[1;95m     2.75720\u001b[0m\u001b[1;95m \u001b[0m│\u001b[1;95m \u001b[0m\u001b[1;95m   0.12072\u001b[0m\u001b[1;95m \u001b[0m│\n",
      "│ repulsive_train           │      3.85318 │        nan │\n",
      "│ repulsive_weighted        │      0.16543 │    0.00724 │\n",
      "│ repulsive_weighted_train  │      0.23119 │        nan │\n",
      "│\u001b[1;95m \u001b[0m\u001b[1;95mtotal                    \u001b[0m\u001b[1;95m \u001b[0m│\u001b[1;95m \u001b[0m\u001b[1;95m     0.57637\u001b[0m\u001b[1;95m \u001b[0m│\u001b[1;95m \u001b[0m\u001b[1;95m   0.00638\u001b[0m\u001b[1;95m \u001b[0m│\n",
      "│ total_train               │      0.64994 │        nan │\n",
      "└───────────────────────────┴──────────────┴────────────┘\n",
      "\n"
     ]
    },
    {
     "data": {
      "application/vnd.jupyter.widget-view+json": {
       "model_id": "70bc8d70204c49aa9bfe43d182fdf291",
       "version_major": 2,
       "version_minor": 0
      },
      "text/plain": [
       "Validation: |          | 0/? [00:00<?, ?it/s]"
      ]
     },
     "metadata": {},
     "output_type": "display_data"
    },
    {
     "data": {
      "text/html": [
       "<pre style=\"white-space:pre;overflow-x:auto;line-height:normal;font-family:Menlo,'DejaVu Sans Mono',consolas,'Courier New',monospace\"></pre>\n"
      ],
      "text/plain": []
     },
     "metadata": {},
     "output_type": "display_data"
    },
    {
     "name": "stdout",
     "output_type": "stream",
     "text": [
      "\u001b[3m                   Validation epoch=51                   \u001b[0m\n",
      "┏━━━━━━━━━━━━━━━━━━━━━━━━━━━┳━━━━━━━━━━━━━━┳━━━━━━━━━━━━┓\n",
      "┃\u001b[1m \u001b[0m\u001b[1mMetric                   \u001b[0m\u001b[1m \u001b[0m┃\u001b[1m \u001b[0m\u001b[1m       Value\u001b[0m\u001b[1m \u001b[0m┃\u001b[1m \u001b[0m\u001b[1m     Error\u001b[0m\u001b[1m \u001b[0m┃\n",
      "┡━━━━━━━━━━━━━━━━━━━━━━━━━━━╇━━━━━━━━━━━━━━╇━━━━━━━━━━━━┩\n",
      "│\u001b[1;95m \u001b[0m\u001b[1;95mattractive               \u001b[0m\u001b[1;95m \u001b[0m│\u001b[1;95m \u001b[0m\u001b[1;95m     0.41120\u001b[0m\u001b[1;95m \u001b[0m│\u001b[1;95m \u001b[0m\u001b[1;95m   0.00803\u001b[0m\u001b[1;95m \u001b[0m│\n",
      "│ attractive_train          │      0.40164 │        nan │\n",
      "│ attractive_weighted       │      0.41120 │    0.00803 │\n",
      "│ attractive_weighted_train │      0.40164 │        nan │\n",
      "│ n_edges_att               │  35077.50000 │ 1273.15723 │\n",
      "│ n_edges_att_train         │  38607.00000 │        nan │\n",
      "│ n_edges_rep               │  86154.00000 │ 6918.33447 │\n",
      "│ n_edges_rep_train         │ 116479.00000 │        nan │\n",
      "│ n_hits_oi                 │   9646.25000 │  405.12701 │\n",
      "│ n_hits_oi_train           │  10678.00000 │        nan │\n",
      "│\u001b[1;95m \u001b[0m\u001b[1;95mrepulsive                \u001b[0m\u001b[1;95m \u001b[0m│\u001b[1;95m \u001b[0m\u001b[1;95m     2.64557\u001b[0m\u001b[1;95m \u001b[0m│\u001b[1;95m \u001b[0m\u001b[1;95m   0.11787\u001b[0m\u001b[1;95m \u001b[0m│\n",
      "│ repulsive_train           │      3.33932 │        nan │\n",
      "│ repulsive_weighted        │      0.15873 │    0.00707 │\n",
      "│ repulsive_weighted_train  │      0.20036 │        nan │\n",
      "│\u001b[1;95m \u001b[0m\u001b[1;95mtotal                    \u001b[0m\u001b[1;95m \u001b[0m│\u001b[1;95m \u001b[0m\u001b[1;95m     0.56993\u001b[0m\u001b[1;95m \u001b[0m│\u001b[1;95m \u001b[0m\u001b[1;95m   0.00730\u001b[0m\u001b[1;95m \u001b[0m│\n",
      "│ total_train               │      0.60200 │        nan │\n",
      "└───────────────────────────┴──────────────┴────────────┘\n",
      "\n"
     ]
    },
    {
     "data": {
      "application/vnd.jupyter.widget-view+json": {
       "model_id": "5f1d3356442848899aef1a30625f12a6",
       "version_major": 2,
       "version_minor": 0
      },
      "text/plain": [
       "Validation: |          | 0/? [00:00<?, ?it/s]"
      ]
     },
     "metadata": {},
     "output_type": "display_data"
    },
    {
     "data": {
      "text/html": [
       "<pre style=\"white-space:pre;overflow-x:auto;line-height:normal;font-family:Menlo,'DejaVu Sans Mono',consolas,'Courier New',monospace\"></pre>\n"
      ],
      "text/plain": []
     },
     "metadata": {},
     "output_type": "display_data"
    },
    {
     "name": "stdout",
     "output_type": "stream",
     "text": [
      "\u001b[3m                  Validation epoch=52                   \u001b[0m\n",
      "┏━━━━━━━━━━━━━━━━━━━━━━━━━━━┳━━━━━━━━━━━━━┳━━━━━━━━━━━━┓\n",
      "┃\u001b[1m \u001b[0m\u001b[1mMetric                   \u001b[0m\u001b[1m \u001b[0m┃\u001b[1m \u001b[0m\u001b[1m      Value\u001b[0m\u001b[1m \u001b[0m┃\u001b[1m \u001b[0m\u001b[1m     Error\u001b[0m\u001b[1m \u001b[0m┃\n",
      "┡━━━━━━━━━━━━━━━━━━━━━━━━━━━╇━━━━━━━━━━━━━╇━━━━━━━━━━━━┩\n",
      "│\u001b[1;95m \u001b[0m\u001b[1;95mattractive               \u001b[0m\u001b[1;95m \u001b[0m│\u001b[1;95m \u001b[0m\u001b[1;95m    0.40937\u001b[0m\u001b[1;95m \u001b[0m│\u001b[1;95m \u001b[0m\u001b[1;95m   0.00758\u001b[0m\u001b[1;95m \u001b[0m│\n",
      "│ attractive_train          │     0.39109 │        nan │\n",
      "│ attractive_weighted       │     0.40937 │    0.00758 │\n",
      "│ attractive_weighted_train │     0.39109 │        nan │\n",
      "│ n_edges_att               │ 35077.50000 │ 1273.15723 │\n",
      "│ n_edges_att_train         │ 32672.00000 │        nan │\n",
      "│ n_edges_rep               │ 91767.00000 │ 6622.98242 │\n",
      "│ n_edges_rep_train         │ 80504.00000 │        nan │\n",
      "│ n_hits_oi                 │  9646.25000 │  405.12701 │\n",
      "│ n_hits_oi_train           │  8901.00000 │        nan │\n",
      "│\u001b[1;95m \u001b[0m\u001b[1;95mrepulsive                \u001b[0m\u001b[1;95m \u001b[0m│\u001b[1;95m \u001b[0m\u001b[1;95m    2.77999\u001b[0m\u001b[1;95m \u001b[0m│\u001b[1;95m \u001b[0m\u001b[1;95m   0.11607\u001b[0m\u001b[1;95m \u001b[0m│\n",
      "│ repulsive_train           │     2.66092 │        nan │\n",
      "│ repulsive_weighted        │     0.16680 │    0.00696 │\n",
      "│ repulsive_weighted_train  │     0.15966 │        nan │\n",
      "│\u001b[1;95m \u001b[0m\u001b[1;95mtotal                    \u001b[0m\u001b[1;95m \u001b[0m│\u001b[1;95m \u001b[0m\u001b[1;95m    0.57617\u001b[0m\u001b[1;95m \u001b[0m│\u001b[1;95m \u001b[0m\u001b[1;95m   0.00503\u001b[0m\u001b[1;95m \u001b[0m│\n",
      "│ total_train               │     0.55075 │        nan │\n",
      "└───────────────────────────┴─────────────┴────────────┘\n",
      "\n"
     ]
    },
    {
     "data": {
      "application/vnd.jupyter.widget-view+json": {
       "model_id": "2bf09882e2154f52a83cfe810e34b014",
       "version_major": 2,
       "version_minor": 0
      },
      "text/plain": [
       "Validation: |          | 0/? [00:00<?, ?it/s]"
      ]
     },
     "metadata": {},
     "output_type": "display_data"
    },
    {
     "data": {
      "text/html": [
       "<pre style=\"white-space:pre;overflow-x:auto;line-height:normal;font-family:Menlo,'DejaVu Sans Mono',consolas,'Courier New',monospace\"></pre>\n"
      ],
      "text/plain": []
     },
     "metadata": {},
     "output_type": "display_data"
    },
    {
     "name": "stdout",
     "output_type": "stream",
     "text": [
      "\u001b[3m                   Validation epoch=53                   \u001b[0m\n",
      "┏━━━━━━━━━━━━━━━━━━━━━━━━━━━┳━━━━━━━━━━━━━━┳━━━━━━━━━━━━┓\n",
      "┃\u001b[1m \u001b[0m\u001b[1mMetric                   \u001b[0m\u001b[1m \u001b[0m┃\u001b[1m \u001b[0m\u001b[1m       Value\u001b[0m\u001b[1m \u001b[0m┃\u001b[1m \u001b[0m\u001b[1m     Error\u001b[0m\u001b[1m \u001b[0m┃\n",
      "┡━━━━━━━━━━━━━━━━━━━━━━━━━━━╇━━━━━━━━━━━━━━╇━━━━━━━━━━━━┩\n",
      "│\u001b[1;95m \u001b[0m\u001b[1;95mattractive               \u001b[0m\u001b[1;95m \u001b[0m│\u001b[1;95m \u001b[0m\u001b[1;95m     0.43337\u001b[0m\u001b[1;95m \u001b[0m│\u001b[1;95m \u001b[0m\u001b[1;95m   0.00708\u001b[0m\u001b[1;95m \u001b[0m│\n",
      "│ attractive_train          │      0.42273 │        nan │\n",
      "│ attractive_weighted       │      0.43337 │    0.00708 │\n",
      "│ attractive_weighted_train │      0.42273 │        nan │\n",
      "│ n_edges_att               │  35077.50000 │ 1273.15723 │\n",
      "│ n_edges_att_train         │  39196.00000 │        nan │\n",
      "│ n_edges_rep               │  89323.25000 │ 7140.45996 │\n",
      "│ n_edges_rep_train         │ 122751.00000 │        nan │\n",
      "│ n_hits_oi                 │   9646.25000 │  405.12701 │\n",
      "│ n_hits_oi_train           │  10965.00000 │        nan │\n",
      "│\u001b[1;95m \u001b[0m\u001b[1;95mrepulsive                \u001b[0m\u001b[1;95m \u001b[0m│\u001b[1;95m \u001b[0m\u001b[1;95m     2.73060\u001b[0m\u001b[1;95m \u001b[0m│\u001b[1;95m \u001b[0m\u001b[1;95m   0.12390\u001b[0m\u001b[1;95m \u001b[0m│\n",
      "│ repulsive_train           │      3.40229 │        nan │\n",
      "│ repulsive_weighted        │      0.16384 │    0.00743 │\n",
      "│ repulsive_weighted_train  │      0.20414 │        nan │\n",
      "│\u001b[1;95m \u001b[0m\u001b[1;95mtotal                    \u001b[0m\u001b[1;95m \u001b[0m│\u001b[1;95m \u001b[0m\u001b[1;95m     0.59720\u001b[0m\u001b[1;95m \u001b[0m│\u001b[1;95m \u001b[0m\u001b[1;95m   0.00650\u001b[0m\u001b[1;95m \u001b[0m│\n",
      "│ total_train               │      0.62687 │        nan │\n",
      "└───────────────────────────┴──────────────┴────────────┘\n",
      "\n"
     ]
    },
    {
     "data": {
      "application/vnd.jupyter.widget-view+json": {
       "model_id": "696c7cd2ccd7480fb3ca79afe21f97ee",
       "version_major": 2,
       "version_minor": 0
      },
      "text/plain": [
       "Validation: |          | 0/? [00:00<?, ?it/s]"
      ]
     },
     "metadata": {},
     "output_type": "display_data"
    },
    {
     "data": {
      "text/html": [
       "<pre style=\"white-space:pre;overflow-x:auto;line-height:normal;font-family:Menlo,'DejaVu Sans Mono',consolas,'Courier New',monospace\"></pre>\n"
      ],
      "text/plain": []
     },
     "metadata": {},
     "output_type": "display_data"
    },
    {
     "name": "stdout",
     "output_type": "stream",
     "text": [
      "\u001b[3m                  Validation epoch=54                   \u001b[0m\n",
      "┏━━━━━━━━━━━━━━━━━━━━━━━━━━━┳━━━━━━━━━━━━━┳━━━━━━━━━━━━┓\n",
      "┃\u001b[1m \u001b[0m\u001b[1mMetric                   \u001b[0m\u001b[1m \u001b[0m┃\u001b[1m \u001b[0m\u001b[1m      Value\u001b[0m\u001b[1m \u001b[0m┃\u001b[1m \u001b[0m\u001b[1m     Error\u001b[0m\u001b[1m \u001b[0m┃\n",
      "┡━━━━━━━━━━━━━━━━━━━━━━━━━━━╇━━━━━━━━━━━━━╇━━━━━━━━━━━━┩\n",
      "│\u001b[1;95m \u001b[0m\u001b[1;95mattractive               \u001b[0m\u001b[1;95m \u001b[0m│\u001b[1;95m \u001b[0m\u001b[1;95m    0.41405\u001b[0m\u001b[1;95m \u001b[0m│\u001b[1;95m \u001b[0m\u001b[1;95m   0.00658\u001b[0m\u001b[1;95m \u001b[0m│\n",
      "│ attractive_train          │     0.38350 │        nan │\n",
      "│ attractive_weighted       │     0.41405 │    0.00658 │\n",
      "│ attractive_weighted_train │     0.38350 │        nan │\n",
      "│ n_edges_att               │ 35077.50000 │ 1273.15723 │\n",
      "│ n_edges_att_train         │ 31719.00000 │        nan │\n",
      "│ n_edges_rep               │ 93454.25000 │ 6958.92627 │\n",
      "│ n_edges_rep_train         │ 92157.00000 │        nan │\n",
      "│ n_hits_oi                 │  9646.25000 │  405.12701 │\n",
      "│ n_hits_oi_train           │  8765.00000 │        nan │\n",
      "│\u001b[1;95m \u001b[0m\u001b[1;95mrepulsive                \u001b[0m\u001b[1;95m \u001b[0m│\u001b[1;95m \u001b[0m\u001b[1;95m    2.85005\u001b[0m\u001b[1;95m \u001b[0m│\u001b[1;95m \u001b[0m\u001b[1;95m   0.11611\u001b[0m\u001b[1;95m \u001b[0m│\n",
      "│ repulsive_train           │     3.17596 │        nan │\n",
      "│ repulsive_weighted        │     0.17100 │    0.00697 │\n",
      "│ repulsive_weighted_train  │     0.19056 │        nan │\n",
      "│\u001b[1;95m \u001b[0m\u001b[1;95mtotal                    \u001b[0m\u001b[1;95m \u001b[0m│\u001b[1;95m \u001b[0m\u001b[1;95m    0.58505\u001b[0m\u001b[1;95m \u001b[0m│\u001b[1;95m \u001b[0m\u001b[1;95m   0.00518\u001b[0m\u001b[1;95m \u001b[0m│\n",
      "│ total_train               │     0.57406 │        nan │\n",
      "└───────────────────────────┴─────────────┴────────────┘\n",
      "\n"
     ]
    },
    {
     "data": {
      "application/vnd.jupyter.widget-view+json": {
       "model_id": "9ea4fe5bfd804d7b96731ba62aa98567",
       "version_major": 2,
       "version_minor": 0
      },
      "text/plain": [
       "Validation: |          | 0/? [00:00<?, ?it/s]"
      ]
     },
     "metadata": {},
     "output_type": "display_data"
    },
    {
     "data": {
      "text/html": [
       "<pre style=\"white-space:pre;overflow-x:auto;line-height:normal;font-family:Menlo,'DejaVu Sans Mono',consolas,'Courier New',monospace\"></pre>\n"
      ],
      "text/plain": []
     },
     "metadata": {},
     "output_type": "display_data"
    },
    {
     "name": "stdout",
     "output_type": "stream",
     "text": [
      "\u001b[3m                  Validation epoch=55                   \u001b[0m\n",
      "┏━━━━━━━━━━━━━━━━━━━━━━━━━━━┳━━━━━━━━━━━━━┳━━━━━━━━━━━━┓\n",
      "┃\u001b[1m \u001b[0m\u001b[1mMetric                   \u001b[0m\u001b[1m \u001b[0m┃\u001b[1m \u001b[0m\u001b[1m      Value\u001b[0m\u001b[1m \u001b[0m┃\u001b[1m \u001b[0m\u001b[1m     Error\u001b[0m\u001b[1m \u001b[0m┃\n",
      "┡━━━━━━━━━━━━━━━━━━━━━━━━━━━╇━━━━━━━━━━━━━╇━━━━━━━━━━━━┩\n",
      "│\u001b[1;95m \u001b[0m\u001b[1;95mattractive               \u001b[0m\u001b[1;95m \u001b[0m│\u001b[1;95m \u001b[0m\u001b[1;95m    0.40377\u001b[0m\u001b[1;95m \u001b[0m│\u001b[1;95m \u001b[0m\u001b[1;95m   0.00764\u001b[0m\u001b[1;95m \u001b[0m│\n",
      "│ attractive_train          │     0.41606 │        nan │\n",
      "│ attractive_weighted       │     0.40377 │    0.00764 │\n",
      "│ attractive_weighted_train │     0.41606 │        nan │\n",
      "│ n_edges_att               │ 35077.50000 │ 1273.15723 │\n",
      "│ n_edges_att_train         │ 30432.00000 │        nan │\n",
      "│ n_edges_rep               │ 89308.25000 │ 7043.53564 │\n",
      "│ n_edges_rep_train         │ 73312.00000 │        nan │\n",
      "│ n_hits_oi                 │  9646.25000 │  405.12701 │\n",
      "│ n_hits_oi_train           │  8198.00000 │        nan │\n",
      "│\u001b[1;95m \u001b[0m\u001b[1;95mrepulsive                \u001b[0m\u001b[1;95m \u001b[0m│\u001b[1;95m \u001b[0m\u001b[1;95m    2.72581\u001b[0m\u001b[1;95m \u001b[0m│\u001b[1;95m \u001b[0m\u001b[1;95m   0.12186\u001b[0m\u001b[1;95m \u001b[0m│\n",
      "│ repulsive_train           │     2.70076 │        nan │\n",
      "│ repulsive_weighted        │     0.16355 │    0.00731 │\n",
      "│ repulsive_weighted_train  │     0.16205 │        nan │\n",
      "│\u001b[1;95m \u001b[0m\u001b[1;95mtotal                    \u001b[0m\u001b[1;95m \u001b[0m│\u001b[1;95m \u001b[0m\u001b[1;95m    0.56732\u001b[0m\u001b[1;95m \u001b[0m│\u001b[1;95m \u001b[0m\u001b[1;95m   0.00636\u001b[0m\u001b[1;95m \u001b[0m│\n",
      "│ total_train               │     0.57811 │        nan │\n",
      "└───────────────────────────┴─────────────┴────────────┘\n",
      "\n"
     ]
    },
    {
     "data": {
      "application/vnd.jupyter.widget-view+json": {
       "model_id": "247290ecc2a3464194a8b5c1b40c697e",
       "version_major": 2,
       "version_minor": 0
      },
      "text/plain": [
       "Validation: |          | 0/? [00:00<?, ?it/s]"
      ]
     },
     "metadata": {},
     "output_type": "display_data"
    },
    {
     "data": {
      "text/html": [
       "<pre style=\"white-space:pre;overflow-x:auto;line-height:normal;font-family:Menlo,'DejaVu Sans Mono',consolas,'Courier New',monospace\"></pre>\n"
      ],
      "text/plain": []
     },
     "metadata": {},
     "output_type": "display_data"
    },
    {
     "name": "stdout",
     "output_type": "stream",
     "text": [
      "\u001b[3m                  Validation epoch=56                   \u001b[0m\n",
      "┏━━━━━━━━━━━━━━━━━━━━━━━━━━━┳━━━━━━━━━━━━━┳━━━━━━━━━━━━┓\n",
      "┃\u001b[1m \u001b[0m\u001b[1mMetric                   \u001b[0m\u001b[1m \u001b[0m┃\u001b[1m \u001b[0m\u001b[1m      Value\u001b[0m\u001b[1m \u001b[0m┃\u001b[1m \u001b[0m\u001b[1m     Error\u001b[0m\u001b[1m \u001b[0m┃\n",
      "┡━━━━━━━━━━━━━━━━━━━━━━━━━━━╇━━━━━━━━━━━━━╇━━━━━━━━━━━━┩\n",
      "│\u001b[1;95m \u001b[0m\u001b[1;95mattractive               \u001b[0m\u001b[1;95m \u001b[0m│\u001b[1;95m \u001b[0m\u001b[1;95m    0.41404\u001b[0m\u001b[1;95m \u001b[0m│\u001b[1;95m \u001b[0m\u001b[1;95m   0.00801\u001b[0m\u001b[1;95m \u001b[0m│\n",
      "│ attractive_train          │     0.41639 │        nan │\n",
      "│ attractive_weighted       │     0.41404 │    0.00801 │\n",
      "│ attractive_weighted_train │     0.41639 │        nan │\n",
      "│ n_edges_att               │ 35077.50000 │ 1273.15723 │\n",
      "│ n_edges_att_train         │ 35683.00000 │        nan │\n",
      "│ n_edges_rep               │ 90143.00000 │ 6725.32031 │\n",
      "│ n_edges_rep_train         │ 99312.00000 │        nan │\n",
      "│ n_hits_oi                 │  9646.25000 │  405.12701 │\n",
      "│ n_hits_oi_train           │  9847.00000 │        nan │\n",
      "│\u001b[1;95m \u001b[0m\u001b[1;95mrepulsive                \u001b[0m\u001b[1;95m \u001b[0m│\u001b[1;95m \u001b[0m\u001b[1;95m    2.73498\u001b[0m\u001b[1;95m \u001b[0m│\u001b[1;95m \u001b[0m\u001b[1;95m   0.11964\u001b[0m\u001b[1;95m \u001b[0m│\n",
      "│ repulsive_train           │     3.01121 │        nan │\n",
      "│ repulsive_weighted        │     0.16410 │    0.00718 │\n",
      "│ repulsive_weighted_train  │     0.18067 │        nan │\n",
      "│\u001b[1;95m \u001b[0m\u001b[1;95mtotal                    \u001b[0m\u001b[1;95m \u001b[0m│\u001b[1;95m \u001b[0m\u001b[1;95m    0.57813\u001b[0m\u001b[1;95m \u001b[0m│\u001b[1;95m \u001b[0m\u001b[1;95m   0.00586\u001b[0m\u001b[1;95m \u001b[0m│\n",
      "│ total_train               │     0.59706 │        nan │\n",
      "└───────────────────────────┴─────────────┴────────────┘\n",
      "\n"
     ]
    },
    {
     "data": {
      "application/vnd.jupyter.widget-view+json": {
       "model_id": "dde91b92024d476bb21b8679181c1601",
       "version_major": 2,
       "version_minor": 0
      },
      "text/plain": [
       "Validation: |          | 0/? [00:00<?, ?it/s]"
      ]
     },
     "metadata": {},
     "output_type": "display_data"
    },
    {
     "data": {
      "text/html": [
       "<pre style=\"white-space:pre;overflow-x:auto;line-height:normal;font-family:Menlo,'DejaVu Sans Mono',consolas,'Courier New',monospace\"></pre>\n"
      ],
      "text/plain": []
     },
     "metadata": {},
     "output_type": "display_data"
    },
    {
     "name": "stdout",
     "output_type": "stream",
     "text": [
      "\u001b[3m                   Validation epoch=57                   \u001b[0m\n",
      "┏━━━━━━━━━━━━━━━━━━━━━━━━━━━┳━━━━━━━━━━━━━━┳━━━━━━━━━━━━┓\n",
      "┃\u001b[1m \u001b[0m\u001b[1mMetric                   \u001b[0m\u001b[1m \u001b[0m┃\u001b[1m \u001b[0m\u001b[1m       Value\u001b[0m\u001b[1m \u001b[0m┃\u001b[1m \u001b[0m\u001b[1m     Error\u001b[0m\u001b[1m \u001b[0m┃\n",
      "┡━━━━━━━━━━━━━━━━━━━━━━━━━━━╇━━━━━━━━━━━━━━╇━━━━━━━━━━━━┩\n",
      "│\u001b[1;95m \u001b[0m\u001b[1;95mattractive               \u001b[0m\u001b[1;95m \u001b[0m│\u001b[1;95m \u001b[0m\u001b[1;95m     0.40529\u001b[0m\u001b[1;95m \u001b[0m│\u001b[1;95m \u001b[0m\u001b[1;95m   0.00888\u001b[0m\u001b[1;95m \u001b[0m│\n",
      "│ attractive_train          │      0.39959 │        nan │\n",
      "│ attractive_weighted       │      0.40529 │    0.00888 │\n",
      "│ attractive_weighted_train │      0.39959 │        nan │\n",
      "│ n_edges_att               │  35077.50000 │ 1273.15723 │\n",
      "│ n_edges_att_train         │  45684.00000 │        nan │\n",
      "│ n_edges_rep               │  88515.00000 │ 6909.42871 │\n",
      "│ n_edges_rep_train         │ 146102.00000 │        nan │\n",
      "│ n_hits_oi                 │   9646.25000 │  405.12701 │\n",
      "│ n_hits_oi_train           │  12301.00000 │        nan │\n",
      "│\u001b[1;95m \u001b[0m\u001b[1;95mrepulsive                \u001b[0m\u001b[1;95m \u001b[0m│\u001b[1;95m \u001b[0m\u001b[1;95m     2.68488\u001b[0m\u001b[1;95m \u001b[0m│\u001b[1;95m \u001b[0m\u001b[1;95m   0.12879\u001b[0m\u001b[1;95m \u001b[0m│\n",
      "│ repulsive_train           │      3.43408 │        nan │\n",
      "│ repulsive_weighted        │      0.16109 │    0.00773 │\n",
      "│ repulsive_weighted_train  │      0.20604 │        nan │\n",
      "│\u001b[1;95m \u001b[0m\u001b[1;95mtotal                    \u001b[0m\u001b[1;95m \u001b[0m│\u001b[1;95m \u001b[0m\u001b[1;95m     0.56638\u001b[0m\u001b[1;95m \u001b[0m│\u001b[1;95m \u001b[0m\u001b[1;95m   0.00743\u001b[0m\u001b[1;95m \u001b[0m│\n",
      "│ total_train               │      0.60563 │        nan │\n",
      "└───────────────────────────┴──────────────┴────────────┘\n",
      "\n"
     ]
    },
    {
     "data": {
      "application/vnd.jupyter.widget-view+json": {
       "model_id": "99df0b8790f84cc0a6d1baf411cf2ceb",
       "version_major": 2,
       "version_minor": 0
      },
      "text/plain": [
       "Validation: |          | 0/? [00:00<?, ?it/s]"
      ]
     },
     "metadata": {},
     "output_type": "display_data"
    },
    {
     "data": {
      "text/html": [
       "<pre style=\"white-space:pre;overflow-x:auto;line-height:normal;font-family:Menlo,'DejaVu Sans Mono',consolas,'Courier New',monospace\"></pre>\n"
      ],
      "text/plain": []
     },
     "metadata": {},
     "output_type": "display_data"
    },
    {
     "name": "stdout",
     "output_type": "stream",
     "text": [
      "\u001b[3m                  Validation epoch=58                   \u001b[0m\n",
      "┏━━━━━━━━━━━━━━━━━━━━━━━━━━━┳━━━━━━━━━━━━━┳━━━━━━━━━━━━┓\n",
      "┃\u001b[1m \u001b[0m\u001b[1mMetric                   \u001b[0m\u001b[1m \u001b[0m┃\u001b[1m \u001b[0m\u001b[1m      Value\u001b[0m\u001b[1m \u001b[0m┃\u001b[1m \u001b[0m\u001b[1m     Error\u001b[0m\u001b[1m \u001b[0m┃\n",
      "┡━━━━━━━━━━━━━━━━━━━━━━━━━━━╇━━━━━━━━━━━━━╇━━━━━━━━━━━━┩\n",
      "│\u001b[1;95m \u001b[0m\u001b[1;95mattractive               \u001b[0m\u001b[1;95m \u001b[0m│\u001b[1;95m \u001b[0m\u001b[1;95m    0.40467\u001b[0m\u001b[1;95m \u001b[0m│\u001b[1;95m \u001b[0m\u001b[1;95m   0.00782\u001b[0m\u001b[1;95m \u001b[0m│\n",
      "│ attractive_train          │     0.39723 │        nan │\n",
      "│ attractive_weighted       │     0.40467 │    0.00782 │\n",
      "│ attractive_weighted_train │     0.39723 │        nan │\n",
      "│ n_edges_att               │ 35077.50000 │ 1273.15723 │\n",
      "│ n_edges_att_train         │ 34527.00000 │        nan │\n",
      "│ n_edges_rep               │ 92633.25000 │ 6694.52295 │\n",
      "│ n_edges_rep_train         │ 95474.00000 │        nan │\n",
      "│ n_hits_oi                 │  9646.25000 │  405.12701 │\n",
      "│ n_hits_oi_train           │  9248.00000 │        nan │\n",
      "│\u001b[1;95m \u001b[0m\u001b[1;95mrepulsive                \u001b[0m\u001b[1;95m \u001b[0m│\u001b[1;95m \u001b[0m\u001b[1;95m    2.80236\u001b[0m\u001b[1;95m \u001b[0m│\u001b[1;95m \u001b[0m\u001b[1;95m   0.11986\u001b[0m\u001b[1;95m \u001b[0m│\n",
      "│ repulsive_train           │     3.05190 │        nan │\n",
      "│ repulsive_weighted        │     0.16814 │    0.00719 │\n",
      "│ repulsive_weighted_train  │     0.18311 │        nan │\n",
      "│\u001b[1;95m \u001b[0m\u001b[1;95mtotal                    \u001b[0m\u001b[1;95m \u001b[0m│\u001b[1;95m \u001b[0m\u001b[1;95m    0.57281\u001b[0m\u001b[1;95m \u001b[0m│\u001b[1;95m \u001b[0m\u001b[1;95m   0.00512\u001b[0m\u001b[1;95m \u001b[0m│\n",
      "│ total_train               │     0.58034 │        nan │\n",
      "└───────────────────────────┴─────────────┴────────────┘\n",
      "\n"
     ]
    },
    {
     "data": {
      "application/vnd.jupyter.widget-view+json": {
       "model_id": "527306da6277448aa284c9f75e9f9463",
       "version_major": 2,
       "version_minor": 0
      },
      "text/plain": [
       "Validation: |          | 0/? [00:00<?, ?it/s]"
      ]
     },
     "metadata": {},
     "output_type": "display_data"
    },
    {
     "data": {
      "text/html": [
       "<pre style=\"white-space:pre;overflow-x:auto;line-height:normal;font-family:Menlo,'DejaVu Sans Mono',consolas,'Courier New',monospace\"></pre>\n"
      ],
      "text/plain": []
     },
     "metadata": {},
     "output_type": "display_data"
    },
    {
     "name": "stdout",
     "output_type": "stream",
     "text": [
      "\u001b[3m                  Validation epoch=59                   \u001b[0m\n",
      "┏━━━━━━━━━━━━━━━━━━━━━━━━━━━┳━━━━━━━━━━━━━┳━━━━━━━━━━━━┓\n",
      "┃\u001b[1m \u001b[0m\u001b[1mMetric                   \u001b[0m\u001b[1m \u001b[0m┃\u001b[1m \u001b[0m\u001b[1m      Value\u001b[0m\u001b[1m \u001b[0m┃\u001b[1m \u001b[0m\u001b[1m     Error\u001b[0m\u001b[1m \u001b[0m┃\n",
      "┡━━━━━━━━━━━━━━━━━━━━━━━━━━━╇━━━━━━━━━━━━━╇━━━━━━━━━━━━┩\n",
      "│\u001b[1;95m \u001b[0m\u001b[1;95mattractive               \u001b[0m\u001b[1;95m \u001b[0m│\u001b[1;95m \u001b[0m\u001b[1;95m    0.40908\u001b[0m\u001b[1;95m \u001b[0m│\u001b[1;95m \u001b[0m\u001b[1;95m   0.00702\u001b[0m\u001b[1;95m \u001b[0m│\n",
      "│ attractive_train          │     0.44949 │        nan │\n",
      "│ attractive_weighted       │     0.40908 │    0.00702 │\n",
      "│ attractive_weighted_train │     0.44949 │        nan │\n",
      "│ n_edges_att               │ 35077.50000 │ 1273.15723 │\n",
      "│ n_edges_att_train         │ 32443.00000 │        nan │\n",
      "│ n_edges_rep               │ 89265.50000 │ 7137.06885 │\n",
      "│ n_edges_rep_train         │ 93378.00000 │        nan │\n",
      "│ n_hits_oi                 │  9646.25000 │  405.12701 │\n",
      "│ n_hits_oi_train           │  9163.00000 │        nan │\n",
      "│\u001b[1;95m \u001b[0m\u001b[1;95mrepulsive                \u001b[0m\u001b[1;95m \u001b[0m│\u001b[1;95m \u001b[0m\u001b[1;95m    2.73809\u001b[0m\u001b[1;95m \u001b[0m│\u001b[1;95m \u001b[0m\u001b[1;95m   0.12089\u001b[0m\u001b[1;95m \u001b[0m│\n",
      "│ repulsive_train           │     2.98240 │        nan │\n",
      "│ repulsive_weighted        │     0.16429 │    0.00725 │\n",
      "│ repulsive_weighted_train  │     0.17894 │        nan │\n",
      "│\u001b[1;95m \u001b[0m\u001b[1;95mtotal                    \u001b[0m\u001b[1;95m \u001b[0m│\u001b[1;95m \u001b[0m\u001b[1;95m    0.57336\u001b[0m\u001b[1;95m \u001b[0m│\u001b[1;95m \u001b[0m\u001b[1;95m   0.00587\u001b[0m\u001b[1;95m \u001b[0m│\n",
      "│ total_train               │     0.62843 │        nan │\n",
      "└───────────────────────────┴─────────────┴────────────┘\n",
      "\n"
     ]
    },
    {
     "data": {
      "application/vnd.jupyter.widget-view+json": {
       "model_id": "3486d27c3b044968bfe185e7a4cbb2e0",
       "version_major": 2,
       "version_minor": 0
      },
      "text/plain": [
       "Validation: |          | 0/? [00:00<?, ?it/s]"
      ]
     },
     "metadata": {},
     "output_type": "display_data"
    },
    {
     "data": {
      "text/html": [
       "<pre style=\"white-space:pre;overflow-x:auto;line-height:normal;font-family:Menlo,'DejaVu Sans Mono',consolas,'Courier New',monospace\"></pre>\n"
      ],
      "text/plain": []
     },
     "metadata": {},
     "output_type": "display_data"
    },
    {
     "name": "stdout",
     "output_type": "stream",
     "text": [
      "\u001b[3m                   Validation epoch=60                   \u001b[0m\n",
      "┏━━━━━━━━━━━━━━━━━━━━━━━━━━━┳━━━━━━━━━━━━━━┳━━━━━━━━━━━━┓\n",
      "┃\u001b[1m \u001b[0m\u001b[1mMetric                   \u001b[0m\u001b[1m \u001b[0m┃\u001b[1m \u001b[0m\u001b[1m       Value\u001b[0m\u001b[1m \u001b[0m┃\u001b[1m \u001b[0m\u001b[1m     Error\u001b[0m\u001b[1m \u001b[0m┃\n",
      "┡━━━━━━━━━━━━━━━━━━━━━━━━━━━╇━━━━━━━━━━━━━━╇━━━━━━━━━━━━┩\n",
      "│\u001b[1;95m \u001b[0m\u001b[1;95mattractive               \u001b[0m\u001b[1;95m \u001b[0m│\u001b[1;95m \u001b[0m\u001b[1;95m     0.40745\u001b[0m\u001b[1;95m \u001b[0m│\u001b[1;95m \u001b[0m\u001b[1;95m   0.00679\u001b[0m\u001b[1;95m \u001b[0m│\n",
      "│ attractive_train          │      0.37019 │        nan │\n",
      "│ attractive_weighted       │      0.40745 │    0.00679 │\n",
      "│ attractive_weighted_train │      0.37019 │        nan │\n",
      "│ n_edges_att               │  35077.50000 │ 1273.15723 │\n",
      "│ n_edges_att_train         │  38926.00000 │        nan │\n",
      "│ n_edges_rep               │  93425.25000 │ 6901.89014 │\n",
      "│ n_edges_rep_train         │ 128901.00000 │        nan │\n",
      "│ n_hits_oi                 │   9646.25000 │  405.12701 │\n",
      "│ n_hits_oi_train           │  10624.00000 │        nan │\n",
      "│\u001b[1;95m \u001b[0m\u001b[1;95mrepulsive                \u001b[0m\u001b[1;95m \u001b[0m│\u001b[1;95m \u001b[0m\u001b[1;95m     2.83723\u001b[0m\u001b[1;95m \u001b[0m│\u001b[1;95m \u001b[0m\u001b[1;95m   0.12155\u001b[0m\u001b[1;95m \u001b[0m│\n",
      "│ repulsive_train           │      3.52220 │        nan │\n",
      "│ repulsive_weighted        │      0.17023 │    0.00729 │\n",
      "│ repulsive_weighted_train  │      0.21133 │        nan │\n",
      "│\u001b[1;95m \u001b[0m\u001b[1;95mtotal                    \u001b[0m\u001b[1;95m \u001b[0m│\u001b[1;95m \u001b[0m\u001b[1;95m     0.57768\u001b[0m\u001b[1;95m \u001b[0m│\u001b[1;95m \u001b[0m\u001b[1;95m   0.00383\u001b[0m\u001b[1;95m \u001b[0m│\n",
      "│ total_train               │      0.58152 │        nan │\n",
      "└───────────────────────────┴──────────────┴────────────┘\n",
      "\n"
     ]
    },
    {
     "data": {
      "application/vnd.jupyter.widget-view+json": {
       "model_id": "f6d96a6a41894dec8cef08d64a4b2609",
       "version_major": 2,
       "version_minor": 0
      },
      "text/plain": [
       "Validation: |          | 0/? [00:00<?, ?it/s]"
      ]
     },
     "metadata": {},
     "output_type": "display_data"
    },
    {
     "data": {
      "text/html": [
       "<pre style=\"white-space:pre;overflow-x:auto;line-height:normal;font-family:Menlo,'DejaVu Sans Mono',consolas,'Courier New',monospace\"></pre>\n"
      ],
      "text/plain": []
     },
     "metadata": {},
     "output_type": "display_data"
    },
    {
     "name": "stdout",
     "output_type": "stream",
     "text": [
      "\u001b[3m                  Validation epoch=61                   \u001b[0m\n",
      "┏━━━━━━━━━━━━━━━━━━━━━━━━━━━┳━━━━━━━━━━━━━┳━━━━━━━━━━━━┓\n",
      "┃\u001b[1m \u001b[0m\u001b[1mMetric                   \u001b[0m\u001b[1m \u001b[0m┃\u001b[1m \u001b[0m\u001b[1m      Value\u001b[0m\u001b[1m \u001b[0m┃\u001b[1m \u001b[0m\u001b[1m     Error\u001b[0m\u001b[1m \u001b[0m┃\n",
      "┡━━━━━━━━━━━━━━━━━━━━━━━━━━━╇━━━━━━━━━━━━━╇━━━━━━━━━━━━┩\n",
      "│\u001b[1;95m \u001b[0m\u001b[1;95mattractive               \u001b[0m\u001b[1;95m \u001b[0m│\u001b[1;95m \u001b[0m\u001b[1;95m    0.40005\u001b[0m\u001b[1;95m \u001b[0m│\u001b[1;95m \u001b[0m\u001b[1;95m   0.00705\u001b[0m\u001b[1;95m \u001b[0m│\n",
      "│ attractive_train          │     0.38908 │        nan │\n",
      "│ attractive_weighted       │     0.40005 │    0.00705 │\n",
      "│ attractive_weighted_train │     0.38908 │        nan │\n",
      "│ n_edges_att               │ 35077.50000 │ 1273.15723 │\n",
      "│ n_edges_att_train         │ 24618.00000 │        nan │\n",
      "│ n_edges_rep               │ 92802.00000 │ 6956.19531 │\n",
      "│ n_edges_rep_train         │ 59827.00000 │        nan │\n",
      "│ n_hits_oi                 │  9646.25000 │  405.12701 │\n",
      "│ n_hits_oi_train           │  6768.00000 │        nan │\n",
      "│\u001b[1;95m \u001b[0m\u001b[1;95mrepulsive                \u001b[0m\u001b[1;95m \u001b[0m│\u001b[1;95m \u001b[0m\u001b[1;95m    2.82486\u001b[0m\u001b[1;95m \u001b[0m│\u001b[1;95m \u001b[0m\u001b[1;95m   0.11808\u001b[0m\u001b[1;95m \u001b[0m│\n",
      "│ repulsive_train           │     2.62548 │        nan │\n",
      "│ repulsive_weighted        │     0.16949 │    0.00708 │\n",
      "│ repulsive_weighted_train  │     0.15753 │        nan │\n",
      "│\u001b[1;95m \u001b[0m\u001b[1;95mtotal                    \u001b[0m\u001b[1;95m \u001b[0m│\u001b[1;95m \u001b[0m\u001b[1;95m    0.56954\u001b[0m\u001b[1;95m \u001b[0m│\u001b[1;95m \u001b[0m\u001b[1;95m   0.00418\u001b[0m\u001b[1;95m \u001b[0m│\n",
      "│ total_train               │     0.54661 │        nan │\n",
      "└───────────────────────────┴─────────────┴────────────┘\n",
      "\n"
     ]
    },
    {
     "data": {
      "application/vnd.jupyter.widget-view+json": {
       "model_id": "99c6aacc0eac454cab040c146f77b54d",
       "version_major": 2,
       "version_minor": 0
      },
      "text/plain": [
       "Validation: |          | 0/? [00:00<?, ?it/s]"
      ]
     },
     "metadata": {},
     "output_type": "display_data"
    },
    {
     "data": {
      "text/html": [
       "<pre style=\"white-space:pre;overflow-x:auto;line-height:normal;font-family:Menlo,'DejaVu Sans Mono',consolas,'Courier New',monospace\"></pre>\n"
      ],
      "text/plain": []
     },
     "metadata": {},
     "output_type": "display_data"
    },
    {
     "name": "stdout",
     "output_type": "stream",
     "text": [
      "\u001b[3m                   Validation epoch=62                   \u001b[0m\n",
      "┏━━━━━━━━━━━━━━━━━━━━━━━━━━━┳━━━━━━━━━━━━━━┳━━━━━━━━━━━━┓\n",
      "┃\u001b[1m \u001b[0m\u001b[1mMetric                   \u001b[0m\u001b[1m \u001b[0m┃\u001b[1m \u001b[0m\u001b[1m       Value\u001b[0m\u001b[1m \u001b[0m┃\u001b[1m \u001b[0m\u001b[1m     Error\u001b[0m\u001b[1m \u001b[0m┃\n",
      "┡━━━━━━━━━━━━━━━━━━━━━━━━━━━╇━━━━━━━━━━━━━━╇━━━━━━━━━━━━┩\n",
      "│\u001b[1;95m \u001b[0m\u001b[1;95mattractive               \u001b[0m\u001b[1;95m \u001b[0m│\u001b[1;95m \u001b[0m\u001b[1;95m     0.39105\u001b[0m\u001b[1;95m \u001b[0m│\u001b[1;95m \u001b[0m\u001b[1;95m   0.00663\u001b[0m\u001b[1;95m \u001b[0m│\n",
      "│ attractive_train          │      0.40794 │        nan │\n",
      "│ attractive_weighted       │      0.39105 │    0.00663 │\n",
      "│ attractive_weighted_train │      0.40794 │        nan │\n",
      "│ n_edges_att               │  35077.50000 │ 1273.15723 │\n",
      "│ n_edges_att_train         │  37298.00000 │        nan │\n",
      "│ n_edges_rep               │  96780.00000 │ 7275.95752 │\n",
      "│ n_edges_rep_train         │ 108314.00000 │        nan │\n",
      "│ n_hits_oi                 │   9646.25000 │  405.12701 │\n",
      "│ n_hits_oi_train           │   9947.00000 │        nan │\n",
      "│\u001b[1;95m \u001b[0m\u001b[1;95mrepulsive                \u001b[0m\u001b[1;95m \u001b[0m│\u001b[1;95m \u001b[0m\u001b[1;95m     2.90493\u001b[0m\u001b[1;95m \u001b[0m│\u001b[1;95m \u001b[0m\u001b[1;95m   0.12469\u001b[0m\u001b[1;95m \u001b[0m│\n",
      "│ repulsive_train           │      3.27626 │        nan │\n",
      "│ repulsive_weighted        │      0.17430 │    0.00748 │\n",
      "│ repulsive_weighted_train  │      0.19658 │        nan │\n",
      "│\u001b[1;95m \u001b[0m\u001b[1;95mtotal                    \u001b[0m\u001b[1;95m \u001b[0m│\u001b[1;95m \u001b[0m\u001b[1;95m     0.56535\u001b[0m\u001b[1;95m \u001b[0m│\u001b[1;95m \u001b[0m\u001b[1;95m   0.00574\u001b[0m\u001b[1;95m \u001b[0m│\n",
      "│ total_train               │      0.60452 │        nan │\n",
      "└───────────────────────────┴──────────────┴────────────┘\n",
      "\n"
     ]
    },
    {
     "data": {
      "application/vnd.jupyter.widget-view+json": {
       "model_id": "f8099bf1d5be416c880f97461d214938",
       "version_major": 2,
       "version_minor": 0
      },
      "text/plain": [
       "Validation: |          | 0/? [00:00<?, ?it/s]"
      ]
     },
     "metadata": {},
     "output_type": "display_data"
    },
    {
     "data": {
      "text/html": [
       "<pre style=\"white-space:pre;overflow-x:auto;line-height:normal;font-family:Menlo,'DejaVu Sans Mono',consolas,'Courier New',monospace\"></pre>\n"
      ],
      "text/plain": []
     },
     "metadata": {},
     "output_type": "display_data"
    },
    {
     "name": "stdout",
     "output_type": "stream",
     "text": [
      "\u001b[3m                  Validation epoch=63                   \u001b[0m\n",
      "┏━━━━━━━━━━━━━━━━━━━━━━━━━━━┳━━━━━━━━━━━━━┳━━━━━━━━━━━━┓\n",
      "┃\u001b[1m \u001b[0m\u001b[1mMetric                   \u001b[0m\u001b[1m \u001b[0m┃\u001b[1m \u001b[0m\u001b[1m      Value\u001b[0m\u001b[1m \u001b[0m┃\u001b[1m \u001b[0m\u001b[1m     Error\u001b[0m\u001b[1m \u001b[0m┃\n",
      "┡━━━━━━━━━━━━━━━━━━━━━━━━━━━╇━━━━━━━━━━━━━╇━━━━━━━━━━━━┩\n",
      "│\u001b[1;95m \u001b[0m\u001b[1;95mattractive               \u001b[0m\u001b[1;95m \u001b[0m│\u001b[1;95m \u001b[0m\u001b[1;95m    0.39978\u001b[0m\u001b[1;95m \u001b[0m│\u001b[1;95m \u001b[0m\u001b[1;95m   0.00762\u001b[0m\u001b[1;95m \u001b[0m│\n",
      "│ attractive_train          │     0.40169 │        nan │\n",
      "│ attractive_weighted       │     0.39978 │    0.00762 │\n",
      "│ attractive_weighted_train │     0.40169 │        nan │\n",
      "│ n_edges_att               │ 35077.50000 │ 1273.15723 │\n",
      "│ n_edges_att_train         │ 29677.00000 │        nan │\n",
      "│ n_edges_rep               │ 93973.00000 │ 7437.11572 │\n",
      "│ n_edges_rep_train         │ 79773.00000 │        nan │\n",
      "│ n_hits_oi                 │  9646.25000 │  405.12701 │\n",
      "│ n_hits_oi_train           │  8142.00000 │        nan │\n",
      "│\u001b[1;95m \u001b[0m\u001b[1;95mrepulsive                \u001b[0m\u001b[1;95m \u001b[0m│\u001b[1;95m \u001b[0m\u001b[1;95m    2.83612\u001b[0m\u001b[1;95m \u001b[0m│\u001b[1;95m \u001b[0m\u001b[1;95m   0.12937\u001b[0m\u001b[1;95m \u001b[0m│\n",
      "│ repulsive_train           │     2.88256 │        nan │\n",
      "│ repulsive_weighted        │     0.17017 │    0.00776 │\n",
      "│ repulsive_weighted_train  │     0.17295 │        nan │\n",
      "│\u001b[1;95m \u001b[0m\u001b[1;95mtotal                    \u001b[0m\u001b[1;95m \u001b[0m│\u001b[1;95m \u001b[0m\u001b[1;95m    0.56995\u001b[0m\u001b[1;95m \u001b[0m│\u001b[1;95m \u001b[0m\u001b[1;95m   0.00660\u001b[0m\u001b[1;95m \u001b[0m│\n",
      "│ total_train               │     0.57465 │        nan │\n",
      "└───────────────────────────┴─────────────┴────────────┘\n",
      "\n"
     ]
    },
    {
     "data": {
      "application/vnd.jupyter.widget-view+json": {
       "model_id": "4e96de56184f418e98b5c3932c5b0dc6",
       "version_major": 2,
       "version_minor": 0
      },
      "text/plain": [
       "Validation: |          | 0/? [00:00<?, ?it/s]"
      ]
     },
     "metadata": {},
     "output_type": "display_data"
    },
    {
     "data": {
      "text/html": [
       "<pre style=\"white-space:pre;overflow-x:auto;line-height:normal;font-family:Menlo,'DejaVu Sans Mono',consolas,'Courier New',monospace\"></pre>\n"
      ],
      "text/plain": []
     },
     "metadata": {},
     "output_type": "display_data"
    },
    {
     "name": "stdout",
     "output_type": "stream",
     "text": [
      "\u001b[3m                  Validation epoch=64                   \u001b[0m\n",
      "┏━━━━━━━━━━━━━━━━━━━━━━━━━━━┳━━━━━━━━━━━━━┳━━━━━━━━━━━━┓\n",
      "┃\u001b[1m \u001b[0m\u001b[1mMetric                   \u001b[0m\u001b[1m \u001b[0m┃\u001b[1m \u001b[0m\u001b[1m      Value\u001b[0m\u001b[1m \u001b[0m┃\u001b[1m \u001b[0m\u001b[1m     Error\u001b[0m\u001b[1m \u001b[0m┃\n",
      "┡━━━━━━━━━━━━━━━━━━━━━━━━━━━╇━━━━━━━━━━━━━╇━━━━━━━━━━━━┩\n",
      "│\u001b[1;95m \u001b[0m\u001b[1;95mattractive               \u001b[0m\u001b[1;95m \u001b[0m│\u001b[1;95m \u001b[0m\u001b[1;95m    0.39161\u001b[0m\u001b[1;95m \u001b[0m│\u001b[1;95m \u001b[0m\u001b[1;95m   0.00730\u001b[0m\u001b[1;95m \u001b[0m│\n",
      "│ attractive_train          │     0.38638 │        nan │\n",
      "│ attractive_weighted       │     0.39161 │    0.00730 │\n",
      "│ attractive_weighted_train │     0.38638 │        nan │\n",
      "│ n_edges_att               │ 35077.50000 │ 1273.15723 │\n",
      "│ n_edges_att_train         │ 32024.00000 │        nan │\n",
      "│ n_edges_rep               │ 97394.00000 │ 7305.67334 │\n",
      "│ n_edges_rep_train         │ 77813.00000 │        nan │\n",
      "│ n_hits_oi                 │  9646.25000 │  405.12701 │\n",
      "│ n_hits_oi_train           │  8597.00000 │        nan │\n",
      "│\u001b[1;95m \u001b[0m\u001b[1;95mrepulsive                \u001b[0m\u001b[1;95m \u001b[0m│\u001b[1;95m \u001b[0m\u001b[1;95m    2.92720\u001b[0m\u001b[1;95m \u001b[0m│\u001b[1;95m \u001b[0m\u001b[1;95m   0.11853\u001b[0m\u001b[1;95m \u001b[0m│\n",
      "│ repulsive_train           │     2.55602 │        nan │\n",
      "│ repulsive_weighted        │     0.17563 │    0.00711 │\n",
      "│ repulsive_weighted_train  │     0.15336 │        nan │\n",
      "│\u001b[1;95m \u001b[0m\u001b[1;95mtotal                    \u001b[0m\u001b[1;95m \u001b[0m│\u001b[1;95m \u001b[0m\u001b[1;95m    0.56724\u001b[0m\u001b[1;95m \u001b[0m│\u001b[1;95m \u001b[0m\u001b[1;95m   0.00742\u001b[0m\u001b[1;95m \u001b[0m│\n",
      "│ total_train               │     0.53974 │        nan │\n",
      "└───────────────────────────┴─────────────┴────────────┘\n",
      "\n"
     ]
    },
    {
     "data": {
      "application/vnd.jupyter.widget-view+json": {
       "model_id": "f9a9817df2734b0f815d54bca77110c9",
       "version_major": 2,
       "version_minor": 0
      },
      "text/plain": [
       "Validation: |          | 0/? [00:00<?, ?it/s]"
      ]
     },
     "metadata": {},
     "output_type": "display_data"
    },
    {
     "data": {
      "text/html": [
       "<pre style=\"white-space:pre;overflow-x:auto;line-height:normal;font-family:Menlo,'DejaVu Sans Mono',consolas,'Courier New',monospace\"></pre>\n"
      ],
      "text/plain": []
     },
     "metadata": {},
     "output_type": "display_data"
    },
    {
     "name": "stdout",
     "output_type": "stream",
     "text": [
      "\u001b[3m                  Validation epoch=65                   \u001b[0m\n",
      "┏━━━━━━━━━━━━━━━━━━━━━━━━━━━┳━━━━━━━━━━━━━┳━━━━━━━━━━━━┓\n",
      "┃\u001b[1m \u001b[0m\u001b[1mMetric                   \u001b[0m\u001b[1m \u001b[0m┃\u001b[1m \u001b[0m\u001b[1m      Value\u001b[0m\u001b[1m \u001b[0m┃\u001b[1m \u001b[0m\u001b[1m     Error\u001b[0m\u001b[1m \u001b[0m┃\n",
      "┡━━━━━━━━━━━━━━━━━━━━━━━━━━━╇━━━━━━━━━━━━━╇━━━━━━━━━━━━┩\n",
      "│\u001b[1;95m \u001b[0m\u001b[1;95mattractive               \u001b[0m\u001b[1;95m \u001b[0m│\u001b[1;95m \u001b[0m\u001b[1;95m    0.39824\u001b[0m\u001b[1;95m \u001b[0m│\u001b[1;95m \u001b[0m\u001b[1;95m   0.00720\u001b[0m\u001b[1;95m \u001b[0m│\n",
      "│ attractive_train          │     0.46969 │        nan │\n",
      "│ attractive_weighted       │     0.39824 │    0.00720 │\n",
      "│ attractive_weighted_train │     0.46969 │        nan │\n",
      "│ n_edges_att               │ 35077.50000 │ 1273.15723 │\n",
      "│ n_edges_att_train         │ 27922.00000 │        nan │\n",
      "│ n_edges_rep               │ 91741.75000 │ 7354.54150 │\n",
      "│ n_edges_rep_train         │ 61697.00000 │        nan │\n",
      "│ n_hits_oi                 │  9646.25000 │  405.12701 │\n",
      "│ n_hits_oi_train           │  7759.00000 │        nan │\n",
      "│\u001b[1;95m \u001b[0m\u001b[1;95mrepulsive                \u001b[0m\u001b[1;95m \u001b[0m│\u001b[1;95m \u001b[0m\u001b[1;95m    2.79843\u001b[0m\u001b[1;95m \u001b[0m│\u001b[1;95m \u001b[0m\u001b[1;95m   0.12593\u001b[0m\u001b[1;95m \u001b[0m│\n",
      "│ repulsive_train           │     2.29735 │        nan │\n",
      "│ repulsive_weighted        │     0.16791 │    0.00756 │\n",
      "│ repulsive_weighted_train  │     0.13784 │        nan │\n",
      "│\u001b[1;95m \u001b[0m\u001b[1;95mtotal                    \u001b[0m\u001b[1;95m \u001b[0m│\u001b[1;95m \u001b[0m\u001b[1;95m    0.56615\u001b[0m\u001b[1;95m \u001b[0m│\u001b[1;95m \u001b[0m\u001b[1;95m   0.00573\u001b[0m\u001b[1;95m \u001b[0m│\n",
      "│ total_train               │     0.60753 │        nan │\n",
      "└───────────────────────────┴─────────────┴────────────┘\n",
      "\n"
     ]
    },
    {
     "data": {
      "application/vnd.jupyter.widget-view+json": {
       "model_id": "77f5dc18ea904fe89f7ed59df5590872",
       "version_major": 2,
       "version_minor": 0
      },
      "text/plain": [
       "Validation: |          | 0/? [00:00<?, ?it/s]"
      ]
     },
     "metadata": {},
     "output_type": "display_data"
    },
    {
     "data": {
      "text/html": [
       "<pre style=\"white-space:pre;overflow-x:auto;line-height:normal;font-family:Menlo,'DejaVu Sans Mono',consolas,'Courier New',monospace\"></pre>\n"
      ],
      "text/plain": []
     },
     "metadata": {},
     "output_type": "display_data"
    },
    {
     "name": "stdout",
     "output_type": "stream",
     "text": [
      "\u001b[3m                  Validation epoch=66                   \u001b[0m\n",
      "┏━━━━━━━━━━━━━━━━━━━━━━━━━━━┳━━━━━━━━━━━━━┳━━━━━━━━━━━━┓\n",
      "┃\u001b[1m \u001b[0m\u001b[1mMetric                   \u001b[0m\u001b[1m \u001b[0m┃\u001b[1m \u001b[0m\u001b[1m      Value\u001b[0m\u001b[1m \u001b[0m┃\u001b[1m \u001b[0m\u001b[1m     Error\u001b[0m\u001b[1m \u001b[0m┃\n",
      "┡━━━━━━━━━━━━━━━━━━━━━━━━━━━╇━━━━━━━━━━━━━╇━━━━━━━━━━━━┩\n",
      "│\u001b[1;95m \u001b[0m\u001b[1;95mattractive               \u001b[0m\u001b[1;95m \u001b[0m│\u001b[1;95m \u001b[0m\u001b[1;95m    0.40537\u001b[0m\u001b[1;95m \u001b[0m│\u001b[1;95m \u001b[0m\u001b[1;95m   0.00544\u001b[0m\u001b[1;95m \u001b[0m│\n",
      "│ attractive_train          │     0.39999 │        nan │\n",
      "│ attractive_weighted       │     0.40537 │    0.00544 │\n",
      "│ attractive_weighted_train │     0.39999 │        nan │\n",
      "│ n_edges_att               │ 35077.50000 │ 1273.15723 │\n",
      "│ n_edges_att_train         │ 31815.00000 │        nan │\n",
      "│ n_edges_rep               │ 91937.25000 │ 6833.33496 │\n",
      "│ n_edges_rep_train         │ 87280.00000 │        nan │\n",
      "│ n_hits_oi                 │  9646.25000 │  405.12701 │\n",
      "│ n_hits_oi_train           │  8789.00000 │        nan │\n",
      "│\u001b[1;95m \u001b[0m\u001b[1;95mrepulsive                \u001b[0m\u001b[1;95m \u001b[0m│\u001b[1;95m \u001b[0m\u001b[1;95m    2.78549\u001b[0m\u001b[1;95m \u001b[0m│\u001b[1;95m \u001b[0m\u001b[1;95m   0.11884\u001b[0m\u001b[1;95m \u001b[0m│\n",
      "│ repulsive_train           │     2.83019 │        nan │\n",
      "│ repulsive_weighted        │     0.16713 │    0.00713 │\n",
      "│ repulsive_weighted_train  │     0.16981 │        nan │\n",
      "│\u001b[1;95m \u001b[0m\u001b[1;95mtotal                    \u001b[0m\u001b[1;95m \u001b[0m│\u001b[1;95m \u001b[0m\u001b[1;95m    0.57250\u001b[0m\u001b[1;95m \u001b[0m│\u001b[1;95m \u001b[0m\u001b[1;95m   0.00516\u001b[0m\u001b[1;95m \u001b[0m│\n",
      "│ total_train               │     0.56980 │        nan │\n",
      "└───────────────────────────┴─────────────┴────────────┘\n",
      "\n"
     ]
    },
    {
     "data": {
      "application/vnd.jupyter.widget-view+json": {
       "model_id": "37c2b0cd1b9f4346b408f57aefa16334",
       "version_major": 2,
       "version_minor": 0
      },
      "text/plain": [
       "Validation: |          | 0/? [00:00<?, ?it/s]"
      ]
     },
     "metadata": {},
     "output_type": "display_data"
    },
    {
     "data": {
      "text/html": [
       "<pre style=\"white-space:pre;overflow-x:auto;line-height:normal;font-family:Menlo,'DejaVu Sans Mono',consolas,'Courier New',monospace\"></pre>\n"
      ],
      "text/plain": []
     },
     "metadata": {},
     "output_type": "display_data"
    },
    {
     "name": "stdout",
     "output_type": "stream",
     "text": [
      "\u001b[3m                  Validation epoch=67                   \u001b[0m\n",
      "┏━━━━━━━━━━━━━━━━━━━━━━━━━━━┳━━━━━━━━━━━━━┳━━━━━━━━━━━━┓\n",
      "┃\u001b[1m \u001b[0m\u001b[1mMetric                   \u001b[0m\u001b[1m \u001b[0m┃\u001b[1m \u001b[0m\u001b[1m      Value\u001b[0m\u001b[1m \u001b[0m┃\u001b[1m \u001b[0m\u001b[1m     Error\u001b[0m\u001b[1m \u001b[0m┃\n",
      "┡━━━━━━━━━━━━━━━━━━━━━━━━━━━╇━━━━━━━━━━━━━╇━━━━━━━━━━━━┩\n",
      "│\u001b[1;95m \u001b[0m\u001b[1;95mattractive               \u001b[0m\u001b[1;95m \u001b[0m│\u001b[1;95m \u001b[0m\u001b[1;95m    0.41633\u001b[0m\u001b[1;95m \u001b[0m│\u001b[1;95m \u001b[0m\u001b[1;95m   0.00769\u001b[0m\u001b[1;95m \u001b[0m│\n",
      "│ attractive_train          │     0.42338 │        nan │\n",
      "│ attractive_weighted       │     0.41633 │    0.00769 │\n",
      "│ attractive_weighted_train │     0.42338 │        nan │\n",
      "│ n_edges_att               │ 35077.50000 │ 1273.15723 │\n",
      "│ n_edges_att_train         │ 31441.00000 │        nan │\n",
      "│ n_edges_rep               │ 97892.50000 │ 6977.59033 │\n",
      "│ n_edges_rep_train         │ 80824.00000 │        nan │\n",
      "│ n_hits_oi                 │  9646.25000 │  405.12701 │\n",
      "│ n_hits_oi_train           │  8519.00000 │        nan │\n",
      "│\u001b[1;95m \u001b[0m\u001b[1;95mrepulsive                \u001b[0m\u001b[1;95m \u001b[0m│\u001b[1;95m \u001b[0m\u001b[1;95m    2.90502\u001b[0m\u001b[1;95m \u001b[0m│\u001b[1;95m \u001b[0m\u001b[1;95m   0.11706\u001b[0m\u001b[1;95m \u001b[0m│\n",
      "│ repulsive_train           │     2.71151 │        nan │\n",
      "│ repulsive_weighted        │     0.17430 │    0.00702 │\n",
      "│ repulsive_weighted_train  │     0.16269 │        nan │\n",
      "│\u001b[1;95m \u001b[0m\u001b[1;95mtotal                    \u001b[0m\u001b[1;95m \u001b[0m│\u001b[1;95m \u001b[0m\u001b[1;95m    0.59063\u001b[0m\u001b[1;95m \u001b[0m│\u001b[1;95m \u001b[0m\u001b[1;95m   0.00729\u001b[0m\u001b[1;95m \u001b[0m│\n",
      "│ total_train               │     0.58607 │        nan │\n",
      "└───────────────────────────┴─────────────┴────────────┘\n",
      "\n"
     ]
    },
    {
     "data": {
      "application/vnd.jupyter.widget-view+json": {
       "model_id": "6524de5cd81b43d1b5aa955eb1b7f81a",
       "version_major": 2,
       "version_minor": 0
      },
      "text/plain": [
       "Validation: |          | 0/? [00:00<?, ?it/s]"
      ]
     },
     "metadata": {},
     "output_type": "display_data"
    },
    {
     "data": {
      "text/html": [
       "<pre style=\"white-space:pre;overflow-x:auto;line-height:normal;font-family:Menlo,'DejaVu Sans Mono',consolas,'Courier New',monospace\"></pre>\n"
      ],
      "text/plain": []
     },
     "metadata": {},
     "output_type": "display_data"
    },
    {
     "name": "stdout",
     "output_type": "stream",
     "text": [
      "\u001b[3m                  Validation epoch=68                   \u001b[0m\n",
      "┏━━━━━━━━━━━━━━━━━━━━━━━━━━━┳━━━━━━━━━━━━━┳━━━━━━━━━━━━┓\n",
      "┃\u001b[1m \u001b[0m\u001b[1mMetric                   \u001b[0m\u001b[1m \u001b[0m┃\u001b[1m \u001b[0m\u001b[1m      Value\u001b[0m\u001b[1m \u001b[0m┃\u001b[1m \u001b[0m\u001b[1m     Error\u001b[0m\u001b[1m \u001b[0m┃\n",
      "┡━━━━━━━━━━━━━━━━━━━━━━━━━━━╇━━━━━━━━━━━━━╇━━━━━━━━━━━━┩\n",
      "│\u001b[1;95m \u001b[0m\u001b[1;95mattractive               \u001b[0m\u001b[1;95m \u001b[0m│\u001b[1;95m \u001b[0m\u001b[1;95m    0.39949\u001b[0m\u001b[1;95m \u001b[0m│\u001b[1;95m \u001b[0m\u001b[1;95m   0.01002\u001b[0m\u001b[1;95m \u001b[0m│\n",
      "│ attractive_train          │     0.36035 │        nan │\n",
      "│ attractive_weighted       │     0.39949 │    0.01002 │\n",
      "│ attractive_weighted_train │     0.36035 │        nan │\n",
      "│ n_edges_att               │ 35077.50000 │ 1273.15723 │\n",
      "│ n_edges_att_train         │ 35670.00000 │        nan │\n",
      "│ n_edges_rep               │ 92102.75000 │ 7665.08496 │\n",
      "│ n_edges_rep_train         │ 99613.00000 │        nan │\n",
      "│ n_hits_oi                 │  9646.25000 │  405.12701 │\n",
      "│ n_hits_oi_train           │  9850.00000 │        nan │\n",
      "│\u001b[1;95m \u001b[0m\u001b[1;95mrepulsive                \u001b[0m\u001b[1;95m \u001b[0m│\u001b[1;95m \u001b[0m\u001b[1;95m    2.78968\u001b[0m\u001b[1;95m \u001b[0m│\u001b[1;95m \u001b[0m\u001b[1;95m   0.13491\u001b[0m\u001b[1;95m \u001b[0m│\n",
      "│ repulsive_train           │     2.89568 │        nan │\n",
      "│ repulsive_weighted        │     0.16738 │    0.00809 │\n",
      "│ repulsive_weighted_train  │     0.17374 │        nan │\n",
      "│\u001b[1;95m \u001b[0m\u001b[1;95mtotal                    \u001b[0m\u001b[1;95m \u001b[0m│\u001b[1;95m \u001b[0m\u001b[1;95m    0.56687\u001b[0m\u001b[1;95m \u001b[0m│\u001b[1;95m \u001b[0m\u001b[1;95m   0.00883\u001b[0m\u001b[1;95m \u001b[0m│\n",
      "│ total_train               │     0.53409 │        nan │\n",
      "└───────────────────────────┴─────────────┴────────────┘\n",
      "\n"
     ]
    },
    {
     "data": {
      "application/vnd.jupyter.widget-view+json": {
       "model_id": "075883ee414e4992aaeaa6e08a8ddf24",
       "version_major": 2,
       "version_minor": 0
      },
      "text/plain": [
       "Validation: |          | 0/? [00:00<?, ?it/s]"
      ]
     },
     "metadata": {},
     "output_type": "display_data"
    },
    {
     "data": {
      "text/html": [
       "<pre style=\"white-space:pre;overflow-x:auto;line-height:normal;font-family:Menlo,'DejaVu Sans Mono',consolas,'Courier New',monospace\"></pre>\n"
      ],
      "text/plain": []
     },
     "metadata": {},
     "output_type": "display_data"
    },
    {
     "name": "stdout",
     "output_type": "stream",
     "text": [
      "\u001b[3m                  Validation epoch=69                   \u001b[0m\n",
      "┏━━━━━━━━━━━━━━━━━━━━━━━━━━━┳━━━━━━━━━━━━━┳━━━━━━━━━━━━┓\n",
      "┃\u001b[1m \u001b[0m\u001b[1mMetric                   \u001b[0m\u001b[1m \u001b[0m┃\u001b[1m \u001b[0m\u001b[1m      Value\u001b[0m\u001b[1m \u001b[0m┃\u001b[1m \u001b[0m\u001b[1m     Error\u001b[0m\u001b[1m \u001b[0m┃\n",
      "┡━━━━━━━━━━━━━━━━━━━━━━━━━━━╇━━━━━━━━━━━━━╇━━━━━━━━━━━━┩\n",
      "│\u001b[1;95m \u001b[0m\u001b[1;95mattractive               \u001b[0m\u001b[1;95m \u001b[0m│\u001b[1;95m \u001b[0m\u001b[1;95m    0.40427\u001b[0m\u001b[1;95m \u001b[0m│\u001b[1;95m \u001b[0m\u001b[1;95m   0.00766\u001b[0m\u001b[1;95m \u001b[0m│\n",
      "│ attractive_train          │     0.37809 │        nan │\n",
      "│ attractive_weighted       │     0.40427 │    0.00766 │\n",
      "│ attractive_weighted_train │     0.37809 │        nan │\n",
      "│ n_edges_att               │ 35077.50000 │ 1273.15723 │\n",
      "│ n_edges_att_train         │ 32309.00000 │        nan │\n",
      "│ n_edges_rep               │ 89975.75000 │ 7001.90771 │\n",
      "│ n_edges_rep_train         │ 92672.00000 │        nan │\n",
      "│ n_hits_oi                 │  9646.25000 │  405.12701 │\n",
      "│ n_hits_oi_train           │  8850.00000 │        nan │\n",
      "│\u001b[1;95m \u001b[0m\u001b[1;95mrepulsive                \u001b[0m\u001b[1;95m \u001b[0m│\u001b[1;95m \u001b[0m\u001b[1;95m    2.73054\u001b[0m\u001b[1;95m \u001b[0m│\u001b[1;95m \u001b[0m\u001b[1;95m   0.12314\u001b[0m\u001b[1;95m \u001b[0m│\n",
      "│ repulsive_train           │     3.23306 │        nan │\n",
      "│ repulsive_weighted        │     0.16383 │    0.00739 │\n",
      "│ repulsive_weighted_train  │     0.19398 │        nan │\n",
      "│\u001b[1;95m \u001b[0m\u001b[1;95mtotal                    \u001b[0m\u001b[1;95m \u001b[0m│\u001b[1;95m \u001b[0m\u001b[1;95m    0.56810\u001b[0m\u001b[1;95m \u001b[0m│\u001b[1;95m \u001b[0m\u001b[1;95m   0.00497\u001b[0m\u001b[1;95m \u001b[0m│\n",
      "│ total_train               │     0.57207 │        nan │\n",
      "└───────────────────────────┴─────────────┴────────────┘\n",
      "\n"
     ]
    },
    {
     "data": {
      "application/vnd.jupyter.widget-view+json": {
       "model_id": "09874cd9df174fe893a3ae57b83a824e",
       "version_major": 2,
       "version_minor": 0
      },
      "text/plain": [
       "Validation: |          | 0/? [00:00<?, ?it/s]"
      ]
     },
     "metadata": {},
     "output_type": "display_data"
    },
    {
     "data": {
      "text/html": [
       "<pre style=\"white-space:pre;overflow-x:auto;line-height:normal;font-family:Menlo,'DejaVu Sans Mono',consolas,'Courier New',monospace\"></pre>\n"
      ],
      "text/plain": []
     },
     "metadata": {},
     "output_type": "display_data"
    },
    {
     "name": "stdout",
     "output_type": "stream",
     "text": [
      "\u001b[3m                  Validation epoch=70                   \u001b[0m\n",
      "┏━━━━━━━━━━━━━━━━━━━━━━━━━━━┳━━━━━━━━━━━━━┳━━━━━━━━━━━━┓\n",
      "┃\u001b[1m \u001b[0m\u001b[1mMetric                   \u001b[0m\u001b[1m \u001b[0m┃\u001b[1m \u001b[0m\u001b[1m      Value\u001b[0m\u001b[1m \u001b[0m┃\u001b[1m \u001b[0m\u001b[1m     Error\u001b[0m\u001b[1m \u001b[0m┃\n",
      "┡━━━━━━━━━━━━━━━━━━━━━━━━━━━╇━━━━━━━━━━━━━╇━━━━━━━━━━━━┩\n",
      "│\u001b[1;95m \u001b[0m\u001b[1;95mattractive               \u001b[0m\u001b[1;95m \u001b[0m│\u001b[1;95m \u001b[0m\u001b[1;95m    0.39962\u001b[0m\u001b[1;95m \u001b[0m│\u001b[1;95m \u001b[0m\u001b[1;95m   0.00811\u001b[0m\u001b[1;95m \u001b[0m│\n",
      "│ attractive_train          │     0.39497 │        nan │\n",
      "│ attractive_weighted       │     0.39962 │    0.00811 │\n",
      "│ attractive_weighted_train │     0.39497 │        nan │\n",
      "│ n_edges_att               │ 35077.50000 │ 1273.15723 │\n",
      "│ n_edges_att_train         │ 33481.00000 │        nan │\n",
      "│ n_edges_rep               │ 94072.75000 │ 7011.78857 │\n",
      "│ n_edges_rep_train         │ 87453.00000 │        nan │\n",
      "│ n_hits_oi                 │  9646.25000 │  405.12701 │\n",
      "│ n_hits_oi_train           │  9024.00000 │        nan │\n",
      "│\u001b[1;95m \u001b[0m\u001b[1;95mrepulsive                \u001b[0m\u001b[1;95m \u001b[0m│\u001b[1;95m \u001b[0m\u001b[1;95m    2.82449\u001b[0m\u001b[1;95m \u001b[0m│\u001b[1;95m \u001b[0m\u001b[1;95m   0.12795\u001b[0m\u001b[1;95m \u001b[0m│\n",
      "│ repulsive_train           │     2.83520 │        nan │\n",
      "│ repulsive_weighted        │     0.16947 │    0.00768 │\n",
      "│ repulsive_weighted_train  │     0.17011 │        nan │\n",
      "│\u001b[1;95m \u001b[0m\u001b[1;95mtotal                    \u001b[0m\u001b[1;95m \u001b[0m│\u001b[1;95m \u001b[0m\u001b[1;95m    0.56909\u001b[0m\u001b[1;95m \u001b[0m│\u001b[1;95m \u001b[0m\u001b[1;95m   0.00628\u001b[0m\u001b[1;95m \u001b[0m│\n",
      "│ total_train               │     0.56508 │        nan │\n",
      "└───────────────────────────┴─────────────┴────────────┘\n",
      "\n"
     ]
    },
    {
     "data": {
      "application/vnd.jupyter.widget-view+json": {
       "model_id": "b20cbfb0e6334d31b09f8d14dc616ca7",
       "version_major": 2,
       "version_minor": 0
      },
      "text/plain": [
       "Validation: |          | 0/? [00:00<?, ?it/s]"
      ]
     },
     "metadata": {},
     "output_type": "display_data"
    },
    {
     "data": {
      "text/html": [
       "<pre style=\"white-space:pre;overflow-x:auto;line-height:normal;font-family:Menlo,'DejaVu Sans Mono',consolas,'Courier New',monospace\"></pre>\n"
      ],
      "text/plain": []
     },
     "metadata": {},
     "output_type": "display_data"
    },
    {
     "name": "stdout",
     "output_type": "stream",
     "text": [
      "\u001b[3m                  Validation epoch=71                   \u001b[0m\n",
      "┏━━━━━━━━━━━━━━━━━━━━━━━━━━━┳━━━━━━━━━━━━━┳━━━━━━━━━━━━┓\n",
      "┃\u001b[1m \u001b[0m\u001b[1mMetric                   \u001b[0m\u001b[1m \u001b[0m┃\u001b[1m \u001b[0m\u001b[1m      Value\u001b[0m\u001b[1m \u001b[0m┃\u001b[1m \u001b[0m\u001b[1m     Error\u001b[0m\u001b[1m \u001b[0m┃\n",
      "┡━━━━━━━━━━━━━━━━━━━━━━━━━━━╇━━━━━━━━━━━━━╇━━━━━━━━━━━━┩\n",
      "│\u001b[1;95m \u001b[0m\u001b[1;95mattractive               \u001b[0m\u001b[1;95m \u001b[0m│\u001b[1;95m \u001b[0m\u001b[1;95m    0.40150\u001b[0m\u001b[1;95m \u001b[0m│\u001b[1;95m \u001b[0m\u001b[1;95m   0.00779\u001b[0m\u001b[1;95m \u001b[0m│\n",
      "│ attractive_train          │     0.41427 │        nan │\n",
      "│ attractive_weighted       │     0.40150 │    0.00779 │\n",
      "│ attractive_weighted_train │     0.41427 │        nan │\n",
      "│ n_edges_att               │ 35077.50000 │ 1273.15723 │\n",
      "│ n_edges_att_train         │ 29592.00000 │        nan │\n",
      "│ n_edges_rep               │ 93242.25000 │ 7216.93506 │\n",
      "│ n_edges_rep_train         │ 81448.00000 │        nan │\n",
      "│ n_hits_oi                 │  9646.25000 │  405.12701 │\n",
      "│ n_hits_oi_train           │  8120.00000 │        nan │\n",
      "│\u001b[1;95m \u001b[0m\u001b[1;95mrepulsive                \u001b[0m\u001b[1;95m \u001b[0m│\u001b[1;95m \u001b[0m\u001b[1;95m    2.80880\u001b[0m\u001b[1;95m \u001b[0m│\u001b[1;95m \u001b[0m\u001b[1;95m   0.12201\u001b[0m\u001b[1;95m \u001b[0m│\n",
      "│ repulsive_train           │     2.88713 │        nan │\n",
      "│ repulsive_weighted        │     0.16853 │    0.00732 │\n",
      "│ repulsive_weighted_train  │     0.17323 │        nan │\n",
      "│\u001b[1;95m \u001b[0m\u001b[1;95mtotal                    \u001b[0m\u001b[1;95m \u001b[0m│\u001b[1;95m \u001b[0m\u001b[1;95m    0.57003\u001b[0m\u001b[1;95m \u001b[0m│\u001b[1;95m \u001b[0m\u001b[1;95m   0.00768\u001b[0m\u001b[1;95m \u001b[0m│\n",
      "│ total_train               │     0.58749 │        nan │\n",
      "└───────────────────────────┴─────────────┴────────────┘\n",
      "\n"
     ]
    },
    {
     "data": {
      "application/vnd.jupyter.widget-view+json": {
       "model_id": "36b6a54924dc4733aa820ef32ee7b8a4",
       "version_major": 2,
       "version_minor": 0
      },
      "text/plain": [
       "Validation: |          | 0/? [00:00<?, ?it/s]"
      ]
     },
     "metadata": {},
     "output_type": "display_data"
    },
    {
     "data": {
      "text/html": [
       "<pre style=\"white-space:pre;overflow-x:auto;line-height:normal;font-family:Menlo,'DejaVu Sans Mono',consolas,'Courier New',monospace\"></pre>\n"
      ],
      "text/plain": []
     },
     "metadata": {},
     "output_type": "display_data"
    },
    {
     "name": "stdout",
     "output_type": "stream",
     "text": [
      "\u001b[3m                  Validation epoch=72                   \u001b[0m\n",
      "┏━━━━━━━━━━━━━━━━━━━━━━━━━━━┳━━━━━━━━━━━━━┳━━━━━━━━━━━━┓\n",
      "┃\u001b[1m \u001b[0m\u001b[1mMetric                   \u001b[0m\u001b[1m \u001b[0m┃\u001b[1m \u001b[0m\u001b[1m      Value\u001b[0m\u001b[1m \u001b[0m┃\u001b[1m \u001b[0m\u001b[1m     Error\u001b[0m\u001b[1m \u001b[0m┃\n",
      "┡━━━━━━━━━━━━━━━━━━━━━━━━━━━╇━━━━━━━━━━━━━╇━━━━━━━━━━━━┩\n",
      "│\u001b[1;95m \u001b[0m\u001b[1;95mattractive               \u001b[0m\u001b[1;95m \u001b[0m│\u001b[1;95m \u001b[0m\u001b[1;95m    0.39732\u001b[0m\u001b[1;95m \u001b[0m│\u001b[1;95m \u001b[0m\u001b[1;95m   0.00615\u001b[0m\u001b[1;95m \u001b[0m│\n",
      "│ attractive_train          │     0.38386 │        nan │\n",
      "│ attractive_weighted       │     0.39732 │    0.00615 │\n",
      "│ attractive_weighted_train │     0.38386 │        nan │\n",
      "│ n_edges_att               │ 35077.50000 │ 1273.15723 │\n",
      "│ n_edges_att_train         │ 22211.00000 │        nan │\n",
      "│ n_edges_rep               │ 92185.50000 │ 7146.31445 │\n",
      "│ n_edges_rep_train         │ 42992.00000 │        nan │\n",
      "│ n_hits_oi                 │  9646.25000 │  405.12701 │\n",
      "│ n_hits_oi_train           │  6091.00000 │        nan │\n",
      "│\u001b[1;95m \u001b[0m\u001b[1;95mrepulsive                \u001b[0m\u001b[1;95m \u001b[0m│\u001b[1;95m \u001b[0m\u001b[1;95m    2.79627\u001b[0m\u001b[1;95m \u001b[0m│\u001b[1;95m \u001b[0m\u001b[1;95m   0.12222\u001b[0m\u001b[1;95m \u001b[0m│\n",
      "│ repulsive_train           │     2.02669 │        nan │\n",
      "│ repulsive_weighted        │     0.16778 │    0.00733 │\n",
      "│ repulsive_weighted_train  │     0.12160 │        nan │\n",
      "│\u001b[1;95m \u001b[0m\u001b[1;95mtotal                    \u001b[0m\u001b[1;95m \u001b[0m│\u001b[1;95m \u001b[0m\u001b[1;95m    0.56510\u001b[0m\u001b[1;95m \u001b[0m│\u001b[1;95m \u001b[0m\u001b[1;95m   0.00471\u001b[0m\u001b[1;95m \u001b[0m│\n",
      "│ total_train               │     0.50546 │        nan │\n",
      "└───────────────────────────┴─────────────┴────────────┘\n",
      "\n"
     ]
    },
    {
     "data": {
      "application/vnd.jupyter.widget-view+json": {
       "model_id": "ca30c506279e4a008981901d782e163a",
       "version_major": 2,
       "version_minor": 0
      },
      "text/plain": [
       "Validation: |          | 0/? [00:00<?, ?it/s]"
      ]
     },
     "metadata": {},
     "output_type": "display_data"
    },
    {
     "data": {
      "text/html": [
       "<pre style=\"white-space:pre;overflow-x:auto;line-height:normal;font-family:Menlo,'DejaVu Sans Mono',consolas,'Courier New',monospace\"></pre>\n"
      ],
      "text/plain": []
     },
     "metadata": {},
     "output_type": "display_data"
    },
    {
     "name": "stdout",
     "output_type": "stream",
     "text": [
      "\u001b[3m                  Validation epoch=73                   \u001b[0m\n",
      "┏━━━━━━━━━━━━━━━━━━━━━━━━━━━┳━━━━━━━━━━━━━┳━━━━━━━━━━━━┓\n",
      "┃\u001b[1m \u001b[0m\u001b[1mMetric                   \u001b[0m\u001b[1m \u001b[0m┃\u001b[1m \u001b[0m\u001b[1m      Value\u001b[0m\u001b[1m \u001b[0m┃\u001b[1m \u001b[0m\u001b[1m     Error\u001b[0m\u001b[1m \u001b[0m┃\n",
      "┡━━━━━━━━━━━━━━━━━━━━━━━━━━━╇━━━━━━━━━━━━━╇━━━━━━━━━━━━┩\n",
      "│\u001b[1;95m \u001b[0m\u001b[1;95mattractive               \u001b[0m\u001b[1;95m \u001b[0m│\u001b[1;95m \u001b[0m\u001b[1;95m    0.40428\u001b[0m\u001b[1;95m \u001b[0m│\u001b[1;95m \u001b[0m\u001b[1;95m   0.00787\u001b[0m\u001b[1;95m \u001b[0m│\n",
      "│ attractive_train          │     0.40001 │        nan │\n",
      "│ attractive_weighted       │     0.40428 │    0.00787 │\n",
      "│ attractive_weighted_train │     0.40001 │        nan │\n",
      "│ n_edges_att               │ 35077.50000 │ 1273.15723 │\n",
      "│ n_edges_att_train         │ 31440.00000 │        nan │\n",
      "│ n_edges_rep               │ 91551.00000 │ 7137.53760 │\n",
      "│ n_edges_rep_train         │ 75000.00000 │        nan │\n",
      "│ n_hits_oi                 │  9646.25000 │  405.12701 │\n",
      "│ n_hits_oi_train           │  8469.00000 │        nan │\n",
      "│\u001b[1;95m \u001b[0m\u001b[1;95mrepulsive                \u001b[0m\u001b[1;95m \u001b[0m│\u001b[1;95m \u001b[0m\u001b[1;95m    2.77289\u001b[0m\u001b[1;95m \u001b[0m│\u001b[1;95m \u001b[0m\u001b[1;95m   0.12026\u001b[0m\u001b[1;95m \u001b[0m│\n",
      "│ repulsive_train           │     2.63062 │        nan │\n",
      "│ repulsive_weighted        │     0.16637 │    0.00722 │\n",
      "│ repulsive_weighted_train  │     0.15784 │        nan │\n",
      "│\u001b[1;95m \u001b[0m\u001b[1;95mtotal                    \u001b[0m\u001b[1;95m \u001b[0m│\u001b[1;95m \u001b[0m\u001b[1;95m    0.57065\u001b[0m\u001b[1;95m \u001b[0m│\u001b[1;95m \u001b[0m\u001b[1;95m   0.00634\u001b[0m\u001b[1;95m \u001b[0m│\n",
      "│ total_train               │     0.55785 │        nan │\n",
      "└───────────────────────────┴─────────────┴────────────┘\n",
      "\n"
     ]
    },
    {
     "name": "stderr",
     "output_type": "stream",
     "text": [
      "IOPub message rate exceeded.\n",
      "The Jupyter server will temporarily stop sending output\n",
      "to the client in order to avoid crashing it.\n",
      "To change this limit, set the config variable\n",
      "`--ServerApp.iopub_msg_rate_limit`.\n",
      "\n",
      "Current values:\n",
      "ServerApp.iopub_msg_rate_limit=1000.0 (msgs/sec)\n",
      "ServerApp.rate_limit_window=3.0 (secs)\n",
      "\n",
      "IOPub message rate exceeded.\n",
      "The Jupyter server will temporarily stop sending output\n",
      "to the client in order to avoid crashing it.\n",
      "To change this limit, set the config variable\n",
      "`--ServerApp.iopub_msg_rate_limit`.\n",
      "\n",
      "Current values:\n",
      "ServerApp.iopub_msg_rate_limit=1000.0 (msgs/sec)\n",
      "ServerApp.rate_limit_window=3.0 (secs)\n",
      "\n",
      "IOPub message rate exceeded.\n",
      "The Jupyter server will temporarily stop sending output\n",
      "to the client in order to avoid crashing it.\n",
      "To change this limit, set the config variable\n",
      "`--ServerApp.iopub_msg_rate_limit`.\n",
      "\n",
      "Current values:\n",
      "ServerApp.iopub_msg_rate_limit=1000.0 (msgs/sec)\n",
      "ServerApp.rate_limit_window=3.0 (secs)\n",
      "\n",
      "IOPub message rate exceeded.\n",
      "The Jupyter server will temporarily stop sending output\n",
      "to the client in order to avoid crashing it.\n",
      "To change this limit, set the config variable\n",
      "`--ServerApp.iopub_msg_rate_limit`.\n",
      "\n",
      "Current values:\n",
      "ServerApp.iopub_msg_rate_limit=1000.0 (msgs/sec)\n",
      "ServerApp.rate_limit_window=3.0 (secs)\n",
      "\n",
      "IOPub message rate exceeded.\n",
      "The Jupyter server will temporarily stop sending output\n",
      "to the client in order to avoid crashing it.\n",
      "To change this limit, set the config variable\n",
      "`--ServerApp.iopub_msg_rate_limit`.\n",
      "\n",
      "Current values:\n",
      "ServerApp.iopub_msg_rate_limit=1000.0 (msgs/sec)\n",
      "ServerApp.rate_limit_window=3.0 (secs)\n",
      "\n",
      "IOPub message rate exceeded.\n",
      "The Jupyter server will temporarily stop sending output\n",
      "to the client in order to avoid crashing it.\n",
      "To change this limit, set the config variable\n",
      "`--ServerApp.iopub_msg_rate_limit`.\n",
      "\n",
      "Current values:\n",
      "ServerApp.iopub_msg_rate_limit=1000.0 (msgs/sec)\n",
      "ServerApp.rate_limit_window=3.0 (secs)\n",
      "\n"
     ]
    }
   ],
   "source": [
    "trainer_gc = Trainer(\n",
    "    max_epochs=100,\n",
    "    accelerator=\"gpu\",\n",
    "    log_every_n_steps=1,\n",
    "    callbacks=[\n",
    "        TriggerWandbSyncLightningCallback(),\n",
    "        PrintValidationMetrics(),\n",
    "    ],\n",
    "    logger=[\n",
    "        wandb_logger_gc,\n",
    "        tb_logger_gc,\n",
    "    ],\n",
    ")\n",
    "trainer_gc.fit(model=lmodel, datamodule=dm)"
   ]
  },
  {
   "cell_type": "markdown",
   "metadata": {},
   "source": [
    "# Rest of the OC pipeline"
   ]
  },
  {
   "cell_type": "code",
   "execution_count": 4,
   "metadata": {},
   "outputs": [
    {
     "name": "stderr",
     "output_type": "stream",
     "text": [
      "/scratch/gpfs/aj2239/micromamba/envs/gnn/lib/python3.11/site-packages/pytorch_lightning/utilities/parsing.py:198: Attribute 'hc_in' is an instance of `nn.Module` and is already saved during checkpointing. It is recommended to ignore them using `self.save_hyperparameters(ignore=['hc_in'])`.\n"
     ]
    }
   ],
   "source": [
    "model = GraphTCNForMLGCPipeline(\n",
    "    node_indim=22,\n",
    "    edge_indim=44,\n",
    "    h_dim=192,\n",
    "    e_dim=192,\n",
    "    hidden_dim=192,\n",
    "    h_outdim=24,\n",
    "    L_hc=5,\n",
    "    alpha_latent=0.5,\n",
    "    n_embedding_coords=8\n",
    ")"
   ]
  },
  {
   "cell_type": "code",
   "execution_count": 5,
   "metadata": {},
   "outputs": [
    {
     "name": "stderr",
     "output_type": "stream",
     "text": [
      "\u001b[36m[13:51:59] DEBUG: Getting class MLModule from module gnn_tracking.training.ml\u001b[0m\n",
      "\u001b[36m[13:51:59] DEBUG: Loading checkpoint /home/aj2239/aryaman-gnn-tracking-experiments/notebooks/aryaman-gnn-experiments/miniature-divergent-prawn/checkpoints/epoch=99-step=774300.ckpt\u001b[0m\n",
      "\u001b[36m[13:52:00] DEBUG: Getting class GraphConstructionFCNN from module gnn_tracking.models.graph_construction\u001b[0m\n",
      "\u001b[36m[13:52:00] DEBUG: Getting class NoiseClassifierModel from module gnn_tracking.models.graph_construction\u001b[0m\n",
      "\u001b[36m[13:52:00] DEBUG: Getting class GraphConstructionHingeEmbeddingLoss from module gnn_tracking.metrics.losses.metric_learning\u001b[0m\n",
      "\u001b[36m[13:52:00] DEBUG: Checkpoint loaded. Model ready to go.\u001b[0m\n"
     ]
    }
   ],
   "source": [
    "preproc = MLGraphConstructionFromChkpt(\n",
    "    ml_chkpt_path=\"/home/aj2239/aryaman-gnn-tracking-experiments/notebooks/aryaman-gnn-experiments/miniature-divergent-prawn/checkpoints/epoch=99-step=774300.ckpt\",\n",
    "    max_num_neighbors=10,\n",
    "    max_radius=1,\n",
    "    use_embedding_features=True,\n",
    "    build_edge_features=True\n",
    ")"
   ]
  },
  {
   "cell_type": "code",
   "execution_count": 6,
   "metadata": {},
   "outputs": [],
   "source": [
    "loss_fct = GraphConstructionHingeEmbeddingLoss(\n",
    "    lw_repulsive=0.05,\n",
    "    pt_thld=0.9,\n",
    "    max_num_neighbors=256,\n",
    "    p_attr=2,\n",
    "    p_rep=2,\n",
    "    r_emb=1\n",
    ")"
   ]
  },
  {
   "cell_type": "code",
   "execution_count": 7,
   "metadata": {},
   "outputs": [],
   "source": [
    "cluster_scanner = DBSCANHyperParamScanner(\n",
    "    n_trials=60,\n",
    "    n_jobs=6,\n",
    "    keep_best=30\n",
    ")"
   ]
  },
  {
   "cell_type": "markdown",
   "metadata": {},
   "source": [
    "### Put all of the above together in a single Track-Condensation Module"
   ]
  },
  {
   "cell_type": "code",
   "execution_count": 8,
   "metadata": {},
   "outputs": [],
   "source": [
    "lmodel = TCModule(\n",
    "    model=model,\n",
    "    preproc=preproc,\n",
    "    loss_fct=loss_fct,\n",
    "    cluster_scanner=cluster_scanner,\n",
    "    optimizer=partial(torch.optim.Adam, lr=8*1e-4),\n",
    "    scheduler=partial(torch.optim.lr_scheduler.LinearLR,\n",
    "                                            start_factor=1,\n",
    "                                            end_factor=0.1,\n",
    "                                            total_iters=50)\n",
    ")"
   ]
  },
  {
   "cell_type": "markdown",
   "metadata": {},
   "source": [
    "### ...or, start from a checkpoint!"
   ]
  },
  {
   "cell_type": "code",
   "execution_count": null,
   "metadata": {},
   "outputs": [],
   "source": [
    "tc_path = '/home/aj2239/aryaman-gnn-tracking-experiments/notebooks/aryaman-gnn-experiments/mindful-ocelot-of-gaiety/checkpoints/epoch=9-step=77430.ckpt'\n",
    "lmodel = TCModule.load_from_checkpoint(tc_path)"
   ]
  },
  {
   "cell_type": "code",
   "execution_count": 9,
   "metadata": {},
   "outputs": [
    {
     "data": {
      "text/html": [
       "<pre style=\"white-space:pre;overflow-x:auto;line-height:normal;font-family:Menlo,'DejaVu Sans Mono',consolas,'Courier New',monospace\"><span style=\"color: #00ff00; text-decoration-color: #00ff00\">─────────────────────────── </span><span style=\"color: #808000; text-decoration-color: #808000; font-weight: bold\">mindful-ocelot-of-gaiety</span><span style=\"color: #00ff00; text-decoration-color: #00ff00\"> ───────────────────────────</span>\n",
       "</pre>\n"
      ],
      "text/plain": [
       "\u001b[92m─────────────────────────── \u001b[0m\u001b[1;33mmindful-ocelot-of-gaiety\u001b[0m\u001b[92m ───────────────────────────\u001b[0m\n"
      ]
     },
     "metadata": {},
     "output_type": "display_data"
    }
   ],
   "source": [
    "from pytorch_lightning.loggers import TensorBoardLogger, WandbLogger\n",
    "from wandb_osh.lightning_hooks import TriggerWandbSyncLightningCallback\n",
    "from gnn_tracking.utils.nomenclature import random_trial_name\n",
    "\n",
    "name = random_trial_name()\n",
    "\n",
    "wandb_logger_oc = WandbLogger(\n",
    "    project=\"aryaman-gnn-experiments\",\n",
    "    group=\"noise-classification-oc\",\n",
    "    offline=True,\n",
    "    version=name,\n",
    "    tags=[\"ground-truth-noise-pixel-oc\"],\n",
    ")\n",
    "\n",
    "tb_logger_oc = TensorBoardLogger(\".\", version=name)"
   ]
  },
  {
   "cell_type": "code",
   "execution_count": null,
   "metadata": {},
   "outputs": [
    {
     "name": "stderr",
     "output_type": "stream",
     "text": [
      "\u001b[32m13:52:21 INFO: This is wandb-osh v1.2.0 using communication directory /home/aj2239/.wandb_osh_command_dir\u001b[0m\n",
      "GPU available: True (cuda), used: True\n",
      "TPU available: False, using: 0 TPU cores\n",
      "IPU available: False, using: 0 IPUs\n",
      "HPU available: False, using: 0 HPUs\n",
      "You are using a CUDA device ('NVIDIA A100 80GB PCIe') that has Tensor Cores. To properly utilize them, you should set `torch.set_float32_matmul_precision('medium' | 'high')` which will trade-off precision for performance. For more details, read https://pytorch.org/docs/stable/generated/torch.set_float32_matmul_precision.html#torch.set_float32_matmul_precision\n",
      "Failed to detect the name of this notebook, you can set it manually with the WANDB_NOTEBOOK_NAME environment variable to enable code saving.\n",
      "\u001b[34m\u001b[1mwandb\u001b[0m: \u001b[33mWARNING\u001b[0m `resume` will be ignored since W&B syncing is set to `offline`. Starting a new run with run id mindful-ocelot-of-gaiety.\n"
     ]
    },
    {
     "data": {
      "text/html": [
       "Tracking run with wandb version 0.16.2"
      ],
      "text/plain": [
       "<IPython.core.display.HTML object>"
      ]
     },
     "metadata": {},
     "output_type": "display_data"
    },
    {
     "data": {
      "text/html": [
       "W&B syncing is set to <code>`offline`<code> in this directory.  <br/>Run <code>`wandb online`<code> or set <code>WANDB_MODE=online<code> to enable cloud syncing."
      ],
      "text/plain": [
       "<IPython.core.display.HTML object>"
      ]
     },
     "metadata": {},
     "output_type": "display_data"
    },
    {
     "name": "stderr",
     "output_type": "stream",
     "text": [
      "\u001b[32m[13:52:23] INFO: DataLoader will load 7743 graphs (out of 7743 available).\u001b[0m\n",
      "\u001b[36m[13:52:23] DEBUG: First graph is /scratch/gpfs/IOJALVO/gnn-tracking/object_condensation/point_clouds_v8/part_1/data21000_s0.pt, last graph is /scratch/gpfs/IOJALVO/gnn-tracking/object_condensation/point_clouds_v8/part_8/data28999_s0.pt\u001b[0m\n",
      "\u001b[32m[13:52:23] INFO: DataLoader will load 4 graphs (out of 1000 available).\u001b[0m\n",
      "\u001b[36m[13:52:23] DEBUG: First graph is /scratch/gpfs/IOJALVO/gnn-tracking/object_condensation/point_clouds_v8/part_9/data29000_s0.pt, last graph is /scratch/gpfs/IOJALVO/gnn-tracking/object_condensation/point_clouds_v8/part_9/data29003_s0.pt\u001b[0m\n",
      "LOCAL_RANK: 0 - CUDA_VISIBLE_DEVICES: [0]\n",
      "\n",
      "  | Name     | Type                                | Params\n",
      "-----------------------------------------------------------------\n",
      "0 | model    | GraphTCNForMLGCPipeline             | 1.9 M \n",
      "1 | preproc  | MLGraphConstruction                 | 333 K \n",
      "2 | loss_fct | GraphConstructionHingeEmbeddingLoss | 0     \n",
      "-----------------------------------------------------------------\n",
      "1.9 M     Trainable params\n",
      "333 K     Non-trainable params\n",
      "2.2 M     Total params\n",
      "8.950     Total estimated model params size (MB)\n",
      "SLURM auto-requeueing enabled. Setting signal handlers.\n"
     ]
    },
    {
     "data": {
      "application/vnd.jupyter.widget-view+json": {
       "model_id": "",
       "version_major": 2,
       "version_minor": 0
      },
      "text/plain": [
       "Sanity Checking: |          | 0/? [00:00<?, ?it/s]"
      ]
     },
     "metadata": {},
     "output_type": "display_data"
    },
    {
     "name": "stderr",
     "output_type": "stream",
     "text": [
      "/scratch/gpfs/aj2239/micromamba/envs/gnn/lib/python3.11/site-packages/pytorch_lightning/trainer/connectors/data_connector.py:441: The 'val_dataloader' does not have many workers which may be a bottleneck. Consider increasing the value of the `num_workers` argument` to `num_workers=3` in the `DataLoader` to improve performance.\n",
      "/scratch/gpfs/aj2239/micromamba/envs/gnn/lib/python3.11/site-packages/pytorch_lightning/trainer/connectors/data_connector.py:441: The 'train_dataloader' does not have many workers which may be a bottleneck. Consider increasing the value of the `num_workers` argument` to `num_workers=3` in the `DataLoader` to improve performance.\n"
     ]
    },
    {
     "data": {
      "application/vnd.jupyter.widget-view+json": {
       "model_id": "649531b9566c4080a9ebb91a65b3ba25",
       "version_major": 2,
       "version_minor": 0
      },
      "text/plain": [
       "Training: |          | 0/? [00:00<?, ?it/s]"
      ]
     },
     "metadata": {},
     "output_type": "display_data"
    },
    {
     "data": {
      "application/vnd.jupyter.widget-view+json": {
       "model_id": "",
       "version_major": 2,
       "version_minor": 0
      },
      "text/plain": [
       "Validation: |          | 0/? [00:00<?, ?it/s]"
      ]
     },
     "metadata": {},
     "output_type": "display_data"
    },
    {
     "name": "stderr",
     "output_type": "stream",
     "text": [
      "NaN or Inf found in input tensor.\n",
      "NaN or Inf found in input tensor.\n"
     ]
    },
    {
     "data": {
      "text/html": [
       "<pre style=\"white-space:pre;overflow-x:auto;line-height:normal;font-family:Menlo,'DejaVu Sans Mono',consolas,'Courier New',monospace\"></pre>\n"
      ],
      "text/plain": []
     },
     "metadata": {},
     "output_type": "display_data"
    },
    {
     "name": "stdout",
     "output_type": "stream",
     "text": [
      "\u001b[3m                     Validation epoch=0                      \u001b[0m\n",
      "┏━━━━━━━━━━━━━━━━━━━━━━━━━━━━━━━━┳━━━━━━━━━━━━━┳━━━━━━━━━━━━┓\n",
      "┃\u001b[1m \u001b[0m\u001b[1mMetric                        \u001b[0m\u001b[1m \u001b[0m┃\u001b[1m \u001b[0m\u001b[1m      Value\u001b[0m\u001b[1m \u001b[0m┃\u001b[1m \u001b[0m\u001b[1m     Error\u001b[0m\u001b[1m \u001b[0m┃\n",
      "┡━━━━━━━━━━━━━━━━━━━━━━━━━━━━━━━━╇━━━━━━━━━━━━━╇━━━━━━━━━━━━┩\n",
      "│\u001b[1;95m \u001b[0m\u001b[1;95mattractive                    \u001b[0m\u001b[1;95m \u001b[0m│\u001b[1;95m \u001b[0m\u001b[1;95m    0.10774\u001b[0m\u001b[1;95m \u001b[0m│\u001b[1;95m \u001b[0m\u001b[1;95m   0.00282\u001b[0m\u001b[1;95m \u001b[0m│\n",
      "│ attractive_train               │     0.11174 │        nan │\n",
      "│ attractive_weighted            │     0.10774 │    0.00282 │\n",
      "│ attractive_weighted_train      │     0.11174 │        nan │\n",
      "│ best_dbscan_eps                │     0.48391 │        nan │\n",
      "│ best_dbscan_min_samples        │     3.00000 │        nan │\n",
      "│ n_edges_att                    │ 35077.50000 │ 1273.15723 │\n",
      "│ n_edges_att_train              │ 34224.00000 │        nan │\n",
      "│ n_edges_rep                    │ 33354.00000 │ 3084.83569 │\n",
      "│ n_edges_rep_train              │ 30895.00000 │        nan │\n",
      "│ n_hits_oi                      │  9646.25000 │  405.12701 │\n",
      "│ n_hits_oi_train                │  9519.00000 │        nan │\n",
      "│\u001b[1;95m \u001b[0m\u001b[1;95mrepulsive                     \u001b[0m\u001b[1;95m \u001b[0m│\u001b[1;95m \u001b[0m\u001b[1;95m    1.10223\u001b[0m\u001b[1;95m \u001b[0m│\u001b[1;95m \u001b[0m\u001b[1;95m   0.05844\u001b[0m\u001b[1;95m \u001b[0m│\n",
      "│ repulsive_train                │     1.02551 │        nan │\n",
      "│ repulsive_weighted             │     0.05511 │    0.00292 │\n",
      "│ repulsive_weighted_train       │     0.05128 │        nan │\n",
      "│ total                          │     0.16285 │    0.00547 │\n",
      "│ total_train                    │     0.16302 │        nan │\n",
      "│ trk.double_majority            │     0.64155 │    0.00198 │\n",
      "│ trk.double_majority_pt0.5      │     0.84689 │    0.00230 │\n",
      "│\u001b[1;95m \u001b[0m\u001b[1;95mtrk.double_majority_pt0.9     \u001b[0m\u001b[1;95m \u001b[0m│\u001b[1;95m \u001b[0m\u001b[1;95m    0.88183\u001b[0m\u001b[1;95m \u001b[0m│\u001b[1;95m \u001b[0m\u001b[1;95m   0.00281\u001b[0m\u001b[1;95m \u001b[0m│\n",
      "│ trk.double_majority_pt1.5      │     0.86547 │    0.00242 │\n",
      "│ trk.fake_double_majority       │     0.19249 │    0.00209 │\n",
      "│ trk.fake_double_majority_pt0.5 │     0.07464 │    0.00128 │\n",
      "│ trk.fake_double_majority_pt0.9 │     0.04951 │    0.00106 │\n",
      "│ trk.fake_double_majority_pt1.5 │     0.05568 │    0.00238 │\n",
      "│ trk.fake_lhc                   │     0.21746 │    0.00320 │\n",
      "│ trk.fake_lhc_pt0.5             │     0.15923 │    0.00266 │\n",
      "│ trk.fake_lhc_pt0.9             │     0.14119 │    0.00289 │\n",
      "│ trk.fake_lhc_pt1.5             │     0.13864 │    0.00287 │\n",
      "│ trk.fake_perfect               │     0.62556 │    0.00281 │\n",
      "│ trk.fake_perfect_pt0.5         │     0.46496 │    0.00346 │\n",
      "│ trk.fake_perfect_pt0.9         │     0.40721 │    0.00359 │\n",
      "│ trk.fake_perfect_pt1.5         │     0.40594 │    0.00133 │\n",
      "│ trk.i_batch                    │     1.50000 │    0.23570 │\n",
      "│ trk.lhc                        │     0.78254 │    0.00320 │\n",
      "│ trk.lhc_pt0.5                  │     0.84077 │    0.00266 │\n",
      "│\u001b[1;95m \u001b[0m\u001b[1;95mtrk.lhc_pt0.9                 \u001b[0m\u001b[1;95m \u001b[0m│\u001b[1;95m \u001b[0m\u001b[1;95m    0.85881\u001b[0m\u001b[1;95m \u001b[0m│\u001b[1;95m \u001b[0m\u001b[1;95m   0.00289\u001b[0m\u001b[1;95m \u001b[0m│\n",
      "│ trk.lhc_pt1.5                  │     0.86137 │    0.00287 │\n",
      "│ trk.n_cleaned_clusters         │  6090.00000 │   97.67440 │\n",
      "│ trk.n_cleaned_clusters_pt0.5   │  3140.75000 │   54.43781 │\n",
      "│ trk.n_cleaned_clusters_pt0.9   │  1318.50000 │   20.70131 │\n",
      "│ trk.n_cleaned_clusters_pt1.5   │   472.00000 │    5.37277 │\n",
      "│ trk.n_particles                │  7667.25000 │  127.30081 │\n",
      "│ trk.n_particles_pt0.5          │  3433.50000 │   63.37481 │\n",
      "│ trk.n_particles_pt0.9          │  1422.25000 │   24.75541 │\n",
      "│ trk.n_particles_pt1.5          │   515.00000 │    5.77543 │\n",
      "│ trk.perfect                    │     0.29750 │    0.00240 │\n",
      "│ trk.perfect_pt0.5              │     0.48974 │    0.00382 │\n",
      "│\u001b[1;95m \u001b[0m\u001b[1;95mtrk.perfect_pt0.9             \u001b[0m\u001b[1;95m \u001b[0m│\u001b[1;95m \u001b[0m\u001b[1;95m    0.55003\u001b[0m\u001b[1;95m \u001b[0m│\u001b[1;95m \u001b[0m\u001b[1;95m   0.00413\u001b[0m\u001b[1;95m \u001b[0m│\n",
      "│ trk.perfect_pt1.5              │     0.54448 │    0.00176 │\n",
      "└────────────────────────────────┴─────────────┴────────────┘\n",
      "\n"
     ]
    },
    {
     "data": {
      "application/vnd.jupyter.widget-view+json": {
       "model_id": "",
       "version_major": 2,
       "version_minor": 0
      },
      "text/plain": [
       "Validation: |          | 0/? [00:00<?, ?it/s]"
      ]
     },
     "metadata": {},
     "output_type": "display_data"
    },
    {
     "name": "stderr",
     "output_type": "stream",
     "text": [
      "NaN or Inf found in input tensor.\n",
      "NaN or Inf found in input tensor.\n"
     ]
    },
    {
     "data": {
      "text/html": [
       "<pre style=\"white-space:pre;overflow-x:auto;line-height:normal;font-family:Menlo,'DejaVu Sans Mono',consolas,'Courier New',monospace\"></pre>\n"
      ],
      "text/plain": []
     },
     "metadata": {},
     "output_type": "display_data"
    },
    {
     "name": "stdout",
     "output_type": "stream",
     "text": [
      "\u001b[3m                     Validation epoch=1                      \u001b[0m\n",
      "┏━━━━━━━━━━━━━━━━━━━━━━━━━━━━━━━━┳━━━━━━━━━━━━━┳━━━━━━━━━━━━┓\n",
      "┃\u001b[1m \u001b[0m\u001b[1mMetric                        \u001b[0m\u001b[1m \u001b[0m┃\u001b[1m \u001b[0m\u001b[1m      Value\u001b[0m\u001b[1m \u001b[0m┃\u001b[1m \u001b[0m\u001b[1m     Error\u001b[0m\u001b[1m \u001b[0m┃\n",
      "┡━━━━━━━━━━━━━━━━━━━━━━━━━━━━━━━━╇━━━━━━━━━━━━━╇━━━━━━━━━━━━┩\n",
      "│\u001b[1;95m \u001b[0m\u001b[1;95mattractive                    \u001b[0m\u001b[1;95m \u001b[0m│\u001b[1;95m \u001b[0m\u001b[1;95m    0.07213\u001b[0m\u001b[1;95m \u001b[0m│\u001b[1;95m \u001b[0m\u001b[1;95m   0.00229\u001b[0m\u001b[1;95m \u001b[0m│\n",
      "│ attractive_train               │     0.06824 │        nan │\n",
      "│ attractive_weighted            │     0.07213 │    0.00229 │\n",
      "│ attractive_weighted_train      │     0.06824 │        nan │\n",
      "│ best_dbscan_eps                │     0.53325 │        nan │\n",
      "│ best_dbscan_min_samples        │     1.00000 │        nan │\n",
      "│ n_edges_att                    │ 35077.50000 │ 1273.15723 │\n",
      "│ n_edges_att_train              │ 29759.00000 │        nan │\n",
      "│ n_edges_rep                    │ 21444.50000 │ 1818.80603 │\n",
      "│ n_edges_rep_train              │ 20174.00000 │        nan │\n",
      "│ n_hits_oi                      │  9646.25000 │  405.12701 │\n",
      "│ n_hits_oi_train                │  8204.00000 │        nan │\n",
      "│\u001b[1;95m \u001b[0m\u001b[1;95mrepulsive                     \u001b[0m\u001b[1;95m \u001b[0m│\u001b[1;95m \u001b[0m\u001b[1;95m    0.60865\u001b[0m\u001b[1;95m \u001b[0m│\u001b[1;95m \u001b[0m\u001b[1;95m   0.02394\u001b[0m\u001b[1;95m \u001b[0m│\n",
      "│ repulsive_train                │     0.63371 │        nan │\n",
      "│ repulsive_weighted             │     0.03043 │    0.00120 │\n",
      "│ repulsive_weighted_train       │     0.03169 │        nan │\n",
      "│ total                          │     0.10256 │    0.00333 │\n",
      "│ total_train                    │     0.09993 │        nan │\n",
      "│ trk.double_majority            │     0.70792 │    0.00145 │\n",
      "│ trk.double_majority_pt0.5      │     0.89931 │    0.00137 │\n",
      "│\u001b[1;95m \u001b[0m\u001b[1;95mtrk.double_majority_pt0.9     \u001b[0m\u001b[1;95m \u001b[0m│\u001b[1;95m \u001b[0m\u001b[1;95m    0.92276\u001b[0m\u001b[1;95m \u001b[0m│\u001b[1;95m \u001b[0m\u001b[1;95m   0.00179\u001b[0m\u001b[1;95m \u001b[0m│\n",
      "│ trk.double_majority_pt1.5      │     0.90980 │    0.00250 │\n",
      "│ trk.fake_double_majority       │     0.14681 │    0.00161 │\n",
      "│ trk.fake_double_majority_pt0.5 │     0.04591 │    0.00110 │\n",
      "│ trk.fake_double_majority_pt0.9 │     0.03267 │    0.00176 │\n",
      "│ trk.fake_double_majority_pt1.5 │     0.03670 │    0.00161 │\n",
      "│ trk.fake_lhc                   │     0.13728 │    0.00161 │\n",
      "│ trk.fake_lhc_pt0.5             │     0.08935 │    0.00166 │\n",
      "│ trk.fake_lhc_pt0.9             │     0.08032 │    0.00242 │\n",
      "│ trk.fake_lhc_pt1.5             │     0.08041 │    0.00180 │\n",
      "│ trk.fake_perfect               │     0.50217 │    0.00279 │\n",
      "│ trk.fake_perfect_pt0.5         │     0.32568 │    0.00331 │\n",
      "│ trk.fake_perfect_pt0.9         │     0.27489 │    0.00372 │\n",
      "│ trk.fake_perfect_pt1.5         │     0.26964 │    0.00342 │\n",
      "│ trk.i_batch                    │     1.50000 │    0.23570 │\n",
      "│ trk.lhc                        │     0.86272 │    0.00161 │\n",
      "│ trk.lhc_pt0.5                  │     0.91065 │    0.00166 │\n",
      "│\u001b[1;95m \u001b[0m\u001b[1;95mtrk.lhc_pt0.9                 \u001b[0m\u001b[1;95m \u001b[0m│\u001b[1;95m \u001b[0m\u001b[1;95m    0.91968\u001b[0m\u001b[1;95m \u001b[0m│\u001b[1;95m \u001b[0m\u001b[1;95m   0.00242\u001b[0m\u001b[1;95m \u001b[0m│\n",
      "│ trk.lhc_pt1.5                  │     0.91959 │    0.00180 │\n",
      "│ trk.n_cleaned_clusters         │  6361.25000 │  104.27798 │\n",
      "│ trk.n_cleaned_clusters_pt0.5   │  3236.00000 │   58.99341 │\n",
      "│ trk.n_cleaned_clusters_pt0.9   │  1356.75000 │   23.69968 │\n",
      "│ trk.n_cleaned_clusters_pt1.5   │   486.50000 │    5.94886 │\n",
      "│ trk.n_particles                │  7667.25000 │  127.30081 │\n",
      "│ trk.n_particles_pt0.5          │  3433.50000 │   63.37481 │\n",
      "│ trk.n_particles_pt0.9          │  1422.25000 │   24.75541 │\n",
      "│ trk.n_particles_pt1.5          │   515.00000 │    5.77543 │\n",
      "│ trk.perfect                    │     0.41305 │    0.00226 │\n",
      "│ trk.perfect_pt0.5              │     0.63562 │    0.00332 │\n",
      "│\u001b[1;95m \u001b[0m\u001b[1;95mtrk.perfect_pt0.9             \u001b[0m\u001b[1;95m \u001b[0m│\u001b[1;95m \u001b[0m\u001b[1;95m    0.69168\u001b[0m\u001b[1;95m \u001b[0m│\u001b[1;95m \u001b[0m\u001b[1;95m   0.00344\u001b[0m\u001b[1;95m \u001b[0m│\n",
      "│ trk.perfect_pt1.5              │     0.68983 │    0.00379 │\n",
      "└────────────────────────────────┴─────────────┴────────────┘\n",
      "\n"
     ]
    },
    {
     "data": {
      "application/vnd.jupyter.widget-view+json": {
       "model_id": "",
       "version_major": 2,
       "version_minor": 0
      },
      "text/plain": [
       "Validation: |          | 0/? [00:00<?, ?it/s]"
      ]
     },
     "metadata": {},
     "output_type": "display_data"
    },
    {
     "name": "stderr",
     "output_type": "stream",
     "text": [
      "NaN or Inf found in input tensor.\n",
      "NaN or Inf found in input tensor.\n"
     ]
    },
    {
     "data": {
      "text/html": [
       "<pre style=\"white-space:pre;overflow-x:auto;line-height:normal;font-family:Menlo,'DejaVu Sans Mono',consolas,'Courier New',monospace\"></pre>\n"
      ],
      "text/plain": []
     },
     "metadata": {},
     "output_type": "display_data"
    },
    {
     "name": "stdout",
     "output_type": "stream",
     "text": [
      "\u001b[3m                     Validation epoch=2                      \u001b[0m\n",
      "┏━━━━━━━━━━━━━━━━━━━━━━━━━━━━━━━━┳━━━━━━━━━━━━━┳━━━━━━━━━━━━┓\n",
      "┃\u001b[1m \u001b[0m\u001b[1mMetric                        \u001b[0m\u001b[1m \u001b[0m┃\u001b[1m \u001b[0m\u001b[1m      Value\u001b[0m\u001b[1m \u001b[0m┃\u001b[1m \u001b[0m\u001b[1m     Error\u001b[0m\u001b[1m \u001b[0m┃\n",
      "┡━━━━━━━━━━━━━━━━━━━━━━━━━━━━━━━━╇━━━━━━━━━━━━━╇━━━━━━━━━━━━┩\n",
      "│\u001b[1;95m \u001b[0m\u001b[1;95mattractive                    \u001b[0m\u001b[1;95m \u001b[0m│\u001b[1;95m \u001b[0m\u001b[1;95m    0.07408\u001b[0m\u001b[1;95m \u001b[0m│\u001b[1;95m \u001b[0m\u001b[1;95m   0.00195\u001b[0m\u001b[1;95m \u001b[0m│\n",
      "│ attractive_train               │     0.08518 │        nan │\n",
      "│ attractive_weighted            │     0.07408 │    0.00195 │\n",
      "│ attractive_weighted_train      │     0.08518 │        nan │\n",
      "│ best_dbscan_eps                │     0.48822 │        nan │\n",
      "│ best_dbscan_min_samples        │     2.00000 │        nan │\n",
      "│ n_edges_att                    │ 35077.50000 │ 1273.15723 │\n",
      "│ n_edges_att_train              │ 35266.00000 │        nan │\n",
      "│ n_edges_rep                    │ 19814.00000 │ 1543.97656 │\n",
      "│ n_edges_rep_train              │ 21159.00000 │        nan │\n",
      "│ n_hits_oi                      │  9646.25000 │  405.12701 │\n",
      "│ n_hits_oi_train                │  9563.00000 │        nan │\n",
      "│\u001b[1;95m \u001b[0m\u001b[1;95mrepulsive                     \u001b[0m\u001b[1;95m \u001b[0m│\u001b[1;95m \u001b[0m\u001b[1;95m    0.61420\u001b[0m\u001b[1;95m \u001b[0m│\u001b[1;95m \u001b[0m\u001b[1;95m   0.01518\u001b[0m\u001b[1;95m \u001b[0m│\n",
      "│ repulsive_train                │     0.57516 │        nan │\n",
      "│ repulsive_weighted             │     0.03071 │    0.00076 │\n",
      "│ repulsive_weighted_train       │     0.02876 │        nan │\n",
      "│ total                          │     0.10479 │    0.00257 │\n",
      "│ total_train                    │     0.11394 │        nan │\n",
      "│ trk.double_majority            │     0.71240 │    0.00210 │\n",
      "│ trk.double_majority_pt0.5      │     0.90173 │    0.00187 │\n",
      "│\u001b[1;95m \u001b[0m\u001b[1;95mtrk.double_majority_pt0.9     \u001b[0m\u001b[1;95m \u001b[0m│\u001b[1;95m \u001b[0m\u001b[1;95m    0.92485\u001b[0m\u001b[1;95m \u001b[0m│\u001b[1;95m \u001b[0m\u001b[1;95m   0.00189\u001b[0m\u001b[1;95m \u001b[0m│\n",
      "│ trk.double_majority_pt1.5      │     0.91307 │    0.00198 │\n",
      "│ trk.fake_double_majority       │     0.14109 │    0.00253 │\n",
      "│ trk.fake_double_majority_pt0.5 │     0.04311 │    0.00123 │\n",
      "│ trk.fake_double_majority_pt0.9 │     0.02875 │    0.00129 │\n",
      "│ trk.fake_double_majority_pt1.5 │     0.03321 │    0.00133 │\n",
      "│ trk.fake_lhc                   │     0.13687 │    0.00220 │\n",
      "│ trk.fake_lhc_pt0.5             │     0.09082 │    0.00176 │\n",
      "│ trk.fake_lhc_pt0.9             │     0.08086 │    0.00159 │\n",
      "│ trk.fake_lhc_pt1.5             │     0.08231 │    0.00173 │\n",
      "│ trk.fake_perfect               │     0.51983 │    0.00323 │\n",
      "│ trk.fake_perfect_pt0.5         │     0.34071 │    0.00318 │\n",
      "│ trk.fake_perfect_pt0.9         │     0.28509 │    0.00199 │\n",
      "│ trk.fake_perfect_pt1.5         │     0.28455 │    0.00231 │\n",
      "│ trk.i_batch                    │     1.50000 │    0.23570 │\n",
      "│ trk.lhc                        │     0.86313 │    0.00220 │\n",
      "│ trk.lhc_pt0.5                  │     0.90918 │    0.00176 │\n",
      "│\u001b[1;95m \u001b[0m\u001b[1;95mtrk.lhc_pt0.9                 \u001b[0m\u001b[1;95m \u001b[0m│\u001b[1;95m \u001b[0m\u001b[1;95m    0.91914\u001b[0m\u001b[1;95m \u001b[0m│\u001b[1;95m \u001b[0m\u001b[1;95m   0.00159\u001b[0m\u001b[1;95m \u001b[0m│\n",
      "│ trk.lhc_pt1.5                  │     0.91769 │    0.00173 │\n",
      "│ trk.n_cleaned_clusters         │  6359.25000 │  104.87096 │\n",
      "│ trk.n_cleaned_clusters_pt0.5   │  3234.50000 │   57.20810 │\n",
      "│ trk.n_cleaned_clusters_pt0.9   │  1354.00000 │   22.85607 │\n",
      "│ trk.n_cleaned_clusters_pt1.5   │   486.25000 │    4.97633 │\n",
      "│ trk.n_particles                │  7667.25000 │  127.30081 │\n",
      "│ trk.n_particles_pt0.5          │  3433.50000 │   63.37481 │\n",
      "│ trk.n_particles_pt0.9          │  1422.25000 │   24.75541 │\n",
      "│ trk.n_particles_pt1.5          │   515.00000 │    5.77543 │\n",
      "│ trk.perfect                    │     0.39825 │    0.00254 │\n",
      "│ trk.perfect_pt0.5              │     0.62132 │    0.00342 │\n",
      "│\u001b[1;95m \u001b[0m\u001b[1;95mtrk.perfect_pt0.9             \u001b[0m\u001b[1;95m \u001b[0m│\u001b[1;95m \u001b[0m\u001b[1;95m    0.68077\u001b[0m\u001b[1;95m \u001b[0m│\u001b[1;95m \u001b[0m\u001b[1;95m   0.00229\u001b[0m\u001b[1;95m \u001b[0m│\n",
      "│ trk.perfect_pt1.5              │     0.67573 │    0.00284 │\n",
      "└────────────────────────────────┴─────────────┴────────────┘\n",
      "\n"
     ]
    },
    {
     "data": {
      "application/vnd.jupyter.widget-view+json": {
       "model_id": "",
       "version_major": 2,
       "version_minor": 0
      },
      "text/plain": [
       "Validation: |          | 0/? [00:00<?, ?it/s]"
      ]
     },
     "metadata": {},
     "output_type": "display_data"
    },
    {
     "name": "stderr",
     "output_type": "stream",
     "text": [
      "NaN or Inf found in input tensor.\n",
      "NaN or Inf found in input tensor.\n"
     ]
    },
    {
     "data": {
      "text/html": [
       "<pre style=\"white-space:pre;overflow-x:auto;line-height:normal;font-family:Menlo,'DejaVu Sans Mono',consolas,'Courier New',monospace\"></pre>\n"
      ],
      "text/plain": []
     },
     "metadata": {},
     "output_type": "display_data"
    },
    {
     "name": "stdout",
     "output_type": "stream",
     "text": [
      "\u001b[3m                     Validation epoch=3                      \u001b[0m\n",
      "┏━━━━━━━━━━━━━━━━━━━━━━━━━━━━━━━━┳━━━━━━━━━━━━━┳━━━━━━━━━━━━┓\n",
      "┃\u001b[1m \u001b[0m\u001b[1mMetric                        \u001b[0m\u001b[1m \u001b[0m┃\u001b[1m \u001b[0m\u001b[1m      Value\u001b[0m\u001b[1m \u001b[0m┃\u001b[1m \u001b[0m\u001b[1m     Error\u001b[0m\u001b[1m \u001b[0m┃\n",
      "┡━━━━━━━━━━━━━━━━━━━━━━━━━━━━━━━━╇━━━━━━━━━━━━━╇━━━━━━━━━━━━┩\n",
      "│\u001b[1;95m \u001b[0m\u001b[1;95mattractive                    \u001b[0m\u001b[1;95m \u001b[0m│\u001b[1;95m \u001b[0m\u001b[1;95m    0.07468\u001b[0m\u001b[1;95m \u001b[0m│\u001b[1;95m \u001b[0m\u001b[1;95m   0.00362\u001b[0m\u001b[1;95m \u001b[0m│\n",
      "│ attractive_train               │     0.07614 │        nan │\n",
      "│ attractive_weighted            │     0.07468 │    0.00362 │\n",
      "│ attractive_weighted_train      │     0.07614 │        nan │\n",
      "│ best_dbscan_eps                │     0.52804 │        nan │\n",
      "│ best_dbscan_min_samples        │     3.00000 │        nan │\n",
      "│ n_edges_att                    │ 35077.50000 │ 1273.15723 │\n",
      "│ n_edges_att_train              │ 36430.00000 │        nan │\n",
      "│ n_edges_rep                    │ 16049.50000 │ 1300.22314 │\n",
      "│ n_edges_rep_train              │ 17826.00000 │        nan │\n",
      "│ n_hits_oi                      │  9646.25000 │  405.12701 │\n",
      "│ n_hits_oi_train                │ 10119.00000 │        nan │\n",
      "│\u001b[1;95m \u001b[0m\u001b[1;95mrepulsive                     \u001b[0m\u001b[1;95m \u001b[0m│\u001b[1;95m \u001b[0m\u001b[1;95m    0.51989\u001b[0m\u001b[1;95m \u001b[0m│\u001b[1;95m \u001b[0m\u001b[1;95m   0.02496\u001b[0m\u001b[1;95m \u001b[0m│\n",
      "│ repulsive_train                │     0.55182 │        nan │\n",
      "│ repulsive_weighted             │     0.02599 │    0.00125 │\n",
      "│ repulsive_weighted_train       │     0.02759 │        nan │\n",
      "│ total                          │     0.10068 │    0.00471 │\n",
      "│ total_train                    │     0.10373 │        nan │\n",
      "│ trk.double_majority            │     0.70511 │    0.00170 │\n",
      "│ trk.double_majority_pt0.5      │     0.90244 │    0.00258 │\n",
      "│\u001b[1;95m \u001b[0m\u001b[1;95mtrk.double_majority_pt0.9     \u001b[0m\u001b[1;95m \u001b[0m│\u001b[1;95m \u001b[0m\u001b[1;95m    0.92889\u001b[0m\u001b[1;95m \u001b[0m│\u001b[1;95m \u001b[0m\u001b[1;95m   0.00234\u001b[0m\u001b[1;95m \u001b[0m│\n",
      "│ trk.double_majority_pt1.5      │     0.91731 │    0.00253 │\n",
      "│ trk.fake_double_majority       │     0.14164 │    0.00240 │\n",
      "│ trk.fake_double_majority_pt0.5 │     0.04138 │    0.00114 │\n",
      "│ trk.fake_double_majority_pt0.9 │     0.02431 │    0.00128 │\n",
      "│ trk.fake_double_majority_pt1.5 │     0.03212 │    0.00068 │\n",
      "│ trk.fake_lhc                   │     0.13103 │    0.00246 │\n",
      "│ trk.fake_lhc_pt0.5             │     0.08462 │    0.00143 │\n",
      "│ trk.fake_lhc_pt0.9             │     0.07197 │    0.00169 │\n",
      "│ trk.fake_lhc_pt1.5             │     0.07823 │    0.00253 │\n",
      "│ trk.fake_perfect               │     0.50269 │    0.00344 │\n",
      "│ trk.fake_perfect_pt0.5         │     0.32060 │    0.00386 │\n",
      "│ trk.fake_perfect_pt0.9         │     0.25981 │    0.00295 │\n",
      "│ trk.fake_perfect_pt1.5         │     0.25092 │    0.00173 │\n",
      "│ trk.i_batch                    │     1.50000 │    0.23570 │\n",
      "│ trk.lhc                        │     0.86897 │    0.00246 │\n",
      "│ trk.lhc_pt0.5                  │     0.91538 │    0.00143 │\n",
      "│\u001b[1;95m \u001b[0m\u001b[1;95mtrk.lhc_pt0.9                 \u001b[0m\u001b[1;95m \u001b[0m│\u001b[1;95m \u001b[0m\u001b[1;95m    0.92803\u001b[0m\u001b[1;95m \u001b[0m│\u001b[1;95m \u001b[0m\u001b[1;95m   0.00169\u001b[0m\u001b[1;95m \u001b[0m│\n",
      "│ trk.lhc_pt1.5                  │     0.92177 │    0.00253 │\n",
      "│ trk.n_cleaned_clusters         │  6299.25000 │  106.48833 │\n",
      "│ trk.n_cleaned_clusters_pt0.5   │  3230.25000 │   55.08567 │\n",
      "│ trk.n_cleaned_clusters_pt0.9   │  1353.50000 │   22.42692 │\n",
      "│ trk.n_cleaned_clusters_pt1.5   │   488.00000 │    5.28940 │\n",
      "│ trk.n_particles                │  7667.25000 │  127.30081 │\n",
      "│ trk.n_particles_pt0.5          │  3433.50000 │   63.37481 │\n",
      "│ trk.n_particles_pt0.9          │  1422.25000 │   24.75541 │\n",
      "│ trk.n_particles_pt1.5          │   515.00000 │    5.77543 │\n",
      "│ trk.perfect                    │     0.40851 │    0.00264 │\n",
      "│ trk.perfect_pt0.5              │     0.63966 │    0.00446 │\n",
      "│\u001b[1;95m \u001b[0m\u001b[1;95mtrk.perfect_pt0.9             \u001b[0m\u001b[1;95m \u001b[0m│\u001b[1;95m \u001b[0m\u001b[1;95m    0.70469\u001b[0m\u001b[1;95m \u001b[0m│\u001b[1;95m \u001b[0m\u001b[1;95m   0.00326\u001b[0m\u001b[1;95m \u001b[0m│\n",
      "│ trk.perfect_pt1.5              │     0.71001 │    0.00323 │\n",
      "└────────────────────────────────┴─────────────┴────────────┘\n",
      "\n"
     ]
    },
    {
     "data": {
      "application/vnd.jupyter.widget-view+json": {
       "model_id": "",
       "version_major": 2,
       "version_minor": 0
      },
      "text/plain": [
       "Validation: |          | 0/? [00:00<?, ?it/s]"
      ]
     },
     "metadata": {},
     "output_type": "display_data"
    },
    {
     "name": "stderr",
     "output_type": "stream",
     "text": [
      "NaN or Inf found in input tensor.\n",
      "NaN or Inf found in input tensor.\n"
     ]
    },
    {
     "data": {
      "text/html": [
       "<pre style=\"white-space:pre;overflow-x:auto;line-height:normal;font-family:Menlo,'DejaVu Sans Mono',consolas,'Courier New',monospace\"></pre>\n"
      ],
      "text/plain": []
     },
     "metadata": {},
     "output_type": "display_data"
    },
    {
     "name": "stdout",
     "output_type": "stream",
     "text": [
      "\u001b[3m                     Validation epoch=4                      \u001b[0m\n",
      "┏━━━━━━━━━━━━━━━━━━━━━━━━━━━━━━━━┳━━━━━━━━━━━━━┳━━━━━━━━━━━━┓\n",
      "┃\u001b[1m \u001b[0m\u001b[1mMetric                        \u001b[0m\u001b[1m \u001b[0m┃\u001b[1m \u001b[0m\u001b[1m      Value\u001b[0m\u001b[1m \u001b[0m┃\u001b[1m \u001b[0m\u001b[1m     Error\u001b[0m\u001b[1m \u001b[0m┃\n",
      "┡━━━━━━━━━━━━━━━━━━━━━━━━━━━━━━━━╇━━━━━━━━━━━━━╇━━━━━━━━━━━━┩\n",
      "│\u001b[1;95m \u001b[0m\u001b[1;95mattractive                    \u001b[0m\u001b[1;95m \u001b[0m│\u001b[1;95m \u001b[0m\u001b[1;95m    0.05930\u001b[0m\u001b[1;95m \u001b[0m│\u001b[1;95m \u001b[0m\u001b[1;95m   0.00219\u001b[0m\u001b[1;95m \u001b[0m│\n",
      "│ attractive_train               │     0.07265 │        nan │\n",
      "│ attractive_weighted            │     0.05930 │    0.00219 │\n",
      "│ attractive_weighted_train      │     0.07265 │        nan │\n",
      "│ best_dbscan_eps                │     0.46597 │        nan │\n",
      "│ best_dbscan_min_samples        │     3.00000 │        nan │\n",
      "│ n_edges_att                    │ 35077.50000 │ 1273.15723 │\n",
      "│ n_edges_att_train              │ 29289.00000 │        nan │\n",
      "│ n_edges_rep                    │ 20100.75000 │ 1703.94299 │\n",
      "│ n_edges_rep_train              │ 13852.00000 │        nan │\n",
      "│ n_hits_oi                      │  9646.25000 │  405.12701 │\n",
      "│ n_hits_oi_train                │  8227.00000 │        nan │\n",
      "│\u001b[1;95m \u001b[0m\u001b[1;95mrepulsive                     \u001b[0m\u001b[1;95m \u001b[0m│\u001b[1;95m \u001b[0m\u001b[1;95m    0.55227\u001b[0m\u001b[1;95m \u001b[0m│\u001b[1;95m \u001b[0m\u001b[1;95m   0.03016\u001b[0m\u001b[1;95m \u001b[0m│\n",
      "│ repulsive_train                │     0.45916 │        nan │\n",
      "│ repulsive_weighted             │     0.02761 │    0.00151 │\n",
      "│ repulsive_weighted_train       │     0.02296 │        nan │\n",
      "│ total                          │     0.08692 │    0.00354 │\n",
      "│ total_train                    │     0.09561 │        nan │\n",
      "│ trk.double_majority            │     0.72427 │    0.00143 │\n",
      "│ trk.double_majority_pt0.5      │     0.91538 │    0.00180 │\n",
      "│\u001b[1;95m \u001b[0m\u001b[1;95mtrk.double_majority_pt0.9     \u001b[0m\u001b[1;95m \u001b[0m│\u001b[1;95m \u001b[0m\u001b[1;95m    0.93758\u001b[0m\u001b[1;95m \u001b[0m│\u001b[1;95m \u001b[0m\u001b[1;95m   0.00187\u001b[0m\u001b[1;95m \u001b[0m│\n",
      "│ trk.double_majority_pt1.5      │     0.92462 │    0.00192 │\n",
      "│ trk.fake_double_majority       │     0.12261 │    0.00194 │\n",
      "│ trk.fake_double_majority_pt0.5 │     0.03085 │    0.00130 │\n",
      "│ trk.fake_double_majority_pt0.9 │     0.01819 │    0.00114 │\n",
      "│ trk.fake_double_majority_pt1.5 │     0.02262 │    0.00197 │\n",
      "│ trk.fake_lhc                   │     0.09769 │    0.00166 │\n",
      "│ trk.fake_lhc_pt0.5             │     0.06032 │    0.00171 │\n",
      "│ trk.fake_lhc_pt0.9             │     0.05120 │    0.00209 │\n",
      "│ trk.fake_lhc_pt1.5             │     0.05485 │    0.00260 │\n",
      "│ trk.fake_perfect               │     0.46461 │    0.00253 │\n",
      "│ trk.fake_perfect_pt0.5         │     0.28107 │    0.00235 │\n",
      "│ trk.fake_perfect_pt0.9         │     0.22634 │    0.00239 │\n",
      "│ trk.fake_perfect_pt1.5         │     0.23028 │    0.00300 │\n",
      "│ trk.i_batch                    │     1.50000 │    0.23570 │\n",
      "│ trk.lhc                        │     0.90231 │    0.00166 │\n",
      "│ trk.lhc_pt0.5                  │     0.93968 │    0.00171 │\n",
      "│\u001b[1;95m \u001b[0m\u001b[1;95mtrk.lhc_pt0.9                 \u001b[0m\u001b[1;95m \u001b[0m│\u001b[1;95m \u001b[0m\u001b[1;95m    0.94880\u001b[0m\u001b[1;95m \u001b[0m│\u001b[1;95m \u001b[0m\u001b[1;95m   0.00209\u001b[0m\u001b[1;95m \u001b[0m│\n",
      "│ trk.lhc_pt1.5                  │     0.94515 │    0.00260 │\n",
      "│ trk.n_cleaned_clusters         │  6329.75000 │  106.33086 │\n",
      "│ trk.n_cleaned_clusters_pt0.5   │  3242.00000 │   57.53975 │\n",
      "│ trk.n_cleaned_clusters_pt0.9   │  1357.75000 │   22.62956 │\n",
      "│ trk.n_cleaned_clusters_pt1.5   │   487.25000 │    5.67720 │\n",
      "│ trk.n_particles                │  7667.25000 │  127.30081 │\n",
      "│ trk.n_particles_pt0.5          │  3433.50000 │   63.37481 │\n",
      "│ trk.n_particles_pt0.9          │  1422.25000 │   24.75541 │\n",
      "│ trk.n_particles_pt1.5          │   515.00000 │    5.77543 │\n",
      "│ trk.perfect                    │     0.44194 │    0.00194 │\n",
      "│ trk.perfect_pt0.5              │     0.67907 │    0.00272 │\n",
      "│\u001b[1;95m \u001b[0m\u001b[1;95mtrk.perfect_pt0.9             \u001b[0m\u001b[1;95m \u001b[0m│\u001b[1;95m \u001b[0m\u001b[1;95m    0.73884\u001b[0m\u001b[1;95m \u001b[0m│\u001b[1;95m \u001b[0m\u001b[1;95m   0.00292\u001b[0m\u001b[1;95m \u001b[0m│\n",
      "│ trk.perfect_pt1.5              │     0.72826 │    0.00373 │\n",
      "└────────────────────────────────┴─────────────┴────────────┘\n",
      "\n"
     ]
    },
    {
     "data": {
      "application/vnd.jupyter.widget-view+json": {
       "model_id": "",
       "version_major": 2,
       "version_minor": 0
      },
      "text/plain": [
       "Validation: |          | 0/? [00:00<?, ?it/s]"
      ]
     },
     "metadata": {},
     "output_type": "display_data"
    },
    {
     "name": "stderr",
     "output_type": "stream",
     "text": [
      "NaN or Inf found in input tensor.\n",
      "NaN or Inf found in input tensor.\n"
     ]
    },
    {
     "data": {
      "text/html": [
       "<pre style=\"white-space:pre;overflow-x:auto;line-height:normal;font-family:Menlo,'DejaVu Sans Mono',consolas,'Courier New',monospace\"></pre>\n"
      ],
      "text/plain": []
     },
     "metadata": {},
     "output_type": "display_data"
    },
    {
     "name": "stdout",
     "output_type": "stream",
     "text": [
      "\u001b[3m                     Validation epoch=5                      \u001b[0m\n",
      "┏━━━━━━━━━━━━━━━━━━━━━━━━━━━━━━━━┳━━━━━━━━━━━━━┳━━━━━━━━━━━━┓\n",
      "┃\u001b[1m \u001b[0m\u001b[1mMetric                        \u001b[0m\u001b[1m \u001b[0m┃\u001b[1m \u001b[0m\u001b[1m      Value\u001b[0m\u001b[1m \u001b[0m┃\u001b[1m \u001b[0m\u001b[1m     Error\u001b[0m\u001b[1m \u001b[0m┃\n",
      "┡━━━━━━━━━━━━━━━━━━━━━━━━━━━━━━━━╇━━━━━━━━━━━━━╇━━━━━━━━━━━━┩\n",
      "│\u001b[1;95m \u001b[0m\u001b[1;95mattractive                    \u001b[0m\u001b[1;95m \u001b[0m│\u001b[1;95m \u001b[0m\u001b[1;95m    0.05823\u001b[0m\u001b[1;95m \u001b[0m│\u001b[1;95m \u001b[0m\u001b[1;95m   0.00126\u001b[0m\u001b[1;95m \u001b[0m│\n",
      "│ attractive_train               │     0.04660 │        nan │\n",
      "│ attractive_weighted            │     0.05823 │    0.00126 │\n",
      "│ attractive_weighted_train      │     0.04660 │        nan │\n",
      "│ best_dbscan_eps                │     0.52564 │        nan │\n",
      "│ best_dbscan_min_samples        │     1.00000 │        nan │\n",
      "│ n_edges_att                    │ 35077.50000 │ 1273.15723 │\n",
      "│ n_edges_att_train              │ 24481.00000 │        nan │\n",
      "│ n_edges_rep                    │ 14782.50000 │ 1215.88293 │\n",
      "│ n_edges_rep_train              │  6637.00000 │        nan │\n",
      "│ n_hits_oi                      │  9646.25000 │  405.12701 │\n",
      "│ n_hits_oi_train                │  6554.00000 │        nan │\n",
      "│\u001b[1;95m \u001b[0m\u001b[1;95mrepulsive                     \u001b[0m\u001b[1;95m \u001b[0m│\u001b[1;95m \u001b[0m\u001b[1;95m    0.42281\u001b[0m\u001b[1;95m \u001b[0m│\u001b[1;95m \u001b[0m\u001b[1;95m   0.01520\u001b[0m\u001b[1;95m \u001b[0m│\n",
      "│ repulsive_train                │     0.28727 │        nan │\n",
      "│ repulsive_weighted             │     0.02114 │    0.00076 │\n",
      "│ repulsive_weighted_train       │     0.01436 │        nan │\n",
      "│ total                          │     0.07937 │    0.00196 │\n",
      "│ total_train                    │     0.06096 │        nan │\n",
      "│ trk.double_majority            │     0.73847 │    0.00151 │\n",
      "│ trk.double_majority_pt0.5      │     0.92260 │    0.00182 │\n",
      "│\u001b[1;95m \u001b[0m\u001b[1;95mtrk.double_majority_pt0.9     \u001b[0m\u001b[1;95m \u001b[0m│\u001b[1;95m \u001b[0m\u001b[1;95m    0.94468\u001b[0m\u001b[1;95m \u001b[0m│\u001b[1;95m \u001b[0m\u001b[1;95m   0.00219\u001b[0m\u001b[1;95m \u001b[0m│\n",
      "│ trk.double_majority_pt1.5      │     0.93246 │    0.00272 │\n",
      "│ trk.fake_double_majority       │     0.12422 │    0.00198 │\n",
      "│ trk.fake_double_majority_pt0.5 │     0.03383 │    0.00101 │\n",
      "│ trk.fake_double_majority_pt0.9 │     0.01915 │    0.00118 │\n",
      "│ trk.fake_double_majority_pt1.5 │     0.02322 │    0.00100 │\n",
      "│ trk.fake_lhc                   │     0.11168 │    0.00170 │\n",
      "│ trk.fake_lhc_pt0.5             │     0.06588 │    0.00099 │\n",
      "│ trk.fake_lhc_pt0.9             │     0.05517 │    0.00114 │\n",
      "│ trk.fake_lhc_pt1.5             │     0.05806 │    0.00069 │\n",
      "│ trk.fake_perfect               │     0.45933 │    0.00310 │\n",
      "│ trk.fake_perfect_pt0.5         │     0.27404 │    0.00330 │\n",
      "│ trk.fake_perfect_pt0.9         │     0.22010 │    0.00264 │\n",
      "│ trk.fake_perfect_pt1.5         │     0.21721 │    0.00216 │\n",
      "│ trk.i_batch                    │     1.50000 │    0.23570 │\n",
      "│ trk.lhc                        │     0.88832 │    0.00170 │\n",
      "│ trk.lhc_pt0.5                  │     0.93412 │    0.00099 │\n",
      "│\u001b[1;95m \u001b[0m\u001b[1;95mtrk.lhc_pt0.9                 \u001b[0m\u001b[1;95m \u001b[0m│\u001b[1;95m \u001b[0m\u001b[1;95m    0.94483\u001b[0m\u001b[1;95m \u001b[0m│\u001b[1;95m \u001b[0m\u001b[1;95m   0.00114\u001b[0m\u001b[1;95m \u001b[0m│\n",
      "│ trk.lhc_pt1.5                  │     0.94194 │    0.00069 │\n",
      "│ trk.n_cleaned_clusters         │  6465.00000 │  106.69239 │\n",
      "│ trk.n_cleaned_clusters_pt0.5   │  3278.00000 │   59.16042 │\n",
      "│ trk.n_cleaned_clusters_pt0.9   │  1369.25000 │   22.67861 │\n",
      "│ trk.n_cleaned_clusters_pt1.5   │   491.50000 │    5.18652 │\n",
      "│ trk.n_particles                │  7667.25000 │  127.30081 │\n",
      "│ trk.n_particles_pt0.5          │  3433.50000 │   63.37481 │\n",
      "│ trk.n_particles_pt0.9          │  1422.25000 │   24.75541 │\n",
      "│ trk.n_particles_pt1.5          │   515.00000 │    5.77543 │\n",
      "│ trk.perfect                    │     0.45588 │    0.00238 │\n",
      "│ trk.perfect_pt0.5              │     0.69322 │    0.00332 │\n",
      "│\u001b[1;95m \u001b[0m\u001b[1;95mtrk.perfect_pt0.9             \u001b[0m\u001b[1;95m \u001b[0m│\u001b[1;95m \u001b[0m\u001b[1;95m    0.75113\u001b[0m\u001b[1;95m \u001b[0m│\u001b[1;95m \u001b[0m\u001b[1;95m   0.00296\u001b[0m\u001b[1;95m \u001b[0m│\n",
      "│ trk.perfect_pt1.5              │     0.74721 │    0.00198 │\n",
      "└────────────────────────────────┴─────────────┴────────────┘\n",
      "\n"
     ]
    }
   ],
   "source": [
    "trainer_oc = Trainer(\n",
    "    max_epochs=10,\n",
    "    accelerator=\"gpu\",\n",
    "    log_every_n_steps=1,\n",
    "    callbacks=[\n",
    "        TriggerWandbSyncLightningCallback(),\n",
    "        PrintValidationMetrics(),\n",
    "        ExpandWandbConfig(),\n",
    "        LearningRateMonitor(logging_interval=10, log_momentum=True, log_weight_decay=True),\n",
    "        EarlyStopping(monitor=\"total\", mode=\"min\", patience=20),\n",
    "        ModelCheckpoint(save_top_k=2, monitor=\"total\", mode=\"min\"),\n",
    "    ],\n",
    "    logger=[\n",
    "        wandb_logger_oc,\n",
    "        tb_logger_oc,\n",
    "    ],\n",
    ")\n",
    "trainer_oc.fit(model=lmodel, datamodule=dm)"
   ]
  }
 ],
 "metadata": {
  "kernelspec": {
   "display_name": "Python 3 (ipykernel)",
   "language": "python",
   "name": "python3"
  },
  "language_info": {
   "codemirror_mode": {
    "name": "ipython",
    "version": 3
   },
   "file_extension": ".py",
   "mimetype": "text/x-python",
   "name": "python",
   "nbconvert_exporter": "python",
   "pygments_lexer": "ipython3",
   "version": "3.11.7"
  }
 },
 "nbformat": 4,
 "nbformat_minor": 4
}
