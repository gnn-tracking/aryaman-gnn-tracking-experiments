{
 "cells": [
  {
   "attachments": {},
   "cell_type": "markdown",
   "metadata": {
    "collapsed": false,
    "jupyter": {
     "outputs_hidden": false
    }
   },
   "source": [
    "# Building graphs with Metric Learning\n",
    "\n",
    "This notebook shows how to build graphs using a metric learning strategy. For this, every hit is independently projected to a latent space using a fully connected neural network. The network is trained to put hits from the same particle close to each other and hits from different particles far from each other. An initial graph can then be constructed by connecting hits that are close in this space.\n",
    "This strategy has been adapted by ExaTrkx, see for example [section 5.2 here.](https://link.springer.com/10.1140/epjc/s10052-021-09675-8)\n",
    "\n",
    "This notebook also serves as an introduction to the new pytorch lightning-based framework."
   ]
  },
  {
   "cell_type": "code",
   "execution_count": 1,
   "metadata": {},
   "outputs": [],
   "source": [
    "from functools import partial\n",
    "from pathlib import Path\n",
    "import os\n",
    "\n",
    "import torch\n",
    "\n",
    "from gnn_tracking.training.ml import MLModule\n",
    "from gnn_tracking.training.tc import TCModule\n",
    "from gnn_tracking.models.graph_construction import GraphConstructionFCNN\n",
    "from gnn_tracking.models.graph_construction import NoiseClassifierModel\n",
    "from gnn_tracking.models.graph_construction import WithNoiseClassification\n",
    "from gnn_tracking.metrics.losses.metric_learning import GraphConstructionHingeEmbeddingLoss\n",
    "from pytorch_lightning import Trainer\n",
    "from gnn_tracking.utils.loading import TrackingDataModule\n",
    "from gnn_tracking.training.callbacks import ExpandWandbConfig, PrintValidationMetrics\n",
    "from gnn_tracking.utils.versioning import assert_version_geq\n",
    "from gnn_tracking.utils.lightning import obj_from_or_to_hparams\n",
    "\n",
    "from torch_geometric.data import Data\n",
    "from torch import nn\n",
    "from pytorch_lightning.core.mixins.hparams_mixin import HyperparametersMixin\n",
    "\n",
    "\n",
    "assert_version_geq(\"23.12.0\")"
   ]
  },
  {
   "attachments": {},
   "cell_type": "markdown",
   "metadata": {},
   "source": [
    "## Step 1: Configuring the data"
   ]
  },
  {
   "attachments": {},
   "cell_type": "markdown",
   "metadata": {},
   "source": [
    "The configuration for train/val/test data and its dataloader is held in the `TrackingDataModule` (subclass of `LightningDataModule`)."
   ]
  },
  {
   "cell_type": "code",
   "execution_count": 2,
   "metadata": {},
   "outputs": [],
   "source": [
    "# data_dir = Path.cwd().resolve().parent.parent / \"test-data\" / \"data\" / \"point_clouds\" / \"v8\"\n",
    "data_path = \"/scratch/gpfs/IOJALVO/gnn-tracking/object_condensation/point_clouds_v8/\"\n",
    "data_paths = os.listdir(data_path)\n",
    "data_paths.sort()\n",
    "data_paths = list(map(lambda x: data_path + x, data_paths))\n",
    "# assert data_dir.is_dir()"
   ]
  },
  {
   "cell_type": "code",
   "execution_count": 3,
   "metadata": {},
   "outputs": [],
   "source": [
    "noise_model = NoiseClassifierModel()"
   ]
  },
  {
   "cell_type": "code",
   "execution_count": 4,
   "metadata": {},
   "outputs": [],
   "source": [
    "dm = TrackingDataModule(\n",
    "    train=dict(\n",
    "        dirs=data_paths[1:-1],\n",
    "    ),\n",
    "    val=dict(\n",
    "        dirs=[data_paths[-1]],\n",
    "        start=0,\n",
    "        stop=4,\n",
    "    ),\n",
    "    identifier=\"point_clouds_v8\"\n",
    "    # could also configure a 'test' set here\n",
    ")"
   ]
  },
  {
   "attachments": {},
   "cell_type": "markdown",
   "metadata": {},
   "source": [
    "Other keys allow to configure the loaders (batch size, number of workers, etc.). See the docstring of `TrackingDataModule` for details."
   ]
  },
  {
   "attachments": {},
   "cell_type": "markdown",
   "metadata": {},
   "source": [
    "### Details (for understanding)"
   ]
  },
  {
   "attachments": {},
   "cell_type": "markdown",
   "metadata": {},
   "source": [
    "Note that all of the following will be done implicitly by the `Trainer` and you won't have to worry about it. But if you want to inspect the data, you can do so.\n",
    "\n",
    "When calling the `setup` method, the `LightningDataModule` initializes instances of `TrackingDataset` (`torch_geometric.Dataset`) for each of these. We can get the corresponding dataloaders by calling `dm.train_dataloader()` and analog for validation and test.\n",
    "\n",
    "Example:"
   ]
  },
  {
   "cell_type": "code",
   "execution_count": 5,
   "metadata": {},
   "outputs": [
    {
     "name": "stderr",
     "output_type": "stream",
     "text": [
      "\u001b[32m[10:29:41] INFO: DataLoader will load 7743 graphs (out of 7743 available).\u001b[0m\n",
      "\u001b[36m[10:29:41] DEBUG: First graph is /scratch/gpfs/IOJALVO/gnn-tracking/object_condensation/point_clouds_v8/part_1/data21000_s0.pt, last graph is /scratch/gpfs/IOJALVO/gnn-tracking/object_condensation/point_clouds_v8/part_8/data28999_s0.pt\u001b[0m\n",
      "\u001b[32m[10:29:41] INFO: DataLoader will load 4 graphs (out of 1000 available).\u001b[0m\n",
      "\u001b[36m[10:29:41] DEBUG: First graph is /scratch/gpfs/IOJALVO/gnn-tracking/object_condensation/point_clouds_v8/part_9/data29000_s0.pt, last graph is /scratch/gpfs/IOJALVO/gnn-tracking/object_condensation/point_clouds_v8/part_9/data29003_s0.pt\u001b[0m\n"
     ]
    },
    {
     "data": {
      "text/plain": [
       "{'train': TrackingDataset(7743), 'val': TrackingDataset(4)}"
      ]
     },
     "execution_count": 5,
     "metadata": {},
     "output_type": "execute_result"
    }
   ],
   "source": [
    "# This is called by the Trainer automatically and sets up the datasets\n",
    "dm.setup(stage=\"fit\")  # 'fit' combines 'train' and 'val'\n",
    "# Now the datasets are available:\n",
    "dm.datasets"
   ]
  },
  {
   "cell_type": "code",
   "execution_count": 6,
   "metadata": {},
   "outputs": [],
   "source": [
    "# dm.__setitem__('train', noise_model(dm.datasets['train']))"
   ]
  },
  {
   "attachments": {},
   "cell_type": "markdown",
   "metadata": {},
   "source": [
    "For example, we can inspect the first element of the training dataset:"
   ]
  },
  {
   "cell_type": "code",
   "execution_count": 7,
   "metadata": {},
   "outputs": [],
   "source": [
    "data = dm.datasets[\"train\"][0]"
   ]
  },
  {
   "attachments": {},
   "cell_type": "markdown",
   "metadata": {},
   "source": [
    "To get the corresponding dataloaders, use one of the methods (but again, you probalby won't need to):"
   ]
  },
  {
   "cell_type": "code",
   "execution_count": 8,
   "metadata": {},
   "outputs": [
    {
     "data": {
      "text/plain": [
       "(<torch_geometric.loader.dataloader.DataLoader at 0x14cc51ce54d0>,\n",
       " <torch_geometric.loader.dataloader.DataLoader at 0x14cc51ce5510>)"
      ]
     },
     "execution_count": 8,
     "metadata": {},
     "output_type": "execute_result"
    }
   ],
   "source": [
    "dm.train_dataloader(), dm.val_dataloader()"
   ]
  },
  {
   "attachments": {},
   "cell_type": "markdown",
   "metadata": {},
   "source": [
    "## Step 2: Configuring a model"
   ]
  },
  {
   "attachments": {},
   "cell_type": "markdown",
   "metadata": {},
   "source": [
    "We write a normal `torch.nn.Module`. The easiest way is to import one of the modules that we have already written in the `gnn_tracking` librar."
   ]
  },
  {
   "cell_type": "code",
   "execution_count": 9,
   "metadata": {},
   "outputs": [],
   "source": [
    "noise_model = NoiseClassifierModel()\n",
    "# model = WithNoiseClassification(noise_model,\n",
    "#                                 GraphConstructionFCNN(in_dim=14, out_dim=8, depth=5, hidden_dim=64))\n",
    "model = GraphConstructionFCNN(in_dim=14, out_dim=8, depth=5, hidden_dim=64)"
   ]
  },
  {
   "cell_type": "code",
   "execution_count": 43,
   "metadata": {},
   "outputs": [],
   "source": [
    "# len(dm.datasets['train'])"
   ]
  },
  {
   "cell_type": "code",
   "execution_count": 44,
   "metadata": {},
   "outputs": [],
   "source": [
    "# dm.datasets['train'][0] = noise_model(dm.datasets['train'][0])"
   ]
  },
  {
   "cell_type": "code",
   "execution_count": 10,
   "metadata": {},
   "outputs": [
    {
     "data": {
      "text/plain": [
       "{'H': tensor([[-0.0611, -0.2800,  0.2673,  ...,  0.2291, -0.1241, -0.1884],\n",
       "         [-0.0589, -0.2825,  0.2619,  ...,  0.2286, -0.1228, -0.1877],\n",
       "         [-0.0572, -0.2842,  0.2582,  ...,  0.2286, -0.1217, -0.1870],\n",
       "         ...,\n",
       "         [-0.1896, -0.0706,  0.3904,  ...,  0.5716, -0.0858, -0.1299],\n",
       "         [-0.1887, -0.0706,  0.3908,  ...,  0.5748, -0.0842, -0.1287],\n",
       "         [-0.1917, -0.0711,  0.3914,  ...,  0.5701, -0.0842, -0.1321]],\n",
       "        grad_fn=<MulBackward0>)}"
      ]
     },
     "execution_count": 10,
     "metadata": {},
     "output_type": "execute_result"
    }
   ],
   "source": [
    "model(data)"
   ]
  },
  {
   "attachments": {},
   "cell_type": "markdown",
   "metadata": {},
   "source": [
    "However, you can also write your own. Here is a very simple one:"
   ]
  },
  {
   "cell_type": "code",
   "execution_count": 8,
   "metadata": {},
   "outputs": [],
   "source": [
    "class DemoGraphConstructionModel(nn.Module, HyperparametersMixin):\n",
    "    def __init__(\n",
    "        self,\n",
    "        in_dim: int,\n",
    "        hidden_dim: int,\n",
    "        out_dim: int,\n",
    "        depth: int = 5,\n",
    "    ):\n",
    "        super().__init__()\n",
    "        # This is made available by the HyperparametersMixin\n",
    "        # all of our hyperparameters from the __init__ arguments\n",
    "        # are saved to self.hparams (but we don't need this in this\n",
    "        # example)\n",
    "        self.save_hyperparameters()\n",
    "        assert depth > 2\n",
    "        _layers = [\n",
    "            nn.Linear(in_dim, hidden_dim),\n",
    "            nn.ReLU(),\n",
    "        ]\n",
    "        for _ in range(depth - 2):\n",
    "            _layers.append(nn.Linear(hidden_dim, hidden_dim))\n",
    "            _layers.append(nn.ReLU())\n",
    "        _layers.append(nn.Linear(hidden_dim, out_dim))\n",
    "        self._model = nn.Sequential(*_layers)\n",
    "\n",
    "    def forward(self, data: Data):\n",
    "        # Our trainer class will expect us to return a dictionary, where\n",
    "        # the key H has the transformed latent space.\n",
    "        return {\"H\": self._model(data.x)}"
   ]
  },
  {
   "cell_type": "markdown",
   "metadata": {},
   "source": [
    "Uncomment the next line to use model we just wrote (rather than the default)"
   ]
  },
  {
   "cell_type": "code",
   "execution_count": 9,
   "metadata": {},
   "outputs": [],
   "source": [
    "# model = DemoGraphConstructionModel(in_dim=14, out_dim=8, hidden_dim=64)"
   ]
  },
  {
   "attachments": {},
   "cell_type": "markdown",
   "metadata": {},
   "source": [
    "If you are familiar with normal pytorch, there was only few differences:\n",
    "\n",
    "1. We inherit from `HyperparamsMixin`\n",
    "2. We call `self.save_hyperparameters()`"
   ]
  },
  {
   "attachments": {},
   "cell_type": "markdown",
   "metadata": {},
   "source": [
    "### Details (for understanding)"
   ]
  },
  {
   "attachments": {},
   "cell_type": "markdown",
   "metadata": {},
   "source": [
    "We saved all hyperparameters:"
   ]
  },
  {
   "cell_type": "code",
   "execution_count": 13,
   "metadata": {},
   "outputs": [
    {
     "data": {
      "text/plain": [
       "\"alpha\":      0.6\n",
       "\"depth\":      5\n",
       "\"hidden_dim\": 64\n",
       "\"in_dim\":     14\n",
       "\"out_dim\":    8"
      ]
     },
     "execution_count": 13,
     "metadata": {},
     "output_type": "execute_result"
    }
   ],
   "source": [
    "model.hparams"
   ]
  },
  {
   "attachments": {},
   "cell_type": "markdown",
   "metadata": {},
   "source": [
    "Note how `depth=5` was saved despite not being specified explicitly (it was recognized as a default parameter)."
   ]
  },
  {
   "attachments": {},
   "cell_type": "markdown",
   "metadata": {},
   "source": [
    "As always, you can simply evaluate the `model` on a piece of data:"
   ]
  },
  {
   "cell_type": "code",
   "execution_count": 14,
   "metadata": {},
   "outputs": [],
   "source": [
    "out = model(data)"
   ]
  },
  {
   "cell_type": "code",
   "execution_count": 15,
   "metadata": {},
   "outputs": [
    {
     "data": {
      "text/plain": [
       "torch.Size([66114])"
      ]
     },
     "execution_count": 15,
     "metadata": {},
     "output_type": "execute_result"
    }
   ],
   "source": [
    "out[\"H\"][:,1].shape"
   ]
  },
  {
   "cell_type": "code",
   "execution_count": 38,
   "metadata": {},
   "outputs": [
    {
     "data": {
      "text/plain": [
       "<matplotlib.collections.PathCollection at 0x14d5329ea210>"
      ]
     },
     "execution_count": 38,
     "metadata": {},
     "output_type": "execute_result"
    },
    {
     "data": {
      "image/png": "[encoded data removed]",
      "text/plain": [
       "<Figure size 640x480 with 1 Axes>"
      ]
     },
     "metadata": {},
     "output_type": "display_data"
    }
   ],
   "source": [
    "import matplotlib.pyplot as plt\n",
    "\n",
    "plt.scatter(out[\"H\"][:, 0].detach().numpy(), out[\"H\"][:, 1].detach().numpy(), alpha=0.1, s=10)"
   ]
  },
  {
   "attachments": {},
   "cell_type": "markdown",
   "metadata": {},
   "source": [
    "## Step 3: Configuring loss functions, metrics and the lightning module"
   ]
  },
  {
   "attachments": {},
   "cell_type": "markdown",
   "metadata": {},
   "source": [
    "The pytorch model is bundled together with a set of loss functions (just one here), that we backpropagate from in the training step, and a set of metrics. Together, these components make up the `LightningModule` that we pass to the pytorch lightning `Trainer` for training.\n",
    "\n",
    "If you were familiar with our previous `TCNTrainer` training class, this `MLModule` now fulfills (almost) the exact same role."
   ]
  },
  {
   "cell_type": "code",
   "execution_count": 11,
   "metadata": {},
   "outputs": [],
   "source": [
    "lmodel = MLModule(\n",
    "    model=model,\n",
    "    loss_fct=GraphConstructionHingeEmbeddingLoss(\n",
    "        lw_repulsive=0.5,\n",
    "        max_num_neighbors=10,\n",
    "    ),\n",
    "    optimizer=partial(torch.optim.Adam, lr=1e-4),\n",
    "    preproc=NoiseClassifierModel()\n",
    ")"
   ]
  },
  {
   "attachments": {},
   "cell_type": "markdown",
   "metadata": {},
   "source": [
    "### Details (for understanding)"
   ]
  },
  {
   "attachments": {},
   "cell_type": "markdown",
   "metadata": {},
   "source": [
    "Again, all hyperparameters are accessible (even the ones that weren't explicitly specified but only set by default):"
   ]
  },
  {
   "cell_type": "code",
   "execution_count": 47,
   "metadata": {},
   "outputs": [
    {
     "data": {
      "text/plain": [
       "\"cluster_scanner\": None\n",
       "\"loss_fct\":        {'class_path': 'gnn_tracking.metrics.losses.metric_learning.GraphConstructionHingeEmbeddingLoss', 'init_args': {'lw_repulsive': 0.5, 'r_emb': 1.0, 'max_num_neighbors': 10, 'pt_thld': 0.9, 'max_eta': 4.0, 'p_attr': 1.0, 'p_rep': 1.0}}\n",
       "\"model\":           {'class_path': 'gnn_tracking.models.graph_construction.GraphConstructionFCNN', 'init_args': {'in_dim': 14, 'hidden_dim': 64, 'out_dim': 8, 'depth': 5, 'alpha': 0.6}}\n",
       "\"preproc\":         {'class_path': 'gnn_tracking.models.graph_construction.NoiseClassifierModel', 'init_args': {}}"
      ]
     },
     "execution_count": 47,
     "metadata": {},
     "output_type": "execute_result"
    }
   ],
   "source": [
    "lmodel.hparams"
   ]
  },
  {
   "attachments": {},
   "cell_type": "markdown",
   "metadata": {},
   "source": [
    "As you can see, any _objects_ that were passed to the model are also saved to the hyperparameters in a way that we can bring them back."
   ]
  },
  {
   "attachments": {},
   "cell_type": "markdown",
   "metadata": {},
   "source": [
    "The loss function takes output from the model and the data and returns two separate losses:"
   ]
  },
  {
   "cell_type": "code",
   "execution_count": 48,
   "metadata": {},
   "outputs": [
    {
     "data": {
      "text/plain": [
       "Data(x=[66114, 14], edge_index=[2, 229066], y=[0], layer=[66114], particle_id=[66114], pt=[66114], reconstructable=[66114], sector=[66114], eta=[66114], n_hits=[66114], n_layers_hit=[66114])"
      ]
     },
     "execution_count": 48,
     "metadata": {},
     "output_type": "execute_result"
    }
   ],
   "source": [
    "data"
   ]
  },
  {
   "cell_type": "code",
   "execution_count": 42,
   "metadata": {},
   "outputs": [
    {
     "ename": "RuntimeError",
     "evalue": "The following operation failed in the TorchScript interpreter.\nTraceback of TorchScript (most recent call last):\n  File \"/home/aj2239/gnn_tracking/src/gnn_tracking/metrics/losses/metric_learning.py\", line 26, in _hinge_loss_components\n    eps = 1e-9\n\n    dists_att = norm(x[att_edges[0]] - x[att_edges[1]], dim=-1)\n                     ~~~~~~~~~~~~~~~ <--- HERE\n    norm_att = att_edges.shape[1] + eps\n    v_att = torch.sum(torch.pow(dists_att, p_attr)) / norm_att\nRuntimeError: index 63617 is out of bounds for dimension 0 with size 62352\n",
     "output_type": "error",
     "traceback": [
      "\u001b[0;31m---------------------------------------------------------------------------\u001b[0m",
      "\u001b[0;31mRuntimeError\u001b[0m                              Traceback (most recent call last)",
      "Cell \u001b[0;32mIn[42], line 2\u001b[0m\n\u001b[1;32m      1\u001b[0m loss_fct \u001b[38;5;241m=\u001b[39m GraphConstructionHingeEmbeddingLoss()\n\u001b[0;32m----> 2\u001b[0m \u001b[43mloss_fct\u001b[49m\u001b[43m(\u001b[49m\n\u001b[1;32m      3\u001b[0m \u001b[43m    \u001b[49m\u001b[43mx\u001b[49m\u001b[38;5;241;43m=\u001b[39;49m\u001b[43mout\u001b[49m\u001b[43m[\u001b[49m\u001b[38;5;124;43m\"\u001b[39;49m\u001b[38;5;124;43mH\u001b[39;49m\u001b[38;5;124;43m\"\u001b[39;49m\u001b[43m]\u001b[49m\u001b[43m,\u001b[49m\n\u001b[1;32m      4\u001b[0m \u001b[43m    \u001b[49m\u001b[43mparticle_id\u001b[49m\u001b[38;5;241;43m=\u001b[39;49m\u001b[43mdata\u001b[49m\u001b[38;5;241;43m.\u001b[39;49m\u001b[43mparticle_id\u001b[49m\u001b[43m,\u001b[49m\n\u001b[1;32m      5\u001b[0m \u001b[43m    \u001b[49m\u001b[43mbatch\u001b[49m\u001b[38;5;241;43m=\u001b[39;49m\u001b[43mdata\u001b[49m\u001b[38;5;241;43m.\u001b[39;49m\u001b[43mbatch\u001b[49m\u001b[43m,\u001b[49m\n\u001b[1;32m      6\u001b[0m \u001b[43m    \u001b[49m\u001b[43medge_index\u001b[49m\u001b[38;5;241;43m=\u001b[39;49m\u001b[43mdata\u001b[49m\u001b[38;5;241;43m.\u001b[39;49m\u001b[43medge_index\u001b[49m\u001b[43m,\u001b[49m\n\u001b[1;32m      7\u001b[0m \u001b[43m    \u001b[49m\u001b[43mpt\u001b[49m\u001b[38;5;241;43m=\u001b[39;49m\u001b[43mdata\u001b[49m\u001b[38;5;241;43m.\u001b[39;49m\u001b[43mpt\u001b[49m\u001b[43m,\u001b[49m\n\u001b[1;32m      8\u001b[0m \u001b[43m    \u001b[49m\u001b[43meta\u001b[49m\u001b[38;5;241;43m=\u001b[39;49m\u001b[43mdata\u001b[49m\u001b[38;5;241;43m.\u001b[39;49m\u001b[43meta\u001b[49m\u001b[43m,\u001b[49m\n\u001b[1;32m      9\u001b[0m \u001b[43m    \u001b[49m\u001b[43mreconstructable\u001b[49m\u001b[38;5;241;43m=\u001b[39;49m\u001b[43mdata\u001b[49m\u001b[38;5;241;43m.\u001b[39;49m\u001b[43mreconstructable\u001b[49m\u001b[43m,\u001b[49m\n\u001b[1;32m     10\u001b[0m \u001b[43m    \u001b[49m\u001b[43mtrue_edge_index\u001b[49m\u001b[38;5;241;43m=\u001b[39;49m\u001b[43mdata\u001b[49m\u001b[38;5;241;43m.\u001b[39;49m\u001b[43medge_index\u001b[49m\u001b[43m,\u001b[49m\n\u001b[1;32m     11\u001b[0m \u001b[43m    \u001b[49m\u001b[43mmax_num_neighbors\u001b[49m\u001b[38;5;241;43m=\u001b[39;49m\u001b[38;5;241;43m2\u001b[39;49m\u001b[43m,\u001b[49m\n\u001b[1;32m     12\u001b[0m \u001b[43m)\u001b[49m\n",
      "File \u001b[0;32m/scratch/gpfs/aj2239/micromamba/envs/gnn/lib/python3.11/site-packages/torch/nn/modules/module.py:1518\u001b[0m, in \u001b[0;36mModule._wrapped_call_impl\u001b[0;34m(self, *args, **kwargs)\u001b[0m\n\u001b[1;32m   1516\u001b[0m     \u001b[38;5;28;01mreturn\u001b[39;00m \u001b[38;5;28mself\u001b[39m\u001b[38;5;241m.\u001b[39m_compiled_call_impl(\u001b[38;5;241m*\u001b[39margs, \u001b[38;5;241m*\u001b[39m\u001b[38;5;241m*\u001b[39mkwargs)  \u001b[38;5;66;03m# type: ignore[misc]\u001b[39;00m\n\u001b[1;32m   1517\u001b[0m \u001b[38;5;28;01melse\u001b[39;00m:\n\u001b[0;32m-> 1518\u001b[0m     \u001b[38;5;28;01mreturn\u001b[39;00m \u001b[38;5;28;43mself\u001b[39;49m\u001b[38;5;241;43m.\u001b[39;49m\u001b[43m_call_impl\u001b[49m\u001b[43m(\u001b[49m\u001b[38;5;241;43m*\u001b[39;49m\u001b[43margs\u001b[49m\u001b[43m,\u001b[49m\u001b[43m \u001b[49m\u001b[38;5;241;43m*\u001b[39;49m\u001b[38;5;241;43m*\u001b[39;49m\u001b[43mkwargs\u001b[49m\u001b[43m)\u001b[49m\n",
      "File \u001b[0;32m/scratch/gpfs/aj2239/micromamba/envs/gnn/lib/python3.11/site-packages/torch/nn/modules/module.py:1527\u001b[0m, in \u001b[0;36mModule._call_impl\u001b[0;34m(self, *args, **kwargs)\u001b[0m\n\u001b[1;32m   1522\u001b[0m \u001b[38;5;66;03m# If we don't have any hooks, we want to skip the rest of the logic in\u001b[39;00m\n\u001b[1;32m   1523\u001b[0m \u001b[38;5;66;03m# this function, and just call forward.\u001b[39;00m\n\u001b[1;32m   1524\u001b[0m \u001b[38;5;28;01mif\u001b[39;00m \u001b[38;5;129;01mnot\u001b[39;00m (\u001b[38;5;28mself\u001b[39m\u001b[38;5;241m.\u001b[39m_backward_hooks \u001b[38;5;129;01mor\u001b[39;00m \u001b[38;5;28mself\u001b[39m\u001b[38;5;241m.\u001b[39m_backward_pre_hooks \u001b[38;5;129;01mor\u001b[39;00m \u001b[38;5;28mself\u001b[39m\u001b[38;5;241m.\u001b[39m_forward_hooks \u001b[38;5;129;01mor\u001b[39;00m \u001b[38;5;28mself\u001b[39m\u001b[38;5;241m.\u001b[39m_forward_pre_hooks\n\u001b[1;32m   1525\u001b[0m         \u001b[38;5;129;01mor\u001b[39;00m _global_backward_pre_hooks \u001b[38;5;129;01mor\u001b[39;00m _global_backward_hooks\n\u001b[1;32m   1526\u001b[0m         \u001b[38;5;129;01mor\u001b[39;00m _global_forward_hooks \u001b[38;5;129;01mor\u001b[39;00m _global_forward_pre_hooks):\n\u001b[0;32m-> 1527\u001b[0m     \u001b[38;5;28;01mreturn\u001b[39;00m \u001b[43mforward_call\u001b[49m\u001b[43m(\u001b[49m\u001b[38;5;241;43m*\u001b[39;49m\u001b[43margs\u001b[49m\u001b[43m,\u001b[49m\u001b[43m \u001b[49m\u001b[38;5;241;43m*\u001b[39;49m\u001b[38;5;241;43m*\u001b[39;49m\u001b[43mkwargs\u001b[49m\u001b[43m)\u001b[49m\n\u001b[1;32m   1529\u001b[0m \u001b[38;5;28;01mtry\u001b[39;00m:\n\u001b[1;32m   1530\u001b[0m     result \u001b[38;5;241m=\u001b[39m \u001b[38;5;28;01mNone\u001b[39;00m\n",
      "File \u001b[0;32m~/gnn_tracking/src/gnn_tracking/metrics/losses/metric_learning.py:126\u001b[0m, in \u001b[0;36mGraphConstructionHingeEmbeddingLoss.forward\u001b[0;34m(self, x, particle_id, batch, true_edge_index, pt, eta, reconstructable, **kwargs)\u001b[0m\n\u001b[1;32m    118\u001b[0m n_hits_oi \u001b[38;5;241m=\u001b[39m mask\u001b[38;5;241m.\u001b[39msum()\n\u001b[1;32m    119\u001b[0m att_edges, rep_edges \u001b[38;5;241m=\u001b[39m \u001b[38;5;28mself\u001b[39m\u001b[38;5;241m.\u001b[39m_get_edges(\n\u001b[1;32m    120\u001b[0m     x\u001b[38;5;241m=\u001b[39mx,\n\u001b[1;32m    121\u001b[0m     batch\u001b[38;5;241m=\u001b[39mbatch,\n\u001b[0;32m   (...)\u001b[0m\n\u001b[1;32m    124\u001b[0m     particle_id\u001b[38;5;241m=\u001b[39mparticle_id,\n\u001b[1;32m    125\u001b[0m )\n\u001b[0;32m--> 126\u001b[0m attr, rep \u001b[38;5;241m=\u001b[39m \u001b[43m_hinge_loss_components\u001b[49m\u001b[43m(\u001b[49m\n\u001b[1;32m    127\u001b[0m \u001b[43m    \u001b[49m\u001b[43mx\u001b[49m\u001b[38;5;241;43m=\u001b[39;49m\u001b[43mx\u001b[49m\u001b[43m,\u001b[49m\n\u001b[1;32m    128\u001b[0m \u001b[43m    \u001b[49m\u001b[43matt_edges\u001b[49m\u001b[38;5;241;43m=\u001b[39;49m\u001b[43matt_edges\u001b[49m\u001b[43m,\u001b[49m\n\u001b[1;32m    129\u001b[0m \u001b[43m    \u001b[49m\u001b[43mrep_edges\u001b[49m\u001b[38;5;241;43m=\u001b[39;49m\u001b[43mrep_edges\u001b[49m\u001b[43m,\u001b[49m\n\u001b[1;32m    130\u001b[0m \u001b[43m    \u001b[49m\u001b[43mr_emb_hinge\u001b[49m\u001b[38;5;241;43m=\u001b[39;49m\u001b[38;5;28;43mself\u001b[39;49m\u001b[38;5;241;43m.\u001b[39;49m\u001b[43mhparams\u001b[49m\u001b[38;5;241;43m.\u001b[39;49m\u001b[43mr_emb\u001b[49m\u001b[43m,\u001b[49m\n\u001b[1;32m    131\u001b[0m \u001b[43m    \u001b[49m\u001b[43mp_attr\u001b[49m\u001b[38;5;241;43m=\u001b[39;49m\u001b[38;5;28;43mself\u001b[39;49m\u001b[38;5;241;43m.\u001b[39;49m\u001b[43mhparams\u001b[49m\u001b[38;5;241;43m.\u001b[39;49m\u001b[43mp_attr\u001b[49m\u001b[43m,\u001b[49m\n\u001b[1;32m    132\u001b[0m \u001b[43m    \u001b[49m\u001b[43mp_rep\u001b[49m\u001b[38;5;241;43m=\u001b[39;49m\u001b[38;5;28;43mself\u001b[39;49m\u001b[38;5;241;43m.\u001b[39;49m\u001b[43mhparams\u001b[49m\u001b[38;5;241;43m.\u001b[39;49m\u001b[43mp_rep\u001b[49m\u001b[43m,\u001b[49m\n\u001b[1;32m    133\u001b[0m \u001b[43m    \u001b[49m\u001b[43mn_hits_oi\u001b[49m\u001b[38;5;241;43m=\u001b[39;49m\u001b[43mn_hits_oi\u001b[49m\u001b[43m,\u001b[49m\n\u001b[1;32m    134\u001b[0m \u001b[43m\u001b[49m\u001b[43m)\u001b[49m\n\u001b[1;32m    135\u001b[0m losses \u001b[38;5;241m=\u001b[39m {\n\u001b[1;32m    136\u001b[0m     \u001b[38;5;124m\"\u001b[39m\u001b[38;5;124mattractive\u001b[39m\u001b[38;5;124m\"\u001b[39m: attr,\n\u001b[1;32m    137\u001b[0m     \u001b[38;5;124m\"\u001b[39m\u001b[38;5;124mrepulsive\u001b[39m\u001b[38;5;124m\"\u001b[39m: rep,\n\u001b[1;32m    138\u001b[0m }\n\u001b[1;32m    139\u001b[0m weights: \u001b[38;5;28mdict\u001b[39m[\u001b[38;5;28mstr\u001b[39m, \u001b[38;5;28mfloat\u001b[39m] \u001b[38;5;241m=\u001b[39m {\n\u001b[1;32m    140\u001b[0m     \u001b[38;5;124m\"\u001b[39m\u001b[38;5;124mattractive\u001b[39m\u001b[38;5;124m\"\u001b[39m: \u001b[38;5;241m1.0\u001b[39m,\n\u001b[1;32m    141\u001b[0m     \u001b[38;5;124m\"\u001b[39m\u001b[38;5;124mrepulsive\u001b[39m\u001b[38;5;124m\"\u001b[39m: \u001b[38;5;28mself\u001b[39m\u001b[38;5;241m.\u001b[39mhparams\u001b[38;5;241m.\u001b[39mlw_repulsive,\n\u001b[1;32m    142\u001b[0m }\n",
      "\u001b[0;31mRuntimeError\u001b[0m: The following operation failed in the TorchScript interpreter.\nTraceback of TorchScript (most recent call last):\n  File \"/home/aj2239/gnn_tracking/src/gnn_tracking/metrics/losses/metric_learning.py\", line 26, in _hinge_loss_components\n    eps = 1e-9\n\n    dists_att = norm(x[att_edges[0]] - x[att_edges[1]], dim=-1)\n                     ~~~~~~~~~~~~~~~ <--- HERE\n    norm_att = att_edges.shape[1] + eps\n    v_att = torch.sum(torch.pow(dists_att, p_attr)) / norm_att\nRuntimeError: index 63617 is out of bounds for dimension 0 with size 62352\n"
     ]
    }
   ],
   "source": [
    "loss_fct = GraphConstructionHingeEmbeddingLoss()\n",
    "loss_fct(\n",
    "    x=out[\"H\"],\n",
    "    particle_id=data.particle_id,\n",
    "    batch=data.batch,\n",
    "    edge_index=data.edge_index,\n",
    "    pt=data.pt,\n",
    "    eta=data.eta,\n",
    "    reconstructable=data.reconstructable,\n",
    "    true_edge_index=data.edge_index,\n",
    "    max_num_neighbors=2,\n",
    ")"
   ]
  },
  {
   "attachments": {},
   "cell_type": "markdown",
   "metadata": {},
   "source": [
    "Both parts of the loss functions are combined with the loss weight we have configured above (weight of 1 for attractive, weight of 0.5 for repulsive). All of this is done in `MLModule.get_losses` (returning the total loss and a dictionary of the individual losses):"
   ]
  },
  {
   "cell_type": "code",
   "execution_count": 17,
   "metadata": {},
   "outputs": [
    {
     "data": {
      "text/plain": [
       "(tensor(4.8017, grad_fn=<AddBackward0>),\n",
       " {'attractive': tensor(0.0208, grad_fn=<DivBackward1>),\n",
       "  'repulsive': tensor(9.5617, grad_fn=<DivBackward1>),\n",
       "  'attractive_weighted': 0.020849432796239853,\n",
       "  'repulsive_weighted': 4.780872821807861,\n",
       "  'n_hits_oi': 10506.0,\n",
       "  'n_edges_att': 37848,\n",
       "  'n_edges_rep': 100818,\n",
       "  'total': 4.801722049713135})"
      ]
     },
     "execution_count": 17,
     "metadata": {},
     "output_type": "execute_result"
    }
   ],
   "source": [
    "lmodel.get_losses(out, data)"
   ]
  },
  {
   "attachments": {},
   "cell_type": "markdown",
   "metadata": {},
   "source": [
    "## Step 4: Training"
   ]
  },
  {
   "cell_type": "code",
   "execution_count": 12,
   "metadata": {},
   "outputs": [
    {
     "data": {
      "text/html": [
       "<pre style=\"white-space:pre;overflow-x:auto;line-height:normal;font-family:Menlo,'DejaVu Sans Mono',consolas,'Courier New',monospace\"><span style=\"color: #00ff00; text-decoration-color: #00ff00\">─────────────────────────── </span><span style=\"color: #808000; text-decoration-color: #808000; font-weight: bold\">aloof-impossible-boobook</span><span style=\"color: #00ff00; text-decoration-color: #00ff00\"> ───────────────────────────</span>\n",
       "</pre>\n"
      ],
      "text/plain": [
       "\u001b[92m─────────────────────────── \u001b[0m\u001b[1;33maloof-impossible-boobook\u001b[0m\u001b[92m ───────────────────────────\u001b[0m\n"
      ]
     },
     "metadata": {},
     "output_type": "display_data"
    }
   ],
   "source": [
    "from pytorch_lightning.loggers import TensorBoardLogger, WandbLogger\n",
    "from wandb_osh.lightning_hooks import TriggerWandbSyncLightningCallback\n",
    "from gnn_tracking.utils.nomenclature import random_trial_name\n",
    "\n",
    "name = random_trial_name()\n",
    "\n",
    "logger = WandbLogger(\n",
    "    project=\"gnn_tracking_gc\",\n",
    "    group=\"pixel-gc\",\n",
    "    offline=True,\n",
    "    version=name,\n",
    "    tags=[\"noise-pixel-gc-test\"],\n",
    ")\n",
    "\n",
    "tb_logger = TensorBoardLogger(\".\", version=name)"
   ]
  },
  {
   "cell_type": "code",
   "execution_count": 72,
   "metadata": {},
   "outputs": [
    {
     "name": "stderr",
     "output_type": "stream",
     "text": [
      "GPU available: True (cuda), used: True\n",
      "TPU available: False, using: 0 TPU cores\n",
      "IPU available: False, using: 0 IPUs\n",
      "HPU available: False, using: 0 HPUs\n",
      "\u001b[32m[10:25:46] INFO: DataLoader will load 7743 graphs (out of 7743 available).\u001b[0m\n",
      "\u001b[36m[10:25:46] DEBUG: First graph is /scratch/gpfs/IOJALVO/gnn-tracking/object_condensation/point_clouds_v8/part_1/data21000_s0.pt, last graph is /scratch/gpfs/IOJALVO/gnn-tracking/object_condensation/point_clouds_v8/part_8/data28999_s0.pt\u001b[0m\n",
      "\u001b[32m[10:25:46] INFO: DataLoader will load 4 graphs (out of 1000 available).\u001b[0m\n",
      "\u001b[36m[10:25:46] DEBUG: First graph is /scratch/gpfs/IOJALVO/gnn-tracking/object_condensation/point_clouds_v8/part_9/data29000_s0.pt, last graph is /scratch/gpfs/IOJALVO/gnn-tracking/object_condensation/point_clouds_v8/part_9/data29003_s0.pt\u001b[0m\n",
      "/scratch/gpfs/aj2239/micromamba/envs/gnn/lib/python3.11/site-packages/pytorch_lightning/callbacks/model_checkpoint.py:639: Checkpoint directory /home/aj2239/aryaman-gnn-tracking-experiments/notebooks/lightning_logs/version_53977655/checkpoints exists and is not empty.\n",
      "LOCAL_RANK: 0 - CUDA_VISIBLE_DEVICES: [MIG-74d68ce8-f74a-5408-a325-06b493f31c14]\n",
      "\n",
      "  | Name     | Type                                | Params\n",
      "-----------------------------------------------------------------\n",
      "0 | model    | GraphConstructionFCNN               | 17.8 K\n",
      "1 | preproc  | NoiseClassifierModel                | 0     \n",
      "2 | loss_fct | GraphConstructionHingeEmbeddingLoss | 0     \n",
      "-----------------------------------------------------------------\n",
      "17.8 K    Trainable params\n",
      "0         Non-trainable params\n",
      "17.8 K    Total params\n",
      "0.071     Total estimated model params size (MB)\n",
      "SLURM auto-requeueing enabled. Setting signal handlers.\n"
     ]
    },
    {
     "data": {
      "application/vnd.jupyter.widget-view+json": {
       "model_id": "",
       "version_major": 2,
       "version_minor": 0
      },
      "text/plain": [
       "Sanity Checking: |          | 0/? [00:00<?, ?it/s]"
      ]
     },
     "metadata": {},
     "output_type": "display_data"
    },
    {
     "name": "stderr",
     "output_type": "stream",
     "text": [
      "/scratch/gpfs/aj2239/micromamba/envs/gnn/lib/python3.11/site-packages/pytorch_lightning/trainer/connectors/data_connector.py:441: The 'val_dataloader' does not have many workers which may be a bottleneck. Consider increasing the value of the `num_workers` argument` to `num_workers=1` in the `DataLoader` to improve performance.\n",
      "/scratch/gpfs/aj2239/micromamba/envs/gnn/lib/python3.11/site-packages/pytorch_lightning/trainer/connectors/data_connector.py:441: The 'train_dataloader' does not have many workers which may be a bottleneck. Consider increasing the value of the `num_workers` argument` to `num_workers=1` in the `DataLoader` to improve performance.\n"
     ]
    },
    {
     "data": {
      "application/vnd.jupyter.widget-view+json": {
       "model_id": "85a0d7cfa95c404c9208b51b5e0f5dcf",
       "version_major": 2,
       "version_minor": 0
      },
      "text/plain": [
       "Training: |          | 0/? [00:00<?, ?it/s]"
      ]
     },
     "metadata": {},
     "output_type": "display_data"
    },
    {
     "name": "stderr",
     "output_type": "stream",
     "text": [
      "/scratch/gpfs/aj2239/micromamba/envs/gnn/lib/python3.11/site-packages/pytorch_lightning/trainer/call.py:54: Detected KeyboardInterrupt, attempting graceful shutdown...\n"
     ]
    }
   ],
   "source": [
    "trainer = Trainer(\n",
    "    max_epochs=100,\n",
    "    accelerator=\"gpu\",\n",
    "    log_every_n_steps=1,\n",
    "    callbacks=[PrintValidationMetrics()],\n",
    ")\n",
    "trainer.fit(model=lmodel, datamodule=dm)"
   ]
  },
  {
   "cell_type": "code",
   "execution_count": null,
   "metadata": {},
   "outputs": [
    {
     "name": "stderr",
     "output_type": "stream",
     "text": [
      "\u001b[32m10:30:10 INFO: This is wandb-osh v1.2.0 using communication directory /home/aj2239/.wandb_osh_command_dir\u001b[0m\n",
      "GPU available: True (cuda), used: True\n",
      "TPU available: False, using: 0 TPU cores\n",
      "IPU available: False, using: 0 IPUs\n",
      "HPU available: False, using: 0 HPUs\n",
      "You are using a CUDA device ('NVIDIA A100 80GB PCIe MIG 1g.10gb') that has Tensor Cores. To properly utilize them, you should set `torch.set_float32_matmul_precision('medium' | 'high')` which will trade-off precision for performance. For more details, read https://pytorch.org/docs/stable/generated/torch.set_float32_matmul_precision.html#torch.set_float32_matmul_precision\n",
      "Failed to detect the name of this notebook, you can set it manually with the WANDB_NOTEBOOK_NAME environment variable to enable code saving.\n",
      "\u001b[34m\u001b[1mwandb\u001b[0m: \u001b[33mWARNING\u001b[0m `resume` will be ignored since W&B syncing is set to `offline`. Starting a new run with run id aloof-impossible-boobook.\n"
     ]
    },
    {
     "data": {
      "text/html": [
       "Tracking run with wandb version 0.16.2"
      ],
      "text/plain": [
       "<IPython.core.display.HTML object>"
      ]
     },
     "metadata": {},
     "output_type": "display_data"
    },
    {
     "data": {
      "text/html": [
       "W&B syncing is set to <code>`offline`<code> in this directory.  <br/>Run <code>`wandb online`<code> or set <code>WANDB_MODE=online<code> to enable cloud syncing."
      ],
      "text/plain": [
       "<IPython.core.display.HTML object>"
      ]
     },
     "metadata": {},
     "output_type": "display_data"
    },
    {
     "name": "stderr",
     "output_type": "stream",
     "text": [
      "\u001b[32m[10:30:11] INFO: DataLoader will load 7743 graphs (out of 7743 available).\u001b[0m\n",
      "\u001b[36m[10:30:11] DEBUG: First graph is /scratch/gpfs/IOJALVO/gnn-tracking/object_condensation/point_clouds_v8/part_1/data21000_s0.pt, last graph is /scratch/gpfs/IOJALVO/gnn-tracking/object_condensation/point_clouds_v8/part_8/data28999_s0.pt\u001b[0m\n",
      "\u001b[32m[10:30:11] INFO: DataLoader will load 4 graphs (out of 1000 available).\u001b[0m\n",
      "\u001b[36m[10:30:11] DEBUG: First graph is /scratch/gpfs/IOJALVO/gnn-tracking/object_condensation/point_clouds_v8/part_9/data29000_s0.pt, last graph is /scratch/gpfs/IOJALVO/gnn-tracking/object_condensation/point_clouds_v8/part_9/data29003_s0.pt\u001b[0m\n",
      "LOCAL_RANK: 0 - CUDA_VISIBLE_DEVICES: [MIG-74d68ce8-f74a-5408-a325-06b493f31c14]\n",
      "\n",
      "  | Name     | Type                                | Params\n",
      "-----------------------------------------------------------------\n",
      "0 | model    | GraphConstructionFCNN               | 17.8 K\n",
      "1 | preproc  | NoiseClassifierModel                | 0     \n",
      "2 | loss_fct | GraphConstructionHingeEmbeddingLoss | 0     \n",
      "-----------------------------------------------------------------\n",
      "17.8 K    Trainable params\n",
      "0         Non-trainable params\n",
      "17.8 K    Total params\n",
      "0.071     Total estimated model params size (MB)\n",
      "SLURM auto-requeueing enabled. Setting signal handlers.\n"
     ]
    },
    {
     "data": {
      "application/vnd.jupyter.widget-view+json": {
       "model_id": "",
       "version_major": 2,
       "version_minor": 0
      },
      "text/plain": [
       "Sanity Checking: |          | 0/? [00:00<?, ?it/s]"
      ]
     },
     "metadata": {},
     "output_type": "display_data"
    },
    {
     "name": "stderr",
     "output_type": "stream",
     "text": [
      "/scratch/gpfs/aj2239/micromamba/envs/gnn/lib/python3.11/site-packages/pytorch_lightning/trainer/connectors/data_connector.py:441: The 'val_dataloader' does not have many workers which may be a bottleneck. Consider increasing the value of the `num_workers` argument` to `num_workers=1` in the `DataLoader` to improve performance.\n",
      "/scratch/gpfs/aj2239/micromamba/envs/gnn/lib/python3.11/site-packages/pytorch_lightning/trainer/connectors/data_connector.py:441: The 'train_dataloader' does not have many workers which may be a bottleneck. Consider increasing the value of the `num_workers` argument` to `num_workers=1` in the `DataLoader` to improve performance.\n"
     ]
    },
    {
     "data": {
      "application/vnd.jupyter.widget-view+json": {
       "model_id": "fd84e2d90bdb435b8e60e08894be3d96",
       "version_major": 2,
       "version_minor": 0
      },
      "text/plain": [
       "Training: |          | 0/? [00:00<?, ?it/s]"
      ]
     },
     "metadata": {},
     "output_type": "display_data"
    },
    {
     "data": {
      "application/vnd.jupyter.widget-view+json": {
       "model_id": "",
       "version_major": 2,
       "version_minor": 0
      },
      "text/plain": [
       "Validation: |          | 0/? [00:00<?, ?it/s]"
      ]
     },
     "metadata": {},
     "output_type": "display_data"
    },
    {
     "data": {
      "text/html": [
       "<pre style=\"white-space:pre;overflow-x:auto;line-height:normal;font-family:Menlo,'DejaVu Sans Mono',consolas,'Courier New',monospace\"></pre>\n"
      ],
      "text/plain": []
     },
     "metadata": {},
     "output_type": "display_data"
    },
    {
     "name": "stdout",
     "output_type": "stream",
     "text": [
      "\u001b[3m                Validation epoch=0                 \u001b[0m\n",
      "┏━━━━━━━━━━━━━━━━━━━━━━━━━━━┳━━━━━━━━━━━━━┳━━━━━━━┓\n",
      "┃\u001b[1m \u001b[0m\u001b[1mMetric                   \u001b[0m\u001b[1m \u001b[0m┃\u001b[1m \u001b[0m\u001b[1m      Value\u001b[0m\u001b[1m \u001b[0m┃\u001b[1m \u001b[0m\u001b[1mError\u001b[0m\u001b[1m \u001b[0m┃\n",
      "┡━━━━━━━━━━━━━━━━━━━━━━━━━━━╇━━━━━━━━━━━━━╇━━━━━━━┩\n",
      "│\u001b[1;95m \u001b[0m\u001b[1;95mattractive               \u001b[0m\u001b[1;95m \u001b[0m│\u001b[1;95m \u001b[0m\u001b[1;95m    3.12842\u001b[0m\u001b[1;95m \u001b[0m│\u001b[1;95m \u001b[0m\u001b[1;95m  nan\u001b[0m\u001b[1;95m \u001b[0m│\n",
      "│ attractive_train          │     3.05097 │   nan │\n",
      "│ attractive_weighted       │     3.12842 │   nan │\n",
      "│ attractive_weighted_train │     3.05097 │   nan │\n",
      "│ n_edges_att               │ 35077.50000 │   nan │\n",
      "│ n_edges_att_train         │ 32264.00000 │   nan │\n",
      "│ n_edges_rep               │ 95462.75000 │   nan │\n",
      "│ n_edges_rep_train         │ 92516.00000 │   nan │\n",
      "│ n_hits_oi                 │  9646.25000 │   nan │\n",
      "│ n_hits_oi_train           │  8863.00000 │   nan │\n",
      "│\u001b[1;95m \u001b[0m\u001b[1;95mrepulsive                \u001b[0m\u001b[1;95m \u001b[0m│\u001b[1;95m \u001b[0m\u001b[1;95m    2.39414\u001b[0m\u001b[1;95m \u001b[0m│\u001b[1;95m \u001b[0m\u001b[1;95m  nan\u001b[0m\u001b[1;95m \u001b[0m│\n",
      "│ repulsive_train           │     2.69031 │   nan │\n",
      "│ repulsive_weighted        │     1.19707 │   nan │\n",
      "│ repulsive_weighted_train  │     1.34516 │   nan │\n",
      "│\u001b[1;95m \u001b[0m\u001b[1;95mtotal                    \u001b[0m\u001b[1;95m \u001b[0m│\u001b[1;95m \u001b[0m\u001b[1;95m    4.32549\u001b[0m\u001b[1;95m \u001b[0m│\u001b[1;95m \u001b[0m\u001b[1;95m  nan\u001b[0m\u001b[1;95m \u001b[0m│\n",
      "│ total_train               │     4.39612 │   nan │\n",
      "└───────────────────────────┴─────────────┴───────┘\n",
      "\n"
     ]
    },
    {
     "data": {
      "application/vnd.jupyter.widget-view+json": {
       "model_id": "",
       "version_major": 2,
       "version_minor": 0
      },
      "text/plain": [
       "Validation: |          | 0/? [00:00<?, ?it/s]"
      ]
     },
     "metadata": {},
     "output_type": "display_data"
    },
    {
     "data": {
      "text/html": [
       "<pre style=\"white-space:pre;overflow-x:auto;line-height:normal;font-family:Menlo,'DejaVu Sans Mono',consolas,'Courier New',monospace\"></pre>\n"
      ],
      "text/plain": []
     },
     "metadata": {},
     "output_type": "display_data"
    },
    {
     "name": "stdout",
     "output_type": "stream",
     "text": [
      "\u001b[3m                   Validation epoch=1                   \u001b[0m\n",
      "┏━━━━━━━━━━━━━━━━━━━━━━━━━━━┳━━━━━━━━━━━━━┳━━━━━━━━━━━━┓\n",
      "┃\u001b[1m \u001b[0m\u001b[1mMetric                   \u001b[0m\u001b[1m \u001b[0m┃\u001b[1m \u001b[0m\u001b[1m      Value\u001b[0m\u001b[1m \u001b[0m┃\u001b[1m \u001b[0m\u001b[1m     Error\u001b[0m\u001b[1m \u001b[0m┃\n",
      "┡━━━━━━━━━━━━━━━━━━━━━━━━━━━╇━━━━━━━━━━━━━╇━━━━━━━━━━━━┩\n",
      "│\u001b[1;95m \u001b[0m\u001b[1;95mattractive               \u001b[0m\u001b[1;95m \u001b[0m│\u001b[1;95m \u001b[0m\u001b[1;95m    2.89488\u001b[0m\u001b[1;95m \u001b[0m│\u001b[1;95m \u001b[0m\u001b[1;95m   0.65236\u001b[0m\u001b[1;95m \u001b[0m│\n",
      "│ attractive_train          │     2.80514 │        nan │\n",
      "│ attractive_weighted       │     2.89488 │    0.65236 │\n",
      "│ attractive_weighted_train │     2.80514 │        nan │\n",
      "│ n_edges_att               │ 35077.50000 │  928.13483 │\n",
      "│ n_edges_att_train         │ 34664.00000 │        nan │\n",
      "│ n_edges_rep               │ 79278.25000 │ 3821.25806 │\n",
      "│ n_edges_rep_train         │ 77237.00000 │        nan │\n",
      "│ n_hits_oi                 │  9646.25000 │  291.88177 │\n",
      "│ n_hits_oi_train           │  9506.00000 │        nan │\n",
      "│\u001b[1;95m \u001b[0m\u001b[1;95mrepulsive                \u001b[0m\u001b[1;95m \u001b[0m│\u001b[1;95m \u001b[0m\u001b[1;95m    1.91917\u001b[0m\u001b[1;95m \u001b[0m│\u001b[1;95m \u001b[0m\u001b[1;95m   0.51111\u001b[0m\u001b[1;95m \u001b[0m│\n",
      "│ repulsive_train           │     1.89004 │        nan │\n",
      "│ repulsive_weighted        │     0.95958 │    0.25555 │\n",
      "│ repulsive_weighted_train  │     0.94502 │        nan │\n",
      "│\u001b[1;95m \u001b[0m\u001b[1;95mtotal                    \u001b[0m\u001b[1;95m \u001b[0m│\u001b[1;95m \u001b[0m\u001b[1;95m    3.85446\u001b[0m\u001b[1;95m \u001b[0m│\u001b[1;95m \u001b[0m\u001b[1;95m   0.61003\u001b[0m\u001b[1;95m \u001b[0m│\n",
      "│ total_train               │     3.75016 │        nan │\n",
      "└───────────────────────────┴─────────────┴────────────┘\n",
      "\n"
     ]
    }
   ],
   "source": [
    "trainer = Trainer(\n",
    "    max_epochs=100,\n",
    "    accelerator=\"gpu\",\n",
    "    log_every_n_steps=1,\n",
    "    callbacks=[TriggerWandbSyncLightningCallback(), PrintValidationMetrics()],\n",
    "    logger=[tb_logger, logger],\n",
    ")\n",
    "trainer.fit(model=lmodel, datamodule=dm)"
   ]
  },
  {
   "attachments": {},
   "cell_type": "markdown",
   "metadata": {
    "collapsed": false,
    "jupyter": {
     "outputs_hidden": false
    }
   },
   "source": [
    "### If there are issues with the progress bar\n",
    "\n",
    "The lightning progress bar can be finnicky when combined with printing the validation results to the command line, especially when running from a Jupyter notebook. Here's a couple of things to try:\n",
    "\n",
    "* set `enable_progress_bar=False` in the `Trainer` initialization to disable the progress bar\n",
    "* use `callbacks=[pytorch_lightning.callbacks.RichProgressBar(leave=True), ...]` in the `Trainer` initialization (this is a prettier progress bar, anyway). I\n",
    "* use `callbacks=[gnn_tracking.utils.lightning.SimpleTqdmProgressBar(leave=True), ...]`\n",
    "* remove the `PrintValidationMetrics` callback"
   ]
  },
  {
   "attachments": {},
   "cell_type": "markdown",
   "metadata": {},
   "source": [
    "## Restoring a pre-trained model"
   ]
  },
  {
   "attachments": {},
   "cell_type": "markdown",
   "metadata": {},
   "source": [
    "Take a look at the `lightning_logs` directory:"
   ]
  },
  {
   "cell_type": "code",
   "execution_count": 17,
   "metadata": {},
   "outputs": [
    {
     "name": "stdout",
     "output_type": "stream",
     "text": [
      "version_53551072  version_53862723  version_53977655\n"
     ]
    }
   ],
   "source": [
    "! ls lightning_logs"
   ]
  },
  {
   "cell_type": "markdown",
   "metadata": {},
   "source": [
    "Take the latest version number in the following"
   ]
  },
  {
   "cell_type": "code",
   "execution_count": 32,
   "metadata": {},
   "outputs": [
    {
     "name": "stdout",
     "output_type": "stream",
     "text": [
      "'epoch=0-step=1.ckpt'\n"
     ]
    }
   ],
   "source": [
    "! ls lightning_logs/version_2/checkpoints"
   ]
  },
  {
   "attachments": {},
   "cell_type": "markdown",
   "metadata": {},
   "source": [
    "Navigate to one of the versions and take a look at the `hparams.yaml` file. It should contain exactly the hyperparameters from the run.\n"
   ]
  },
  {
   "cell_type": "code",
   "execution_count": 33,
   "metadata": {},
   "outputs": [
    {
     "name": "stdout",
     "output_type": "stream",
     "text": [
      "model:\n",
      "  class_path: gnn_tracking.models.graph_construction.GraphConstructionFCNN\n",
      "  init_args:\n",
      "    in_dim: 14\n",
      "    hidden_dim: 64\n",
      "    out_dim: 8\n",
      "    depth: 5\n",
      "    alpha: 0.6\n",
      "preproc: null\n",
      "loss_fct:\n",
      "  class_path: gnn_tracking.metrics.losses.metric_learning.GraphConstructionHingeEmbeddingLoss\n",
      "  init_args:\n",
      "    lw_repulsive: 0.5\n",
      "    r_emb: 1.0\n",
      "    max_num_neighbors: 10\n",
      "    pt_thld: 0.9\n",
      "    max_eta: 4.0\n",
      "    p_attr: 1.0\n",
      "    p_rep: 1.0\n",
      "gc_scanner: null\n"
     ]
    }
   ],
   "source": [
    "! cat lightning_logs/version_2/hparams.yaml"
   ]
  },
  {
   "cell_type": "markdown",
   "metadata": {},
   "source": [
    "Similarly, you can check out the `config.yaml` file for additional config values affecting the `Trainer` and other elements of the training process."
   ]
  },
  {
   "attachments": {},
   "cell_type": "markdown",
   "metadata": {},
   "source": [
    "We can bring back the trained model by loading one of the checkpoints:"
   ]
  },
  {
   "cell_type": "code",
   "execution_count": 34,
   "metadata": {},
   "outputs": [
    {
     "name": "stderr",
     "output_type": "stream",
     "text": [
      "\u001b[36m[15:03:04] DEBUG: Getting class GraphConstructionFCNN from module gnn_tracking.models.graph_construction\u001b[0m\n",
      "\u001b[36m[15:03:04] DEBUG: Getting class GraphConstructionHingeEmbeddingLoss from module gnn_tracking.metrics.losses.metric_learning\u001b[0m\n"
     ]
    }
   ],
   "source": [
    "restored_model = MLModule.load_from_checkpoint(\n",
    "    \"lightning_logs/version_2/checkpoints/epoch=0-step=1.ckpt\"\n",
    ")"
   ]
  },
  {
   "attachments": {},
   "cell_type": "markdown",
   "metadata": {},
   "source": [
    "Note how we didn't have to specify any the hyperparameters again.\n",
    "\n",
    "However, we can easily change some of them by adding them as additional keyword arguments."
   ]
  },
  {
   "cell_type": "code",
   "execution_count": 36,
   "metadata": {},
   "outputs": [
    {
     "name": "stderr",
     "output_type": "stream",
     "text": [
      "\u001b[36m[15:03:23] DEBUG: Getting class GraphConstructionFCNN from module gnn_tracking.models.graph_construction\u001b[0m\n"
     ]
    }
   ],
   "source": [
    "restored_model_modified = MLModule.load_from_checkpoint(\n",
    "    \"lightning_logs/version_2/checkpoints/epoch=0-step=1.ckpt\",\n",
    "    loss_fct=GraphConstructionHingeEmbeddingLoss(lw_repulsive=0.1, max_num_neighbors=5),\n",
    ")"
   ]
  },
  {
   "attachments": {},
   "cell_type": "markdown",
   "metadata": {},
   "source": [
    "Note that you cannot modify the model architecture however (but you could in principle change the `beta` parameter of the residual connections)."
   ]
  },
  {
   "attachments": {},
   "cell_type": "markdown",
   "metadata": {},
   "source": [
    "## Running all of this from the command line"
   ]
  },
  {
   "attachments": {},
   "cell_type": "markdown",
   "metadata": {},
   "source": [
    "All of the following can be achieved by running the following command:\n",
    "\n",
    "```bash\n",
    "python3 gnn_tracking/trainers/run.py fit --model configs/model.yml --data configs/data.yml  --trainer.accelerator cpu --trainer.accelerator cpu\n",
    "```\n",
    "\n",
    "with the data config file\n",
    "\n",
    "```yaml\n",
    "train:\n",
    "  dirs:\n",
    "    - /path/to/your/dir\n",
    "  stop: 5\n",
    "test:\n",
    "  dirs:\n",
    "    - /path/to/your/dir\n",
    "  star: 10\n",
    "  stop: 15\n",
    "val:\n",
    "  dirs:\n",
    "    - /path/to/your/dir\n",
    "  start: 5\n",
    "  stop: 10\n",
    "identifier: point_clouds_v8\n",
    "```\n",
    "\n",
    "and model config file:\n",
    "\n",
    "```yaml\n",
    "class_path: gnn_tracking.training.ml.MLModule\n",
    "init_args:\n",
    "  model:\n",
    "    class_path: gnn_tracking.models.graph_construction.GraphConstructionFCNN\n",
    "    init_args:\n",
    "      in_dim: 14\n",
    "      out_dim: 8\n",
    "      hidden_dim: 512\n",
    "      depth: 5\n",
    "  loss_fct:\n",
    "    class_path: gnn_tracking.metrics.losses.GraphConstructionHingeEmbeddingLoss\n",
    "    init_args:\n",
    "      lw_repulsive: 0.5\n",
    "  optimizer:\n",
    "    class_path: torch.optim.Adam\n",
    "    init_args:\n",
    "      lr: 0.0001\n",
    "```"
   ]
  },
  {
   "attachments": {},
   "cell_type": "markdown",
   "metadata": {},
   "source": [
    "To quickly override one of the options, you can simply add them to the command line, e.g., `--model.init_args.loss_fct.init_args.lw_repulsive=0.1` or `--model.model.init_args.depth=6`."
   ]
  },
  {
   "attachments": {},
   "cell_type": "markdown",
   "metadata": {},
   "source": [
    "## Advanced: Connecting with Weights & Biases\n",
    "\n",
    "Weights and Biases (wandb.ai) is a great tool to log all of your runs to. \n",
    "It's also very easy to set up in principle by adding a callback to the `Trainer`.\n",
    "\n",
    "However, first you need to create an account (it's free!). If you collaborate with us, you probably want to reach out to us so that we can add you to our project (and can see each other's runs).\n",
    "\n",
    "Once you have your account, copy your API key into the file `~/.wandb_api_key` on the server from which you run your ML models.\n",
    "\n",
    "Because we want to later identify our current trial among other trials (and have an easy-to-remember name), let's first create an identifier:\n"
   ]
  },
  {
   "cell_type": "code",
   "execution_count": 37,
   "metadata": {},
   "outputs": [],
   "source": [
    "from gnn_tracking.utils.nomenclature import random_trial_name"
   ]
  },
  {
   "cell_type": "code",
   "execution_count": 38,
   "metadata": {},
   "outputs": [
    {
     "data": {
      "text/html": [
       "<pre style=\"white-space:pre;overflow-x:auto;line-height:normal;font-family:Menlo,'DejaVu Sans Mono',consolas,'Courier New',monospace\"><span style=\"color: #00ff00; text-decoration-color: #00ff00\">─────────────────────────── </span><span style=\"color: #808000; text-decoration-color: #808000; font-weight: bold\">demonic-logical-platypus</span><span style=\"color: #00ff00; text-decoration-color: #00ff00\"> ───────────────────────────</span>\n",
       "</pre>\n"
      ],
      "text/plain": [
       "\u001b[92m─────────────────────────── \u001b[0m\u001b[1;33mdemonic-logical-platypus\u001b[0m\u001b[92m ───────────────────────────\u001b[0m\n"
      ]
     },
     "metadata": {},
     "output_type": "display_data"
    }
   ],
   "source": [
    "name = random_trial_name()"
   ]
  },
  {
   "attachments": {},
   "cell_type": "markdown",
   "metadata": {},
   "source": [
    "\n",
    "After this, let's set up the logger:"
   ]
  },
  {
   "cell_type": "code",
   "execution_count": null,
   "metadata": {},
   "outputs": [
    {
     "name": "stderr",
     "output_type": "stream",
     "text": [
      "Failed to detect the name of this notebook, you can set it manually with the WANDB_NOTEBOOK_NAME environment variable to enable code saving.\n",
      "\u001b[34m\u001b[1mwandb\u001b[0m: \u001b[33mWARNING\u001b[0m `resume` will be ignored since W&B syncing is set to `offline`. Starting a new run with run id godlike-buzzard-of-wonder.\n"
     ]
    },
    {
     "data": {
      "text/html": [
       "Tracking run with wandb version 0.15.4"
      ],
      "text/plain": [
       "<IPython.core.display.HTML object>"
      ]
     },
     "metadata": {},
     "output_type": "display_data"
    },
    {
     "data": {
      "text/html": [
       "W&B syncing is set to <code>`offline`<code> in this directory.  <br/>Run <code>`wandb online`<code> or set <code>WANDB_MODE=online<code> to enable cloud syncing."
      ],
      "text/plain": [
       "<IPython.core.display.HTML object>"
      ]
     },
     "metadata": {},
     "output_type": "display_data"
    }
   ],
   "source": [
    "from pytorch_lightning.loggers import WandbLogger\n",
    "\n",
    "\n",
    "wandb_logger = WandbLogger(\n",
    "    project=\"ml\",\n",
    "    group=\"first\",\n",
    "    offline=True,  # <-- see notes below\n",
    "    version=name,\n",
    ")"
   ]
  },
  {
   "attachments": {},
   "cell_type": "markdown",
   "metadata": {},
   "source": [
    "We want to keep our checkpoints locally, so let's also initialize the default logger (which would be replaced by `WandbLogger` if we don't add it manually):"
   ]
  },
  {
   "cell_type": "code",
   "execution_count": null,
   "metadata": {},
   "outputs": [],
   "source": [
    "from pytorch_lightning.loggers import TensorBoardLogger\n",
    "\n",
    "\n",
    "tb_logger = TensorBoardLogger(\".\", version=name)"
   ]
  },
  {
   "attachments": {},
   "cell_type": "markdown",
   "metadata": {},
   "source": [
    "Now we'd have all the places in place, if it weren't for one subtlety: The Princeton compute nodes don't have internet connectivity.\n",
    "This is also why we set `offline=True` to the `WandbLogger`. But that's not a problem, because we have internet on the head node `della-gpu`\n",
    "(just not on the compute node). So we can simply run `wandb sync /path/to/run/dir` afterwards.\n",
    "However, because this is annoying, I wrote a package `wandb-osh` to help with this.\n",
    "\n",
    "To install it, run:"
   ]
  },
  {
   "cell_type": "code",
   "execution_count": null,
   "metadata": {},
   "outputs": [
    {
     "name": "stdout",
     "output_type": "stream",
     "text": [
      "Requirement already satisfied: wandb-osh in /Users/fuchur/micromamba/envs/gnn/lib/python3.11/site-packages (1.0.4)\n",
      "Requirement already satisfied: colorlog in /Users/fuchur/micromamba/envs/gnn/lib/python3.11/site-packages (from wandb-osh) (6.7.0)\n",
      "Requirement already satisfied: wandb in /Users/fuchur/micromamba/envs/gnn/lib/python3.11/site-packages (from wandb-osh) (0.15.4)\n",
      "Requirement already satisfied: Click!=8.0.0,>=7.0 in /Users/fuchur/micromamba/envs/gnn/lib/python3.11/site-packages (from wandb->wandb-osh) (8.1.3)\n",
      "Requirement already satisfied: GitPython!=3.1.29,>=1.0.0 in /Users/fuchur/micromamba/envs/gnn/lib/python3.11/site-packages (from wandb->wandb-osh) (3.1.31)\n",
      "Requirement already satisfied: requests<3,>=2.0.0 in /Users/fuchur/micromamba/envs/gnn/lib/python3.11/site-packages (from wandb->wandb-osh) (2.31.0)\n",
      "Requirement already satisfied: psutil>=5.0.0 in /Users/fuchur/micromamba/envs/gnn/lib/python3.11/site-packages (from wandb->wandb-osh) (5.9.5)\n",
      "Requirement already satisfied: sentry-sdk>=1.0.0 in /Users/fuchur/micromamba/envs/gnn/lib/python3.11/site-packages (from wandb->wandb-osh) (1.21.1)\n",
      "Requirement already satisfied: docker-pycreds>=0.4.0 in /Users/fuchur/micromamba/envs/gnn/lib/python3.11/site-packages (from wandb->wandb-osh) (0.4.0)\n",
      "Requirement already satisfied: PyYAML in /Users/fuchur/micromamba/envs/gnn/lib/python3.11/site-packages (from wandb->wandb-osh) (6.0)\n",
      "Requirement already satisfied: pathtools in /Users/fuchur/micromamba/envs/gnn/lib/python3.11/site-packages (from wandb->wandb-osh) (0.1.2)\n",
      "Requirement already satisfied: setproctitle in /Users/fuchur/micromamba/envs/gnn/lib/python3.11/site-packages (from wandb->wandb-osh) (1.3.2)\n",
      "Requirement already satisfied: setuptools in /Users/fuchur/micromamba/envs/gnn/lib/python3.11/site-packages (from wandb->wandb-osh) (67.7.2)\n",
      "Requirement already satisfied: appdirs>=1.4.3 in /Users/fuchur/micromamba/envs/gnn/lib/python3.11/site-packages (from wandb->wandb-osh) (1.4.4)\n",
      "Requirement already satisfied: protobuf!=4.21.0,<5,>=3.19.0 in /Users/fuchur/micromamba/envs/gnn/lib/python3.11/site-packages (from wandb->wandb-osh) (3.20.3)\n",
      "Requirement already satisfied: six>=1.4.0 in /Users/fuchur/micromamba/envs/gnn/lib/python3.11/site-packages (from docker-pycreds>=0.4.0->wandb->wandb-osh) (1.16.0)\n",
      "Requirement already satisfied: gitdb<5,>=4.0.1 in /Users/fuchur/micromamba/envs/gnn/lib/python3.11/site-packages (from GitPython!=3.1.29,>=1.0.0->wandb->wandb-osh) (4.0.10)\n",
      "Requirement already satisfied: charset-normalizer<4,>=2 in /Users/fuchur/micromamba/envs/gnn/lib/python3.11/site-packages (from requests<3,>=2.0.0->wandb->wandb-osh) (3.1.0)\n",
      "Requirement already satisfied: idna<4,>=2.5 in /Users/fuchur/micromamba/envs/gnn/lib/python3.11/site-packages (from requests<3,>=2.0.0->wandb->wandb-osh) (3.4)\n",
      "Requirement already satisfied: urllib3<3,>=1.21.1 in /Users/fuchur/micromamba/envs/gnn/lib/python3.11/site-packages (from requests<3,>=2.0.0->wandb->wandb-osh) (2.0.3)\n",
      "Requirement already satisfied: certifi>=2017.4.17 in /Users/fuchur/micromamba/envs/gnn/lib/python3.11/site-packages (from requests<3,>=2.0.0->wandb->wandb-osh) (2023.5.7)\n",
      "Requirement already satisfied: smmap<6,>=3.0.1 in /Users/fuchur/micromamba/envs/gnn/lib/python3.11/site-packages (from gitdb<5,>=4.0.1->GitPython!=3.1.29,>=1.0.0->wandb->wandb-osh) (3.0.5)\n"
     ]
    }
   ],
   "source": [
    "! pip3 install wandb-osh"
   ]
  },
  {
   "attachments": {},
   "cell_type": "markdown",
   "metadata": {},
   "source": [
    "Now let's put everything together: "
   ]
  },
  {
   "cell_type": "code",
   "execution_count": null,
   "metadata": {},
   "outputs": [],
   "source": [
    "from wandb_osh.lightning_hooks import TriggerWandbSyncLightningCallback\n",
    "\n",
    "\n",
    "trainer = Trainer(\n",
    "    max_epochs=3,\n",
    "    accelerator=\"cpu\",\n",
    "    log_every_n_steps=1,\n",
    "    callbacks=[\n",
    "        TriggerWandbSyncLightningCallback(),\n",
    "        PrintValidationMetrics(),\n",
    "    ],\n",
    "    logger=[\n",
    "        wandb_logger,\n",
    "        tb_logger,\n",
    "    ],\n",
    ")"
   ]
  },
  {
   "attachments": {},
   "cell_type": "markdown",
   "metadata": {},
   "source": [
    "To sync your run, simply start the `wandb-osh` command line utility on `della-gpu`.\n",
    "For more information on how this works, see [here](https://github.com/klieret/wandb-offline-sync-hook)."
   ]
  }
 ],
 "metadata": {
  "kernelspec": {
   "display_name": "Python 3 (ipykernel)",
   "language": "python",
   "name": "python3"
  },
  "language_info": {
   "codemirror_mode": {
    "name": "ipython",
    "version": 3
   },
   "file_extension": ".py",
   "mimetype": "text/x-python",
   "name": "python",
   "nbconvert_exporter": "python",
   "pygments_lexer": "ipython3",
   "version": "3.11.7"
  }
 },
 "nbformat": 4,
 "nbformat_minor": 4
}
