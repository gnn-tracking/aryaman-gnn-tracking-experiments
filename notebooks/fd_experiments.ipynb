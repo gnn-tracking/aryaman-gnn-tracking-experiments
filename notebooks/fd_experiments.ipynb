{
 "cells": [
  {
   "cell_type": "markdown",
   "metadata": {},
   "source": [
    "# Experiments for FD data with new architectures"
   ]
  },
  {
   "cell_type": "code",
   "execution_count": 1,
   "metadata": {},
   "outputs": [],
   "source": [
    "import os\n",
    "\n",
    "from gnn_tracking.utils.loading import TrackingDataModule"
   ]
  },
  {
   "cell_type": "code",
   "execution_count": 2,
   "metadata": {},
   "outputs": [],
   "source": [
    "from functools import partial\n",
    "import os\n",
    "\n",
    "import torch\n",
    "\n",
    "from gnn_tracking.training.tc import TCModule\n",
    "from gnn_tracking.training.ml import MLModule\n",
    "from gnn_tracking.models.graph_construction import MLGraphConstructionFromChkpt, GraphConstructionFCNN, NoiseClassifierModel, HeterogeneousFCNN\n",
    "from gnn_tracking.graph_construction.k_scanner import GraphConstructionKNNScanner\n",
    "from gnn_tracking.models.track_condensation_networks import GraphTCNForMLGCPipeline\n",
    "from gnn_tracking.metrics.losses.metric_learning import GraphConstructionHingeEmbeddingLoss\n",
    "from gnn_tracking.postprocessing.dbscanscanner import DBSCANHyperParamScanner\n",
    "from pytorch_lightning import Trainer\n",
    "from pytorch_lightning.callbacks import EarlyStopping, ModelCheckpoint, LearningRateMonitor\n",
    "from gnn_tracking.utils.loading import TrackingDataModule\n",
    "from gnn_tracking.training.callbacks import PrintValidationMetrics, ExpandWandbConfig\n",
    "from gnn_tracking.utils.versioning import assert_version_geq\n",
    "\n",
    "from torch_geometric.data import Data\n",
    "from torch import nn\n",
    "\n",
    "assert_version_geq(\"23.12.0\")"
   ]
  },
  {
   "cell_type": "markdown",
   "metadata": {},
   "source": [
    "## Configuring the data"
   ]
  },
  {
   "cell_type": "code",
   "execution_count": 3,
   "metadata": {},
   "outputs": [],
   "source": [
    "data_path_fd = \"/scratch/gpfs/IOJALVO/gnn-tracking/object_condensation/point_clouds_v10/\"\n",
    "data_paths_fd = os.listdir(data_path_fd)\n",
    "data_paths_fd.sort()\n",
    "data_paths_fd = list(map(lambda x: data_path_fd + x, data_paths_fd))"
   ]
  },
  {
   "cell_type": "code",
   "execution_count": 4,
   "metadata": {},
   "outputs": [
    {
     "name": "stderr",
     "output_type": "stream",
     "text": [
      "\u001b[32m[08:21:44] INFO: DataLoader will load 7743 graphs (out of 7743 available).\u001b[0m\n",
      "\u001b[36m[08:21:44] DEBUG: First graph is /scratch/gpfs/IOJALVO/gnn-tracking/object_condensation/point_clouds_v10/part_1/data21000_s0.pt, last graph is /scratch/gpfs/IOJALVO/gnn-tracking/object_condensation/point_clouds_v10/part_8/data28999_s0.pt\u001b[0m\n",
      "\u001b[32m[08:21:44] INFO: DataLoader will load 4 graphs (out of 1000 available).\u001b[0m\n",
      "\u001b[36m[08:21:44] DEBUG: First graph is /scratch/gpfs/IOJALVO/gnn-tracking/object_condensation/point_clouds_v10/part_9/data29000_s0.pt, last graph is /scratch/gpfs/IOJALVO/gnn-tracking/object_condensation/point_clouds_v10/part_9/data29003_s0.pt\u001b[0m\n"
     ]
    }
   ],
   "source": [
    "dm_fd = TrackingDataModule(\n",
    "    train=dict(\n",
    "        dirs=data_paths_fd[1:-1],\n",
    "        sample_size=900\n",
    "    ),\n",
    "    val=dict(\n",
    "        dirs=[data_paths_fd[-1]],\n",
    "        start=0,\n",
    "        stop=4,\n",
    "    ),\n",
    "    identifier=\"point_clouds_v10\",\n",
    ")\n",
    "dm_fd.setup(stage='fit')"
   ]
  },
  {
   "cell_type": "code",
   "execution_count": 7,
   "metadata": {},
   "outputs": [],
   "source": [
    "model = HeterogeneousFCNN(14, 256, 8, 6, 14, 256, 8, 6)"
   ]
  },
  {
   "cell_type": "markdown",
   "metadata": {},
   "source": [
    "# GC-Phase"
   ]
  },
  {
   "cell_type": "code",
   "execution_count": null,
   "metadata": {},
   "outputs": [],
   "source": [
    "model = HeterogeneousFCNN(14, 256, 8, 6, 14, 256, 8, 6)"
   ]
  },
  {
   "cell_type": "code",
   "execution_count": null,
   "metadata": {},
   "outputs": [
    {
     "name": "stderr",
     "output_type": "stream",
     "text": [
      "\u001b[33m[05:34:38] WARNING: Can't save hyperparameters from object of type <class 'gnn_tracking.models.graph_construction.NoiseClassifierModel'>. Make sure to inherit from HyperparametersMixin.\u001b[0m\n"
     ]
    }
   ],
   "source": [
    "lmodel = MLModule(\n",
    "    model=model,\n",
    "    loss_fct=GraphConstructionHingeEmbeddingLoss(\n",
    "        lw_repulsive=0.06,\n",
    "        max_num_neighbors=256,\n",
    "    ),\n",
    "    optimizer=partial(torch.optim.Adam, lr=7*1e-4),\n",
    "    gc_scanner=GraphConstructionKNNScanner(ks=list(range(1, 11)))\n",
    ")"
   ]
  },
  {
   "cell_type": "code",
   "execution_count": null,
   "metadata": {},
   "outputs": [],
   "source": [
    "from pytorch_lightning.loggers import TensorBoardLogger, WandbLogger\n",
    "from wandb_osh.lightning_hooks import TriggerWandbSyncLightningCallback\n",
    "from gnn_tracking.utils.nomenclature import random_trial_name\n",
    "\n",
    "name = random_trial_name()\n",
    "\n",
    "wandb_logger_gc = WandbLogger(\n",
    "    project=\"aryaman-gnn-experiments\",\n",
    "    group=\"noise-classification-gc\",\n",
    "    offline=True,\n",
    "    version=name,\n",
    "    tags=[\"noise-classification-gc-with-scanner\"],\n",
    ")\n",
    "\n",
    "tb_logger_gc = TensorBoardLogger(\".\", version=name)"
   ]
  },
  {
   "cell_type": "code",
   "execution_count": null,
   "metadata": {},
   "outputs": [],
   "source": [
    "trainer_gc = Trainer(\n",
    "    max_epochs=100,\n",
    "    accelerator=\"gpu\",\n",
    "    log_every_n_steps=1,\n",
    "    callbacks=[\n",
    "        TriggerWandbSyncLightningCallback(),\n",
    "        PrintValidationMetrics(),\n",
    "    ],\n",
    "    logger=[\n",
    "        wandb_logger_gc,\n",
    "        tb_logger_gc,\n",
    "    ],\n",
    ")\n",
    "trainer_gc.fit(model=lmodel, datamodule=dm_fd)"
   ]
  }
 ],
 "metadata": {
  "kernelspec": {
   "display_name": "Python 3 (ipykernel)",
   "language": "python",
   "name": "python3"
  },
  "language_info": {
   "codemirror_mode": {
    "name": "ipython",
    "version": 3
   },
   "file_extension": ".py",
   "mimetype": "text/x-python",
   "name": "python",
   "nbconvert_exporter": "python",
   "pygments_lexer": "ipython3",
   "version": "3.11.7"
  }
 },
 "nbformat": 4,
 "nbformat_minor": 4
}
